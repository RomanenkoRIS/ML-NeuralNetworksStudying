{
 "cells": [
  {
   "cell_type": "code",
   "execution_count": 11,
   "id": "timely-prayer",
   "metadata": {},
   "outputs": [],
   "source": [
    "import os\n",
    "\n",
    "import torch\n",
    "import torchvision\n",
    "import tqdm\n",
    "import time\n",
    "\n",
    "import torchvision.transforms as tfs\n",
    "import numpy as np\n",
    "import matplotlib.pyplot as plt\n",
    "import torch.nn.functional as F\n",
    "\n",
    "from torch import nn\n",
    "from torch.autograd import Variable\n",
    "from torch.utils.data import DataLoader\n",
    "from torchvision import transforms\n",
    "from torchvision.datasets import MNIST\n",
    "from torchvision.utils import save_image\n",
    "from tqdm import trange\n",
    "from colorama import Fore\n",
    "from torchsummary import summary\n",
    "\n",
    "\n",
    "%matplotlib inline\n",
    "from pylab import rcParams\n",
    "rcParams['figure.figsize'] = 12, 4"
   ]
  },
  {
   "cell_type": "code",
   "execution_count": 12,
   "id": "provincial-nashville",
   "metadata": {},
   "outputs": [],
   "source": [
    "import time\n",
    "from tqdm import tqdm"
   ]
  },
  {
   "cell_type": "code",
   "execution_count": 3,
   "id": "entitled-consultancy",
   "metadata": {},
   "outputs": [
    {
     "name": "stdout",
     "output_type": "stream",
     "text": [
      "Defaulting to user installation because normal site-packages is not writeable"
     ]
    },
    {
     "name": "stderr",
     "output_type": "stream",
     "text": [
      "WARNING: You are using pip version 21.1.1; however, version 21.1.2 is available.\n",
      "You should consider upgrading via the 'c:\\program files\\python39\\python.exe -m pip install --upgrade pip' command.\n"
     ]
    },
    {
     "name": "stdout",
     "output_type": "stream",
     "text": [
      "\n",
      "Requirement already satisfied: tqdm in c:\\users\\2011-3\\appdata\\roaming\\python\\python39\\site-packages (4.60.0)\n"
     ]
    }
   ],
   "source": [
    "!pip install tqdm"
   ]
  },
  {
   "cell_type": "code",
   "execution_count": 13,
   "id": "activated-clearance",
   "metadata": {},
   "outputs": [],
   "source": [
    "#tuning dataset\n",
    "batch_size_train = 500\n",
    "batch_size_test = 500"
   ]
  },
  {
   "cell_type": "code",
   "execution_count": 14,
   "id": "collect-material",
   "metadata": {},
   "outputs": [
    {
     "name": "stdout",
     "output_type": "stream",
     "text": [
      "mean: -0.0 std:1.0\n"
     ]
    }
   ],
   "source": [
    "data_tfs = tfs.Compose([\n",
    "    tfs.ToTensor(),\n",
    "    tfs.Normalize((0.1377), (0.3125))])\n",
    "\n",
    "train = MNIST('./', train=True, transform=data_tfs, download=True,)\n",
    "test = MNIST('./', train=False, transform=data_tfs, download=True)\n",
    "\n",
    "train_loader = DataLoader(train, \n",
    "                          batch_size=batch_size_train,\n",
    "                          shuffle=True, \n",
    "                          )\n",
    "\n",
    "test_loader = DataLoader(test, \n",
    "                              batch_size=batch_size_test,\n",
    "                              shuffle=True, \n",
    "                              )\n",
    "\n",
    "data = next(iter(train))\n",
    "print(f'mean: {data[0].mean().round().item()} std:{data[0].std().round().item()}')\n"
   ]
  },
  {
   "cell_type": "code",
   "execution_count": 15,
   "id": "composite-remainder",
   "metadata": {},
   "outputs": [],
   "source": [
    "examples = enumerate(test_loader)\n",
    "batch_idx, (example_data, example_targets) = next(examples)"
   ]
  },
  {
   "cell_type": "code",
   "execution_count": 16,
   "id": "referenced-daniel",
   "metadata": {},
   "outputs": [
    {
     "data": {
      "text/plain": [
       "torch.Size([500, 1, 28, 28])"
      ]
     },
     "execution_count": 16,
     "metadata": {},
     "output_type": "execute_result"
    }
   ],
   "source": [
    "example_data.shape"
   ]
  },
  {
   "cell_type": "code",
   "execution_count": 17,
   "id": "disabled-presence",
   "metadata": {},
   "outputs": [
    {
     "data": {
      "image/png": "[encoded data removed]",
      "text/plain": [
       "<Figure size 864x288 with 6 Axes>"
      ]
     },
     "execution_count": 17,
     "metadata": {},
     "output_type": "execute_result"
    },
    {
     "data": {
      "image/png": "[encoded data removed]",
      "text/plain": [
       "<Figure size 864x288 with 6 Axes>"
      ]
     },
     "metadata": {},
     "output_type": "display_data"
    }
   ],
   "source": [
    "fig = plt.figure()\n",
    "for i in range(6):\n",
    "    plt.subplot(2,3,i+1)\n",
    "    plt.tight_layout()\n",
    "    plt.imshow(example_data[i][0], cmap='gray', interpolation='none')\n",
    "    plt.title(\"Ground Truth: {}\".format(example_targets[i]))\n",
    "    plt.xticks([])\n",
    "    plt.yticks([])\n",
    "fig"
   ]
  },
  {
   "cell_type": "code",
   "execution_count": 18,
   "id": "supreme-arctic",
   "metadata": {},
   "outputs": [
    {
     "name": "stdout",
     "output_type": "stream",
     "text": [
      "Net(\n",
      "  (conv1): Conv2d(1, 20, kernel_size=(5, 5), stride=(1, 1))\n",
      "  (conv2): Conv2d(20, 50, kernel_size=(5, 5), stride=(1, 1))\n",
      "  (fc1): Linear(in_features=800, out_features=500, bias=True)\n",
      "  (bn1): BatchNorm1d(500, eps=1e-05, momentum=0.1, affine=True, track_running_stats=True)\n",
      "  (fc2): Linear(in_features=500, out_features=300, bias=True)\n",
      "  (bn2): BatchNorm1d(300, eps=1e-05, momentum=0.1, affine=True, track_running_stats=True)\n",
      "  (fc3): Linear(in_features=300, out_features=50, bias=True)\n",
      "  (bn3): BatchNorm1d(50, eps=1e-05, momentum=0.1, affine=True, track_running_stats=True)\n",
      "  (fc4): Linear(in_features=50, out_features=10, bias=True)\n",
      ")\n"
     ]
    }
   ],
   "source": [
    "class Net(nn.Module):\n",
    "    def __init__(self):\n",
    "        super(Net, self).__init__()\n",
    "        \n",
    "        self.conv1 = nn.Conv2d(1, 20, 5, 1)\n",
    "        self.conv2 = nn.Conv2d(20, 50, 5, 1)\n",
    "        self.fc1 = nn.Linear(4*4*50, 500)\n",
    "        self.bn1 = nn.BatchNorm1d(500)\n",
    "        self.fc2 = nn.Linear(500, 300)\n",
    "        self.bn2 = nn.BatchNorm1d(300)\n",
    "        self.fc3 = nn.Linear(300, 50)\n",
    "        self.bn3 = nn.BatchNorm1d(50)\n",
    "        self.fc4 = nn.Linear(50, 10)\n",
    "\n",
    "\n",
    "    def forward(self, x):\n",
    "        x = F.relu(self.conv1(x))\n",
    "        x = F.max_pool2d(x, 2, 2)\n",
    "        x = F.relu(self.conv2(x))\n",
    "        x = F.max_pool2d(x, 2, 2)\n",
    "        x = x.view(-1, 4*4*50)\n",
    "        x = F.relu(self.fc1(x))\n",
    "        x = self.bn1(x)\n",
    "        x = F.relu(self.fc2(x))\n",
    "        x = self.bn2(x)\n",
    "        x = F.relu(self.fc3(x))\n",
    "        x = self.bn3(x)\n",
    "        x = self.fc4(x)\n",
    "        \n",
    "        return x\n",
    "\n",
    "print(Net())"
   ]
  },
  {
   "cell_type": "code",
   "execution_count": 19,
   "id": "baking-valuable",
   "metadata": {},
   "outputs": [],
   "source": [
    "def plot_trainig(train_losses, valid_losses, valid_accuracies):\n",
    "    \n",
    "    plt.xlabel('epoch')\n",
    "    plt.plot(train_losses, label='train_loss')\n",
    "    plt.plot(valid_losses, label='valid_loss')\n",
    "    plt.legend()\n",
    "    plt.show()\n",
    "    \n",
    "    plt.xlabel('epoch')\n",
    "    plt.plot(valid_accuracies, label='valid accuracy')\n",
    "    plt.legend()\n",
    "    plt.show()"
   ]
  },
  {
   "cell_type": "code",
   "execution_count": 20,
   "id": "superb-theology",
   "metadata": {},
   "outputs": [],
   "source": [
    "def fit(epochs, model, opt, loss_func, train_dl, valid_dl, lr_sched=None):\n",
    "    \n",
    "    train_losses = []\n",
    "    val_losses = []\n",
    "    valid_accuracies = []\n",
    "          \n",
    "    #train part\n",
    "    for epoch in range(epochs):\n",
    "        \n",
    "        model.train()\n",
    "        loss_sum_tr = 0        \n",
    "        \n",
    "        for data, target in tqdm((train_dl),\n",
    "                                 bar_format=\"{l_bar}%s{bar}%s{r_bar}\" % (Fore.GREEN, Fore.RESET)):\n",
    "            \n",
    "            optimizer.zero_grad()\n",
    "            output = model(data)\n",
    "            loss = loss_func(output, target)\n",
    "            loss_sum_tr += loss.item()\n",
    "            loss.backward()\n",
    "            optimizer.step()\n",
    "                 \n",
    "        train_losses.append(loss_sum_tr / len(train_dl))            \n",
    "        \n",
    "       \n",
    "\n",
    "        #test part\n",
    "        \n",
    "        model.eval()\n",
    "        test_loss = 0\n",
    "        correct = 0\n",
    "        loss_sum_val = 0\n",
    "        num = 0\n",
    "        with torch.no_grad():\n",
    "            for data_ts, target_ts in valid_dl:\n",
    "                \n",
    "                probs = model(data_ts)\n",
    "                loss_sum_val += loss_func(model(data_ts), target_ts).item()\n",
    "                \n",
    "                _, preds = torch.max(probs, axis =-1)\n",
    "                correct += (preds == target_ts).sum().item()\n",
    "                num += len(data_ts)\n",
    "                \n",
    "        \n",
    "        val_losses.append(loss_sum_val / len(valid_dl))\n",
    "        valid_accuracies.append(correct / num)\n",
    "    \n",
    "        print('epoch:{:.0f} train loss:{:.4f}\\\n",
    "        \\nvalid loss::{:.4f} valid accuracies: {}/{} ({:.4f}%)\\n'.format(int(epoch+1),\n",
    "                                                               loss_sum_tr / len(train_dl),\n",
    "                                                               loss_sum_val/len(valid_dl),\n",
    "                                                               correct,\n",
    "                                                               num,\n",
    "                                                               (correct / num)*100))\n",
    "        if lr_sched is not None:\n",
    "            lr_sched.step()    \n",
    "        \n",
    "    return train_losses, val_losses, valid_accuracies\n",
    "    \n",
    "\n",
    "device = torch.device(\"cpu\")"
   ]
  },
  {
   "cell_type": "code",
   "execution_count": 22,
   "id": "subjective-endorsement",
   "metadata": {},
   "outputs": [
    {
     "name": "stderr",
     "output_type": "stream",
     "text": [
      "100%|\u001b[32m████████████████████████████████████████████████████████████████████████████████\u001b[39m| 120/120 [00:26<00:00,  4.56it/s]\u001b[0m\n",
      "  0%|\u001b[32m                                                                                          \u001b[39m| 0/120 [00:00<?, ?it/s]\u001b[0m"
     ]
    },
    {
     "name": "stdout",
     "output_type": "stream",
     "text": [
      "epoch:1 train loss:0.1544        \n",
      "valid loss::0.0619 valid accuracies: 9801/10000 (98.0100%)\n",
      "\n"
     ]
    },
    {
     "name": "stderr",
     "output_type": "stream",
     "text": [
      "100%|\u001b[32m████████████████████████████████████████████████████████████████████████████████\u001b[39m| 120/120 [00:26<00:00,  4.55it/s]\u001b[0m\n",
      "  0%|\u001b[32m                                                                                          \u001b[39m| 0/120 [00:00<?, ?it/s]\u001b[0m"
     ]
    },
    {
     "name": "stdout",
     "output_type": "stream",
     "text": [
      "epoch:2 train loss:0.0384        \n",
      "valid loss::0.0409 valid accuracies: 9872/10000 (98.7200%)\n",
      "\n"
     ]
    },
    {
     "name": "stderr",
     "output_type": "stream",
     "text": [
      "100%|\u001b[32m████████████████████████████████████████████████████████████████████████████████\u001b[39m| 120/120 [00:26<00:00,  4.58it/s]\u001b[0m\n",
      "  0%|\u001b[32m                                                                                          \u001b[39m| 0/120 [00:00<?, ?it/s]\u001b[0m"
     ]
    },
    {
     "name": "stdout",
     "output_type": "stream",
     "text": [
      "epoch:3 train loss:0.0265        \n",
      "valid loss::0.0481 valid accuracies: 9826/10000 (98.2600%)\n",
      "\n"
     ]
    },
    {
     "name": "stderr",
     "output_type": "stream",
     "text": [
      "100%|\u001b[32m████████████████████████████████████████████████████████████████████████████████\u001b[39m| 120/120 [00:26<00:00,  4.52it/s]\u001b[0m\n",
      "  0%|\u001b[32m                                                                                          \u001b[39m| 0/120 [00:00<?, ?it/s]\u001b[0m"
     ]
    },
    {
     "name": "stdout",
     "output_type": "stream",
     "text": [
      "epoch:4 train loss:0.0195        \n",
      "valid loss::0.0329 valid accuracies: 9900/10000 (99.0000%)\n",
      "\n"
     ]
    },
    {
     "name": "stderr",
     "output_type": "stream",
     "text": [
      "100%|\u001b[32m████████████████████████████████████████████████████████████████████████████████\u001b[39m| 120/120 [00:25<00:00,  4.62it/s]\u001b[0m\n",
      "  0%|\u001b[32m                                                                                          \u001b[39m| 0/120 [00:00<?, ?it/s]\u001b[0m"
     ]
    },
    {
     "name": "stdout",
     "output_type": "stream",
     "text": [
      "epoch:5 train loss:0.0156        \n",
      "valid loss::0.0355 valid accuracies: 9897/10000 (98.9700%)\n",
      "\n"
     ]
    },
    {
     "name": "stderr",
     "output_type": "stream",
     "text": [
      "100%|\u001b[32m████████████████████████████████████████████████████████████████████████████████\u001b[39m| 120/120 [00:26<00:00,  4.51it/s]\u001b[0m\n",
      "  0%|\u001b[32m                                                                                          \u001b[39m| 0/120 [00:00<?, ?it/s]\u001b[0m"
     ]
    },
    {
     "name": "stdout",
     "output_type": "stream",
     "text": [
      "epoch:6 train loss:0.0130        \n",
      "valid loss::0.0282 valid accuracies: 9917/10000 (99.1700%)\n",
      "\n"
     ]
    },
    {
     "name": "stderr",
     "output_type": "stream",
     "text": [
      "100%|\u001b[32m████████████████████████████████████████████████████████████████████████████████\u001b[39m| 120/120 [00:26<00:00,  4.59it/s]\u001b[0m\n",
      "  0%|\u001b[32m                                                                                          \u001b[39m| 0/120 [00:00<?, ?it/s]\u001b[0m"
     ]
    },
    {
     "name": "stdout",
     "output_type": "stream",
     "text": [
      "epoch:7 train loss:0.0095        \n",
      "valid loss::0.0265 valid accuracies: 9918/10000 (99.1800%)\n",
      "\n"
     ]
    },
    {
     "name": "stderr",
     "output_type": "stream",
     "text": [
      "100%|\u001b[32m████████████████████████████████████████████████████████████████████████████████\u001b[39m| 120/120 [00:26<00:00,  4.56it/s]\u001b[0m\n",
      "  0%|\u001b[32m                                                                                          \u001b[39m| 0/120 [00:00<?, ?it/s]\u001b[0m"
     ]
    },
    {
     "name": "stdout",
     "output_type": "stream",
     "text": [
      "epoch:8 train loss:0.0072        \n",
      "valid loss::0.0337 valid accuracies: 9903/10000 (99.0300%)\n",
      "\n"
     ]
    },
    {
     "name": "stderr",
     "output_type": "stream",
     "text": [
      "100%|\u001b[32m████████████████████████████████████████████████████████████████████████████████\u001b[39m| 120/120 [00:26<00:00,  4.53it/s]\u001b[0m\n",
      "  0%|\u001b[32m                                                                                          \u001b[39m| 0/120 [00:00<?, ?it/s]\u001b[0m"
     ]
    },
    {
     "name": "stdout",
     "output_type": "stream",
     "text": [
      "epoch:9 train loss:0.0057        \n",
      "valid loss::0.0352 valid accuracies: 9909/10000 (99.0900%)\n",
      "\n"
     ]
    },
    {
     "name": "stderr",
     "output_type": "stream",
     "text": [
      "100%|\u001b[32m████████████████████████████████████████████████████████████████████████████████\u001b[39m| 120/120 [00:26<00:00,  4.48it/s]\u001b[0m\n"
     ]
    },
    {
     "name": "stdout",
     "output_type": "stream",
     "text": [
      "epoch:10 train loss:0.0045        \n",
      "valid loss::0.0237 valid accuracies: 9929/10000 (99.2900%)\n",
      "\n"
     ]
    },
    {
     "data": {
      "image/png": "[encoded data removed]",
      "text/plain": [
       "<Figure size 864x288 with 1 Axes>"
      ]
     },
     "metadata": {
      "needs_background": "light"
     },
     "output_type": "display_data"
    },
    {
     "data": {
      "image/png": "[encoded data removed]",
      "text/plain": [
       "<Figure size 864x288 with 1 Axes>"
      ]
     },
     "metadata": {
      "needs_background": "light"
     },
     "output_type": "display_data"
    }
   ],
   "source": [
    "# Run model\n",
    "model = Net().to(device)\n",
    "criterion = nn.CrossEntropyLoss()\n",
    "optimizer =  torch.optim.SGD(model.parameters(), lr=0.1, momentum=0.9)\n",
    "scheduler = torch.optim.lr_scheduler.ExponentialLR(optimizer=optimizer, gamma=0.5)\n",
    "\n",
    "info = fit(10, model, optimizer,criterion, train_loader, test_loader)\n",
    "plot_trainig(*info)"
   ]
  },
  {
   "cell_type": "code",
   "execution_count": null,
   "id": "norman-workplace",
   "metadata": {},
   "outputs": [],
   "source": []
  }
 ],
 "metadata": {
  "kernelspec": {
   "display_name": "Python 3",
   "language": "python",
   "name": "python3"
  },
  "language_info": {
   "codemirror_mode": {
    "name": "ipython",
    "version": 3
   },
   "file_extension": ".py",
   "mimetype": "text/x-python",
   "name": "python",
   "nbconvert_exporter": "python",
   "pygments_lexer": "ipython3",
   "version": "3.9.2"
  }
 },
 "nbformat": 4,
 "nbformat_minor": 5
}
