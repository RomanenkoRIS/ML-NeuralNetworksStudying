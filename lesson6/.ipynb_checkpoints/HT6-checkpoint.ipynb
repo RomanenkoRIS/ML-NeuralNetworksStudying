{
 "cells": [
  {
   "cell_type": "code",
   "execution_count": 356,
   "id": "herbal-suspension",
   "metadata": {},
   "outputs": [],
   "source": [
    "import torch\n",
    "import os\n",
    "import torchvision.transforms as tfs\n",
    "import torch.nn as nn\n",
    "import matplotlib.pyplot as plt\n",
    "import torch.nn.functional as F\n",
    "import pandas as pd\n",
    "\n",
    "from torchvision.datasets import MNIST\n",
    "from torch.utils.data import DataLoader\n",
    "from torchsummary import summary\n",
    "\n",
    "from pytorch_lightning.metrics.functional import precision_recall\n",
    "from pytorch_lightning.metrics.functional import accuracy\n",
    "\n",
    "import time\n",
    "\n",
    "from tqdm import trange\n",
    "from colorama import Fore\n",
    "\n",
    "\n",
    "%matplotlib inline\n",
    "from pylab import rcParams\n",
    "rcParams['figure.figsize'] = 16, 6"
   ]
  },
  {
   "cell_type": "code",
   "execution_count": 258,
   "id": "contained-mountain",
   "metadata": {},
   "outputs": [],
   "source": [
    "def fit(epochs, model, loss_func, opt, train_dl, valid_dl):\n",
    "    \n",
    "    train_losses = []\n",
    "    val_losses = []\n",
    "    valid_accuracies = []\n",
    "          \n",
    "    #train part\n",
    "    for epoch in range(epochs):\n",
    "        model.train()\n",
    "        loss_sum_tr = 0        \n",
    "        \n",
    "        for data, target in tqdm((train_dl),\n",
    "                                 bar_format=\"{l_bar}%s{bar}%s{r_bar}\" % (Fore.GREEN, Fore.RESET)):\n",
    "            \n",
    "            data, target = data.view(data.shape[0],-1).to(device), target.to(device)\n",
    "            \n",
    "            loss = loss_func(model(data), target)\n",
    "            loss_sum_tr += loss.item()\n",
    "            loss.backward()\n",
    "            opt.step()\n",
    "            opt.zero_grad()\n",
    "            \n",
    "        train_losses.append(loss_sum_tr / len(train_dl))            \n",
    "        \n",
    "       \n",
    "\n",
    "        #test part\n",
    "        \n",
    "        model.eval()\n",
    "        loss_sum_val = 0\n",
    "        correct = 0\n",
    "        num = 0\n",
    "        \n",
    "        with torch.no_grad():\n",
    "            for data_ts, target_ts in valid_dl:\n",
    "                data_ts, target_ts = data_ts.view(data_ts.shape[0],-1).to(device), target_ts.to(device)\n",
    "                probs = model(data_ts)\n",
    "                loss_sum_val += loss_func(model(data_ts), target_ts).item()\n",
    "                \n",
    "                \n",
    "                _, preds = torch.max(probs, axis =-1)\n",
    "                correct += (preds == target_ts).sum().item()\n",
    "                num += len(data_ts)\n",
    "        \n",
    "        val_losses.append(loss_sum_val / len(valid_dl))\n",
    "        valid_accuracies.append(correct / num)\n",
    "                \n",
    "        print(f'epoch:{int(epoch+1)}\\\n",
    "        \\t train loss:{round(loss_sum_tr / len(train_dl),4)}\\\n",
    "        \\t valid loss:{round(loss_sum_val/len(valid_dl),4)}\\\n",
    "        \\t valid accuracies:({correct} / {num}) {round((correct / num)*100,2)}')\n",
    "        \n",
    "    return train_losses, val_losses, valid_accuracies\n",
    "\n",
    "\n",
    "batch_size = 1000#64\n",
    "features = 784\n",
    "classes = 10\n",
    "\n",
    "device = torch.device(\"cpu\")"
   ]
  },
  {
   "cell_type": "code",
   "execution_count": 259,
   "id": "contrary-insider",
   "metadata": {},
   "outputs": [],
   "source": [
    "def plot_trainig(train_losses, valid_losses, valid_accuracies):\n",
    "    \n",
    "    plt.xlabel('epoch')\n",
    "    plt.plot(train_losses, label='train_loss')\n",
    "    plt.plot(valid_losses, label='valid_loss')\n",
    "    plt.legend()\n",
    "    plt.show()\n",
    "    \n",
    "    plt.xlabel('epoch')\n",
    "    plt.plot(valid_accuracies, label='valid accuracy')\n",
    "    plt.legend()\n",
    "    plt.show()"
   ]
  },
  {
   "cell_type": "code",
   "execution_count": 260,
   "id": "dated-apparatus",
   "metadata": {},
   "outputs": [],
   "source": [
    "data_tfs = tfs.Compose([tfs.ToTensor()])"
   ]
  },
  {
   "cell_type": "code",
   "execution_count": 297,
   "id": "frequent-partnership",
   "metadata": {},
   "outputs": [
    {
     "name": "stdout",
     "output_type": "stream",
     "text": [
      "mean: 0.1376800686120987 std:0.3125477433204651\n",
      "Data size:\n",
      "\t train 60000,\n",
      "\t test 10000\n",
      "Data shape:\n",
      "\t features torch.Size([1, 28, 28]),\n",
      "\t target <class 'int'>\n"
     ]
    }
   ],
   "source": [
    "train = MNIST('./', train=True, transform=data_tfs, download=True)\n",
    "test = MNIST('./', train=False, transform=data_tfs, download=True)\n",
    "\n",
    "train_loader = DataLoader(train, batch_size=batch_size,shuffle=True, drop_last=True)\n",
    "test_loader = DataLoader(test, batch_size=batch_size,shuffle=True, drop_last=True)\n",
    "\n",
    "data = next(iter(train))\n",
    "print(f'mean: {data[0].mean().item()} std:{data[0].std().item()}')\n",
    "\n",
    "print(f'Data size:\\n\\t train {len(train)},\\n\\t test {len(test)}')\n",
    "print(f'Data shape:\\n\\t features {train[0][0].shape},\\n\\t target {type(test[0][1])}')"
   ]
  },
  {
   "cell_type": "code",
   "execution_count": 298,
   "id": "trying-basement",
   "metadata": {},
   "outputs": [
    {
     "name": "stdout",
     "output_type": "stream",
     "text": [
      "----------------------------------------------------------------\n",
      "        Layer (type)               Output Shape         Param #\n",
      "================================================================\n",
      "            Linear-1                 [1000, 64]          50,240\n",
      "              ReLU-2                 [1000, 64]               0\n",
      "            Linear-3                 [1000, 32]           2,080\n",
      "              ReLU-4                 [1000, 32]               0\n",
      "            Linear-5                 [1000, 10]             330\n",
      "================================================================\n",
      "Total params: 52,650\n",
      "Trainable params: 52,650\n",
      "Non-trainable params: 0\n",
      "----------------------------------------------------------------\n",
      "Input size (MB): 2.99\n",
      "Forward/backward pass size (MB): 1.54\n",
      "Params size (MB): 0.20\n",
      "Estimated Total Size (MB): 4.73\n",
      "----------------------------------------------------------------\n"
     ]
    }
   ],
   "source": [
    "class Model(nn.Module):\n",
    "    def __init__(self):\n",
    "        super().__init__()\n",
    "    \n",
    "        self.hidden1 = nn.Linear(features, 64)\n",
    "        self.hidden2 = nn.Linear(64, 32)\n",
    "        self.output = nn.Linear(32, classes)\n",
    "        self.activation = nn.ReLU()\n",
    "\n",
    "    def forward(self, x):\n",
    "        \n",
    "        x = self.hidden1(x)\n",
    "        x = self.activation(x)\n",
    "        x = self.hidden2(x)\n",
    "        x = self.activation(x)\n",
    "        output = self.output(x)\n",
    "        return output        \n",
    "    \n",
    "summary(Model(), (features,), batch_size=batch_size, device='CPU')"
   ]
  },
  {
   "cell_type": "code",
   "execution_count": 300,
   "id": "welsh-manor",
   "metadata": {},
   "outputs": [
    {
     "name": "stderr",
     "output_type": "stream",
     "text": [
      "100%|\u001b[32m██████████████████████████████████████████████████████████████████████████████████\u001b[39m| 60/60 [00:06<00:00,  9.28it/s]\u001b[0m\n",
      "  2%|\u001b[32m█▍                                                                                 \u001b[39m| 1/60 [00:00<00:05,  9.97it/s]\u001b[0m"
     ]
    },
    {
     "name": "stdout",
     "output_type": "stream",
     "text": [
      "epoch:1        \t train loss:1.0454        \t valid loss:0.3331        \t valid accuracies:(9006 / 10000) 90.06\n"
     ]
    },
    {
     "name": "stderr",
     "output_type": "stream",
     "text": [
      "100%|\u001b[32m██████████████████████████████████████████████████████████████████████████████████\u001b[39m| 60/60 [00:06<00:00,  9.18it/s]\u001b[0m\n",
      "  2%|\u001b[32m█▍                                                                                 \u001b[39m| 1/60 [00:00<00:06,  9.25it/s]\u001b[0m"
     ]
    },
    {
     "name": "stdout",
     "output_type": "stream",
     "text": [
      "epoch:2        \t train loss:0.2927        \t valid loss:0.2468        \t valid accuracies:(9261 / 10000) 92.61\n"
     ]
    },
    {
     "name": "stderr",
     "output_type": "stream",
     "text": [
      "100%|\u001b[32m██████████████████████████████████████████████████████████████████████████████████\u001b[39m| 60/60 [00:06<00:00,  9.00it/s]\u001b[0m\n",
      "  2%|\u001b[32m█▍                                                                                 \u001b[39m| 1/60 [00:00<00:06,  9.09it/s]\u001b[0m"
     ]
    },
    {
     "name": "stdout",
     "output_type": "stream",
     "text": [
      "epoch:3        \t train loss:0.217        \t valid loss:0.1873        \t valid accuracies:(9446 / 10000) 94.46\n"
     ]
    },
    {
     "name": "stderr",
     "output_type": "stream",
     "text": [
      "100%|\u001b[32m██████████████████████████████████████████████████████████████████████████████████\u001b[39m| 60/60 [00:06<00:00,  9.26it/s]\u001b[0m\n",
      "  2%|\u001b[32m█▍                                                                                 \u001b[39m| 1/60 [00:00<00:07,  8.28it/s]\u001b[0m"
     ]
    },
    {
     "name": "stdout",
     "output_type": "stream",
     "text": [
      "epoch:4        \t train loss:0.1674        \t valid loss:0.1568        \t valid accuracies:(9534 / 10000) 95.34\n"
     ]
    },
    {
     "name": "stderr",
     "output_type": "stream",
     "text": [
      "100%|\u001b[32m██████████████████████████████████████████████████████████████████████████████████\u001b[39m| 60/60 [00:06<00:00,  9.12it/s]\u001b[0m\n",
      "  2%|\u001b[32m█▍                                                                                 \u001b[39m| 1/60 [00:00<00:06,  8.86it/s]\u001b[0m"
     ]
    },
    {
     "name": "stdout",
     "output_type": "stream",
     "text": [
      "epoch:5        \t train loss:0.1422        \t valid loss:0.1387        \t valid accuracies:(9592 / 10000) 95.92\n"
     ]
    },
    {
     "name": "stderr",
     "output_type": "stream",
     "text": [
      "100%|\u001b[32m██████████████████████████████████████████████████████████████████████████████████\u001b[39m| 60/60 [00:06<00:00,  9.28it/s]\u001b[0m\n",
      "  2%|\u001b[32m█▍                                                                                 \u001b[39m| 1/60 [00:00<00:06,  9.35it/s]\u001b[0m"
     ]
    },
    {
     "name": "stdout",
     "output_type": "stream",
     "text": [
      "epoch:6        \t train loss:0.1172        \t valid loss:0.1206        \t valid accuracies:(9634 / 10000) 96.34\n"
     ]
    },
    {
     "name": "stderr",
     "output_type": "stream",
     "text": [
      "100%|\u001b[32m██████████████████████████████████████████████████████████████████████████████████\u001b[39m| 60/60 [00:06<00:00,  9.08it/s]\u001b[0m\n",
      "  2%|\u001b[32m█▍                                                                                 \u001b[39m| 1/60 [00:00<00:06,  9.35it/s]\u001b[0m"
     ]
    },
    {
     "name": "stdout",
     "output_type": "stream",
     "text": [
      "epoch:7        \t train loss:0.1033        \t valid loss:0.1181        \t valid accuracies:(9636 / 10000) 96.36\n"
     ]
    },
    {
     "name": "stderr",
     "output_type": "stream",
     "text": [
      "100%|\u001b[32m██████████████████████████████████████████████████████████████████████████████████\u001b[39m| 60/60 [00:06<00:00,  8.90it/s]\u001b[0m\n",
      "  2%|\u001b[32m█▍                                                                                 \u001b[39m| 1/60 [00:00<00:06,  9.01it/s]\u001b[0m"
     ]
    },
    {
     "name": "stdout",
     "output_type": "stream",
     "text": [
      "epoch:8        \t train loss:0.0907        \t valid loss:0.1066        \t valid accuracies:(9699 / 10000) 96.99\n"
     ]
    },
    {
     "name": "stderr",
     "output_type": "stream",
     "text": [
      "100%|\u001b[32m██████████████████████████████████████████████████████████████████████████████████\u001b[39m| 60/60 [00:06<00:00,  9.01it/s]\u001b[0m\n",
      "  2%|\u001b[32m█▍                                                                                 \u001b[39m| 1/60 [00:00<00:06,  9.55it/s]\u001b[0m"
     ]
    },
    {
     "name": "stdout",
     "output_type": "stream",
     "text": [
      "epoch:9        \t train loss:0.0782        \t valid loss:0.0983        \t valid accuracies:(9699 / 10000) 96.99\n"
     ]
    },
    {
     "name": "stderr",
     "output_type": "stream",
     "text": [
      "100%|\u001b[32m██████████████████████████████████████████████████████████████████████████████████\u001b[39m| 60/60 [00:06<00:00,  8.90it/s]\u001b[0m\n",
      "  0%|\u001b[32m                                                                                           \u001b[39m| 0/60 [00:00<?, ?it/s]\u001b[0m"
     ]
    },
    {
     "name": "stdout",
     "output_type": "stream",
     "text": [
      "epoch:10        \t train loss:0.0706        \t valid loss:0.0955        \t valid accuracies:(9723 / 10000) 97.23\n"
     ]
    },
    {
     "name": "stderr",
     "output_type": "stream",
     "text": [
      "100%|\u001b[32m██████████████████████████████████████████████████████████████████████████████████\u001b[39m| 60/60 [00:06<00:00,  9.06it/s]\u001b[0m\n",
      "  2%|\u001b[32m█▍                                                                                 \u001b[39m| 1/60 [00:00<00:06,  9.28it/s]\u001b[0m"
     ]
    },
    {
     "name": "stdout",
     "output_type": "stream",
     "text": [
      "epoch:11        \t train loss:0.0629        \t valid loss:0.0906        \t valid accuracies:(9728 / 10000) 97.28\n"
     ]
    },
    {
     "name": "stderr",
     "output_type": "stream",
     "text": [
      "100%|\u001b[32m██████████████████████████████████████████████████████████████████████████████████\u001b[39m| 60/60 [00:06<00:00,  8.79it/s]\u001b[0m\n",
      "  2%|\u001b[32m█▍                                                                                 \u001b[39m| 1/60 [00:00<00:06,  9.24it/s]\u001b[0m"
     ]
    },
    {
     "name": "stdout",
     "output_type": "stream",
     "text": [
      "epoch:12        \t train loss:0.0571        \t valid loss:0.0843        \t valid accuracies:(9743 / 10000) 97.43\n"
     ]
    },
    {
     "name": "stderr",
     "output_type": "stream",
     "text": [
      "100%|\u001b[32m██████████████████████████████████████████████████████████████████████████████████\u001b[39m| 60/60 [00:06<00:00,  9.08it/s]\u001b[0m\n",
      "  2%|\u001b[32m█▍                                                                                 \u001b[39m| 1/60 [00:00<00:06,  9.34it/s]\u001b[0m"
     ]
    },
    {
     "name": "stdout",
     "output_type": "stream",
     "text": [
      "epoch:13        \t train loss:0.0531        \t valid loss:0.0914        \t valid accuracies:(9726 / 10000) 97.26\n"
     ]
    },
    {
     "name": "stderr",
     "output_type": "stream",
     "text": [
      "100%|\u001b[32m██████████████████████████████████████████████████████████████████████████████████\u001b[39m| 60/60 [00:06<00:00,  8.79it/s]\u001b[0m\n",
      "  2%|\u001b[32m█▍                                                                                 \u001b[39m| 1/60 [00:00<00:06,  9.43it/s]\u001b[0m"
     ]
    },
    {
     "name": "stdout",
     "output_type": "stream",
     "text": [
      "epoch:14        \t train loss:0.049        \t valid loss:0.0819        \t valid accuracies:(9755 / 10000) 97.55\n"
     ]
    },
    {
     "name": "stderr",
     "output_type": "stream",
     "text": [
      "100%|\u001b[32m██████████████████████████████████████████████████████████████████████████████████\u001b[39m| 60/60 [00:06<00:00,  8.95it/s]\u001b[0m\n"
     ]
    },
    {
     "name": "stdout",
     "output_type": "stream",
     "text": [
      "epoch:15        \t train loss:0.0448        \t valid loss:0.0896        \t valid accuracies:(9743 / 10000) 97.43\n"
     ]
    },
    {
     "data": {
      "image/png": "[encoded data removed]",
      "text/plain": [
       "<Figure size 1152x432 with 1 Axes>"
      ]
     },
     "metadata": {
      "needs_background": "light"
     },
     "output_type": "display_data"
    },
    {
     "data": {
      "image/png": "[encoded data removed]",
      "text/plain": [
       "<Figure size 1152x432 with 1 Axes>"
      ]
     },
     "metadata": {
      "needs_background": "light"
     },
     "output_type": "display_data"
    }
   ],
   "source": [
    "# Run model\n",
    "model = Model().to(device)\n",
    "criterion = nn.CrossEntropyLoss()\n",
    "optimizer = torch.optim.SGD(model.parameters(), lr=0.1, momentum = 0.9)\n",
    "info = fit(15, model, criterion, optimizer, train_loader, test_loader)\n",
    "plot_trainig(*info)"
   ]
  },
  {
   "cell_type": "markdown",
   "id": "obvious-stretch",
   "metadata": {},
   "source": [
    "## Normalize data"
   ]
  },
  {
   "cell_type": "code",
   "execution_count": 305,
   "id": "attractive-purple",
   "metadata": {},
   "outputs": [],
   "source": [
    "data_tfs_norm = tfs.Compose([\n",
    "    tfs.ToTensor(),\n",
    "    tfs.Normalize((0.1377), (0.3125))])"
   ]
  },
  {
   "cell_type": "code",
   "execution_count": 306,
   "id": "excellent-russian",
   "metadata": {},
   "outputs": [
    {
     "name": "stdout",
     "output_type": "stream",
     "text": [
      "mean: -0.0 std:1.0\n"
     ]
    }
   ],
   "source": [
    "train_norm = MNIST('./', train=True, transform=data_tfs_norm, download=True,)\n",
    "test_norm = MNIST('./', train=False, transform=data_tfs_norm, download=True)\n",
    "\n",
    "train_loader_norm = DataLoader(train_norm, batch_size=batch_size,shuffle=True, drop_last=True)\n",
    "test_loader_norm = DataLoader(test_norm, batch_size=batch_size,shuffle=True, drop_last=True)\n",
    "\n",
    "data_norm = next(iter(train_norm))\n",
    "print(f'mean: {data_norm[0].mean().round().item()} std:{data_norm[0].std().round().item()}')\n"
   ]
  },
  {
   "cell_type": "code",
   "execution_count": 308,
   "id": "touched-coral",
   "metadata": {},
   "outputs": [
    {
     "name": "stderr",
     "output_type": "stream",
     "text": [
      "100%|\u001b[32m██████████████████████████████████████████████████████████████████████████████████\u001b[39m| 60/60 [00:11<00:00,  5.29it/s]\u001b[0m\n",
      "  2%|\u001b[32m█▍                                                                                 \u001b[39m| 1/60 [00:00<00:11,  5.22it/s]\u001b[0m"
     ]
    },
    {
     "name": "stdout",
     "output_type": "stream",
     "text": [
      "epoch:1        \t train loss:0.7391        \t valid loss:0.2462        \t valid accuracies:(9260 / 10000) 92.6\n"
     ]
    },
    {
     "name": "stderr",
     "output_type": "stream",
     "text": [
      "100%|\u001b[32m██████████████████████████████████████████████████████████████████████████████████\u001b[39m| 60/60 [00:11<00:00,  5.28it/s]\u001b[0m\n",
      "  2%|\u001b[32m█▍                                                                                 \u001b[39m| 1/60 [00:00<00:10,  5.49it/s]\u001b[0m"
     ]
    },
    {
     "name": "stdout",
     "output_type": "stream",
     "text": [
      "epoch:2        \t train loss:0.1939        \t valid loss:0.1546        \t valid accuracies:(9509 / 10000) 95.09\n"
     ]
    },
    {
     "name": "stderr",
     "output_type": "stream",
     "text": [
      "100%|\u001b[32m██████████████████████████████████████████████████████████████████████████████████\u001b[39m| 60/60 [00:11<00:00,  5.28it/s]\u001b[0m\n",
      "  2%|\u001b[32m█▍                                                                                 \u001b[39m| 1/60 [00:00<00:11,  5.29it/s]\u001b[0m"
     ]
    },
    {
     "name": "stdout",
     "output_type": "stream",
     "text": [
      "epoch:3        \t train loss:0.127        \t valid loss:0.1201        \t valid accuracies:(9632 / 10000) 96.32\n"
     ]
    },
    {
     "name": "stderr",
     "output_type": "stream",
     "text": [
      "100%|\u001b[32m██████████████████████████████████████████████████████████████████████████████████\u001b[39m| 60/60 [00:11<00:00,  5.22it/s]\u001b[0m\n",
      "  0%|\u001b[32m                                                                                           \u001b[39m| 0/60 [00:00<?, ?it/s]\u001b[0m"
     ]
    },
    {
     "name": "stdout",
     "output_type": "stream",
     "text": [
      "epoch:4        \t train loss:0.1        \t valid loss:0.1083        \t valid accuracies:(9659 / 10000) 96.59\n"
     ]
    },
    {
     "name": "stderr",
     "output_type": "stream",
     "text": [
      "100%|\u001b[32m██████████████████████████████████████████████████████████████████████████████████\u001b[39m| 60/60 [00:11<00:00,  5.10it/s]\u001b[0m\n",
      "  0%|\u001b[32m                                                                                           \u001b[39m| 0/60 [00:00<?, ?it/s]\u001b[0m"
     ]
    },
    {
     "name": "stdout",
     "output_type": "stream",
     "text": [
      "epoch:5        \t train loss:0.0809        \t valid loss:0.0957        \t valid accuracies:(9720 / 10000) 97.2\n"
     ]
    },
    {
     "name": "stderr",
     "output_type": "stream",
     "text": [
      "100%|\u001b[32m██████████████████████████████████████████████████████████████████████████████████\u001b[39m| 60/60 [00:11<00:00,  5.21it/s]\u001b[0m\n",
      "  2%|\u001b[32m█▍                                                                                 \u001b[39m| 1/60 [00:00<00:11,  5.21it/s]\u001b[0m"
     ]
    },
    {
     "name": "stdout",
     "output_type": "stream",
     "text": [
      "epoch:6        \t train loss:0.067        \t valid loss:0.0924        \t valid accuracies:(9720 / 10000) 97.2\n"
     ]
    },
    {
     "name": "stderr",
     "output_type": "stream",
     "text": [
      "100%|\u001b[32m██████████████████████████████████████████████████████████████████████████████████\u001b[39m| 60/60 [00:11<00:00,  5.04it/s]\u001b[0m\n",
      "  2%|\u001b[32m█▍                                                                                 \u001b[39m| 1/60 [00:00<00:10,  5.59it/s]\u001b[0m"
     ]
    },
    {
     "name": "stdout",
     "output_type": "stream",
     "text": [
      "epoch:7        \t train loss:0.0566        \t valid loss:0.0868        \t valid accuracies:(9742 / 10000) 97.42\n"
     ]
    },
    {
     "name": "stderr",
     "output_type": "stream",
     "text": [
      "100%|\u001b[32m██████████████████████████████████████████████████████████████████████████████████\u001b[39m| 60/60 [00:11<00:00,  5.26it/s]\u001b[0m\n",
      "  2%|\u001b[32m█▍                                                                                 \u001b[39m| 1/60 [00:00<00:11,  5.29it/s]\u001b[0m"
     ]
    },
    {
     "name": "stdout",
     "output_type": "stream",
     "text": [
      "epoch:8        \t train loss:0.0463        \t valid loss:0.0901        \t valid accuracies:(9736 / 10000) 97.36\n"
     ]
    },
    {
     "name": "stderr",
     "output_type": "stream",
     "text": [
      "100%|\u001b[32m██████████████████████████████████████████████████████████████████████████████████\u001b[39m| 60/60 [00:11<00:00,  5.24it/s]\u001b[0m\n",
      "  2%|\u001b[32m█▍                                                                                 \u001b[39m| 1/60 [00:00<00:11,  5.03it/s]\u001b[0m"
     ]
    },
    {
     "name": "stdout",
     "output_type": "stream",
     "text": [
      "epoch:9        \t train loss:0.046        \t valid loss:0.0836        \t valid accuracies:(9750 / 10000) 97.5\n"
     ]
    },
    {
     "name": "stderr",
     "output_type": "stream",
     "text": [
      "100%|\u001b[32m██████████████████████████████████████████████████████████████████████████████████\u001b[39m| 60/60 [00:11<00:00,  5.18it/s]\u001b[0m\n",
      "  0%|\u001b[32m                                                                                           \u001b[39m| 0/60 [00:00<?, ?it/s]\u001b[0m"
     ]
    },
    {
     "name": "stdout",
     "output_type": "stream",
     "text": [
      "epoch:10        \t train loss:0.0369        \t valid loss:0.0884        \t valid accuracies:(9746 / 10000) 97.46\n"
     ]
    },
    {
     "name": "stderr",
     "output_type": "stream",
     "text": [
      "100%|\u001b[32m██████████████████████████████████████████████████████████████████████████████████\u001b[39m| 60/60 [00:11<00:00,  5.24it/s]\u001b[0m\n",
      "  0%|\u001b[32m                                                                                           \u001b[39m| 0/60 [00:00<?, ?it/s]\u001b[0m"
     ]
    },
    {
     "name": "stdout",
     "output_type": "stream",
     "text": [
      "epoch:11        \t train loss:0.0321        \t valid loss:0.0902        \t valid accuracies:(9738 / 10000) 97.38\n"
     ]
    },
    {
     "name": "stderr",
     "output_type": "stream",
     "text": [
      "100%|\u001b[32m██████████████████████████████████████████████████████████████████████████████████\u001b[39m| 60/60 [00:11<00:00,  5.19it/s]\u001b[0m\n",
      "  2%|\u001b[32m█▍                                                                                 \u001b[39m| 1/60 [00:00<00:11,  5.35it/s]\u001b[0m"
     ]
    },
    {
     "name": "stdout",
     "output_type": "stream",
     "text": [
      "epoch:12        \t train loss:0.0285        \t valid loss:0.0944        \t valid accuracies:(9728 / 10000) 97.28\n"
     ]
    },
    {
     "name": "stderr",
     "output_type": "stream",
     "text": [
      "100%|\u001b[32m██████████████████████████████████████████████████████████████████████████████████\u001b[39m| 60/60 [00:11<00:00,  5.13it/s]\u001b[0m\n",
      "  2%|\u001b[32m█▍                                                                                 \u001b[39m| 1/60 [00:00<00:11,  5.29it/s]\u001b[0m"
     ]
    },
    {
     "name": "stdout",
     "output_type": "stream",
     "text": [
      "epoch:13        \t train loss:0.0244        \t valid loss:0.0875        \t valid accuracies:(9762 / 10000) 97.62\n"
     ]
    },
    {
     "name": "stderr",
     "output_type": "stream",
     "text": [
      "100%|\u001b[32m██████████████████████████████████████████████████████████████████████████████████\u001b[39m| 60/60 [00:11<00:00,  5.28it/s]\u001b[0m\n",
      "  2%|\u001b[32m█▍                                                                                 \u001b[39m| 1/60 [00:00<00:10,  5.49it/s]\u001b[0m"
     ]
    },
    {
     "name": "stdout",
     "output_type": "stream",
     "text": [
      "epoch:14        \t train loss:0.021        \t valid loss:0.0916        \t valid accuracies:(9752 / 10000) 97.52\n"
     ]
    },
    {
     "name": "stderr",
     "output_type": "stream",
     "text": [
      "100%|\u001b[32m██████████████████████████████████████████████████████████████████████████████████\u001b[39m| 60/60 [00:11<00:00,  5.21it/s]\u001b[0m\n"
     ]
    },
    {
     "name": "stdout",
     "output_type": "stream",
     "text": [
      "epoch:15        \t train loss:0.0191        \t valid loss:0.0923        \t valid accuracies:(9766 / 10000) 97.66\n"
     ]
    },
    {
     "data": {
      "image/png": "[encoded data removed]",
      "text/plain": [
       "<Figure size 1152x432 with 1 Axes>"
      ]
     },
     "metadata": {
      "needs_background": "light"
     },
     "output_type": "display_data"
    },
    {
     "data": {
      "image/png": "[encoded data removed]",
      "text/plain": [
       "<Figure size 1152x432 with 1 Axes>"
      ]
     },
     "metadata": {
      "needs_background": "light"
     },
     "output_type": "display_data"
    }
   ],
   "source": [
    "# Run model\n",
    "model = Model().to(device)\n",
    "criterion = nn.CrossEntropyLoss()\n",
    "optimizer = torch.optim.SGD(model.parameters(), lr=0.1, momentum = 0.9)\n",
    "info = fit(15, model, criterion, optimizer, train_loader_norm, test_loader_norm)\n",
    "plot_trainig(*info)"
   ]
  },
  {
   "cell_type": "markdown",
   "id": "suffering-candle",
   "metadata": {},
   "source": [
    "## L2"
   ]
  },
  {
   "cell_type": "code",
   "execution_count": 309,
   "id": "roman-heath",
   "metadata": {},
   "outputs": [
    {
     "name": "stderr",
     "output_type": "stream",
     "text": [
      "100%|\u001b[32m██████████████████████████████████████████████████████████████████████████████████\u001b[39m| 60/60 [00:11<00:00,  5.21it/s]\u001b[0m\n",
      "  2%|\u001b[32m█▍                                                                                 \u001b[39m| 1/60 [00:00<00:11,  5.35it/s]\u001b[0m"
     ]
    },
    {
     "name": "stdout",
     "output_type": "stream",
     "text": [
      "epoch:1        \t train loss:0.9688        \t valid loss:0.2677        \t valid accuracies:(9202 / 10000) 92.02\n"
     ]
    },
    {
     "name": "stderr",
     "output_type": "stream",
     "text": [
      "100%|\u001b[32m██████████████████████████████████████████████████████████████████████████████████\u001b[39m| 60/60 [00:11<00:00,  5.24it/s]\u001b[0m\n",
      "  2%|\u001b[32m█▍                                                                                 \u001b[39m| 1/60 [00:00<00:10,  5.43it/s]\u001b[0m"
     ]
    },
    {
     "name": "stdout",
     "output_type": "stream",
     "text": [
      "epoch:2        \t train loss:0.2114        \t valid loss:0.1722        \t valid accuracies:(9479 / 10000) 94.79\n"
     ]
    },
    {
     "name": "stderr",
     "output_type": "stream",
     "text": [
      "100%|\u001b[32m██████████████████████████████████████████████████████████████████████████████████\u001b[39m| 60/60 [00:11<00:00,  5.21it/s]\u001b[0m\n",
      "  2%|\u001b[32m█▍                                                                                 \u001b[39m| 1/60 [00:00<00:11,  5.24it/s]\u001b[0m"
     ]
    },
    {
     "name": "stdout",
     "output_type": "stream",
     "text": [
      "epoch:3        \t train loss:0.1605        \t valid loss:0.1478        \t valid accuracies:(9567 / 10000) 95.67\n"
     ]
    },
    {
     "name": "stderr",
     "output_type": "stream",
     "text": [
      "100%|\u001b[32m██████████████████████████████████████████████████████████████████████████████████\u001b[39m| 60/60 [00:11<00:00,  5.33it/s]\u001b[0m\n",
      "  2%|\u001b[32m█▍                                                                                 \u001b[39m| 1/60 [00:00<00:11,  4.98it/s]\u001b[0m"
     ]
    },
    {
     "name": "stdout",
     "output_type": "stream",
     "text": [
      "epoch:4        \t train loss:0.1298        \t valid loss:0.1293        \t valid accuracies:(9619 / 10000) 96.19\n"
     ]
    },
    {
     "name": "stderr",
     "output_type": "stream",
     "text": [
      "100%|\u001b[32m██████████████████████████████████████████████████████████████████████████████████\u001b[39m| 60/60 [00:11<00:00,  5.23it/s]\u001b[0m\n",
      "  2%|\u001b[32m█▍                                                                                 \u001b[39m| 1/60 [00:00<00:10,  5.56it/s]\u001b[0m"
     ]
    },
    {
     "name": "stdout",
     "output_type": "stream",
     "text": [
      "epoch:5        \t train loss:0.1189        \t valid loss:0.1174        \t valid accuracies:(9667 / 10000) 96.67\n"
     ]
    },
    {
     "name": "stderr",
     "output_type": "stream",
     "text": [
      "100%|\u001b[32m██████████████████████████████████████████████████████████████████████████████████\u001b[39m| 60/60 [00:11<00:00,  5.30it/s]\u001b[0m\n",
      "  0%|\u001b[32m                                                                                           \u001b[39m| 0/60 [00:00<?, ?it/s]\u001b[0m"
     ]
    },
    {
     "name": "stdout",
     "output_type": "stream",
     "text": [
      "epoch:6        \t train loss:0.1067        \t valid loss:0.1095        \t valid accuracies:(9692 / 10000) 96.92\n"
     ]
    },
    {
     "name": "stderr",
     "output_type": "stream",
     "text": [
      "100%|\u001b[32m██████████████████████████████████████████████████████████████████████████████████\u001b[39m| 60/60 [00:11<00:00,  5.12it/s]\u001b[0m\n",
      "  2%|\u001b[32m█▍                                                                                 \u001b[39m| 1/60 [00:00<00:10,  5.49it/s]\u001b[0m"
     ]
    },
    {
     "name": "stdout",
     "output_type": "stream",
     "text": [
      "epoch:7        \t train loss:0.0997        \t valid loss:0.1049        \t valid accuracies:(9703 / 10000) 97.03\n"
     ]
    },
    {
     "name": "stderr",
     "output_type": "stream",
     "text": [
      "100%|\u001b[32m██████████████████████████████████████████████████████████████████████████████████\u001b[39m| 60/60 [00:11<00:00,  5.23it/s]\u001b[0m\n",
      "  2%|\u001b[32m█▍                                                                                 \u001b[39m| 1/60 [00:00<00:10,  5.43it/s]\u001b[0m"
     ]
    },
    {
     "name": "stdout",
     "output_type": "stream",
     "text": [
      "epoch:8        \t train loss:0.0946        \t valid loss:0.1022        \t valid accuracies:(9705 / 10000) 97.05\n"
     ]
    },
    {
     "name": "stderr",
     "output_type": "stream",
     "text": [
      "100%|\u001b[32m██████████████████████████████████████████████████████████████████████████████████\u001b[39m| 60/60 [00:11<00:00,  5.35it/s]\u001b[0m\n",
      "  2%|\u001b[32m█▍                                                                                 \u001b[39m| 1/60 [00:00<00:10,  5.46it/s]\u001b[0m"
     ]
    },
    {
     "name": "stdout",
     "output_type": "stream",
     "text": [
      "epoch:9        \t train loss:0.0906        \t valid loss:0.0993        \t valid accuracies:(9702 / 10000) 97.02\n"
     ]
    },
    {
     "name": "stderr",
     "output_type": "stream",
     "text": [
      "100%|\u001b[32m██████████████████████████████████████████████████████████████████████████████████\u001b[39m| 60/60 [00:11<00:00,  5.35it/s]\u001b[0m\n",
      "  2%|\u001b[32m█▍                                                                                 \u001b[39m| 1/60 [00:00<00:10,  5.46it/s]\u001b[0m"
     ]
    },
    {
     "name": "stdout",
     "output_type": "stream",
     "text": [
      "epoch:10        \t train loss:0.0888        \t valid loss:0.1052        \t valid accuracies:(9704 / 10000) 97.04\n"
     ]
    },
    {
     "name": "stderr",
     "output_type": "stream",
     "text": [
      "100%|\u001b[32m██████████████████████████████████████████████████████████████████████████████████\u001b[39m| 60/60 [00:11<00:00,  5.28it/s]\u001b[0m\n",
      "  0%|\u001b[32m                                                                                           \u001b[39m| 0/60 [00:00<?, ?it/s]\u001b[0m"
     ]
    },
    {
     "name": "stdout",
     "output_type": "stream",
     "text": [
      "epoch:11        \t train loss:0.0872        \t valid loss:0.0989        \t valid accuracies:(9707 / 10000) 97.07\n"
     ]
    },
    {
     "name": "stderr",
     "output_type": "stream",
     "text": [
      "100%|\u001b[32m██████████████████████████████████████████████████████████████████████████████████\u001b[39m| 60/60 [00:11<00:00,  5.24it/s]\u001b[0m\n",
      "  2%|\u001b[32m█▍                                                                                 \u001b[39m| 1/60 [00:00<00:10,  5.54it/s]\u001b[0m"
     ]
    },
    {
     "name": "stdout",
     "output_type": "stream",
     "text": [
      "epoch:12        \t train loss:0.0843        \t valid loss:0.0915        \t valid accuracies:(9740 / 10000) 97.4\n"
     ]
    },
    {
     "name": "stderr",
     "output_type": "stream",
     "text": [
      "100%|\u001b[32m██████████████████████████████████████████████████████████████████████████████████\u001b[39m| 60/60 [00:11<00:00,  5.29it/s]\u001b[0m\n",
      "  2%|\u001b[32m█▍                                                                                 \u001b[39m| 1/60 [00:00<00:11,  5.05it/s]\u001b[0m"
     ]
    },
    {
     "name": "stdout",
     "output_type": "stream",
     "text": [
      "epoch:13        \t train loss:0.0848        \t valid loss:0.1024        \t valid accuracies:(9716 / 10000) 97.16\n"
     ]
    },
    {
     "name": "stderr",
     "output_type": "stream",
     "text": [
      "100%|\u001b[32m██████████████████████████████████████████████████████████████████████████████████\u001b[39m| 60/60 [00:11<00:00,  5.35it/s]\u001b[0m\n",
      "  2%|\u001b[32m█▍                                                                                 \u001b[39m| 1/60 [00:00<00:10,  5.44it/s]\u001b[0m"
     ]
    },
    {
     "name": "stdout",
     "output_type": "stream",
     "text": [
      "epoch:14        \t train loss:0.0831        \t valid loss:0.094        \t valid accuracies:(9717 / 10000) 97.17\n"
     ]
    },
    {
     "name": "stderr",
     "output_type": "stream",
     "text": [
      "100%|\u001b[32m██████████████████████████████████████████████████████████████████████████████████\u001b[39m| 60/60 [00:11<00:00,  5.36it/s]\u001b[0m\n"
     ]
    },
    {
     "name": "stdout",
     "output_type": "stream",
     "text": [
      "epoch:15        \t train loss:0.0805        \t valid loss:0.0906        \t valid accuracies:(9755 / 10000) 97.55\n"
     ]
    },
    {
     "data": {
      "image/png": "[encoded data removed]",
      "text/plain": [
       "<Figure size 1152x432 with 1 Axes>"
      ]
     },
     "metadata": {
      "needs_background": "light"
     },
     "output_type": "display_data"
    },
    {
     "data": {
      "image/png": "[encoded data removed]",
      "text/plain": [
       "<Figure size 1152x432 with 1 Axes>"
      ]
     },
     "metadata": {
      "needs_background": "light"
     },
     "output_type": "display_data"
    }
   ],
   "source": [
    "# Run model\n",
    "model = Model().to(device)\n",
    "criterion = nn.CrossEntropyLoss()\n",
    "optimizer = torch.optim.SGD(model.parameters(), lr=0.1, momentum = 0.9, weight_decay=0.004)\n",
    "info = fit(15, model, criterion, optimizer, train_loader_norm, test_loader_norm)\n",
    "plot_trainig(*info)"
   ]
  },
  {
   "cell_type": "markdown",
   "id": "north-syracuse",
   "metadata": {},
   "source": [
    "### Увеличение размера нейронной сети (количества слоёв, количества нейронов в слое)"
   ]
  },
  {
   "cell_type": "code",
   "execution_count": 284,
   "id": "cognitive-breathing",
   "metadata": {},
   "outputs": [
    {
     "name": "stdout",
     "output_type": "stream",
     "text": [
      "----------------------------------------------------------------\n",
      "        Layer (type)               Output Shape         Param #\n",
      "================================================================\n",
      "            Linear-1                [1000, 200]         157,000\n",
      "              ReLU-2                [1000, 200]               0\n",
      "            Linear-3                [1000, 150]          30,150\n",
      "              ReLU-4                [1000, 150]               0\n",
      "            Linear-5                [1000, 100]          15,100\n",
      "              ReLU-6                [1000, 100]               0\n",
      "            Linear-7                 [1000, 32]           3,232\n",
      "              ReLU-8                 [1000, 32]               0\n",
      "            Linear-9                 [1000, 10]             330\n",
      "================================================================\n",
      "Total params: 205,812\n",
      "Trainable params: 205,812\n",
      "Non-trainable params: 0\n",
      "----------------------------------------------------------------\n",
      "Input size (MB): 2.99\n",
      "Forward/backward pass size (MB): 7.43\n",
      "Params size (MB): 0.79\n",
      "Estimated Total Size (MB): 11.21\n",
      "----------------------------------------------------------------\n"
     ]
    }
   ],
   "source": [
    "class Model2(nn.Module):\n",
    "    def __init__(self):\n",
    "        super().__init__()\n",
    "    \n",
    "        self.hidden1 = nn.Linear(features, 200)\n",
    "        self.hidden2 = nn.Linear(200, 150)\n",
    "        self.hidden3 = nn.Linear(150, 100)\n",
    "        self.hidden4 = nn.Linear(100, 32)\n",
    "        self.output = nn.Linear(32, classes)\n",
    "        self.activation = nn.ReLU()\n",
    "        \n",
    "    def forward(self, x):\n",
    "        \n",
    "        x = self.hidden1(x)\n",
    "        x = self.activation(x)\n",
    "        x = self.hidden2(x)\n",
    "        x = self.activation(x)\n",
    "        x = self.hidden3(x)\n",
    "        x = self.activation(x)\n",
    "        x = self.hidden4(x)\n",
    "        x = self.activation(x)\n",
    "        output = self.output(x)\n",
    "        return output        \n",
    "    \n",
    "summary(Model2(), (features,), batch_size=batch_size, device='CPU')"
   ]
  },
  {
   "cell_type": "code",
   "execution_count": 285,
   "id": "seeing-detail",
   "metadata": {},
   "outputs": [
    {
     "name": "stderr",
     "output_type": "stream",
     "text": [
      "100%|\u001b[32m██████████████████████████████████████████████████████████████████████████████████\u001b[39m| 60/60 [00:11<00:00,  5.36it/s]\u001b[0m\n",
      "  2%|\u001b[32m█▍                                                                                 \u001b[39m| 1/60 [00:00<00:11,  5.36it/s]\u001b[0m"
     ]
    },
    {
     "name": "stdout",
     "output_type": "stream",
     "text": [
      "epoch:1        \t train loss:2.0975        \t valid loss:1.2856        \t valid accuracies:(5047 / 10000) 50.47\n"
     ]
    },
    {
     "name": "stderr",
     "output_type": "stream",
     "text": [
      "100%|\u001b[32m██████████████████████████████████████████████████████████████████████████████████\u001b[39m| 60/60 [00:11<00:00,  5.38it/s]\u001b[0m\n",
      "  2%|\u001b[32m█▍                                                                                 \u001b[39m| 1/60 [00:00<00:10,  5.59it/s]\u001b[0m"
     ]
    },
    {
     "name": "stdout",
     "output_type": "stream",
     "text": [
      "epoch:2        \t train loss:0.6229        \t valid loss:0.2982        \t valid accuracies:(9165 / 10000) 91.65\n"
     ]
    },
    {
     "name": "stderr",
     "output_type": "stream",
     "text": [
      "100%|\u001b[32m██████████████████████████████████████████████████████████████████████████████████\u001b[39m| 60/60 [00:11<00:00,  5.37it/s]\u001b[0m\n",
      "  2%|\u001b[32m█▍                                                                                 \u001b[39m| 1/60 [00:00<00:10,  5.37it/s]\u001b[0m"
     ]
    },
    {
     "name": "stdout",
     "output_type": "stream",
     "text": [
      "epoch:3        \t train loss:0.2538        \t valid loss:0.2021        \t valid accuracies:(9459 / 10000) 94.59\n"
     ]
    },
    {
     "name": "stderr",
     "output_type": "stream",
     "text": [
      "100%|\u001b[32m██████████████████████████████████████████████████████████████████████████████████\u001b[39m| 60/60 [00:11<00:00,  5.25it/s]\u001b[0m\n",
      "  2%|\u001b[32m█▍                                                                                 \u001b[39m| 1/60 [00:00<00:11,  5.18it/s]\u001b[0m"
     ]
    },
    {
     "name": "stdout",
     "output_type": "stream",
     "text": [
      "epoch:4        \t train loss:0.1642        \t valid loss:0.1745        \t valid accuracies:(9515 / 10000) 95.15\n"
     ]
    },
    {
     "name": "stderr",
     "output_type": "stream",
     "text": [
      "100%|\u001b[32m██████████████████████████████████████████████████████████████████████████████████\u001b[39m| 60/60 [00:11<00:00,  5.42it/s]\u001b[0m\n",
      "  2%|\u001b[32m█▍                                                                                 \u001b[39m| 1/60 [00:00<00:10,  5.78it/s]\u001b[0m"
     ]
    },
    {
     "name": "stdout",
     "output_type": "stream",
     "text": [
      "epoch:5        \t train loss:0.1246        \t valid loss:0.1525        \t valid accuracies:(9552 / 10000) 95.52\n"
     ]
    },
    {
     "name": "stderr",
     "output_type": "stream",
     "text": [
      "100%|\u001b[32m██████████████████████████████████████████████████████████████████████████████████\u001b[39m| 60/60 [00:11<00:00,  5.39it/s]\u001b[0m\n",
      "  2%|\u001b[32m█▍                                                                                 \u001b[39m| 1/60 [00:00<00:10,  5.59it/s]\u001b[0m"
     ]
    },
    {
     "name": "stdout",
     "output_type": "stream",
     "text": [
      "epoch:6        \t train loss:0.1047        \t valid loss:0.1438        \t valid accuracies:(9601 / 10000) 96.01\n"
     ]
    },
    {
     "name": "stderr",
     "output_type": "stream",
     "text": [
      "100%|\u001b[32m██████████████████████████████████████████████████████████████████████████████████\u001b[39m| 60/60 [00:10<00:00,  5.48it/s]\u001b[0m\n",
      "  2%|\u001b[32m█▍                                                                                 \u001b[39m| 1/60 [00:00<00:10,  5.54it/s]\u001b[0m"
     ]
    },
    {
     "name": "stdout",
     "output_type": "stream",
     "text": [
      "epoch:7        \t train loss:0.093        \t valid loss:0.1596        \t valid accuracies:(9581 / 10000) 95.81\n"
     ]
    },
    {
     "name": "stderr",
     "output_type": "stream",
     "text": [
      "100%|\u001b[32m██████████████████████████████████████████████████████████████████████████████████\u001b[39m| 60/60 [00:11<00:00,  5.36it/s]\u001b[0m\n",
      "  2%|\u001b[32m█▍                                                                                 \u001b[39m| 1/60 [00:00<00:11,  5.33it/s]\u001b[0m"
     ]
    },
    {
     "name": "stdout",
     "output_type": "stream",
     "text": [
      "epoch:8        \t train loss:0.083        \t valid loss:0.143        \t valid accuracies:(9636 / 10000) 96.36\n"
     ]
    },
    {
     "name": "stderr",
     "output_type": "stream",
     "text": [
      "100%|\u001b[32m██████████████████████████████████████████████████████████████████████████████████\u001b[39m| 60/60 [00:11<00:00,  5.36it/s]\u001b[0m\n",
      "  2%|\u001b[32m█▍                                                                                 \u001b[39m| 1/60 [00:00<00:10,  5.55it/s]\u001b[0m"
     ]
    },
    {
     "name": "stdout",
     "output_type": "stream",
     "text": [
      "epoch:9        \t train loss:0.0709        \t valid loss:0.1597        \t valid accuracies:(9596 / 10000) 95.96\n"
     ]
    },
    {
     "name": "stderr",
     "output_type": "stream",
     "text": [
      "100%|\u001b[32m██████████████████████████████████████████████████████████████████████████████████\u001b[39m| 60/60 [00:11<00:00,  5.36it/s]\u001b[0m\n"
     ]
    },
    {
     "name": "stdout",
     "output_type": "stream",
     "text": [
      "epoch:10        \t train loss:0.0627        \t valid loss:0.1407        \t valid accuracies:(9646 / 10000) 96.46\n"
     ]
    },
    {
     "data": {
      "image/png": "[encoded data removed]",
      "text/plain": [
       "<Figure size 1152x432 with 1 Axes>"
      ]
     },
     "metadata": {
      "needs_background": "light"
     },
     "output_type": "display_data"
    },
    {
     "data": {
      "image/png": "[encoded data removed]",
      "text/plain": [
       "<Figure size 1152x432 with 1 Axes>"
      ]
     },
     "metadata": {
      "needs_background": "light"
     },
     "output_type": "display_data"
    }
   ],
   "source": [
    "# Run model\n",
    "model = Model2().to(device)\n",
    "criterion = nn.CrossEntropyLoss()\n",
    "optimizer = torch.optim.SGD(model.parameters(), lr=0.15, momentum = 0.9)\n",
    "info = fit(10, model, criterion, optimizer, train_loader_norm, test_loader_norm)\n",
    "plot_trainig(*info)"
   ]
  },
  {
   "cell_type": "markdown",
   "id": "grateful-nigeria",
   "metadata": {},
   "source": [
    "### DropOut, Batch Norm"
   ]
  },
  {
   "cell_type": "code",
   "execution_count": 275,
   "id": "fresh-slovenia",
   "metadata": {},
   "outputs": [
    {
     "name": "stdout",
     "output_type": "stream",
     "text": [
      "----------------------------------------------------------------\n",
      "        Layer (type)               Output Shape         Param #\n",
      "================================================================\n",
      "            Linear-1                 [1000, 64]          50,240\n",
      "              ReLU-2                 [1000, 64]               0\n",
      "           Dropout-3                 [1000, 64]               0\n",
      "            Linear-4                 [1000, 32]           2,080\n",
      "              ReLU-5                 [1000, 32]               0\n",
      "           Dropout-6                 [1000, 32]               0\n",
      "            Linear-7                 [1000, 10]             330\n",
      "================================================================\n",
      "Total params: 52,650\n",
      "Trainable params: 52,650\n",
      "Non-trainable params: 0\n",
      "----------------------------------------------------------------\n",
      "Input size (MB): 2.99\n",
      "Forward/backward pass size (MB): 2.27\n",
      "Params size (MB): 0.20\n",
      "Estimated Total Size (MB): 5.47\n",
      "----------------------------------------------------------------\n"
     ]
    }
   ],
   "source": [
    "class ModelDropOut(nn.Module):\n",
    "    def __init__(self):\n",
    "        super().__init__()\n",
    "    \n",
    "        self.hidden1 = nn.Linear(features, 64)\n",
    "        self.hidden2 = nn.Linear(64, 32)\n",
    "        self.dropout = nn.Dropout(p=0.2)\n",
    "        self.output = nn.Linear(32, classes)\n",
    "        self.activation = nn.ReLU()\n",
    "\n",
    "    def forward(self, x):\n",
    "        \n",
    "        x = self.hidden1(x)\n",
    "        x = self.activation(x)\n",
    "        x = self.dropout(x)\n",
    "        x = self.hidden2(x)\n",
    "        x = self.activation(x)\n",
    "        x = self.dropout(x)\n",
    "        output = self.output(x)\n",
    "        return output        \n",
    "    \n",
    "summary(ModelDropOut(), (features,), batch_size=batch_size, device='CPU')"
   ]
  },
  {
   "cell_type": "code",
   "execution_count": 276,
   "id": "handed-ownership",
   "metadata": {},
   "outputs": [
    {
     "name": "stderr",
     "output_type": "stream",
     "text": [
      "100%|\u001b[32m██████████████████████████████████████████████████████████████████████████████████\u001b[39m| 60/60 [00:11<00:00,  5.38it/s]\u001b[0m\n",
      "  2%|\u001b[32m█▍                                                                                 \u001b[39m| 1/60 [00:00<00:10,  5.63it/s]\u001b[0m"
     ]
    },
    {
     "name": "stdout",
     "output_type": "stream",
     "text": [
      "epoch:1        \t train loss:1.1625        \t valid loss:0.3232        \t valid accuracies:(9093 / 10000) 90.93\n"
     ]
    },
    {
     "name": "stderr",
     "output_type": "stream",
     "text": [
      "100%|\u001b[32m██████████████████████████████████████████████████████████████████████████████████\u001b[39m| 60/60 [00:11<00:00,  5.30it/s]\u001b[0m\n",
      "  2%|\u001b[32m█▍                                                                                 \u001b[39m| 1/60 [00:00<00:10,  5.76it/s]\u001b[0m"
     ]
    },
    {
     "name": "stdout",
     "output_type": "stream",
     "text": [
      "epoch:2        \t train loss:0.591        \t valid loss:0.244        \t valid accuracies:(9278 / 10000) 92.78\n"
     ]
    },
    {
     "name": "stderr",
     "output_type": "stream",
     "text": [
      "100%|\u001b[32m██████████████████████████████████████████████████████████████████████████████████\u001b[39m| 60/60 [00:11<00:00,  5.39it/s]\u001b[0m\n",
      "  2%|\u001b[32m█▍                                                                                 \u001b[39m| 1/60 [00:00<00:10,  5.82it/s]\u001b[0m"
     ]
    },
    {
     "name": "stdout",
     "output_type": "stream",
     "text": [
      "epoch:3        \t train loss:0.5126        \t valid loss:0.2221        \t valid accuracies:(9348 / 10000) 93.48\n"
     ]
    },
    {
     "name": "stderr",
     "output_type": "stream",
     "text": [
      "100%|\u001b[32m██████████████████████████████████████████████████████████████████████████████████\u001b[39m| 60/60 [00:11<00:00,  5.18it/s]\u001b[0m\n",
      "  2%|\u001b[32m█▍                                                                                 \u001b[39m| 1/60 [00:00<00:11,  5.35it/s]\u001b[0m"
     ]
    },
    {
     "name": "stdout",
     "output_type": "stream",
     "text": [
      "epoch:4        \t train loss:0.4566        \t valid loss:0.1999        \t valid accuracies:(9449 / 10000) 94.49\n"
     ]
    },
    {
     "name": "stderr",
     "output_type": "stream",
     "text": [
      "100%|\u001b[32m██████████████████████████████████████████████████████████████████████████████████\u001b[39m| 60/60 [00:11<00:00,  5.32it/s]\u001b[0m\n",
      "  0%|\u001b[32m                                                                                           \u001b[39m| 0/60 [00:00<?, ?it/s]\u001b[0m"
     ]
    },
    {
     "name": "stdout",
     "output_type": "stream",
     "text": [
      "epoch:5        \t train loss:0.4371        \t valid loss:0.196        \t valid accuracies:(9448 / 10000) 94.48\n"
     ]
    },
    {
     "name": "stderr",
     "output_type": "stream",
     "text": [
      "100%|\u001b[32m██████████████████████████████████████████████████████████████████████████████████\u001b[39m| 60/60 [00:11<00:00,  5.21it/s]\u001b[0m\n",
      "  2%|\u001b[32m█▍                                                                                 \u001b[39m| 1/60 [00:00<00:10,  5.56it/s]\u001b[0m"
     ]
    },
    {
     "name": "stdout",
     "output_type": "stream",
     "text": [
      "epoch:6        \t train loss:0.4186        \t valid loss:0.1867        \t valid accuracies:(9486 / 10000) 94.86\n"
     ]
    },
    {
     "name": "stderr",
     "output_type": "stream",
     "text": [
      "100%|\u001b[32m██████████████████████████████████████████████████████████████████████████████████\u001b[39m| 60/60 [00:11<00:00,  5.31it/s]\u001b[0m\n",
      "  2%|\u001b[32m█▍                                                                                 \u001b[39m| 1/60 [00:00<00:10,  5.65it/s]\u001b[0m"
     ]
    },
    {
     "name": "stdout",
     "output_type": "stream",
     "text": [
      "epoch:7        \t train loss:0.3988        \t valid loss:0.177        \t valid accuracies:(9504 / 10000) 95.04\n"
     ]
    },
    {
     "name": "stderr",
     "output_type": "stream",
     "text": [
      "100%|\u001b[32m██████████████████████████████████████████████████████████████████████████████████\u001b[39m| 60/60 [00:10<00:00,  5.49it/s]\u001b[0m\n",
      "  2%|\u001b[32m█▍                                                                                 \u001b[39m| 1/60 [00:00<00:10,  5.76it/s]\u001b[0m"
     ]
    },
    {
     "name": "stdout",
     "output_type": "stream",
     "text": [
      "epoch:8        \t train loss:0.3891        \t valid loss:0.1787        \t valid accuracies:(9496 / 10000) 94.96\n"
     ]
    },
    {
     "name": "stderr",
     "output_type": "stream",
     "text": [
      "100%|\u001b[32m██████████████████████████████████████████████████████████████████████████████████\u001b[39m| 60/60 [00:11<00:00,  5.42it/s]\u001b[0m\n",
      "  2%|\u001b[32m█▍                                                                                 \u001b[39m| 1/60 [00:00<00:10,  5.56it/s]\u001b[0m"
     ]
    },
    {
     "name": "stdout",
     "output_type": "stream",
     "text": [
      "epoch:9        \t train loss:0.3857        \t valid loss:0.1692        \t valid accuracies:(9536 / 10000) 95.36\n"
     ]
    },
    {
     "name": "stderr",
     "output_type": "stream",
     "text": [
      "100%|\u001b[32m██████████████████████████████████████████████████████████████████████████████████\u001b[39m| 60/60 [00:11<00:00,  5.45it/s]\u001b[0m\n"
     ]
    },
    {
     "name": "stdout",
     "output_type": "stream",
     "text": [
      "epoch:10        \t train loss:0.3781        \t valid loss:0.1681        \t valid accuracies:(9532 / 10000) 95.32\n"
     ]
    },
    {
     "data": {
      "image/png": "[encoded data removed]",
      "text/plain": [
       "<Figure size 1152x432 with 1 Axes>"
      ]
     },
     "metadata": {
      "needs_background": "light"
     },
     "output_type": "display_data"
    },
    {
     "data": {
      "image/png": "[encoded data removed]",
      "text/plain": [
       "<Figure size 1152x432 with 1 Axes>"
      ]
     },
     "metadata": {
      "needs_background": "light"
     },
     "output_type": "display_data"
    }
   ],
   "source": [
    "# Run model\n",
    "model = ModelDropOut().to(device)\n",
    "criterion = nn.CrossEntropyLoss()\n",
    "optimizer = torch.optim.SGD(model.parameters(), lr=0.1, momentum = 0.9)\n",
    "info = fit(10, model, criterion, optimizer, train_loader_norm, test_loader_norm)\n",
    "plot_trainig(*info)"
   ]
  },
  {
   "cell_type": "code",
   "execution_count": 295,
   "id": "standard-deficit",
   "metadata": {},
   "outputs": [
    {
     "name": "stdout",
     "output_type": "stream",
     "text": [
      "----------------------------------------------------------------\n",
      "        Layer (type)               Output Shape         Param #\n",
      "================================================================\n",
      "            Linear-1                 [1000, 64]          50,240\n",
      "              ReLU-2                 [1000, 64]               0\n",
      "            Linear-3                 [1000, 32]           2,080\n",
      "              ReLU-4                 [1000, 32]               0\n",
      "       BatchNorm1d-5                 [1000, 32]              64\n",
      "            Linear-6                 [1000, 10]             330\n",
      "================================================================\n",
      "Total params: 52,714\n",
      "Trainable params: 52,714\n",
      "Non-trainable params: 0\n",
      "----------------------------------------------------------------\n",
      "Input size (MB): 2.99\n",
      "Forward/backward pass size (MB): 1.79\n",
      "Params size (MB): 0.20\n",
      "Estimated Total Size (MB): 4.98\n",
      "----------------------------------------------------------------\n"
     ]
    }
   ],
   "source": [
    "class ModelBatchNorm(nn.Module):\n",
    "    def __init__(self):\n",
    "        super().__init__()\n",
    "    \n",
    "        self.hidden1 = nn.Linear(features, 64)\n",
    "        self.hidden2 = nn.Linear(64, 32)\n",
    "        self.bn = nn.BatchNorm1d(32)\n",
    "        self.output = nn.Linear(32, classes)\n",
    "        self.activation = nn.ReLU()\n",
    "\n",
    "    def forward(self, x):\n",
    "        \n",
    "        x = self.hidden1(x)\n",
    "        x = self.activation(x)\n",
    "        x = self.hidden2(x)\n",
    "        x = self.activation(x)\n",
    "        x = self.bn(x)\n",
    "        output = self.output(x)\n",
    "        return output        \n",
    "    \n",
    "summary(ModelBatchNorm(), (features,), batch_size=batch_size, device='CPU')"
   ]
  },
  {
   "cell_type": "code",
   "execution_count": 296,
   "id": "celtic-exercise",
   "metadata": {},
   "outputs": [
    {
     "name": "stderr",
     "output_type": "stream",
     "text": [
      "100%|\u001b[32m██████████████████████████████████████████████████████████████████████████████████\u001b[39m| 60/60 [00:11<00:00,  5.38it/s]\u001b[0m\n",
      "  2%|\u001b[32m█▍                                                                                 \u001b[39m| 1/60 [00:00<00:10,  5.68it/s]\u001b[0m"
     ]
    },
    {
     "name": "stdout",
     "output_type": "stream",
     "text": [
      "epoch:1        \t train loss:0.4552        \t valid loss:0.1926        \t valid accuracies:(9418 / 10000) 94.18\n"
     ]
    },
    {
     "name": "stderr",
     "output_type": "stream",
     "text": [
      "100%|\u001b[32m██████████████████████████████████████████████████████████████████████████████████\u001b[39m| 60/60 [00:11<00:00,  5.38it/s]\u001b[0m\n",
      "  2%|\u001b[32m█▍                                                                                 \u001b[39m| 1/60 [00:00<00:10,  5.49it/s]\u001b[0m"
     ]
    },
    {
     "name": "stdout",
     "output_type": "stream",
     "text": [
      "epoch:2        \t train loss:0.16        \t valid loss:0.1356        \t valid accuracies:(9573 / 10000) 95.73\n"
     ]
    },
    {
     "name": "stderr",
     "output_type": "stream",
     "text": [
      "100%|\u001b[32m██████████████████████████████████████████████████████████████████████████████████\u001b[39m| 60/60 [00:11<00:00,  5.42it/s]\u001b[0m\n",
      "  2%|\u001b[32m█▍                                                                                 \u001b[39m| 1/60 [00:00<00:10,  5.56it/s]\u001b[0m"
     ]
    },
    {
     "name": "stdout",
     "output_type": "stream",
     "text": [
      "epoch:3        \t train loss:0.1127        \t valid loss:0.1098        \t valid accuracies:(9650 / 10000) 96.5\n"
     ]
    },
    {
     "name": "stderr",
     "output_type": "stream",
     "text": [
      "100%|\u001b[32m██████████████████████████████████████████████████████████████████████████████████\u001b[39m| 60/60 [00:11<00:00,  5.32it/s]\u001b[0m\n",
      "  2%|\u001b[32m█▍                                                                                 \u001b[39m| 1/60 [00:00<00:10,  5.87it/s]\u001b[0m"
     ]
    },
    {
     "name": "stdout",
     "output_type": "stream",
     "text": [
      "epoch:4        \t train loss:0.0888        \t valid loss:0.0977        \t valid accuracies:(9687 / 10000) 96.87\n"
     ]
    },
    {
     "name": "stderr",
     "output_type": "stream",
     "text": [
      "100%|\u001b[32m██████████████████████████████████████████████████████████████████████████████████\u001b[39m| 60/60 [00:11<00:00,  5.44it/s]\u001b[0m\n",
      "  2%|\u001b[32m█▍                                                                                 \u001b[39m| 1/60 [00:00<00:11,  5.21it/s]\u001b[0m"
     ]
    },
    {
     "name": "stdout",
     "output_type": "stream",
     "text": [
      "epoch:5        \t train loss:0.0725        \t valid loss:0.094        \t valid accuracies:(9709 / 10000) 97.09\n"
     ]
    },
    {
     "name": "stderr",
     "output_type": "stream",
     "text": [
      "100%|\u001b[32m██████████████████████████████████████████████████████████████████████████████████\u001b[39m| 60/60 [00:11<00:00,  5.33it/s]\u001b[0m\n",
      "  2%|\u001b[32m█▍                                                                                 \u001b[39m| 1/60 [00:00<00:10,  5.39it/s]\u001b[0m"
     ]
    },
    {
     "name": "stdout",
     "output_type": "stream",
     "text": [
      "epoch:6        \t train loss:0.0602        \t valid loss:0.0998        \t valid accuracies:(9687 / 10000) 96.87\n"
     ]
    },
    {
     "name": "stderr",
     "output_type": "stream",
     "text": [
      "100%|\u001b[32m██████████████████████████████████████████████████████████████████████████████████\u001b[39m| 60/60 [00:11<00:00,  5.28it/s]\u001b[0m\n",
      "  2%|\u001b[32m█▍                                                                                 \u001b[39m| 1/60 [00:00<00:10,  5.50it/s]\u001b[0m"
     ]
    },
    {
     "name": "stdout",
     "output_type": "stream",
     "text": [
      "epoch:7        \t train loss:0.0508        \t valid loss:0.1019        \t valid accuracies:(9705 / 10000) 97.05\n"
     ]
    },
    {
     "name": "stderr",
     "output_type": "stream",
     "text": [
      "100%|\u001b[32m██████████████████████████████████████████████████████████████████████████████████\u001b[39m| 60/60 [00:11<00:00,  5.31it/s]\u001b[0m\n",
      "  2%|\u001b[32m█▍                                                                                 \u001b[39m| 1/60 [00:00<00:11,  5.28it/s]\u001b[0m"
     ]
    },
    {
     "name": "stdout",
     "output_type": "stream",
     "text": [
      "epoch:8        \t train loss:0.0437        \t valid loss:0.1036        \t valid accuracies:(9700 / 10000) 97.0\n"
     ]
    },
    {
     "name": "stderr",
     "output_type": "stream",
     "text": [
      "100%|\u001b[32m██████████████████████████████████████████████████████████████████████████████████\u001b[39m| 60/60 [00:11<00:00,  5.21it/s]\u001b[0m\n",
      "  2%|\u001b[32m█▍                                                                                 \u001b[39m| 1/60 [00:00<00:10,  5.51it/s]\u001b[0m"
     ]
    },
    {
     "name": "stdout",
     "output_type": "stream",
     "text": [
      "epoch:9        \t train loss:0.038        \t valid loss:0.0997        \t valid accuracies:(9726 / 10000) 97.26\n"
     ]
    },
    {
     "name": "stderr",
     "output_type": "stream",
     "text": [
      "100%|\u001b[32m██████████████████████████████████████████████████████████████████████████████████\u001b[39m| 60/60 [00:10<00:00,  5.45it/s]\u001b[0m\n"
     ]
    },
    {
     "name": "stdout",
     "output_type": "stream",
     "text": [
      "epoch:10        \t train loss:0.0329        \t valid loss:0.1        \t valid accuracies:(9728 / 10000) 97.28\n"
     ]
    },
    {
     "data": {
      "image/png": "[encoded data removed]",
      "text/plain": [
       "<Figure size 1152x432 with 1 Axes>"
      ]
     },
     "metadata": {
      "needs_background": "light"
     },
     "output_type": "display_data"
    },
    {
     "data": {
      "image/png": "[encoded data removed]",
      "text/plain": [
       "<Figure size 1152x432 with 1 Axes>"
      ]
     },
     "metadata": {
      "needs_background": "light"
     },
     "output_type": "display_data"
    }
   ],
   "source": [
    "# Run model\n",
    "model = ModelBatchNorm().to(device)\n",
    "criterion = nn.CrossEntropyLoss()\n",
    "optimizer = torch.optim.SGD(model.parameters(), lr=0.1, momentum = 0.9)\n",
    "info = fit(10, model, criterion, optimizer, train_loader_norm, test_loader_norm)\n",
    "plot_trainig(*info)"
   ]
  },
  {
   "cell_type": "markdown",
   "id": "distinguished-cocktail",
   "metadata": {},
   "source": [
    "## Data Augmentation"
   ]
  },
  {
   "cell_type": "code",
   "execution_count": 352,
   "id": "funky-lunch",
   "metadata": {},
   "outputs": [],
   "source": [
    "data_tfs_ag = tfs.Compose([\n",
    "    tfs.ToTensor(),\n",
    "    tfs.RandomHorizontalFlip(p=0.5),\n",
    "    #tfs.RandomRotation(degrees=45),\n",
    "    tfs.RandomVerticalFlip(p=0.5),\n",
    "    tfs.Normalize((0.1377), (0.3125))])"
   ]
  },
  {
   "cell_type": "code",
   "execution_count": 353,
   "id": "rational-physics",
   "metadata": {},
   "outputs": [
    {
     "name": "stdout",
     "output_type": "stream",
     "text": [
      "mean: -0.0 std:1.0\n"
     ]
    }
   ],
   "source": [
    "train_ag = MNIST('./', train=True, transform=data_tfs_ag, download=True,)\n",
    "test_ag = MNIST('./', train=False, transform=data_tfs_ag, download=True)\n",
    "\n",
    "train_loader_ag = DataLoader(train_ag, batch_size=batch_size,shuffle=True, drop_last=True)\n",
    "test_loader_ag = DataLoader(test_ag, batch_size=batch_size,shuffle=True, drop_last=True)\n",
    "\n",
    "data_ag = next(iter(train_norm))\n",
    "print(f'mean: {data_ag[0].mean().round().item()} std:{data_ag[0].std().round().item()}')\n"
   ]
  },
  {
   "cell_type": "code",
   "execution_count": 354,
   "id": "infectious-pacific",
   "metadata": {},
   "outputs": [
    {
     "name": "stderr",
     "output_type": "stream",
     "text": [
      "100%|\u001b[32m██████████████████████████████████████████████████████████████████████████████████\u001b[39m| 60/60 [00:18<00:00,  3.20it/s]\u001b[0m\n",
      "  0%|\u001b[32m                                                                                           \u001b[39m| 0/60 [00:00<?, ?it/s]\u001b[0m"
     ]
    },
    {
     "name": "stdout",
     "output_type": "stream",
     "text": [
      "epoch:1        \t train loss:1.4771        \t valid loss:1.0136        \t valid accuracies:(7007 / 10000) 70.07\n"
     ]
    },
    {
     "name": "stderr",
     "output_type": "stream",
     "text": [
      "100%|\u001b[32m██████████████████████████████████████████████████████████████████████████████████\u001b[39m| 60/60 [00:18<00:00,  3.30it/s]\u001b[0m\n",
      "  0%|\u001b[32m                                                                                           \u001b[39m| 0/60 [00:00<?, ?it/s]\u001b[0m"
     ]
    },
    {
     "name": "stdout",
     "output_type": "stream",
     "text": [
      "epoch:2        \t train loss:0.8668        \t valid loss:0.7099        \t valid accuracies:(8001 / 10000) 80.01\n"
     ]
    },
    {
     "name": "stderr",
     "output_type": "stream",
     "text": [
      "100%|\u001b[32m██████████████████████████████████████████████████████████████████████████████████\u001b[39m| 60/60 [00:18<00:00,  3.33it/s]\u001b[0m\n",
      "  0%|\u001b[32m                                                                                           \u001b[39m| 0/60 [00:00<?, ?it/s]\u001b[0m"
     ]
    },
    {
     "name": "stdout",
     "output_type": "stream",
     "text": [
      "epoch:3        \t train loss:0.6325        \t valid loss:0.5367        \t valid accuracies:(8507 / 10000) 85.07\n"
     ]
    },
    {
     "name": "stderr",
     "output_type": "stream",
     "text": [
      "100%|\u001b[32m██████████████████████████████████████████████████████████████████████████████████\u001b[39m| 60/60 [00:18<00:00,  3.28it/s]\u001b[0m\n",
      "  0%|\u001b[32m                                                                                           \u001b[39m| 0/60 [00:00<?, ?it/s]\u001b[0m"
     ]
    },
    {
     "name": "stdout",
     "output_type": "stream",
     "text": [
      "epoch:4        \t train loss:0.5021        \t valid loss:0.4451        \t valid accuracies:(8744 / 10000) 87.44\n"
     ]
    },
    {
     "name": "stderr",
     "output_type": "stream",
     "text": [
      "100%|\u001b[32m██████████████████████████████████████████████████████████████████████████████████\u001b[39m| 60/60 [00:17<00:00,  3.36it/s]\u001b[0m\n",
      "  0%|\u001b[32m                                                                                           \u001b[39m| 0/60 [00:00<?, ?it/s]\u001b[0m"
     ]
    },
    {
     "name": "stdout",
     "output_type": "stream",
     "text": [
      "epoch:5        \t train loss:0.4249        \t valid loss:0.3916        \t valid accuracies:(8853 / 10000) 88.53\n"
     ]
    },
    {
     "name": "stderr",
     "output_type": "stream",
     "text": [
      "100%|\u001b[32m██████████████████████████████████████████████████████████████████████████████████\u001b[39m| 60/60 [00:18<00:00,  3.29it/s]\u001b[0m\n",
      "  0%|\u001b[32m                                                                                           \u001b[39m| 0/60 [00:00<?, ?it/s]\u001b[0m"
     ]
    },
    {
     "name": "stdout",
     "output_type": "stream",
     "text": [
      "epoch:6        \t train loss:0.3765        \t valid loss:0.3484        \t valid accuracies:(8970 / 10000) 89.7\n"
     ]
    },
    {
     "name": "stderr",
     "output_type": "stream",
     "text": [
      "100%|\u001b[32m██████████████████████████████████████████████████████████████████████████████████\u001b[39m| 60/60 [00:18<00:00,  3.26it/s]\u001b[0m\n",
      "  0%|\u001b[32m                                                                                           \u001b[39m| 0/60 [00:00<?, ?it/s]\u001b[0m"
     ]
    },
    {
     "name": "stdout",
     "output_type": "stream",
     "text": [
      "epoch:7        \t train loss:0.3415        \t valid loss:0.335        \t valid accuracies:(8985 / 10000) 89.85\n"
     ]
    },
    {
     "name": "stderr",
     "output_type": "stream",
     "text": [
      "100%|\u001b[32m██████████████████████████████████████████████████████████████████████████████████\u001b[39m| 60/60 [00:17<00:00,  3.34it/s]\u001b[0m\n",
      "  0%|\u001b[32m                                                                                           \u001b[39m| 0/60 [00:00<?, ?it/s]\u001b[0m"
     ]
    },
    {
     "name": "stdout",
     "output_type": "stream",
     "text": [
      "epoch:8        \t train loss:0.3173        \t valid loss:0.3029        \t valid accuracies:(9068 / 10000) 90.68\n"
     ]
    },
    {
     "name": "stderr",
     "output_type": "stream",
     "text": [
      "100%|\u001b[32m██████████████████████████████████████████████████████████████████████████████████\u001b[39m| 60/60 [00:18<00:00,  3.32it/s]\u001b[0m\n",
      "  0%|\u001b[32m                                                                                           \u001b[39m| 0/60 [00:00<?, ?it/s]\u001b[0m"
     ]
    },
    {
     "name": "stdout",
     "output_type": "stream",
     "text": [
      "epoch:9        \t train loss:0.2941        \t valid loss:0.2926        \t valid accuracies:(9130 / 10000) 91.3\n"
     ]
    },
    {
     "name": "stderr",
     "output_type": "stream",
     "text": [
      "100%|\u001b[32m██████████████████████████████████████████████████████████████████████████████████\u001b[39m| 60/60 [00:18<00:00,  3.32it/s]\u001b[0m\n",
      "  0%|\u001b[32m                                                                                           \u001b[39m| 0/60 [00:00<?, ?it/s]\u001b[0m"
     ]
    },
    {
     "name": "stdout",
     "output_type": "stream",
     "text": [
      "epoch:10        \t train loss:0.2769        \t valid loss:0.2717        \t valid accuracies:(9179 / 10000) 91.79\n"
     ]
    },
    {
     "name": "stderr",
     "output_type": "stream",
     "text": [
      "100%|\u001b[32m██████████████████████████████████████████████████████████████████████████████████\u001b[39m| 60/60 [00:18<00:00,  3.32it/s]\u001b[0m\n",
      "  0%|\u001b[32m                                                                                           \u001b[39m| 0/60 [00:00<?, ?it/s]\u001b[0m"
     ]
    },
    {
     "name": "stdout",
     "output_type": "stream",
     "text": [
      "epoch:11        \t train loss:0.2636        \t valid loss:0.268        \t valid accuracies:(9174 / 10000) 91.74\n"
     ]
    },
    {
     "name": "stderr",
     "output_type": "stream",
     "text": [
      "100%|\u001b[32m██████████████████████████████████████████████████████████████████████████████████\u001b[39m| 60/60 [00:17<00:00,  3.34it/s]\u001b[0m\n",
      "  0%|\u001b[32m                                                                                           \u001b[39m| 0/60 [00:00<?, ?it/s]\u001b[0m"
     ]
    },
    {
     "name": "stdout",
     "output_type": "stream",
     "text": [
      "epoch:12        \t train loss:0.2503        \t valid loss:0.2533        \t valid accuracies:(9250 / 10000) 92.5\n"
     ]
    },
    {
     "name": "stderr",
     "output_type": "stream",
     "text": [
      "100%|\u001b[32m██████████████████████████████████████████████████████████████████████████████████\u001b[39m| 60/60 [00:18<00:00,  3.32it/s]\u001b[0m\n",
      "  0%|\u001b[32m                                                                                           \u001b[39m| 0/60 [00:00<?, ?it/s]\u001b[0m"
     ]
    },
    {
     "name": "stdout",
     "output_type": "stream",
     "text": [
      "epoch:13        \t train loss:0.2405        \t valid loss:0.2445        \t valid accuracies:(9262 / 10000) 92.62\n"
     ]
    },
    {
     "name": "stderr",
     "output_type": "stream",
     "text": [
      "100%|\u001b[32m██████████████████████████████████████████████████████████████████████████████████\u001b[39m| 60/60 [00:18<00:00,  3.31it/s]\u001b[0m\n",
      "  0%|\u001b[32m                                                                                           \u001b[39m| 0/60 [00:00<?, ?it/s]\u001b[0m"
     ]
    },
    {
     "name": "stdout",
     "output_type": "stream",
     "text": [
      "epoch:14        \t train loss:0.2328        \t valid loss:0.2374        \t valid accuracies:(9284 / 10000) 92.84\n"
     ]
    },
    {
     "name": "stderr",
     "output_type": "stream",
     "text": [
      "100%|\u001b[32m██████████████████████████████████████████████████████████████████████████████████\u001b[39m| 60/60 [00:17<00:00,  3.35it/s]\u001b[0m\n",
      "  0%|\u001b[32m                                                                                           \u001b[39m| 0/60 [00:00<?, ?it/s]\u001b[0m"
     ]
    },
    {
     "name": "stdout",
     "output_type": "stream",
     "text": [
      "epoch:15        \t train loss:0.2255        \t valid loss:0.2359        \t valid accuracies:(9270 / 10000) 92.7\n"
     ]
    },
    {
     "name": "stderr",
     "output_type": "stream",
     "text": [
      "100%|\u001b[32m██████████████████████████████████████████████████████████████████████████████████\u001b[39m| 60/60 [00:18<00:00,  3.29it/s]\u001b[0m\n",
      "  0%|\u001b[32m                                                                                           \u001b[39m| 0/60 [00:00<?, ?it/s]\u001b[0m"
     ]
    },
    {
     "name": "stdout",
     "output_type": "stream",
     "text": [
      "epoch:16        \t train loss:0.2176        \t valid loss:0.2261        \t valid accuracies:(9304 / 10000) 93.04\n"
     ]
    },
    {
     "name": "stderr",
     "output_type": "stream",
     "text": [
      "100%|\u001b[32m██████████████████████████████████████████████████████████████████████████████████\u001b[39m| 60/60 [00:18<00:00,  3.30it/s]\u001b[0m\n",
      "  0%|\u001b[32m                                                                                           \u001b[39m| 0/60 [00:00<?, ?it/s]\u001b[0m"
     ]
    },
    {
     "name": "stdout",
     "output_type": "stream",
     "text": [
      "epoch:17        \t train loss:0.2129        \t valid loss:0.2318        \t valid accuracies:(9272 / 10000) 92.72\n"
     ]
    },
    {
     "name": "stderr",
     "output_type": "stream",
     "text": [
      "100%|\u001b[32m██████████████████████████████████████████████████████████████████████████████████\u001b[39m| 60/60 [00:18<00:00,  3.33it/s]\u001b[0m\n",
      "  0%|\u001b[32m                                                                                           \u001b[39m| 0/60 [00:00<?, ?it/s]\u001b[0m"
     ]
    },
    {
     "name": "stdout",
     "output_type": "stream",
     "text": [
      "epoch:18        \t train loss:0.206        \t valid loss:0.2234        \t valid accuracies:(9311 / 10000) 93.11\n"
     ]
    },
    {
     "name": "stderr",
     "output_type": "stream",
     "text": [
      "100%|\u001b[32m██████████████████████████████████████████████████████████████████████████████████\u001b[39m| 60/60 [00:18<00:00,  3.29it/s]\u001b[0m\n",
      "  0%|\u001b[32m                                                                                           \u001b[39m| 0/60 [00:00<?, ?it/s]\u001b[0m"
     ]
    },
    {
     "name": "stdout",
     "output_type": "stream",
     "text": [
      "epoch:19        \t train loss:0.2006        \t valid loss:0.2239        \t valid accuracies:(9293 / 10000) 92.93\n"
     ]
    },
    {
     "name": "stderr",
     "output_type": "stream",
     "text": [
      "100%|\u001b[32m██████████████████████████████████████████████████████████████████████████████████\u001b[39m| 60/60 [00:18<00:00,  3.32it/s]\u001b[0m\n"
     ]
    },
    {
     "name": "stdout",
     "output_type": "stream",
     "text": [
      "epoch:20        \t train loss:0.1949        \t valid loss:0.2152        \t valid accuracies:(9334 / 10000) 93.34\n"
     ]
    },
    {
     "data": {
      "image/png": "[encoded data removed]",
      "text/plain": [
       "<Figure size 1152x432 with 1 Axes>"
      ]
     },
     "metadata": {
      "needs_background": "light"
     },
     "output_type": "display_data"
    },
    {
     "data": {
      "image/png": "[encoded data removed]",
      "text/plain": [
       "<Figure size 1152x432 with 1 Axes>"
      ]
     },
     "metadata": {
      "needs_background": "light"
     },
     "output_type": "display_data"
    }
   ],
   "source": [
    "# Run model\n",
    "model = ModelBatchNorm().to(device)\n",
    "criterion = nn.CrossEntropyLoss()\n",
    "optimizer = torch.optim.SGD(model.parameters(), lr=0.005, momentum = 0.9)\n",
    "info = fit(20, model, criterion, optimizer, train_loader_ag, test_loader_ag)\n",
    "plot_trainig(*info)"
   ]
  },
  {
   "cell_type": "markdown",
   "id": "hairy-designer",
   "metadata": {},
   "source": [
    "## Early Stopping"
   ]
  },
  {
   "cell_type": "code",
   "execution_count": 380,
   "id": "dirty-crystal",
   "metadata": {},
   "outputs": [],
   "source": [
    "import numpy as np\n"
   ]
  },
  {
   "cell_type": "code",
   "execution_count": 386,
   "id": "shaped-practice",
   "metadata": {},
   "outputs": [],
   "source": [
    "def FitEarlyStopping(epochs, model, loss_func, opt, train_dl, valid_dl):\n",
    "    min_val_loss = np.Inf\n",
    "    n_epochs_stop = 20\n",
    "    epochs_no_improve = 0\n",
    "    early_stop = False\n",
    "    iter = 0\n",
    "    \n",
    "    train_losses = []\n",
    "    val_losses = []\n",
    "    valid_accuracies = []\n",
    "          \n",
    "    #train part\n",
    "    for epoch in range(epochs):\n",
    "        model.train()\n",
    "        loss_sum_tr = 0        \n",
    "        \n",
    "        for data, target in tqdm((train_dl),\n",
    "                                 bar_format=\"{l_bar}%s{bar}%s{r_bar}\" % (Fore.GREEN, Fore.RESET)):\n",
    "            \n",
    "            data, target = data.view(data.shape[0],-1).to(device), target.to(device)\n",
    "            \n",
    "            loss = loss_func(model(data), target)\n",
    "            loss_sum_tr += loss.item()\n",
    "            val_loss = loss_sum_tr / len(data)\n",
    "            loss.backward()\n",
    "            opt.step()\n",
    "            opt.zero_grad()\n",
    "            \n",
    "\n",
    "            \n",
    "            ############################################\n",
    "            if val_loss < min_val_loss:\n",
    "                epochs_no_improve = 0\n",
    "                min_val_loss = val_loss\n",
    "            \n",
    "            else:\n",
    "                epochs_no_improve += 1\n",
    "            iter += 1\n",
    "            if epoch > 5 and epochs_no_improve == n_epochs_stop:\n",
    "                print('Early stopping!' )\n",
    "                early_stop = True\n",
    "                break\n",
    "            else:\n",
    "                continue\n",
    "            break\n",
    "            \n",
    "            if iter % 336 == 0:\n",
    "                # Calculate Accuracy\n",
    "                correct = 0\n",
    "                total = 0\n",
    "                #print(iter)\n",
    "                # Iterate through test dataset\n",
    "    # Check early stopping condition\n",
    "        \n",
    "        if early_stop:\n",
    "            print(\"Stopped\")\n",
    "            break\n",
    "        \n",
    "        train_losses.append(loss_sum_tr / len(train_dl))\n",
    "\n",
    "        #test part\n",
    "        \n",
    "        model.eval()\n",
    "        loss_sum_val = 0\n",
    "        correct = 0\n",
    "        num = 0\n",
    "        \n",
    "        with torch.no_grad():\n",
    "            for data_ts, target_ts in valid_dl:\n",
    "                data_ts, target_ts = data_ts.view(data_ts.shape[0],-1).to(device), target_ts.to(device)\n",
    "                probs = model(data_ts)\n",
    "                loss_sum_val += loss_func(model(data_ts), target_ts).item()\n",
    "                \n",
    "                \n",
    "                _, preds = torch.max(probs, axis =-1)\n",
    "                correct += (preds == target_ts).sum().item()\n",
    "                num += len(data_ts)\n",
    "        \n",
    "        val_losses.append(loss_sum_val / len(valid_dl))\n",
    "        valid_accuracies.append(correct / num)\n",
    "                \n",
    "        print(f'epoch:{int(epoch+1)}\\\n",
    "        \\t train loss:{round(loss_sum_tr / len(train_dl),4)}\\\n",
    "        \\t valid loss:{round(loss_sum_val/len(valid_dl),4)}\\\n",
    "        \\t valid accuracies:({correct} / {num}) {round((correct / num)*100,2)}')\n",
    "        \n",
    "    return train_losses, val_losses, valid_accuracies\n"
   ]
  },
  {
   "cell_type": "code",
   "execution_count": 387,
   "id": "attached-tribune",
   "metadata": {},
   "outputs": [
    {
     "name": "stderr",
     "output_type": "stream",
     "text": [
      "100%|\u001b[32m██████████████████████████████████████████████████████████████████████████████████\u001b[39m| 60/60 [00:11<00:00,  5.30it/s]\u001b[0m\n",
      "  2%|\u001b[32m█▍                                                                                 \u001b[39m| 1/60 [00:00<00:10,  5.53it/s]\u001b[0m"
     ]
    },
    {
     "name": "stdout",
     "output_type": "stream",
     "text": [
      "epoch:1        \t train loss:1.0419        \t valid loss:0.5027        \t valid accuracies:(8937 / 10000) 89.37\n"
     ]
    },
    {
     "name": "stderr",
     "output_type": "stream",
     "text": [
      "100%|\u001b[32m██████████████████████████████████████████████████████████████████████████████████\u001b[39m| 60/60 [00:11<00:00,  5.20it/s]\u001b[0m\n",
      "  2%|\u001b[32m█▍                                                                                 \u001b[39m| 1/60 [00:00<00:10,  5.54it/s]\u001b[0m"
     ]
    },
    {
     "name": "stdout",
     "output_type": "stream",
     "text": [
      "epoch:2        \t train loss:0.3993        \t valid loss:0.3159        \t valid accuracies:(9260 / 10000) 92.6\n"
     ]
    },
    {
     "name": "stderr",
     "output_type": "stream",
     "text": [
      "100%|\u001b[32m██████████████████████████████████████████████████████████████████████████████████\u001b[39m| 60/60 [00:11<00:00,  5.13it/s]\u001b[0m\n",
      "  2%|\u001b[32m█▍                                                                                 \u001b[39m| 1/60 [00:00<00:09,  6.06it/s]\u001b[0m"
     ]
    },
    {
     "name": "stdout",
     "output_type": "stream",
     "text": [
      "epoch:3        \t train loss:0.2767        \t valid loss:0.2405        \t valid accuracies:(9385 / 10000) 93.85\n"
     ]
    },
    {
     "name": "stderr",
     "output_type": "stream",
     "text": [
      "100%|\u001b[32m██████████████████████████████████████████████████████████████████████████████████\u001b[39m| 60/60 [00:11<00:00,  5.18it/s]\u001b[0m\n",
      "  2%|\u001b[32m█▍                                                                                 \u001b[39m| 1/60 [00:00<00:10,  5.60it/s]\u001b[0m"
     ]
    },
    {
     "name": "stdout",
     "output_type": "stream",
     "text": [
      "epoch:4        \t train loss:0.2169        \t valid loss:0.1985        \t valid accuracies:(9491 / 10000) 94.91\n"
     ]
    },
    {
     "name": "stderr",
     "output_type": "stream",
     "text": [
      "100%|\u001b[32m██████████████████████████████████████████████████████████████████████████████████\u001b[39m| 60/60 [00:11<00:00,  5.33it/s]\u001b[0m\n",
      "  2%|\u001b[32m█▍                                                                                 \u001b[39m| 1/60 [00:00<00:11,  5.13it/s]\u001b[0m"
     ]
    },
    {
     "name": "stdout",
     "output_type": "stream",
     "text": [
      "epoch:5        \t train loss:0.1792        \t valid loss:0.1712        \t valid accuracies:(9549 / 10000) 95.49\n"
     ]
    },
    {
     "name": "stderr",
     "output_type": "stream",
     "text": [
      "100%|\u001b[32m██████████████████████████████████████████████████████████████████████████████████\u001b[39m| 60/60 [00:11<00:00,  5.31it/s]\u001b[0m\n",
      "  2%|\u001b[32m█▍                                                                                 \u001b[39m| 1/60 [00:00<00:11,  5.18it/s]\u001b[0m"
     ]
    },
    {
     "name": "stdout",
     "output_type": "stream",
     "text": [
      "epoch:6        \t train loss:0.1534        \t valid loss:0.1509        \t valid accuracies:(9582 / 10000) 95.82\n"
     ]
    },
    {
     "name": "stderr",
     "output_type": "stream",
     "text": [
      " 33%|\u001b[32m███████████████████████████▎                                                      \u001b[39m| 20/60 [00:03<00:07,  5.05it/s]\u001b[0m"
     ]
    },
    {
     "name": "stdout",
     "output_type": "stream",
     "text": [
      "Early stopping!\n",
      "Stopped\n"
     ]
    },
    {
     "name": "stderr",
     "output_type": "stream",
     "text": [
      "\n"
     ]
    },
    {
     "data": {
      "image/png": "[encoded data removed]",
      "text/plain": [
       "<Figure size 1152x432 with 1 Axes>"
      ]
     },
     "metadata": {
      "needs_background": "light"
     },
     "output_type": "display_data"
    },
    {
     "data": {
      "image/png": "[encoded data removed]",
      "text/plain": [
       "<Figure size 1152x432 with 1 Axes>"
      ]
     },
     "metadata": {
      "needs_background": "light"
     },
     "output_type": "display_data"
    }
   ],
   "source": [
    "# Run model\n",
    "model = ModelBatchNorm().to(device)\n",
    "criterion = nn.CrossEntropyLoss()\n",
    "optimizer = torch.optim.SGD(model.parameters(), lr=0.005, momentum = 0.9)\n",
    "info = FitEarlyStopping(20, model, criterion, optimizer, train_loader_norm, test_loader_norm)\n",
    "plot_trainig(*info)"
   ]
  },
  {
   "cell_type": "markdown",
   "id": "selected-greece",
   "metadata": {},
   "source": [
    "## Reduce LR on Plateau or other LR schedulers"
   ]
  },
  {
   "cell_type": "code",
   "execution_count": 398,
   "id": "synthetic-positive",
   "metadata": {},
   "outputs": [],
   "source": [
    "def FitSchedulers(epochs, model, loss_func, opt, train_dl, valid_dl, lr_sched=None):\n",
    "        \n",
    "    train_losses = []\n",
    "    val_losses = []\n",
    "    valid_accuracies = []\n",
    "          \n",
    "    #train part\n",
    "    for epoch in range(epochs):\n",
    "        model.train()\n",
    "        loss_sum_tr = 0        \n",
    "        \n",
    "        for data, target in tqdm((train_dl),\n",
    "                                 bar_format=\"{l_bar}%s{bar}%s{r_bar}\" % (Fore.GREEN, Fore.RESET)):\n",
    "            \n",
    "            data, target = data.view(data.shape[0],-1).to(device), target.to(device)\n",
    "            \n",
    "            loss = loss_func(model(data), target)\n",
    "            loss_sum_tr += loss.item()\n",
    "            loss.backward()\n",
    "            opt.step()\n",
    "            opt.zero_grad()\n",
    "            \n",
    "        train_losses.append(loss_sum_tr / len(train_dl))            \n",
    "        \n",
    "       \n",
    "\n",
    "        #test part\n",
    "        \n",
    "        model.eval()\n",
    "        loss_sum_val = 0\n",
    "        correct = 0\n",
    "        num = 0\n",
    "        \n",
    "        with torch.no_grad():\n",
    "            for data_ts, target_ts in valid_dl:\n",
    "                data_ts, target_ts = data_ts.view(data_ts.shape[0],-1).to(device), target_ts.to(device)\n",
    "                probs = model(data_ts)\n",
    "                loss_sum_val += loss_func(model(data_ts), target_ts).item()\n",
    "                \n",
    "                \n",
    "                _, preds = torch.max(probs, axis =-1)\n",
    "                correct += (preds == target_ts).sum().item()\n",
    "                num += len(data_ts)\n",
    "        \n",
    "        val_losses.append(loss_sum_val / len(valid_dl))\n",
    "        valid_accuracies.append(correct / num)\n",
    "                \n",
    "        print(f'epoch:{int(epoch+1)}\\\n",
    "        \\t train loss:{round(loss_sum_tr / len(train_dl),4)}\\\n",
    "        \\t valid loss:{round(loss_sum_val/len(valid_dl),4)}\\\n",
    "        \\t valid accuracies:({correct} / {num}) {round((correct / num)*100,2)}')\n",
    "        \n",
    "        \n",
    "        if lr_sched is not None:\n",
    "            lr_sched.step()\n",
    "        \n",
    "        \n",
    "    return train_losses, val_losses, valid_accuracies\n",
    " \n",
    "    \n"
   ]
  },
  {
   "cell_type": "code",
   "execution_count": 399,
   "id": "combined-protein",
   "metadata": {},
   "outputs": [
    {
     "name": "stderr",
     "output_type": "stream",
     "text": [
      "100%|\u001b[32m██████████████████████████████████████████████████████████████████████████████████\u001b[39m| 60/60 [00:11<00:00,  5.28it/s]\u001b[0m\n",
      "  2%|\u001b[32m█▍                                                                                 \u001b[39m| 1/60 [00:00<00:10,  5.46it/s]\u001b[0m"
     ]
    },
    {
     "name": "stdout",
     "output_type": "stream",
     "text": [
      "epoch:1        \t train loss:0.8315        \t valid loss:0.3557        \t valid accuracies:(9115 / 10000) 91.15\n"
     ]
    },
    {
     "name": "stderr",
     "output_type": "stream",
     "text": [
      "100%|\u001b[32m██████████████████████████████████████████████████████████████████████████████████\u001b[39m| 60/60 [00:11<00:00,  5.28it/s]\u001b[0m\n",
      "  0%|\u001b[32m                                                                                           \u001b[39m| 0/60 [00:00<?, ?it/s]\u001b[0m"
     ]
    },
    {
     "name": "stdout",
     "output_type": "stream",
     "text": [
      "epoch:2        \t train loss:0.2897        \t valid loss:0.2328        \t valid accuracies:(9375 / 10000) 93.75\n"
     ]
    },
    {
     "name": "stderr",
     "output_type": "stream",
     "text": [
      "100%|\u001b[32m██████████████████████████████████████████████████████████████████████████████████\u001b[39m| 60/60 [00:11<00:00,  5.25it/s]\u001b[0m\n",
      "  2%|\u001b[32m█▍                                                                                 \u001b[39m| 1/60 [00:00<00:10,  5.46it/s]\u001b[0m"
     ]
    },
    {
     "name": "stdout",
     "output_type": "stream",
     "text": [
      "epoch:3        \t train loss:0.2053        \t valid loss:0.1804        \t valid accuracies:(9506 / 10000) 95.06\n"
     ]
    },
    {
     "name": "stderr",
     "output_type": "stream",
     "text": [
      "100%|\u001b[32m██████████████████████████████████████████████████████████████████████████████████\u001b[39m| 60/60 [00:11<00:00,  5.42it/s]\u001b[0m\n",
      "  2%|\u001b[32m█▍                                                                                 \u001b[39m| 1/60 [00:00<00:10,  5.49it/s]\u001b[0m"
     ]
    },
    {
     "name": "stdout",
     "output_type": "stream",
     "text": [
      "epoch:4        \t train loss:0.1628        \t valid loss:0.1516        \t valid accuracies:(9593 / 10000) 95.93\n"
     ]
    },
    {
     "name": "stderr",
     "output_type": "stream",
     "text": [
      "100%|\u001b[32m██████████████████████████████████████████████████████████████████████████████████\u001b[39m| 60/60 [00:11<00:00,  5.43it/s]\u001b[0m\n",
      "  2%|\u001b[32m█▍                                                                                 \u001b[39m| 1/60 [00:00<00:11,  5.32it/s]\u001b[0m"
     ]
    },
    {
     "name": "stdout",
     "output_type": "stream",
     "text": [
      "epoch:5        \t train loss:0.135        \t valid loss:0.1335        \t valid accuracies:(9635 / 10000) 96.35\n"
     ]
    },
    {
     "name": "stderr",
     "output_type": "stream",
     "text": [
      "100%|\u001b[32m██████████████████████████████████████████████████████████████████████████████████\u001b[39m| 60/60 [00:11<00:00,  5.32it/s]\u001b[0m\n",
      "  2%|\u001b[32m█▍                                                                                 \u001b[39m| 1/60 [00:00<00:10,  5.52it/s]\u001b[0m"
     ]
    },
    {
     "name": "stdout",
     "output_type": "stream",
     "text": [
      "epoch:6        \t train loss:0.116        \t valid loss:0.1233        \t valid accuracies:(9652 / 10000) 96.52\n"
     ]
    },
    {
     "name": "stderr",
     "output_type": "stream",
     "text": [
      "100%|\u001b[32m██████████████████████████████████████████████████████████████████████████████████\u001b[39m| 60/60 [00:11<00:00,  5.27it/s]\u001b[0m\n",
      "  2%|\u001b[32m█▍                                                                                 \u001b[39m| 1/60 [00:00<00:10,  5.56it/s]\u001b[0m"
     ]
    },
    {
     "name": "stdout",
     "output_type": "stream",
     "text": [
      "epoch:7        \t train loss:0.1009        \t valid loss:0.1139        \t valid accuracies:(9683 / 10000) 96.83\n"
     ]
    },
    {
     "name": "stderr",
     "output_type": "stream",
     "text": [
      "100%|\u001b[32m██████████████████████████████████████████████████████████████████████████████████\u001b[39m| 60/60 [00:11<00:00,  5.31it/s]\u001b[0m\n",
      "  2%|\u001b[32m█▍                                                                                 \u001b[39m| 1/60 [00:00<00:11,  5.34it/s]\u001b[0m"
     ]
    },
    {
     "name": "stdout",
     "output_type": "stream",
     "text": [
      "epoch:8        \t train loss:0.0883        \t valid loss:0.1091        \t valid accuracies:(9668 / 10000) 96.68\n"
     ]
    },
    {
     "name": "stderr",
     "output_type": "stream",
     "text": [
      "100%|\u001b[32m██████████████████████████████████████████████████████████████████████████████████\u001b[39m| 60/60 [00:11<00:00,  5.29it/s]\u001b[0m\n",
      "  2%|\u001b[32m█▍                                                                                 \u001b[39m| 1/60 [00:00<00:11,  5.35it/s]\u001b[0m"
     ]
    },
    {
     "name": "stdout",
     "output_type": "stream",
     "text": [
      "epoch:9        \t train loss:0.0792        \t valid loss:0.1076        \t valid accuracies:(9682 / 10000) 96.82\n"
     ]
    },
    {
     "name": "stderr",
     "output_type": "stream",
     "text": [
      "100%|\u001b[32m██████████████████████████████████████████████████████████████████████████████████\u001b[39m| 60/60 [00:11<00:00,  5.29it/s]\u001b[0m\n",
      "  2%|\u001b[32m█▍                                                                                 \u001b[39m| 1/60 [00:00<00:10,  5.46it/s]\u001b[0m"
     ]
    },
    {
     "name": "stdout",
     "output_type": "stream",
     "text": [
      "epoch:10        \t train loss:0.0711        \t valid loss:0.1014        \t valid accuracies:(9697 / 10000) 96.97\n"
     ]
    },
    {
     "name": "stderr",
     "output_type": "stream",
     "text": [
      "100%|\u001b[32m██████████████████████████████████████████████████████████████████████████████████\u001b[39m| 60/60 [00:11<00:00,  5.18it/s]\u001b[0m\n",
      "  2%|\u001b[32m█▍                                                                                 \u001b[39m| 1/60 [00:00<00:10,  5.49it/s]\u001b[0m"
     ]
    },
    {
     "name": "stdout",
     "output_type": "stream",
     "text": [
      "epoch:11        \t train loss:0.0638        \t valid loss:0.0966        \t valid accuracies:(9715 / 10000) 97.15\n"
     ]
    },
    {
     "name": "stderr",
     "output_type": "stream",
     "text": [
      "100%|\u001b[32m██████████████████████████████████████████████████████████████████████████████████\u001b[39m| 60/60 [00:11<00:00,  5.33it/s]\u001b[0m\n",
      "  2%|\u001b[32m█▍                                                                                 \u001b[39m| 1/60 [00:00<00:10,  5.41it/s]\u001b[0m"
     ]
    },
    {
     "name": "stdout",
     "output_type": "stream",
     "text": [
      "epoch:12        \t train loss:0.0576        \t valid loss:0.093        \t valid accuracies:(9722 / 10000) 97.22\n"
     ]
    },
    {
     "name": "stderr",
     "output_type": "stream",
     "text": [
      "100%|\u001b[32m██████████████████████████████████████████████████████████████████████████████████\u001b[39m| 60/60 [00:11<00:00,  5.32it/s]\u001b[0m\n",
      "  2%|\u001b[32m█▍                                                                                 \u001b[39m| 1/60 [00:00<00:10,  5.65it/s]\u001b[0m"
     ]
    },
    {
     "name": "stdout",
     "output_type": "stream",
     "text": [
      "epoch:13        \t train loss:0.0529        \t valid loss:0.0941        \t valid accuracies:(9721 / 10000) 97.21\n"
     ]
    },
    {
     "name": "stderr",
     "output_type": "stream",
     "text": [
      "100%|\u001b[32m██████████████████████████████████████████████████████████████████████████████████\u001b[39m| 60/60 [00:11<00:00,  5.32it/s]\u001b[0m\n",
      "  2%|\u001b[32m█▍                                                                                 \u001b[39m| 1/60 [00:00<00:10,  5.43it/s]\u001b[0m"
     ]
    },
    {
     "name": "stdout",
     "output_type": "stream",
     "text": [
      "epoch:14        \t train loss:0.0484        \t valid loss:0.0903        \t valid accuracies:(9737 / 10000) 97.37\n"
     ]
    },
    {
     "name": "stderr",
     "output_type": "stream",
     "text": [
      "100%|\u001b[32m██████████████████████████████████████████████████████████████████████████████████\u001b[39m| 60/60 [00:11<00:00,  5.37it/s]\u001b[0m\n",
      "  2%|\u001b[32m█▍                                                                                 \u001b[39m| 1/60 [00:00<00:10,  5.52it/s]\u001b[0m"
     ]
    },
    {
     "name": "stdout",
     "output_type": "stream",
     "text": [
      "epoch:15        \t train loss:0.0441        \t valid loss:0.0913        \t valid accuracies:(9728 / 10000) 97.28\n"
     ]
    },
    {
     "name": "stderr",
     "output_type": "stream",
     "text": [
      "100%|\u001b[32m██████████████████████████████████████████████████████████████████████████████████\u001b[39m| 60/60 [00:11<00:00,  5.29it/s]\u001b[0m\n",
      "  2%|\u001b[32m█▍                                                                                 \u001b[39m| 1/60 [00:00<00:10,  5.38it/s]\u001b[0m"
     ]
    },
    {
     "name": "stdout",
     "output_type": "stream",
     "text": [
      "epoch:16        \t train loss:0.0406        \t valid loss:0.0884        \t valid accuracies:(9724 / 10000) 97.24\n"
     ]
    },
    {
     "name": "stderr",
     "output_type": "stream",
     "text": [
      "100%|\u001b[32m██████████████████████████████████████████████████████████████████████████████████\u001b[39m| 60/60 [00:11<00:00,  5.42it/s]\u001b[0m\n",
      "  2%|\u001b[32m█▍                                                                                 \u001b[39m| 1/60 [00:00<00:10,  5.40it/s]\u001b[0m"
     ]
    },
    {
     "name": "stdout",
     "output_type": "stream",
     "text": [
      "epoch:17        \t train loss:0.0371        \t valid loss:0.0876        \t valid accuracies:(9733 / 10000) 97.33\n"
     ]
    },
    {
     "name": "stderr",
     "output_type": "stream",
     "text": [
      "100%|\u001b[32m██████████████████████████████████████████████████████████████████████████████████\u001b[39m| 60/60 [00:11<00:00,  5.30it/s]\u001b[0m\n",
      "  2%|\u001b[32m█▍                                                                                 \u001b[39m| 1/60 [00:00<00:11,  4.95it/s]\u001b[0m"
     ]
    },
    {
     "name": "stdout",
     "output_type": "stream",
     "text": [
      "epoch:18        \t train loss:0.0346        \t valid loss:0.0888        \t valid accuracies:(9731 / 10000) 97.31\n"
     ]
    },
    {
     "name": "stderr",
     "output_type": "stream",
     "text": [
      "100%|\u001b[32m██████████████████████████████████████████████████████████████████████████████████\u001b[39m| 60/60 [00:11<00:00,  5.19it/s]\u001b[0m\n",
      "  2%|\u001b[32m█▍                                                                                 \u001b[39m| 1/60 [00:00<00:10,  5.38it/s]\u001b[0m"
     ]
    },
    {
     "name": "stdout",
     "output_type": "stream",
     "text": [
      "epoch:19        \t train loss:0.0315        \t valid loss:0.0927        \t valid accuracies:(9719 / 10000) 97.19\n"
     ]
    },
    {
     "name": "stderr",
     "output_type": "stream",
     "text": [
      "100%|\u001b[32m██████████████████████████████████████████████████████████████████████████████████\u001b[39m| 60/60 [00:11<00:00,  5.35it/s]\u001b[0m\n",
      "  2%|\u001b[32m█▍                                                                                 \u001b[39m| 1/60 [00:00<00:10,  5.56it/s]\u001b[0m"
     ]
    },
    {
     "name": "stdout",
     "output_type": "stream",
     "text": [
      "epoch:20        \t train loss:0.029        \t valid loss:0.0862        \t valid accuracies:(9746 / 10000) 97.46\n"
     ]
    },
    {
     "name": "stderr",
     "output_type": "stream",
     "text": [
      "100%|\u001b[32m██████████████████████████████████████████████████████████████████████████████████\u001b[39m| 60/60 [00:10<00:00,  5.49it/s]\u001b[0m\n",
      "  2%|\u001b[32m█▍                                                                                 \u001b[39m| 1/60 [00:00<00:10,  5.49it/s]\u001b[0m"
     ]
    },
    {
     "name": "stdout",
     "output_type": "stream",
     "text": [
      "epoch:21        \t train loss:0.0262        \t valid loss:0.0881        \t valid accuracies:(9745 / 10000) 97.45\n"
     ]
    },
    {
     "name": "stderr",
     "output_type": "stream",
     "text": [
      "100%|\u001b[32m██████████████████████████████████████████████████████████████████████████████████\u001b[39m| 60/60 [00:11<00:00,  5.20it/s]\u001b[0m\n",
      "  0%|\u001b[32m                                                                                           \u001b[39m| 0/60 [00:00<?, ?it/s]\u001b[0m"
     ]
    },
    {
     "name": "stdout",
     "output_type": "stream",
     "text": [
      "epoch:22        \t train loss:0.0243        \t valid loss:0.0893        \t valid accuracies:(9724 / 10000) 97.24\n"
     ]
    },
    {
     "name": "stderr",
     "output_type": "stream",
     "text": [
      "100%|\u001b[32m██████████████████████████████████████████████████████████████████████████████████\u001b[39m| 60/60 [00:11<00:00,  5.01it/s]\u001b[0m\n",
      "  2%|\u001b[32m█▍                                                                                 \u001b[39m| 1/60 [00:00<00:10,  5.43it/s]\u001b[0m"
     ]
    },
    {
     "name": "stdout",
     "output_type": "stream",
     "text": [
      "epoch:23        \t train loss:0.0229        \t valid loss:0.0868        \t valid accuracies:(9737 / 10000) 97.37\n"
     ]
    },
    {
     "name": "stderr",
     "output_type": "stream",
     "text": [
      "100%|\u001b[32m██████████████████████████████████████████████████████████████████████████████████\u001b[39m| 60/60 [00:11<00:00,  5.28it/s]\u001b[0m\n",
      "  2%|\u001b[32m█▍                                                                                 \u001b[39m| 1/60 [00:00<00:11,  5.18it/s]\u001b[0m"
     ]
    },
    {
     "name": "stdout",
     "output_type": "stream",
     "text": [
      "epoch:24        \t train loss:0.0204        \t valid loss:0.084        \t valid accuracies:(9744 / 10000) 97.44\n"
     ]
    },
    {
     "name": "stderr",
     "output_type": "stream",
     "text": [
      "100%|\u001b[32m██████████████████████████████████████████████████████████████████████████████████\u001b[39m| 60/60 [00:11<00:00,  5.28it/s]\u001b[0m\n"
     ]
    },
    {
     "name": "stdout",
     "output_type": "stream",
     "text": [
      "epoch:25        \t train loss:0.0188        \t valid loss:0.0846        \t valid accuracies:(9745 / 10000) 97.45\n"
     ]
    },
    {
     "data": {
      "image/png": "[encoded data removed]",
      "text/plain": [
       "<Figure size 1152x432 with 1 Axes>"
      ]
     },
     "metadata": {
      "needs_background": "light"
     },
     "output_type": "display_data"
    },
    {
     "data": {
      "image/png": "[encoded data removed]",
      "text/plain": [
       "<Figure size 1152x432 with 1 Axes>"
      ]
     },
     "metadata": {
      "needs_background": "light"
     },
     "output_type": "display_data"
    }
   ],
   "source": [
    "# Run model\n",
    "model = ModelBatchNorm().to(device)\n",
    "criterion = nn.CrossEntropyLoss()\n",
    "optimizer = torch.optim.SGD(model.parameters(), lr=0.01, momentum = 0.9)\n",
    "scheduler = torch.optim.lr_scheduler.ExponentialLR(optimizer=optimizer, gamma=0.5)\n",
    "info = FitSchedulers(25, model, criterion, optimizer, train_loader_norm, test_loader_norm)\n",
    "plot_trainig(*info)"
   ]
  },
  {
   "cell_type": "markdown",
   "id": "greenhouse-feature",
   "metadata": {},
   "source": [
    "## Best Weights"
   ]
  },
  {
   "cell_type": "code",
   "execution_count": null,
   "id": "elder-anniversary",
   "metadata": {},
   "outputs": [],
   "source": []
  }
 ],
 "metadata": {
  "kernelspec": {
   "display_name": "Python 3",
   "language": "python",
   "name": "python3"
  },
  "language_info": {
   "codemirror_mode": {
    "name": "ipython",
    "version": 3
   },
   "file_extension": ".py",
   "mimetype": "text/x-python",
   "name": "python",
   "nbconvert_exporter": "python",
   "pygments_lexer": "ipython3",
   "version": "3.9.2"
  }
 },
 "nbformat": 4,
 "nbformat_minor": 5
}
