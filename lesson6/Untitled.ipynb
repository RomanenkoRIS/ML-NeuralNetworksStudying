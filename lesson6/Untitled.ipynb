{
 "cells": [
  {
   "cell_type": "code",
   "execution_count": 51,
   "id": "angry-movement",
   "metadata": {},
   "outputs": [],
   "source": [
    "import os\n",
    "\n",
    "import pandas as pd\n",
    "import torchvision\n",
    "\n",
    "from skimage import io, transform\n",
    "import numpy as np\n",
    "import matplotlib.pyplot as plt\n",
    "import seaborn as sns\n",
    "\n",
    "from tqdm.notebook import tqdm\n",
    "\n",
    "import torch\n",
    "from torch import nn, optim\n",
    "import torch.nn.functional as F\n",
    "from torch.utils.data import Dataset, DataLoader\n",
    "\n",
    "from torchvision import transforms, utils, datasets\n",
    "\n",
    "sns.set(font_scale=1.4, style=\"whitegrid\")\n",
    "\n",
    "\n",
    "from torch.utils.data import Dataset\n",
    "from torchvision import datasets\n",
    "from torchvision.transforms import ToTensor, Lambda\n",
    "import matplotlib.pyplot as plt\n"
   ]
  },
  {
   "cell_type": "code",
   "execution_count": 67,
   "id": "verified-questionnaire",
   "metadata": {},
   "outputs": [
    {
     "data": {
      "text/plain": [
       "<torch._C.Generator at 0x175abcef3f0>"
      ]
     },
     "execution_count": 67,
     "metadata": {},
     "output_type": "execute_result"
    }
   ],
   "source": [
    "n_epochs = 5\n",
    "batch_size_train = 64\n",
    "batch_size_test = 500\n",
    "learning_rate = 0.01\n",
    "momentum = 0.5\n",
    "log_interval = 10\n",
    "\n",
    "random_seed = 1\n",
    "torch.backends.cudnn.enabled = False\n",
    "torch.manual_seed(random_seed)"
   ]
  },
  {
   "cell_type": "code",
   "execution_count": 53,
   "id": "unlikely-setup",
   "metadata": {},
   "outputs": [],
   "source": [
    "train_loader = torch.utils.data.DataLoader(\n",
    "  torchvision.datasets.MNIST('/files/', train=True, download=True,\n",
    "                             transform=torchvision.transforms.Compose([\n",
    "                               torchvision.transforms.ToTensor(),\n",
    "                               torchvision.transforms.Normalize(\n",
    "                                 (0.1307,), (0.3081,))\n",
    "                             ])),\n",
    "  batch_size=batch_size_train, shuffle=True)\n",
    "\n",
    "test_loader = torch.utils.data.DataLoader(\n",
    "  torchvision.datasets.MNIST('/files/', train=False, download=True,\n",
    "                             transform=torchvision.transforms.Compose([\n",
    "                               torchvision.transforms.ToTensor(),\n",
    "                               torchvision.transforms.Normalize(\n",
    "                                 (0.1307,), (0.3081,))\n",
    "                             ])),\n",
    "  batch_size=batch_size_test, shuffle=True)"
   ]
  },
  {
   "cell_type": "code",
   "execution_count": 62,
   "id": "appropriate-projector",
   "metadata": {},
   "outputs": [
    {
     "ename": "TypeError",
     "evalue": "'DataLoader' object is not an iterator",
     "output_type": "error",
     "traceback": [
      "\u001b[1;31m---------------------------------------------------------------------------\u001b[0m",
      "\u001b[1;31mTypeError\u001b[0m                                 Traceback (most recent call last)",
      "\u001b[1;32m<ipython-input-62-47f6a1d00e70>\u001b[0m in \u001b[0;36m<module>\u001b[1;34m\u001b[0m\n\u001b[1;32m----> 1\u001b[1;33m \u001b[0mnext\u001b[0m\u001b[1;33m(\u001b[0m\u001b[0mtrain_loader\u001b[0m\u001b[1;33m)\u001b[0m\u001b[1;33m\u001b[0m\u001b[1;33m\u001b[0m\u001b[0m\n\u001b[0m",
      "\u001b[1;31mTypeError\u001b[0m: 'DataLoader' object is not an iterator"
     ]
    }
   ],
   "source": [
    "next(train_loader)"
   ]
  },
  {
   "cell_type": "code",
   "execution_count": 46,
   "id": "cognitive-argentina",
   "metadata": {},
   "outputs": [
    {
     "data": {
      "text/plain": [
       "<enumerate at 0x175aee66dc0>"
      ]
     },
     "execution_count": 46,
     "metadata": {},
     "output_type": "execute_result"
    }
   ],
   "source": [
    "torch.stack([a, b],dim=0).shape"
   ]
  },
  {
   "cell_type": "code",
   "execution_count": 75,
   "id": "rocky-bonus",
   "metadata": {},
   "outputs": [
    {
     "data": {
      "text/plain": [
       "torch.Size([28, 28])"
      ]
     },
     "execution_count": 75,
     "metadata": {},
     "output_type": "execute_result"
    }
   ],
   "source": [
    "examples = enumerate(test_loader)\n",
    "batch_idx, (example_data, example_targets) = next(examples)\n",
    "example_data[0][0].size()"
   ]
  },
  {
   "cell_type": "code",
   "execution_count": 38,
   "id": "charitable-breeding",
   "metadata": {},
   "outputs": [],
   "source": [
    "import torch.nn as nn\n",
    "import torch.nn.functional as F\n",
    "import torch.optim as optim\n",
    "\n",
    "\n",
    "class Net(nn.Module):\n",
    "    def __init__(self):\n",
    "        super(Net, self).__init__()\n",
    "        self.conv1 = nn.Conv2d(1, 10, kernel_size=5)\n",
    "        self.conv2 = nn.Conv2d(10, 20, kernel_size=5)\n",
    "        self.conv2_drop = nn.Dropout2d()\n",
    "        self.fc1 = nn.Linear(320, 50)\n",
    "        self.fc2 = nn.Linear(50, 10)\n",
    "\n",
    "    def forward(self, x):\n",
    "        x = F.relu(F.max_pool2d(self.conv1(x), 2))\n",
    "        x = F.relu(F.max_pool2d(self.conv2_drop(self.conv2(x)), 2))\n",
    "        x = x.view(-1, 320)\n",
    "        x = F.relu(self.fc1(x))\n",
    "        x = F.dropout(x, training=self.training)\n",
    "        x = self.fc2(x)\n",
    "        return F.log_softmax(x)\n",
    "    "
   ]
  },
  {
   "cell_type": "code",
   "execution_count": 39,
   "id": "fatty-display",
   "metadata": {},
   "outputs": [],
   "source": [
    "network = Net()\n",
    "optimizer = optim.SGD(network.parameters(), lr=learning_rate,\n",
    "                      momentum=momentum)"
   ]
  },
  {
   "cell_type": "code",
   "execution_count": 40,
   "id": "abroad-canada",
   "metadata": {},
   "outputs": [],
   "source": [
    "train_losses = []\n",
    "train_counter = []\n",
    "test_losses = []\n",
    "test_counter = [i*len(train_loader.dataset) for i in range(n_epochs + 1)]"
   ]
  },
  {
   "cell_type": "code",
   "execution_count": 41,
   "id": "pacific-george",
   "metadata": {},
   "outputs": [],
   "source": [
    "def train(epoch):\n",
    "    network.train()\n",
    "    for batch_idx, (data, target) in enumerate(train_loader):\n",
    "        optimizer.zero_grad()\n",
    "        output = network(data)\n",
    "        loss = F.nll_loss(output, target)\n",
    "        loss.backward()\n",
    "        optimizer.step()\n",
    "        if batch_idx % log_interval == 0:\n",
    "            print('Train Epoch: {} [{}/{} ({:.0f}%)]\\tLoss: {:.6f}'.format(\n",
    "                epoch, batch_idx * len(data), len(train_loader.dataset),\n",
    "                100. * batch_idx / len(train_loader), loss.item()))\n",
    "            train_losses.append(loss.item())\n",
    "            train_counter.append(\n",
    "                (batch_idx*64) + ((epoch-1)*len(train_loader.dataset)))\n",
    "#             torch.save(network.state_dict(), '/results/model.pth')\n",
    "#             torch.save(optimizer.state_dict(), '/results/optimizer.pth')"
   ]
  },
  {
   "cell_type": "code",
   "execution_count": 42,
   "id": "affected-family",
   "metadata": {},
   "outputs": [],
   "source": [
    "def test():\n",
    "    network.eval()\n",
    "    test_loss = 0\n",
    "    correct = 0\n",
    "    with torch.no_grad():\n",
    "        for data, target in test_loader:\n",
    "            output = network(data)\n",
    "            test_loss += F.nll_loss(output, target, size_average=False).item()\n",
    "            pred = output.data.max(1, keepdim=True)[1]\n",
    "            correct += pred.eq(target.data.view_as(pred)).sum()\n",
    "    test_loss /= len(test_loader.dataset)\n",
    "    test_losses.append(test_loss)\n",
    "    print('\\nTest set: Avg. loss: {:.4f}, Accuracy: {}/{} ({:.0f}%)\\n'.format(\n",
    "        test_loss, correct, len(test_loader.dataset),\n",
    "        100. * correct / len(test_loader.dataset)))"
   ]
  },
  {
   "cell_type": "code",
   "execution_count": 66,
   "id": "subtle-local",
   "metadata": {},
   "outputs": [
    {
     "ename": "AttributeError",
     "evalue": "'list' object has no attribute 'size'",
     "output_type": "error",
     "traceback": [
      "\u001b[1;31m---------------------------------------------------------------------------\u001b[0m",
      "\u001b[1;31mAttributeError\u001b[0m                            Traceback (most recent call last)",
      "\u001b[1;32m<ipython-input-66-4ca24265f583>\u001b[0m in \u001b[0;36m<module>\u001b[1;34m\u001b[0m\n\u001b[0;32m      1\u001b[0m \u001b[0ma\u001b[0m\u001b[1;33m,\u001b[0m \u001b[0mb\u001b[0m \u001b[1;33m=\u001b[0m \u001b[0mtest_loader\u001b[0m\u001b[1;33m\u001b[0m\u001b[1;33m\u001b[0m\u001b[0m\n\u001b[1;32m----> 2\u001b[1;33m \u001b[0mb\u001b[0m\u001b[1;33m.\u001b[0m\u001b[0msize\u001b[0m\u001b[1;33m(\u001b[0m\u001b[1;33m)\u001b[0m\u001b[1;33m\u001b[0m\u001b[1;33m\u001b[0m\u001b[0m\n\u001b[0m",
      "\u001b[1;31mAttributeError\u001b[0m: 'list' object has no attribute 'size'"
     ]
    }
   ],
   "source": [
    "\n"
   ]
  },
  {
   "cell_type": "code",
   "execution_count": 43,
   "id": "perfect-voluntary",
   "metadata": {},
   "outputs": [
    {
     "name": "stderr",
     "output_type": "stream",
     "text": [
      "<ipython-input-38-a098dff32731>:22: UserWarning: Implicit dimension choice for log_softmax has been deprecated. Change the call to include dim=X as an argument.\n",
      "  return F.log_softmax(x)\n"
     ]
    },
    {
     "name": "stdout",
     "output_type": "stream",
     "text": [
      "\n",
      "Test set: Avg. loss: 2.3089, Accuracy: 674/10000 (7%)\n",
      "\n",
      "Train Epoch: 1 [0/60000 (0%)]\tLoss: 2.342404\n",
      "Train Epoch: 1 [1280/60000 (2%)]\tLoss: 2.279043\n",
      "Train Epoch: 1 [2560/60000 (4%)]\tLoss: 2.298765\n",
      "Train Epoch: 1 [3840/60000 (6%)]\tLoss: 2.277650\n",
      "Train Epoch: 1 [5120/60000 (9%)]\tLoss: 2.249324\n",
      "Train Epoch: 1 [6400/60000 (11%)]\tLoss: 2.220917\n",
      "Train Epoch: 1 [7680/60000 (13%)]\tLoss: 2.220687\n",
      "Train Epoch: 1 [8960/60000 (15%)]\tLoss: 2.191224\n",
      "Train Epoch: 1 [10240/60000 (17%)]\tLoss: 2.168834\n",
      "Train Epoch: 1 [11520/60000 (19%)]\tLoss: 2.126606\n",
      "Train Epoch: 1 [12800/60000 (21%)]\tLoss: 2.045601\n",
      "Train Epoch: 1 [14080/60000 (23%)]\tLoss: 1.884804\n",
      "Train Epoch: 1 [15360/60000 (26%)]\tLoss: 1.881673\n",
      "Train Epoch: 1 [16640/60000 (28%)]\tLoss: 1.592906\n",
      "Train Epoch: 1 [17920/60000 (30%)]\tLoss: 1.558182\n",
      "Train Epoch: 1 [19200/60000 (32%)]\tLoss: 1.492340\n",
      "Train Epoch: 1 [20480/60000 (34%)]\tLoss: 1.404370\n",
      "Train Epoch: 1 [21760/60000 (36%)]\tLoss: 1.333422\n",
      "Train Epoch: 1 [23040/60000 (38%)]\tLoss: 1.249338\n",
      "Train Epoch: 1 [24320/60000 (41%)]\tLoss: 1.138170\n",
      "Train Epoch: 1 [25600/60000 (43%)]\tLoss: 1.186302\n",
      "Train Epoch: 1 [26880/60000 (45%)]\tLoss: 1.051915\n",
      "Train Epoch: 1 [28160/60000 (47%)]\tLoss: 1.024379\n",
      "Train Epoch: 1 [29440/60000 (49%)]\tLoss: 0.814084\n",
      "Train Epoch: 1 [30720/60000 (51%)]\tLoss: 0.882737\n",
      "Train Epoch: 1 [32000/60000 (53%)]\tLoss: 0.893821\n",
      "Train Epoch: 1 [33280/60000 (55%)]\tLoss: 0.909165\n",
      "Train Epoch: 1 [34560/60000 (58%)]\tLoss: 0.704662\n",
      "Train Epoch: 1 [35840/60000 (60%)]\tLoss: 0.935668\n",
      "Train Epoch: 1 [37120/60000 (62%)]\tLoss: 0.916787\n",
      "Train Epoch: 1 [38400/60000 (64%)]\tLoss: 0.853384\n",
      "Train Epoch: 1 [39680/60000 (66%)]\tLoss: 0.766440\n",
      "Train Epoch: 1 [40960/60000 (68%)]\tLoss: 0.674521\n",
      "Train Epoch: 1 [42240/60000 (70%)]\tLoss: 0.698457\n",
      "Train Epoch: 1 [43520/60000 (72%)]\tLoss: 0.585391\n",
      "Train Epoch: 1 [44800/60000 (75%)]\tLoss: 0.777994\n",
      "Train Epoch: 1 [46080/60000 (77%)]\tLoss: 0.638581\n",
      "Train Epoch: 1 [47360/60000 (79%)]\tLoss: 0.734270\n",
      "Train Epoch: 1 [48640/60000 (81%)]\tLoss: 0.858937\n",
      "Train Epoch: 1 [49920/60000 (83%)]\tLoss: 0.757073\n",
      "Train Epoch: 1 [51200/60000 (85%)]\tLoss: 0.785678\n",
      "Train Epoch: 1 [52480/60000 (87%)]\tLoss: 0.676699\n",
      "Train Epoch: 1 [53760/60000 (90%)]\tLoss: 0.607075\n",
      "Train Epoch: 1 [55040/60000 (92%)]\tLoss: 0.590273\n",
      "Train Epoch: 1 [56320/60000 (94%)]\tLoss: 0.680529\n",
      "Train Epoch: 1 [57600/60000 (96%)]\tLoss: 0.727835\n",
      "Train Epoch: 1 [58880/60000 (98%)]\tLoss: 0.556806\n",
      "\n",
      "Test set: Avg. loss: 0.2836, Accuracy: 9184/10000 (92%)\n",
      "\n",
      "Train Epoch: 2 [0/60000 (0%)]\tLoss: 0.706068\n",
      "Train Epoch: 2 [1280/60000 (2%)]\tLoss: 0.655768\n",
      "Train Epoch: 2 [2560/60000 (4%)]\tLoss: 0.520403\n",
      "Train Epoch: 2 [3840/60000 (6%)]\tLoss: 0.601346\n",
      "Train Epoch: 2 [5120/60000 (9%)]\tLoss: 0.597274\n",
      "Train Epoch: 2 [6400/60000 (11%)]\tLoss: 0.545276\n",
      "Train Epoch: 2 [7680/60000 (13%)]\tLoss: 0.408805\n",
      "Train Epoch: 2 [8960/60000 (15%)]\tLoss: 0.605759\n",
      "Train Epoch: 2 [10240/60000 (17%)]\tLoss: 0.503479\n",
      "Train Epoch: 2 [11520/60000 (19%)]\tLoss: 0.516950\n",
      "Train Epoch: 2 [12800/60000 (21%)]\tLoss: 0.478709\n",
      "Train Epoch: 2 [14080/60000 (23%)]\tLoss: 0.621539\n",
      "Train Epoch: 2 [15360/60000 (26%)]\tLoss: 0.520779\n",
      "Train Epoch: 2 [16640/60000 (28%)]\tLoss: 0.562836\n",
      "Train Epoch: 2 [17920/60000 (30%)]\tLoss: 0.591260\n",
      "Train Epoch: 2 [19200/60000 (32%)]\tLoss: 0.523842\n",
      "Train Epoch: 2 [20480/60000 (34%)]\tLoss: 0.606701\n",
      "Train Epoch: 2 [21760/60000 (36%)]\tLoss: 0.577131\n",
      "Train Epoch: 2 [23040/60000 (38%)]\tLoss: 0.443957\n",
      "Train Epoch: 2 [24320/60000 (41%)]\tLoss: 0.531429\n",
      "Train Epoch: 2 [25600/60000 (43%)]\tLoss: 0.560254\n",
      "Train Epoch: 2 [26880/60000 (45%)]\tLoss: 0.606662\n",
      "Train Epoch: 2 [28160/60000 (47%)]\tLoss: 0.410915\n",
      "Train Epoch: 2 [29440/60000 (49%)]\tLoss: 0.517527\n",
      "Train Epoch: 2 [30720/60000 (51%)]\tLoss: 0.408630\n",
      "Train Epoch: 2 [32000/60000 (53%)]\tLoss: 0.389265\n",
      "Train Epoch: 2 [33280/60000 (55%)]\tLoss: 0.532099\n",
      "Train Epoch: 2 [34560/60000 (58%)]\tLoss: 0.460998\n",
      "Train Epoch: 2 [35840/60000 (60%)]\tLoss: 0.482606\n",
      "Train Epoch: 2 [37120/60000 (62%)]\tLoss: 0.521394\n",
      "Train Epoch: 2 [38400/60000 (64%)]\tLoss: 0.541034\n",
      "Train Epoch: 2 [39680/60000 (66%)]\tLoss: 0.494009\n",
      "Train Epoch: 2 [40960/60000 (68%)]\tLoss: 0.483835\n",
      "Train Epoch: 2 [42240/60000 (70%)]\tLoss: 0.366427\n",
      "Train Epoch: 2 [43520/60000 (72%)]\tLoss: 0.797196\n",
      "Train Epoch: 2 [44800/60000 (75%)]\tLoss: 0.341109\n",
      "Train Epoch: 2 [46080/60000 (77%)]\tLoss: 0.436459\n",
      "Train Epoch: 2 [47360/60000 (79%)]\tLoss: 0.369523\n",
      "Train Epoch: 2 [48640/60000 (81%)]\tLoss: 0.528977\n",
      "Train Epoch: 2 [49920/60000 (83%)]\tLoss: 0.429362\n",
      "Train Epoch: 2 [51200/60000 (85%)]\tLoss: 0.400773\n",
      "Train Epoch: 2 [52480/60000 (87%)]\tLoss: 0.370186\n",
      "Train Epoch: 2 [53760/60000 (90%)]\tLoss: 0.465334\n",
      "Train Epoch: 2 [55040/60000 (92%)]\tLoss: 0.351091\n",
      "Train Epoch: 2 [56320/60000 (94%)]\tLoss: 0.488228\n",
      "Train Epoch: 2 [57600/60000 (96%)]\tLoss: 0.314529\n",
      "Train Epoch: 2 [58880/60000 (98%)]\tLoss: 0.440963\n",
      "\n",
      "Test set: Avg. loss: 0.1801, Accuracy: 9460/10000 (95%)\n",
      "\n",
      "Train Epoch: 3 [0/60000 (0%)]\tLoss: 0.349052\n",
      "Train Epoch: 3 [1280/60000 (2%)]\tLoss: 0.457741\n",
      "Train Epoch: 3 [2560/60000 (4%)]\tLoss: 0.409871\n",
      "Train Epoch: 3 [3840/60000 (6%)]\tLoss: 0.330222\n",
      "Train Epoch: 3 [5120/60000 (9%)]\tLoss: 0.464698\n",
      "Train Epoch: 3 [6400/60000 (11%)]\tLoss: 0.370584\n",
      "Train Epoch: 3 [7680/60000 (13%)]\tLoss: 0.412744\n",
      "Train Epoch: 3 [8960/60000 (15%)]\tLoss: 0.520493\n",
      "Train Epoch: 3 [10240/60000 (17%)]\tLoss: 0.351391\n",
      "Train Epoch: 3 [11520/60000 (19%)]\tLoss: 0.491733\n",
      "Train Epoch: 3 [12800/60000 (21%)]\tLoss: 0.436523\n",
      "Train Epoch: 3 [14080/60000 (23%)]\tLoss: 0.396514\n",
      "Train Epoch: 3 [15360/60000 (26%)]\tLoss: 0.449506\n",
      "Train Epoch: 3 [16640/60000 (28%)]\tLoss: 0.461745\n",
      "Train Epoch: 3 [17920/60000 (30%)]\tLoss: 0.448940\n",
      "Train Epoch: 3 [19200/60000 (32%)]\tLoss: 0.330906\n",
      "Train Epoch: 3 [20480/60000 (34%)]\tLoss: 0.435931\n",
      "Train Epoch: 3 [21760/60000 (36%)]\tLoss: 0.344393\n",
      "Train Epoch: 3 [23040/60000 (38%)]\tLoss: 0.514078\n",
      "Train Epoch: 3 [24320/60000 (41%)]\tLoss: 0.682895\n",
      "Train Epoch: 3 [25600/60000 (43%)]\tLoss: 0.315572\n",
      "Train Epoch: 3 [26880/60000 (45%)]\tLoss: 0.292644\n",
      "Train Epoch: 3 [28160/60000 (47%)]\tLoss: 0.325205\n",
      "Train Epoch: 3 [29440/60000 (49%)]\tLoss: 0.471931\n",
      "Train Epoch: 3 [30720/60000 (51%)]\tLoss: 0.477626\n",
      "Train Epoch: 3 [32000/60000 (53%)]\tLoss: 0.377498\n",
      "Train Epoch: 3 [33280/60000 (55%)]\tLoss: 0.376488\n",
      "Train Epoch: 3 [34560/60000 (58%)]\tLoss: 0.303786\n",
      "Train Epoch: 3 [35840/60000 (60%)]\tLoss: 0.308930\n",
      "Train Epoch: 3 [37120/60000 (62%)]\tLoss: 0.432522\n",
      "Train Epoch: 3 [38400/60000 (64%)]\tLoss: 0.417938\n",
      "Train Epoch: 3 [39680/60000 (66%)]\tLoss: 0.527693\n",
      "Train Epoch: 3 [40960/60000 (68%)]\tLoss: 0.353404\n",
      "Train Epoch: 3 [42240/60000 (70%)]\tLoss: 0.391416\n",
      "Train Epoch: 3 [43520/60000 (72%)]\tLoss: 0.369417\n",
      "Train Epoch: 3 [44800/60000 (75%)]\tLoss: 0.472521\n",
      "Train Epoch: 3 [46080/60000 (77%)]\tLoss: 0.372952\n",
      "Train Epoch: 3 [47360/60000 (79%)]\tLoss: 0.432875\n",
      "Train Epoch: 3 [48640/60000 (81%)]\tLoss: 0.354762\n",
      "Train Epoch: 3 [49920/60000 (83%)]\tLoss: 0.301607\n",
      "Train Epoch: 3 [51200/60000 (85%)]\tLoss: 0.311123\n",
      "Train Epoch: 3 [52480/60000 (87%)]\tLoss: 0.243291\n",
      "Train Epoch: 3 [53760/60000 (90%)]\tLoss: 0.311829\n",
      "Train Epoch: 3 [55040/60000 (92%)]\tLoss: 0.286389\n",
      "Train Epoch: 3 [56320/60000 (94%)]\tLoss: 0.333771\n",
      "Train Epoch: 3 [57600/60000 (96%)]\tLoss: 0.233497\n",
      "Train Epoch: 3 [58880/60000 (98%)]\tLoss: 0.557075\n",
      "\n",
      "Test set: Avg. loss: 0.1405, Accuracy: 9576/10000 (96%)\n",
      "\n",
      "Train Epoch: 4 [0/60000 (0%)]\tLoss: 0.343976\n",
      "Train Epoch: 4 [1280/60000 (2%)]\tLoss: 0.413355\n",
      "Train Epoch: 4 [2560/60000 (4%)]\tLoss: 0.339734\n",
      "Train Epoch: 4 [3840/60000 (6%)]\tLoss: 0.376876\n",
      "Train Epoch: 4 [5120/60000 (9%)]\tLoss: 0.350695\n",
      "Train Epoch: 4 [6400/60000 (11%)]\tLoss: 0.452619\n",
      "Train Epoch: 4 [7680/60000 (13%)]\tLoss: 0.403385\n",
      "Train Epoch: 4 [8960/60000 (15%)]\tLoss: 0.341933\n",
      "Train Epoch: 4 [10240/60000 (17%)]\tLoss: 0.360251\n",
      "Train Epoch: 4 [11520/60000 (19%)]\tLoss: 0.274838\n",
      "Train Epoch: 4 [12800/60000 (21%)]\tLoss: 0.369850\n",
      "Train Epoch: 4 [14080/60000 (23%)]\tLoss: 0.297590\n",
      "Train Epoch: 4 [15360/60000 (26%)]\tLoss: 0.255866\n",
      "Train Epoch: 4 [16640/60000 (28%)]\tLoss: 0.234018\n",
      "Train Epoch: 4 [17920/60000 (30%)]\tLoss: 0.416961\n",
      "Train Epoch: 4 [19200/60000 (32%)]\tLoss: 0.401347\n",
      "Train Epoch: 4 [20480/60000 (34%)]\tLoss: 0.314716\n",
      "Train Epoch: 4 [21760/60000 (36%)]\tLoss: 0.473437\n",
      "Train Epoch: 4 [23040/60000 (38%)]\tLoss: 0.440181\n",
      "Train Epoch: 4 [24320/60000 (41%)]\tLoss: 0.342474\n"
     ]
    },
    {
     "name": "stdout",
     "output_type": "stream",
     "text": [
      "Train Epoch: 4 [25600/60000 (43%)]\tLoss: 0.457073\n",
      "Train Epoch: 4 [26880/60000 (45%)]\tLoss: 0.310122\n",
      "Train Epoch: 4 [28160/60000 (47%)]\tLoss: 0.300980\n",
      "Train Epoch: 4 [29440/60000 (49%)]\tLoss: 0.237695\n",
      "Train Epoch: 4 [30720/60000 (51%)]\tLoss: 0.388767\n",
      "Train Epoch: 4 [32000/60000 (53%)]\tLoss: 0.445845\n",
      "Train Epoch: 4 [33280/60000 (55%)]\tLoss: 0.371798\n",
      "Train Epoch: 4 [34560/60000 (58%)]\tLoss: 0.174642\n",
      "Train Epoch: 4 [35840/60000 (60%)]\tLoss: 0.337979\n",
      "Train Epoch: 4 [37120/60000 (62%)]\tLoss: 0.358524\n",
      "Train Epoch: 4 [38400/60000 (64%)]\tLoss: 0.360277\n",
      "Train Epoch: 4 [39680/60000 (66%)]\tLoss: 0.266667\n",
      "Train Epoch: 4 [40960/60000 (68%)]\tLoss: 0.328405\n",
      "Train Epoch: 4 [42240/60000 (70%)]\tLoss: 0.241522\n",
      "Train Epoch: 4 [43520/60000 (72%)]\tLoss: 0.292266\n",
      "Train Epoch: 4 [44800/60000 (75%)]\tLoss: 0.294562\n",
      "Train Epoch: 4 [46080/60000 (77%)]\tLoss: 0.223136\n",
      "Train Epoch: 4 [47360/60000 (79%)]\tLoss: 0.318862\n",
      "Train Epoch: 4 [48640/60000 (81%)]\tLoss: 0.255661\n",
      "Train Epoch: 4 [49920/60000 (83%)]\tLoss: 0.203619\n",
      "Train Epoch: 4 [51200/60000 (85%)]\tLoss: 0.230013\n",
      "Train Epoch: 4 [52480/60000 (87%)]\tLoss: 0.275809\n",
      "Train Epoch: 4 [53760/60000 (90%)]\tLoss: 0.358176\n",
      "Train Epoch: 4 [55040/60000 (92%)]\tLoss: 0.338890\n",
      "Train Epoch: 4 [56320/60000 (94%)]\tLoss: 0.254257\n",
      "Train Epoch: 4 [57600/60000 (96%)]\tLoss: 0.378453\n",
      "Train Epoch: 4 [58880/60000 (98%)]\tLoss: 0.378475\n",
      "\n",
      "Test set: Avg. loss: 0.1188, Accuracy: 9651/10000 (97%)\n",
      "\n",
      "Train Epoch: 5 [0/60000 (0%)]\tLoss: 0.290874\n",
      "Train Epoch: 5 [1280/60000 (2%)]\tLoss: 0.221503\n",
      "Train Epoch: 5 [2560/60000 (4%)]\tLoss: 0.261776\n",
      "Train Epoch: 5 [3840/60000 (6%)]\tLoss: 0.224089\n",
      "Train Epoch: 5 [5120/60000 (9%)]\tLoss: 0.327784\n",
      "Train Epoch: 5 [6400/60000 (11%)]\tLoss: 0.361493\n",
      "Train Epoch: 5 [7680/60000 (13%)]\tLoss: 0.215923\n",
      "Train Epoch: 5 [8960/60000 (15%)]\tLoss: 0.287370\n",
      "Train Epoch: 5 [10240/60000 (17%)]\tLoss: 0.462274\n",
      "Train Epoch: 5 [11520/60000 (19%)]\tLoss: 0.413215\n",
      "Train Epoch: 5 [12800/60000 (21%)]\tLoss: 0.202565\n",
      "Train Epoch: 5 [14080/60000 (23%)]\tLoss: 0.226289\n",
      "Train Epoch: 5 [15360/60000 (26%)]\tLoss: 0.411990\n",
      "Train Epoch: 5 [16640/60000 (28%)]\tLoss: 0.305224\n",
      "Train Epoch: 5 [17920/60000 (30%)]\tLoss: 0.358870\n",
      "Train Epoch: 5 [19200/60000 (32%)]\tLoss: 0.242504\n",
      "Train Epoch: 5 [20480/60000 (34%)]\tLoss: 0.229725\n",
      "Train Epoch: 5 [21760/60000 (36%)]\tLoss: 0.297545\n",
      "Train Epoch: 5 [23040/60000 (38%)]\tLoss: 0.153418\n",
      "Train Epoch: 5 [24320/60000 (41%)]\tLoss: 0.223992\n",
      "Train Epoch: 5 [25600/60000 (43%)]\tLoss: 0.347342\n",
      "Train Epoch: 5 [26880/60000 (45%)]\tLoss: 0.237553\n",
      "Train Epoch: 5 [28160/60000 (47%)]\tLoss: 0.269213\n",
      "Train Epoch: 5 [29440/60000 (49%)]\tLoss: 0.354472\n",
      "Train Epoch: 5 [30720/60000 (51%)]\tLoss: 0.281406\n",
      "Train Epoch: 5 [32000/60000 (53%)]\tLoss: 0.247956\n",
      "Train Epoch: 5 [33280/60000 (55%)]\tLoss: 0.257497\n",
      "Train Epoch: 5 [34560/60000 (58%)]\tLoss: 0.214861\n",
      "Train Epoch: 5 [35840/60000 (60%)]\tLoss: 0.228377\n",
      "Train Epoch: 5 [37120/60000 (62%)]\tLoss: 0.268733\n",
      "Train Epoch: 5 [38400/60000 (64%)]\tLoss: 0.269722\n",
      "Train Epoch: 5 [39680/60000 (66%)]\tLoss: 0.260071\n",
      "Train Epoch: 5 [40960/60000 (68%)]\tLoss: 0.179022\n",
      "Train Epoch: 5 [42240/60000 (70%)]\tLoss: 0.289144\n",
      "Train Epoch: 5 [43520/60000 (72%)]\tLoss: 0.325841\n",
      "Train Epoch: 5 [44800/60000 (75%)]\tLoss: 0.275971\n",
      "Train Epoch: 5 [46080/60000 (77%)]\tLoss: 0.359244\n",
      "Train Epoch: 5 [47360/60000 (79%)]\tLoss: 0.399102\n",
      "Train Epoch: 5 [48640/60000 (81%)]\tLoss: 0.247620\n",
      "Train Epoch: 5 [49920/60000 (83%)]\tLoss: 0.242775\n",
      "Train Epoch: 5 [51200/60000 (85%)]\tLoss: 0.317627\n",
      "Train Epoch: 5 [52480/60000 (87%)]\tLoss: 0.255089\n",
      "Train Epoch: 5 [53760/60000 (90%)]\tLoss: 0.225064\n",
      "Train Epoch: 5 [55040/60000 (92%)]\tLoss: 0.278555\n",
      "Train Epoch: 5 [56320/60000 (94%)]\tLoss: 0.277969\n",
      "Train Epoch: 5 [57600/60000 (96%)]\tLoss: 0.237062\n",
      "Train Epoch: 5 [58880/60000 (98%)]\tLoss: 0.279783\n",
      "\n",
      "Test set: Avg. loss: 0.1006, Accuracy: 9677/10000 (97%)\n",
      "\n"
     ]
    }
   ],
   "source": [
    "test()\n",
    "for epoch in range(1, n_epochs + 1):\n",
    "    train(epoch)\n",
    "    test()"
   ]
  },
  {
   "cell_type": "code",
   "execution_count": 33,
   "id": "appropriate-conditions",
   "metadata": {},
   "outputs": [
    {
     "ename": "TypeError",
     "evalue": "scatter() missing 1 required positional argument: 'y'",
     "output_type": "error",
     "traceback": [
      "\u001b[1;31m---------------------------------------------------------------------------\u001b[0m",
      "\u001b[1;31mTypeError\u001b[0m                                 Traceback (most recent call last)",
      "\u001b[1;32m<ipython-input-33-61bb92a661c2>\u001b[0m in \u001b[0;36m<module>\u001b[1;34m\u001b[0m\n\u001b[0;32m      1\u001b[0m \u001b[0mfig\u001b[0m \u001b[1;33m=\u001b[0m \u001b[0mplt\u001b[0m\u001b[1;33m.\u001b[0m\u001b[0mfigure\u001b[0m\u001b[1;33m(\u001b[0m\u001b[1;33m)\u001b[0m\u001b[1;33m\u001b[0m\u001b[1;33m\u001b[0m\u001b[0m\n\u001b[0;32m      2\u001b[0m \u001b[0mplt\u001b[0m\u001b[1;33m.\u001b[0m\u001b[0mplot\u001b[0m\u001b[1;33m(\u001b[0m\u001b[0mtrain_losses\u001b[0m\u001b[1;33m,\u001b[0m \u001b[0mcolor\u001b[0m\u001b[1;33m=\u001b[0m\u001b[1;34m'blue'\u001b[0m\u001b[1;33m)\u001b[0m\u001b[1;33m\u001b[0m\u001b[1;33m\u001b[0m\u001b[0m\n\u001b[1;32m----> 3\u001b[1;33m \u001b[0mplt\u001b[0m\u001b[1;33m.\u001b[0m\u001b[0mscatter\u001b[0m\u001b[1;33m(\u001b[0m\u001b[0mtest_losses\u001b[0m\u001b[1;33m,\u001b[0m \u001b[0mcolor\u001b[0m\u001b[1;33m=\u001b[0m\u001b[1;34m'red'\u001b[0m\u001b[1;33m)\u001b[0m\u001b[1;33m\u001b[0m\u001b[1;33m\u001b[0m\u001b[0m\n\u001b[0m\u001b[0;32m      4\u001b[0m \u001b[1;31m# plt.legend(['Train Loss', 'Test Loss'], loc='upper right')\u001b[0m\u001b[1;33m\u001b[0m\u001b[1;33m\u001b[0m\u001b[1;33m\u001b[0m\u001b[0m\n\u001b[0;32m      5\u001b[0m \u001b[0mplt\u001b[0m\u001b[1;33m.\u001b[0m\u001b[0mxlabel\u001b[0m\u001b[1;33m(\u001b[0m\u001b[1;34m'number of training examples seen'\u001b[0m\u001b[1;33m)\u001b[0m\u001b[1;33m\u001b[0m\u001b[1;33m\u001b[0m\u001b[0m\n",
      "\u001b[1;31mTypeError\u001b[0m: scatter() missing 1 required positional argument: 'y'"
     ]
    },
    {
     "data": {
      "image/png": "[encoded data removed]",
      "text/plain": [
       "<Figure size 432x288 with 1 Axes>"
      ]
     },
     "metadata": {},
     "output_type": "display_data"
    }
   ],
   "source": [
    "fig = plt.figure()\n",
    "plt.plot(train_losses, color='blue')\n",
    "plt.scatter(test_losses, color='red')\n",
    "# plt.legend(['Train Loss', 'Test Loss'], loc='upper right')\n",
    "plt.xlabel('number of training examples seen')\n",
    "# plt.ylabel('negative log likelihood loss')\n",
    "fig"
   ]
  },
  {
   "cell_type": "code",
   "execution_count": 12,
   "id": "south-parcel",
   "metadata": {},
   "outputs": [],
   "source": [
    "# import matplotlib.pyplot as plt\n",
    "\n",
    "# fig = plt.figure()\n",
    "# for i in range(1):\n",
    "#   plt.subplot(2,3,i+1)\n",
    "#   plt.tight_layout()\n",
    "#   plt.imshow(example_data[i][0], cmap='gray', interpolation='none')\n",
    "#   plt.title(\"Ground Truth: {}\".format(example_targets[i]))\n",
    "#   plt.xticks([])\n",
    "#   plt.yticks([])\n",
    "# fig"
   ]
  },
  {
   "cell_type": "code",
   "execution_count": 13,
   "id": "boring-olive",
   "metadata": {},
   "outputs": [
    {
     "data": {
      "text/plain": [
       "device(type='cuda')"
      ]
     },
     "execution_count": 13,
     "metadata": {},
     "output_type": "execute_result"
    }
   ],
   "source": [
    "device = torch.device(\"cuda\") if torch.cuda.is_available else torch.device(\"cpu\")\n",
    "device"
   ]
  },
  {
   "cell_type": "code",
   "execution_count": 14,
   "id": "grateful-morgan",
   "metadata": {},
   "outputs": [],
   "source": [
    "def get_dataloaders(batch_size):\n",
    "        \n",
    "    train_loader = torch.utils.data.DataLoader(\n",
    "        torchvision.datasets.MNIST('/files/', train=True, download=True,\n",
    "                                   transform=torchvision.transforms.Compose([\n",
    "                                       torchvision.transforms.ToTensor(),\n",
    "                                       torchvision.transforms.Normalize(\n",
    "                                           (0.1307,), (0.3081,))\n",
    "                                   ])),\n",
    "        batch_size=batch_size_train, shuffle=True)\n",
    "    \n",
    "    test_loader = torch.utils.data.DataLoader(\n",
    "        torchvision.datasets.MNIST('/files/', train=False, download=True,\n",
    "                                   transform=torchvision.transforms.Compose([\n",
    "                                       torchvision.transforms.ToTensor(),\n",
    "                                       torchvision.transforms.Normalize(\n",
    "                                           (0.1307,), (0.3081,))\n",
    "                                   ])),\n",
    "        batch_size=batch_size_test, shuffle=True)\n",
    "    \n",
    "    return train_loader, test_loader\n",
    "    "
   ]
  },
  {
   "cell_type": "code",
   "execution_count": 15,
   "id": "final-region",
   "metadata": {},
   "outputs": [],
   "source": [
    "def fit(epochs, model, loss_func, opt, train_dl, valid_dl):\n",
    "    train_losses = []\n",
    "    val_losses = []\n",
    "    valid_accuracies = []\n",
    "    \n",
    "    #train part\n",
    "    \n",
    "    for epoch in range(epochs):\n",
    "        model.train()\n",
    "        loss_sum = 0\n",
    "        for xb, yb in tqdm(train_dl):\n",
    "            xb, yb = xb.to(device), yb.to(device)\n",
    "            \n",
    "            loss = loss_func(model(xb), yb)\n",
    "            loss_sum += loss.item()\n",
    "            \n",
    "            loss.backward()\n",
    "            opt.step()\n",
    "            opt.zero_grad()\n",
    "        train_losses.append(loss_sum/len(train_dl))\n",
    "        \n",
    "        model.eval()\n",
    "        loss_sum = 0\n",
    "        correct = 0\n",
    "        num = 0\n",
    "        \n",
    "        #test part\n",
    "        \n",
    "        with torch.no_grad():\n",
    "            for xb, yb in tqdm(valid_dl):\n",
    "                xb, yb = xb.to(device), yb.to(device)\n",
    "                \n",
    "                prob = model(xb)\n",
    "                loss_sum += loss_func(probs, yb).item()\n",
    "                \n",
    "                _, preds = torch.max(probs, axis =-1)\n",
    "                correct +=(preds == yb).sum().item()\n",
    "                num += len(xb)\n",
    "                \n",
    "        val_losses.append(loss_sum/len(valid_dl))\n",
    "        valid_accuracies.append(correct/num)\n",
    "        \n",
    "    return train_losses, val_losses, valid_accuracies\n"
   ]
  },
  {
   "cell_type": "code",
   "execution_count": 16,
   "id": "radio-habitat",
   "metadata": {},
   "outputs": [],
   "source": [
    "def plot_training(train_losses, valid_losses, valid_accuracies):\n",
    "    plt.figure(figsize=(12, 9))\n",
    "    plt.subplot(2, 1, 1)\n",
    "    plt.xlabel('epoch')\n",
    "    plt.plot(train_losses, lable='train loss')\n",
    "    plt.plot(valid_losses, lable='valid loss')\n",
    "    plt.legend()\n",
    "    \n",
    "    plt.subplot(2,1,2)\n",
    "    plt.xlale('epoch')\n",
    "    plt.plot(valid_accuracies, lable='valid accuracy')\n",
    "    plt.legend()"
   ]
  },
  {
   "cell_type": "code",
   "execution_count": 17,
   "id": "attached-reaction",
   "metadata": {},
   "outputs": [],
   "source": [
    "class Model(nn.Module):\n",
    "    def __init__(self):\n",
    "        super().__init__()\n",
    "    \n",
    "        self.hidden1 = nn.Linear(28*28, 500)        \n",
    "        self.output = nn.Linear(500, 10)\n",
    "        self.softmax = nn.Softmax(dim=1)\n",
    "        self.activation = nn.ReLU()\n",
    "        \n",
    "    def forward(self, x):\n",
    "        \n",
    "        x = self.hidden1(x)\n",
    "        x = self.activation(x)         \n",
    "        x = self.output(x) \n",
    "        output = self.softmax(x)\n",
    "        return output        \n",
    "               "
   ]
  },
  {
   "cell_type": "code",
   "execution_count": 18,
   "id": "fossil-beauty",
   "metadata": {},
   "outputs": [
    {
     "name": "stderr",
     "output_type": "stream",
     "text": [
      "C:\\Users\\2011-3\\AppData\\Roaming\\Python\\Python39\\site-packages\\torch\\cuda\\__init__.py:81: UserWarning: \n",
      "    Found GPU0 NVIDIA GeForce GTX 650 Ti which is of cuda capability 3.0.\n",
      "    PyTorch no longer supports this GPU because it is too old.\n",
      "    The minimum cuda capability that we support is 3.5.\n",
      "    \n",
      "  warnings.warn(old_gpu_warn % (d, name, major, capability[1]))\n"
     ]
    },
    {
     "data": {
      "application/vnd.jupyter.widget-view+json": {
       "model_id": "696a5f3d9890473c9adbf0e2a72af613",
       "version_major": 2,
       "version_minor": 0
      },
      "text/plain": [
       "  0%|          | 0/938 [00:00<?, ?it/s]"
      ]
     },
     "metadata": {},
     "output_type": "display_data"
    },
    {
     "ename": "RuntimeError",
     "evalue": "mat1 dim 1 must match mat2 dim 0",
     "output_type": "error",
     "traceback": [
      "\u001b[1;31m---------------------------------------------------------------------------\u001b[0m",
      "\u001b[1;31mRuntimeError\u001b[0m                              Traceback (most recent call last)",
      "\u001b[1;32m<ipython-input-18-563006000ec9>\u001b[0m in \u001b[0;36m<module>\u001b[1;34m\u001b[0m\n\u001b[0;32m      2\u001b[0m \u001b[0mcriterion\u001b[0m \u001b[1;33m=\u001b[0m \u001b[0mnn\u001b[0m\u001b[1;33m.\u001b[0m\u001b[0mCrossEntropyLoss\u001b[0m\u001b[1;33m(\u001b[0m\u001b[1;33m)\u001b[0m\u001b[1;33m\u001b[0m\u001b[1;33m\u001b[0m\u001b[0m\n\u001b[0;32m      3\u001b[0m \u001b[0moptimizer\u001b[0m \u001b[1;33m=\u001b[0m \u001b[0moptim\u001b[0m\u001b[1;33m.\u001b[0m\u001b[0mSGD\u001b[0m\u001b[1;33m(\u001b[0m\u001b[0mmodel\u001b[0m\u001b[1;33m.\u001b[0m\u001b[0mparameters\u001b[0m\u001b[1;33m(\u001b[0m\u001b[1;33m)\u001b[0m\u001b[1;33m,\u001b[0m \u001b[0mlr\u001b[0m\u001b[1;33m=\u001b[0m\u001b[1;36m0.001\u001b[0m\u001b[1;33m,\u001b[0m \u001b[0mmomentum\u001b[0m\u001b[1;33m=\u001b[0m\u001b[1;36m0.9\u001b[0m\u001b[1;33m)\u001b[0m\u001b[1;33m\u001b[0m\u001b[1;33m\u001b[0m\u001b[0m\n\u001b[1;32m----> 4\u001b[1;33m \u001b[0minfo\u001b[0m \u001b[1;33m=\u001b[0m \u001b[0mfit\u001b[0m\u001b[1;33m(\u001b[0m\u001b[1;36m10\u001b[0m\u001b[1;33m,\u001b[0m \u001b[0mmodel\u001b[0m\u001b[1;33m,\u001b[0m \u001b[0mcriterion\u001b[0m\u001b[1;33m,\u001b[0m \u001b[0moptimizer\u001b[0m\u001b[1;33m,\u001b[0m \u001b[1;33m*\u001b[0m\u001b[0mget_dataloaders\u001b[0m\u001b[1;33m(\u001b[0m\u001b[1;36m4\u001b[0m\u001b[1;33m)\u001b[0m\u001b[1;33m)\u001b[0m\u001b[1;33m\u001b[0m\u001b[1;33m\u001b[0m\u001b[0m\n\u001b[0m\u001b[0;32m      5\u001b[0m \u001b[0mplot_trainig\u001b[0m\u001b[1;33m(\u001b[0m\u001b[1;33m*\u001b[0m\u001b[0minfo\u001b[0m\u001b[1;33m)\u001b[0m\u001b[1;33m\u001b[0m\u001b[1;33m\u001b[0m\u001b[0m\n",
      "\u001b[1;32m<ipython-input-15-a3f2ee1829a1>\u001b[0m in \u001b[0;36mfit\u001b[1;34m(epochs, model, loss_func, opt, train_dl, valid_dl)\u001b[0m\n\u001b[0;32m     10\u001b[0m             \u001b[0mxb\u001b[0m\u001b[1;33m,\u001b[0m \u001b[0myb\u001b[0m \u001b[1;33m=\u001b[0m \u001b[0mxb\u001b[0m\u001b[1;33m.\u001b[0m\u001b[0mto\u001b[0m\u001b[1;33m(\u001b[0m\u001b[0mdevice\u001b[0m\u001b[1;33m)\u001b[0m\u001b[1;33m,\u001b[0m \u001b[0myb\u001b[0m\u001b[1;33m.\u001b[0m\u001b[0mto\u001b[0m\u001b[1;33m(\u001b[0m\u001b[0mdevice\u001b[0m\u001b[1;33m)\u001b[0m\u001b[1;33m\u001b[0m\u001b[1;33m\u001b[0m\u001b[0m\n\u001b[0;32m     11\u001b[0m \u001b[1;33m\u001b[0m\u001b[0m\n\u001b[1;32m---> 12\u001b[1;33m             \u001b[0mloss\u001b[0m \u001b[1;33m=\u001b[0m \u001b[0mloss_func\u001b[0m\u001b[1;33m(\u001b[0m\u001b[0mmodel\u001b[0m\u001b[1;33m(\u001b[0m\u001b[0mxb\u001b[0m\u001b[1;33m)\u001b[0m\u001b[1;33m,\u001b[0m \u001b[0myb\u001b[0m\u001b[1;33m)\u001b[0m\u001b[1;33m\u001b[0m\u001b[1;33m\u001b[0m\u001b[0m\n\u001b[0m\u001b[0;32m     13\u001b[0m             \u001b[0mloss_sum\u001b[0m \u001b[1;33m+=\u001b[0m \u001b[0mloss\u001b[0m\u001b[1;33m.\u001b[0m\u001b[0mitem\u001b[0m\u001b[1;33m(\u001b[0m\u001b[1;33m)\u001b[0m\u001b[1;33m\u001b[0m\u001b[1;33m\u001b[0m\u001b[0m\n\u001b[0;32m     14\u001b[0m \u001b[1;33m\u001b[0m\u001b[0m\n",
      "\u001b[1;32m~\\AppData\\Roaming\\Python\\Python39\\site-packages\\torch\\nn\\modules\\module.py\u001b[0m in \u001b[0;36m_call_impl\u001b[1;34m(self, *input, **kwargs)\u001b[0m\n\u001b[0;32m    887\u001b[0m             \u001b[0mresult\u001b[0m \u001b[1;33m=\u001b[0m \u001b[0mself\u001b[0m\u001b[1;33m.\u001b[0m\u001b[0m_slow_forward\u001b[0m\u001b[1;33m(\u001b[0m\u001b[1;33m*\u001b[0m\u001b[0minput\u001b[0m\u001b[1;33m,\u001b[0m \u001b[1;33m**\u001b[0m\u001b[0mkwargs\u001b[0m\u001b[1;33m)\u001b[0m\u001b[1;33m\u001b[0m\u001b[1;33m\u001b[0m\u001b[0m\n\u001b[0;32m    888\u001b[0m         \u001b[1;32melse\u001b[0m\u001b[1;33m:\u001b[0m\u001b[1;33m\u001b[0m\u001b[1;33m\u001b[0m\u001b[0m\n\u001b[1;32m--> 889\u001b[1;33m             \u001b[0mresult\u001b[0m \u001b[1;33m=\u001b[0m \u001b[0mself\u001b[0m\u001b[1;33m.\u001b[0m\u001b[0mforward\u001b[0m\u001b[1;33m(\u001b[0m\u001b[1;33m*\u001b[0m\u001b[0minput\u001b[0m\u001b[1;33m,\u001b[0m \u001b[1;33m**\u001b[0m\u001b[0mkwargs\u001b[0m\u001b[1;33m)\u001b[0m\u001b[1;33m\u001b[0m\u001b[1;33m\u001b[0m\u001b[0m\n\u001b[0m\u001b[0;32m    890\u001b[0m         for hook in itertools.chain(\n\u001b[0;32m    891\u001b[0m                 \u001b[0m_global_forward_hooks\u001b[0m\u001b[1;33m.\u001b[0m\u001b[0mvalues\u001b[0m\u001b[1;33m(\u001b[0m\u001b[1;33m)\u001b[0m\u001b[1;33m,\u001b[0m\u001b[1;33m\u001b[0m\u001b[1;33m\u001b[0m\u001b[0m\n",
      "\u001b[1;32m<ipython-input-17-d13851930564>\u001b[0m in \u001b[0;36mforward\u001b[1;34m(self, x)\u001b[0m\n\u001b[0;32m     10\u001b[0m     \u001b[1;32mdef\u001b[0m \u001b[0mforward\u001b[0m\u001b[1;33m(\u001b[0m\u001b[0mself\u001b[0m\u001b[1;33m,\u001b[0m \u001b[0mx\u001b[0m\u001b[1;33m)\u001b[0m\u001b[1;33m:\u001b[0m\u001b[1;33m\u001b[0m\u001b[1;33m\u001b[0m\u001b[0m\n\u001b[0;32m     11\u001b[0m \u001b[1;33m\u001b[0m\u001b[0m\n\u001b[1;32m---> 12\u001b[1;33m         \u001b[0mx\u001b[0m \u001b[1;33m=\u001b[0m \u001b[0mself\u001b[0m\u001b[1;33m.\u001b[0m\u001b[0mhidden1\u001b[0m\u001b[1;33m(\u001b[0m\u001b[0mx\u001b[0m\u001b[1;33m)\u001b[0m\u001b[1;33m\u001b[0m\u001b[1;33m\u001b[0m\u001b[0m\n\u001b[0m\u001b[0;32m     13\u001b[0m         \u001b[0mx\u001b[0m \u001b[1;33m=\u001b[0m \u001b[0mself\u001b[0m\u001b[1;33m.\u001b[0m\u001b[0mactivation\u001b[0m\u001b[1;33m(\u001b[0m\u001b[0mx\u001b[0m\u001b[1;33m)\u001b[0m\u001b[1;33m\u001b[0m\u001b[1;33m\u001b[0m\u001b[0m\n\u001b[0;32m     14\u001b[0m         \u001b[0mx\u001b[0m \u001b[1;33m=\u001b[0m \u001b[0mself\u001b[0m\u001b[1;33m.\u001b[0m\u001b[0moutput\u001b[0m\u001b[1;33m(\u001b[0m\u001b[0mx\u001b[0m\u001b[1;33m)\u001b[0m\u001b[1;33m\u001b[0m\u001b[1;33m\u001b[0m\u001b[0m\n",
      "\u001b[1;32m~\\AppData\\Roaming\\Python\\Python39\\site-packages\\torch\\nn\\modules\\module.py\u001b[0m in \u001b[0;36m_call_impl\u001b[1;34m(self, *input, **kwargs)\u001b[0m\n\u001b[0;32m    887\u001b[0m             \u001b[0mresult\u001b[0m \u001b[1;33m=\u001b[0m \u001b[0mself\u001b[0m\u001b[1;33m.\u001b[0m\u001b[0m_slow_forward\u001b[0m\u001b[1;33m(\u001b[0m\u001b[1;33m*\u001b[0m\u001b[0minput\u001b[0m\u001b[1;33m,\u001b[0m \u001b[1;33m**\u001b[0m\u001b[0mkwargs\u001b[0m\u001b[1;33m)\u001b[0m\u001b[1;33m\u001b[0m\u001b[1;33m\u001b[0m\u001b[0m\n\u001b[0;32m    888\u001b[0m         \u001b[1;32melse\u001b[0m\u001b[1;33m:\u001b[0m\u001b[1;33m\u001b[0m\u001b[1;33m\u001b[0m\u001b[0m\n\u001b[1;32m--> 889\u001b[1;33m             \u001b[0mresult\u001b[0m \u001b[1;33m=\u001b[0m \u001b[0mself\u001b[0m\u001b[1;33m.\u001b[0m\u001b[0mforward\u001b[0m\u001b[1;33m(\u001b[0m\u001b[1;33m*\u001b[0m\u001b[0minput\u001b[0m\u001b[1;33m,\u001b[0m \u001b[1;33m**\u001b[0m\u001b[0mkwargs\u001b[0m\u001b[1;33m)\u001b[0m\u001b[1;33m\u001b[0m\u001b[1;33m\u001b[0m\u001b[0m\n\u001b[0m\u001b[0;32m    890\u001b[0m         for hook in itertools.chain(\n\u001b[0;32m    891\u001b[0m                 \u001b[0m_global_forward_hooks\u001b[0m\u001b[1;33m.\u001b[0m\u001b[0mvalues\u001b[0m\u001b[1;33m(\u001b[0m\u001b[1;33m)\u001b[0m\u001b[1;33m,\u001b[0m\u001b[1;33m\u001b[0m\u001b[1;33m\u001b[0m\u001b[0m\n",
      "\u001b[1;32m~\\AppData\\Roaming\\Python\\Python39\\site-packages\\torch\\nn\\modules\\linear.py\u001b[0m in \u001b[0;36mforward\u001b[1;34m(self, input)\u001b[0m\n\u001b[0;32m     92\u001b[0m \u001b[1;33m\u001b[0m\u001b[0m\n\u001b[0;32m     93\u001b[0m     \u001b[1;32mdef\u001b[0m \u001b[0mforward\u001b[0m\u001b[1;33m(\u001b[0m\u001b[0mself\u001b[0m\u001b[1;33m,\u001b[0m \u001b[0minput\u001b[0m\u001b[1;33m:\u001b[0m \u001b[0mTensor\u001b[0m\u001b[1;33m)\u001b[0m \u001b[1;33m->\u001b[0m \u001b[0mTensor\u001b[0m\u001b[1;33m:\u001b[0m\u001b[1;33m\u001b[0m\u001b[1;33m\u001b[0m\u001b[0m\n\u001b[1;32m---> 94\u001b[1;33m         \u001b[1;32mreturn\u001b[0m \u001b[0mF\u001b[0m\u001b[1;33m.\u001b[0m\u001b[0mlinear\u001b[0m\u001b[1;33m(\u001b[0m\u001b[0minput\u001b[0m\u001b[1;33m,\u001b[0m \u001b[0mself\u001b[0m\u001b[1;33m.\u001b[0m\u001b[0mweight\u001b[0m\u001b[1;33m,\u001b[0m \u001b[0mself\u001b[0m\u001b[1;33m.\u001b[0m\u001b[0mbias\u001b[0m\u001b[1;33m)\u001b[0m\u001b[1;33m\u001b[0m\u001b[1;33m\u001b[0m\u001b[0m\n\u001b[0m\u001b[0;32m     95\u001b[0m \u001b[1;33m\u001b[0m\u001b[0m\n\u001b[0;32m     96\u001b[0m     \u001b[1;32mdef\u001b[0m \u001b[0mextra_repr\u001b[0m\u001b[1;33m(\u001b[0m\u001b[0mself\u001b[0m\u001b[1;33m)\u001b[0m \u001b[1;33m->\u001b[0m \u001b[0mstr\u001b[0m\u001b[1;33m:\u001b[0m\u001b[1;33m\u001b[0m\u001b[1;33m\u001b[0m\u001b[0m\n",
      "\u001b[1;32m~\\AppData\\Roaming\\Python\\Python39\\site-packages\\torch\\nn\\functional.py\u001b[0m in \u001b[0;36mlinear\u001b[1;34m(input, weight, bias)\u001b[0m\n\u001b[0;32m   1751\u001b[0m     \u001b[1;32mif\u001b[0m \u001b[0mhas_torch_function_variadic\u001b[0m\u001b[1;33m(\u001b[0m\u001b[0minput\u001b[0m\u001b[1;33m,\u001b[0m \u001b[0mweight\u001b[0m\u001b[1;33m)\u001b[0m\u001b[1;33m:\u001b[0m\u001b[1;33m\u001b[0m\u001b[1;33m\u001b[0m\u001b[0m\n\u001b[0;32m   1752\u001b[0m         \u001b[1;32mreturn\u001b[0m \u001b[0mhandle_torch_function\u001b[0m\u001b[1;33m(\u001b[0m\u001b[0mlinear\u001b[0m\u001b[1;33m,\u001b[0m \u001b[1;33m(\u001b[0m\u001b[0minput\u001b[0m\u001b[1;33m,\u001b[0m \u001b[0mweight\u001b[0m\u001b[1;33m)\u001b[0m\u001b[1;33m,\u001b[0m \u001b[0minput\u001b[0m\u001b[1;33m,\u001b[0m \u001b[0mweight\u001b[0m\u001b[1;33m,\u001b[0m \u001b[0mbias\u001b[0m\u001b[1;33m=\u001b[0m\u001b[0mbias\u001b[0m\u001b[1;33m)\u001b[0m\u001b[1;33m\u001b[0m\u001b[1;33m\u001b[0m\u001b[0m\n\u001b[1;32m-> 1753\u001b[1;33m     \u001b[1;32mreturn\u001b[0m \u001b[0mtorch\u001b[0m\u001b[1;33m.\u001b[0m\u001b[0m_C\u001b[0m\u001b[1;33m.\u001b[0m\u001b[0m_nn\u001b[0m\u001b[1;33m.\u001b[0m\u001b[0mlinear\u001b[0m\u001b[1;33m(\u001b[0m\u001b[0minput\u001b[0m\u001b[1;33m,\u001b[0m \u001b[0mweight\u001b[0m\u001b[1;33m,\u001b[0m \u001b[0mbias\u001b[0m\u001b[1;33m)\u001b[0m\u001b[1;33m\u001b[0m\u001b[1;33m\u001b[0m\u001b[0m\n\u001b[0m\u001b[0;32m   1754\u001b[0m \u001b[1;33m\u001b[0m\u001b[0m\n\u001b[0;32m   1755\u001b[0m \u001b[1;33m\u001b[0m\u001b[0m\n",
      "\u001b[1;31mRuntimeError\u001b[0m: mat1 dim 1 must match mat2 dim 0"
     ]
    }
   ],
   "source": [
    "model = Model().to(device)\n",
    "criterion = nn.CrossEntropyLoss()\n",
    "optimizer = optim.SGD(model.parameters(), lr=0.001, momentum=0.9)\n",
    "info = fit(10, model, criterion, optimizer, *get_dataloaders(4))\n",
    "plot_trainig(*info)"
   ]
  },
  {
   "cell_type": "code",
   "execution_count": null,
   "id": "adapted-firmware",
   "metadata": {},
   "outputs": [],
   "source": []
  },
  {
   "cell_type": "code",
   "execution_count": null,
   "id": "ruled-incident",
   "metadata": {},
   "outputs": [],
   "source": []
  }
 ],
 "metadata": {
  "kernelspec": {
   "display_name": "Python 3",
   "language": "python",
   "name": "python3"
  },
  "language_info": {
   "codemirror_mode": {
    "name": "ipython",
    "version": 3
   },
   "file_extension": ".py",
   "mimetype": "text/x-python",
   "name": "python",
   "nbconvert_exporter": "python",
   "pygments_lexer": "ipython3",
   "version": "3.9.2"
  }
 },
 "nbformat": 4,
 "nbformat_minor": 5
}
