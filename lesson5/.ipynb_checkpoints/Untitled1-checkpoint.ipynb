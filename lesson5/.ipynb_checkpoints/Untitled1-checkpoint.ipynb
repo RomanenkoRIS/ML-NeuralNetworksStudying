{
 "cells": [
  {
   "cell_type": "code",
   "execution_count": 12,
   "id": "bizarre-mozambique",
   "metadata": {},
   "outputs": [],
   "source": [
    "import torch\n",
    "from torch import nn\n",
    "from torchvision import datasets, transforms\n",
    "from torch import optim"
   ]
  },
  {
   "cell_type": "code",
   "execution_count": 13,
   "id": "mediterranean-wellington",
   "metadata": {},
   "outputs": [],
   "source": [
    "#Next, we will define transforms for the preprocessing of our image data:\n",
    "transform = transforms.Compose([transforms.ToTensor(),transforms.Normalize((0.5,), (0.5,)),])\n"
   ]
  },
  {
   "cell_type": "code",
   "execution_count": 14,
   "id": "healthy-enzyme",
   "metadata": {},
   "outputs": [],
   "source": [
    "#Let's define the batch_size to divide our dataset into chunks to be fed into the model:\n",
    "batch_size = 64"
   ]
  },
  {
   "cell_type": "code",
   "execution_count": 15,
   "id": "terminal-colorado",
   "metadata": {},
   "outputs": [],
   "source": [
    "# Next, we will pull the dataset from torchvision and apply the transform and create batches. \n",
    "# For this, we will first create a training dataset\n",
    "\n",
    "trainset = datasets.FashionMNIST('~/.pytorch/F_MNIST_data/',download=True, train=True, transform=transform)\n",
    "trainloader = torch.utils.data.DataLoader(trainset, batch_size=batch_size, shuffle=True)"
   ]
  },
  {
   "cell_type": "code",
   "execution_count": 57,
   "id": "usual-prompt",
   "metadata": {},
   "outputs": [],
   "source": [
    "# Now, let's create the testset:\n",
    "testset = datasets.FashionMNIST('~/.pytorch/F_MNIST_data/', download=True, train=False, transform=transform)\n",
    "testloader = torch.utils.data.DataLoader(testset, batch_size=batch_size, shuffle=True)"
   ]
  },
  {
   "cell_type": "code",
   "execution_count": 17,
   "id": "hourly-little",
   "metadata": {},
   "outputs": [],
   "source": [
    "#Now our main task is to define the neural network class, which has to be a subclass of nn.Module:\n",
    "class FashionNetwork(nn.Module):\n",
    "    \n",
    "    #we define the init method for the class:\n",
    "    def __init__(self):\n",
    "        super().__init__()\n",
    "        \n",
    "        #We need to define the layers for our model within init. \n",
    "        #The first hidden layer looks like the following:\n",
    "        self.hidden1 = nn.Linear(784, 256)\n",
    "        \n",
    "        #Now we will define the second hidden layer:\n",
    "        self.hidden2 = nn.Linear(256, 128)\n",
    "        \n",
    "        #Then we will define our output layer:\n",
    "        self.output = nn.Linear(128, 10)\n",
    "        \n",
    "        #We will define our softmax activation for our last layer:\n",
    "        self.softmax = nn.Softmax(dim=1)\n",
    "        \n",
    "        #Finally, we will define the activation function in the inner layers:\n",
    "        self.activation = nn.ReLU()\n",
    "    \n",
    "    #Let's start with the forward() method in the class, passing in the input:\n",
    "    def forward(self, x):\n",
    "        \n",
    "        #Now we will move the input to the first hidden layer, with 256 nodes:\n",
    "        x = self.hidden1(x)\n",
    "        \n",
    "        #Next, we pass the outputs from the first hidden layer through the activation\n",
    "        #function, which in our case is ReLU:\n",
    "        x = self.activation(x)\n",
    "        \n",
    "        #We will repeat the same for the second layer, which has 128 nodes, and pass it\n",
    "        #through ReLU\n",
    "        x = self.hidden2(x)\n",
    "        x = self.activation(x)\n",
    "        \n",
    "        #Now we pass the last output layer, with 10 output classes:\n",
    "        x = self.output(x)\n",
    "        \n",
    "        #Then we will push the output using the softmax function\n",
    "        output = self.softmax(x)\n",
    "        \n",
    "        #Finally, we return the output tensor:\n",
    "        return output \n"
   ]
  },
  {
   "cell_type": "code",
   "execution_count": 18,
   "id": "dominant-template",
   "metadata": {},
   "outputs": [
    {
     "name": "stdout",
     "output_type": "stream",
     "text": [
      "FashionNetwork(\n",
      "  (hidden1): Linear(in_features=784, out_features=256, bias=True)\n",
      "  (hidden2): Linear(in_features=256, out_features=128, bias=True)\n",
      "  (output): Linear(in_features=128, out_features=10, bias=True)\n",
      "  (softmax): Softmax(dim=1)\n",
      "  (activation): ReLU()\n",
      ")\n"
     ]
    }
   ],
   "source": [
    "#We will then create the network object:\n",
    "model = FashionNetwork()\n",
    "\n",
    "#Let's have a quick look at our model:\n",
    "print(model)"
   ]
  },
  {
   "cell_type": "code",
   "execution_count": 19,
   "id": "breathing-paper",
   "metadata": {},
   "outputs": [],
   "source": [
    "#We will start by importing the optim module:\n",
    "from torch import optim"
   ]
  },
  {
   "cell_type": "code",
   "execution_count": 20,
   "id": "economic-confirmation",
   "metadata": {},
   "outputs": [],
   "source": [
    "#Next, we will create an optimizer object. We will use the Adam optimizer and pass model parameters:\n",
    "optimizer = optim.Adam(model.parameters())\n"
   ]
  },
  {
   "cell_type": "code",
   "execution_count": 21,
   "id": "trying-performance",
   "metadata": {},
   "outputs": [
    {
     "data": {
      "text/plain": [
       "{'lr': 0.001,\n",
       " 'betas': (0.9, 0.999),\n",
       " 'eps': 1e-08,\n",
       " 'weight_decay': 0,\n",
       " 'amsgrad': False}"
      ]
     },
     "execution_count": 21,
     "metadata": {},
     "output_type": "execute_result"
    }
   ],
   "source": [
    "#To check for the defaults of the optimizer, you can do the following:\n",
    "optimizer.defaults"
   ]
  },
  {
   "cell_type": "code",
   "execution_count": 22,
   "id": "essential-trauma",
   "metadata": {},
   "outputs": [],
   "source": [
    "#You can also add the learning rate as an additional parameter:\n",
    "optimizer = optim.Adam(model.parameters(), lr=3e-3)\n",
    "\n",
    "#Now we will start training our model, starting with the number of epochs:\n",
    "epoch = 10\n",
    "\n",
    "criterion = nn.NLLLoss()"
   ]
  },
  {
   "cell_type": "code",
   "execution_count": 23,
   "id": "centered-stations",
   "metadata": {},
   "outputs": [
    {
     "name": "stdout",
     "output_type": "stream",
     "text": [
      "Training loss: -0.7199\n",
      "Training loss: -0.7410\n",
      "Training loss: -0.7368\n",
      "Training loss: -0.7277\n",
      "Training loss: -0.7356\n",
      "Training loss: -0.7370\n",
      "Training loss: -0.7388\n",
      "Training loss: -0.7402\n",
      "Training loss: -0.7363\n",
      "Training loss: -0.7421\n"
     ]
    }
   ],
   "source": [
    "# We will then start the loop:\n",
    "for _ in range(epoch):\n",
    "    \n",
    "    #We initialize running_loss as 0:\n",
    "    running_loss = 0\n",
    "    \n",
    "    #We will iterate through each image in training the image loader, which we defined\n",
    "    #in an earlier recipe in this chapter: Defining the neural network class:\n",
    "    \n",
    "    for image, label in trainloader:\n",
    "        \n",
    "        #We then reset the gradients to zero\n",
    "        optimizer.zero_grad()\n",
    "        \n",
    "        #Next, we will reshape the image:\n",
    "        image = image.view(image.shape[0],-1)\n",
    "        \n",
    "        #Then we get the prediction from the model:\n",
    "        pred = model(image)\n",
    "        \n",
    "        #Then we calculate the loss/error:\n",
    "        loss = criterion(pred, label)\n",
    "        \n",
    "        #Then we call the .backward() method on the loss:\n",
    "        loss.backward()\n",
    "        \n",
    "        #Then we call the .step() method on the optimizer:\n",
    "        optimizer.step()\n",
    "        \n",
    "        #Then we append to the running loss:\n",
    "        running_loss += loss.item()\n",
    "        \n",
    "        #Finally, we will print the loss after each epoch:\n",
    "    print(f'Training loss: {running_loss/len(trainloader):.4f}')\n",
    "\n"
   ]
  },
  {
   "cell_type": "code",
   "execution_count": 31,
   "id": "consolidated-halloween",
   "metadata": {},
   "outputs": [
    {
     "data": {
      "text/plain": [
       "tensor([0., 1., 0., 0., 0., 0., 0., 0., 0., 0.], grad_fn=<SelectBackward>)"
      ]
     },
     "execution_count": 31,
     "metadata": {},
     "output_type": "execute_result"
    }
   ],
   "source": [
    "pred[3]"
   ]
  },
  {
   "cell_type": "code",
   "execution_count": 32,
   "id": "assisted-framing",
   "metadata": {},
   "outputs": [
    {
     "data": {
      "text/plain": [
       "tensor([0.0000e+00, 0.0000e+00, 0.0000e+00, 0.0000e+00, 2.7162e-35, 0.0000e+00,\n",
       "        0.0000e+00, 0.0000e+00, 1.0000e+00, 0.0000e+00],\n",
       "       grad_fn=<SelectBackward>)"
      ]
     },
     "execution_count": 32,
     "metadata": {},
     "output_type": "execute_result"
    }
   ],
   "source": [
    "pred[2]"
   ]
  },
  {
   "cell_type": "code",
   "execution_count": 36,
   "id": "proof-twist",
   "metadata": {},
   "outputs": [
    {
     "data": {
      "text/plain": [
       "torch.Size([32, 784])"
      ]
     },
     "execution_count": 36,
     "metadata": {},
     "output_type": "execute_result"
    }
   ],
   "source": [
    "image.view(image.shape[0],-1)"
   ]
  },
  {
   "cell_type": "code",
   "execution_count": 37,
   "id": "designed-combination",
   "metadata": {},
   "outputs": [
    {
     "data": {
      "text/plain": [
       "32"
      ]
     },
     "execution_count": 37,
     "metadata": {},
     "output_type": "execute_result"
    }
   ],
   "source": [
    "image.shape[0]"
   ]
  },
  {
   "cell_type": "code",
   "execution_count": 41,
   "id": "nasty-participation",
   "metadata": {},
   "outputs": [
    {
     "data": {
      "text/plain": [
       "938"
      ]
     },
     "execution_count": 41,
     "metadata": {},
     "output_type": "execute_result"
    }
   ],
   "source": [
    "len(trainloader)"
   ]
  },
  {
   "cell_type": "code",
   "execution_count": 43,
   "id": "deadly-assets",
   "metadata": {},
   "outputs": [
    {
     "data": {
      "text/plain": [
       "tensor([8, 3, 5, 5, 3, 7, 9, 5, 3, 3, 7, 5, 8, 8, 4, 4, 3, 5, 9, 4, 5, 3, 3, 1,\n",
       "        3, 7, 9, 0, 0, 8, 2, 5])"
      ]
     },
     "execution_count": 43,
     "metadata": {},
     "output_type": "execute_result"
    }
   ],
   "source": [
    "label"
   ]
  },
  {
   "cell_type": "code",
   "execution_count": 50,
   "id": "sustained-microwave",
   "metadata": {},
   "outputs": [
    {
     "data": {
      "text/plain": [
       "torch.Size([32, 784])"
      ]
     },
     "execution_count": 50,
     "metadata": {},
     "output_type": "execute_result"
    }
   ],
   "source": [
    "image.view(image.shape[0],-1).size()"
   ]
  },
  {
   "cell_type": "code",
   "execution_count": 51,
   "id": "combined-montana",
   "metadata": {},
   "outputs": [
    {
     "data": {
      "text/plain": [
       "torch.Size([32, 1, 28, 28])"
      ]
     },
     "execution_count": 51,
     "metadata": {},
     "output_type": "execute_result"
    }
   ],
   "source": [
    "image.size()"
   ]
  },
  {
   "cell_type": "code",
   "execution_count": 52,
   "id": "robust-russia",
   "metadata": {},
   "outputs": [
    {
     "data": {
      "text/plain": [
       "784"
      ]
     },
     "execution_count": 52,
     "metadata": {},
     "output_type": "execute_result"
    }
   ],
   "source": [
    "28*28"
   ]
  },
  {
   "cell_type": "code",
   "execution_count": null,
   "id": "treated-anger",
   "metadata": {},
   "outputs": [],
   "source": []
  }
 ],
 "metadata": {
  "kernelspec": {
   "display_name": "Python 3",
   "language": "python",
   "name": "python3"
  },
  "language_info": {
   "codemirror_mode": {
    "name": "ipython",
    "version": 3
   },
   "file_extension": ".py",
   "mimetype": "text/x-python",
   "name": "python",
   "nbconvert_exporter": "python",
   "pygments_lexer": "ipython3",
   "version": "3.9.2"
  }
 },
 "nbformat": 4,
 "nbformat_minor": 5
}
