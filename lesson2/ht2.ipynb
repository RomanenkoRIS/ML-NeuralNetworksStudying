{
 "cells": [
  {
   "cell_type": "markdown",
   "id": "public-somewhere",
   "metadata": {},
   "source": [
    "## Home task #2"
   ]
  },
  {
   "cell_type": "code",
   "execution_count": 1,
   "id": "tropical-diagram",
   "metadata": {},
   "outputs": [],
   "source": [
    "import numpy as np\n",
    "import torch"
   ]
  },
  {
   "cell_type": "markdown",
   "id": "parallel-style",
   "metadata": {},
   "source": [
    "Task 1: объяснить разницу между torch.cat и torch.stack.\n",
    "    "
   ]
  },
  {
   "cell_type": "markdown",
   "id": "streaming-ridge",
   "metadata": {},
   "source": [
    "torch.cat - Concatenates the given sequence of :attr:`seq` tensors in the given dimension \n",
    "(Concatenates tensors into a new one with a given dimension)\n",
    "torch.stack  - Concatenates a sequence of tensors along a new dimension \n",
    "(Concatenates tensors of the same dimension into a new tensor)\n"
   ]
  },
  {
   "cell_type": "code",
   "execution_count": 2,
   "id": "formed-republic",
   "metadata": {},
   "outputs": [
    {
     "data": {
      "text/plain": [
       "torch.Size([2, 8])"
      ]
     },
     "execution_count": 2,
     "metadata": {},
     "output_type": "execute_result"
    }
   ],
   "source": [
    "#Example: torch.cat  \n",
    "\n",
    "x = torch.randn(2, 8)\n",
    "x.shape"
   ]
  },
  {
   "cell_type": "code",
   "execution_count": 3,
   "id": "derived-surprise",
   "metadata": {},
   "outputs": [
    {
     "data": {
      "text/plain": [
       "torch.Size([6, 8])"
      ]
     },
     "execution_count": 3,
     "metadata": {},
     "output_type": "execute_result"
    }
   ],
   "source": [
    "torch.cat((x, x, x), 0).shape"
   ]
  },
  {
   "cell_type": "code",
   "execution_count": 4,
   "id": "spanish-aspect",
   "metadata": {},
   "outputs": [
    {
     "data": {
      "text/plain": [
       "torch.Size([2, 24])"
      ]
     },
     "execution_count": 4,
     "metadata": {},
     "output_type": "execute_result"
    }
   ],
   "source": [
    "torch.cat((x, x, x), 1).shape"
   ]
  },
  {
   "cell_type": "code",
   "execution_count": 6,
   "id": "fresh-comparative",
   "metadata": {},
   "outputs": [],
   "source": [
    "a = torch.randn([2, 3, 4])\n",
    "b = torch.randn([2, 1, 4])\n"
   ]
  },
  {
   "cell_type": "code",
   "execution_count": 7,
   "id": "twelve-montgomery",
   "metadata": {},
   "outputs": [
    {
     "data": {
      "text/plain": [
       "torch.Size([2, 3, 4])"
      ]
     },
     "execution_count": 7,
     "metadata": {},
     "output_type": "execute_result"
    }
   ],
   "source": [
    "a.shape"
   ]
  },
  {
   "cell_type": "code",
   "execution_count": 8,
   "id": "descending-member",
   "metadata": {},
   "outputs": [
    {
     "data": {
      "text/plain": [
       "torch.Size([2, 1, 4])"
      ]
     },
     "execution_count": 8,
     "metadata": {},
     "output_type": "execute_result"
    }
   ],
   "source": [
    "b.shape"
   ]
  },
  {
   "cell_type": "code",
   "execution_count": 9,
   "id": "annual-jungle",
   "metadata": {},
   "outputs": [
    {
     "data": {
      "text/plain": [
       "torch.Size([2, 4, 4])"
      ]
     },
     "execution_count": 9,
     "metadata": {},
     "output_type": "execute_result"
    }
   ],
   "source": [
    "torch.cat([a, b], dim=1).shape"
   ]
  },
  {
   "cell_type": "code",
   "execution_count": 10,
   "id": "destroyed-atmosphere",
   "metadata": {},
   "outputs": [],
   "source": [
    "#Example: torch.stack  \n",
    "#If you want to use torch.stack the dimensions of the tensors have to be the same:\n",
    "\n",
    "a = torch.randn([2, 3, 4])\n",
    "b = torch.randn([2, 3, 4])\n"
   ]
  },
  {
   "cell_type": "code",
   "execution_count": 11,
   "id": "varying-sally",
   "metadata": {},
   "outputs": [
    {
     "data": {
      "text/plain": [
       "torch.Size([2, 3, 4])"
      ]
     },
     "execution_count": 11,
     "metadata": {},
     "output_type": "execute_result"
    }
   ],
   "source": [
    "a.shape"
   ]
  },
  {
   "cell_type": "code",
   "execution_count": 12,
   "id": "tropical-gateway",
   "metadata": {},
   "outputs": [
    {
     "data": {
      "text/plain": [
       "torch.Size([2, 3, 4])"
      ]
     },
     "execution_count": 12,
     "metadata": {},
     "output_type": "execute_result"
    }
   ],
   "source": [
    "b.shape"
   ]
  },
  {
   "cell_type": "code",
   "execution_count": 13,
   "id": "searching-sugar",
   "metadata": {},
   "outputs": [
    {
     "data": {
      "text/plain": [
       "torch.Size([2, 2, 3, 4])"
      ]
     },
     "execution_count": 13,
     "metadata": {},
     "output_type": "execute_result"
    }
   ],
   "source": [
    "torch.stack([a, b],dim=0).shape"
   ]
  },
  {
   "cell_type": "markdown",
   "id": "adjacent-glucose",
   "metadata": {},
   "source": [
    "Task 2: решить Систему Линейных Алгебраисческих Уравнений с помощью numpy и с помощью torch.\n"
   ]
  },
  {
   "cell_type": "markdown",
   "id": "opened-things",
   "metadata": {},
   "source": [
    "$$ 2x_1 + x_2 -3x_3 = 4   $$\n",
    "$$ x_1 + 2x_2 +x_3 = 5   $$\n",
    "$$ 3x_1 - 2x_2 +2x_3 = -1   $$"
   ]
  },
  {
   "cell_type": "code",
   "execution_count": 14,
   "id": "animal-queensland",
   "metadata": {},
   "outputs": [
    {
     "data": {
      "text/plain": [
       "array([ 1.00000000e+00,  2.00000000e+00, -1.92038577e-16])"
      ]
     },
     "execution_count": 14,
     "metadata": {},
     "output_type": "execute_result"
    }
   ],
   "source": [
    "# Numpy\n",
    "\n",
    "M1 = np.array([[2., 1., -3],[1., 2., 1.], [3., -2., 2.]]) # матрица для леовй части ситемы\n",
    "v1 = np.array([4., 5., -1.]) # правая часть системы\n",
    "Xn = np.linalg.solve(M1, v1)\n",
    "Xn\n"
   ]
  },
  {
   "cell_type": "code",
   "execution_count": 19,
   "id": "intended-bradley",
   "metadata": {},
   "outputs": [
    {
     "data": {
      "text/plain": [
       "array([ 1.00000000e+00,  2.00000000e+00, -1.66533454e-16])"
      ]
     },
     "execution_count": 19,
     "metadata": {},
     "output_type": "execute_result"
    }
   ],
   "source": [
    "# Предлагаю реализовать еще вручную через стандартные операции\n",
    "# решение\n",
    "np.matmul(np.linalg.inv(M1), v1)"
   ]
  },
  {
   "cell_type": "code",
   "execution_count": 15,
   "id": "broadband-brunswick",
   "metadata": {},
   "outputs": [
    {
     "data": {
      "text/plain": [
       "[4.0, 5.0, -1.0]"
      ]
     },
     "execution_count": 15,
     "metadata": {},
     "output_type": "execute_result"
    }
   ],
   "source": [
    "#  Проверка решение\n",
    "\n",
    "[round(2*Xn[0] + Xn[1] - 3*Xn[2],0),\n",
    " round(Xn[0] + 2*Xn[1] + Xn[2],0),\n",
    " round(3*Xn[0] - 2*Xn[1] + 2*Xn[2],0)]\n"
   ]
  },
  {
   "cell_type": "code",
   "execution_count": 20,
   "id": "efficient-omaha",
   "metadata": {},
   "outputs": [
    {
     "data": {
      "text/plain": [
       "[0.9999999403953552, 2.0, 1.3317074376573146e-07]"
      ]
     },
     "execution_count": 20,
     "metadata": {},
     "output_type": "execute_result"
    }
   ],
   "source": [
    "#PyTorch\n",
    "\n",
    "M2 = torch.tensor([[2., 1., -3],[1., 2., 1.], [3., -2., 2.]]) # матрица для леовй части ситемы\n",
    "v2 = torch.tensor([4., 5., -1.]) # правая часть системы\n",
    "Xt = torch.linalg.solve(M2, v2).tolist()\n",
    "Xt \n"
   ]
  },
  {
   "cell_type": "code",
   "execution_count": 22,
   "id": "transsexual-giving",
   "metadata": {},
   "outputs": [
    {
     "data": {
      "text/plain": [
       "tensor([1.0000e+00, 2.0000e+00, 8.9407e-08])"
      ]
     },
     "execution_count": 22,
     "metadata": {},
     "output_type": "execute_result"
    }
   ],
   "source": [
    "# Предлагаю реализовать еще вручную через стандартные операции\n",
    "# решение\n",
    "torch.matmul(torch.linalg.inv(M2), v2)"
   ]
  },
  {
   "cell_type": "code",
   "execution_count": 250,
   "id": "entertaining-export",
   "metadata": {},
   "outputs": [
    {
     "data": {
      "text/plain": [
       "[4.0, 5.0, -1.0]"
      ]
     },
     "execution_count": 250,
     "metadata": {},
     "output_type": "execute_result"
    }
   ],
   "source": [
    "#  Проверка решение\n",
    "\n",
    "[round(2*Xt[0] + Xt[1] - 3*Xt[2],0),\n",
    " round(Xt[0] + 2*Xt[1] + Xt[2],0),\n",
    " round(3*Xt[0] - 2*Xt[1] + 2*Xt[2],0)]\n"
   ]
  },
  {
   "cell_type": "code",
   "execution_count": null,
   "id": "revolutionary-trainer",
   "metadata": {},
   "outputs": [],
   "source": []
  }
 ],
 "metadata": {
  "kernelspec": {
   "display_name": "Python 3",
   "language": "python",
   "name": "python3"
  },
  "language_info": {
   "codemirror_mode": {
    "name": "ipython",
    "version": 3
   },
   "file_extension": ".py",
   "mimetype": "text/x-python",
   "name": "python",
   "nbconvert_exporter": "python",
   "pygments_lexer": "ipython3",
   "version": "3.9.2"
  }
 },
 "nbformat": 4,
 "nbformat_minor": 5
}
