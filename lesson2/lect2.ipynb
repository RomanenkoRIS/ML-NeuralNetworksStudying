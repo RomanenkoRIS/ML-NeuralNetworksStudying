{
 "cells": [
  {
   "cell_type": "markdown",
   "id": "literary-verification",
   "metadata": {},
   "source": [
    "## Тема лекции: Введение в numpy и pytorch."
   ]
  },
  {
   "cell_type": "markdown",
   "id": "circular-smooth",
   "metadata": {},
   "source": [
    "В ходе лекции рассмотрим следующие темы:\n",
    "* Что такое numpy\n",
    "* Основные операции numpy\n",
    "* Сравнение numpy операции с python\n",
    "* В чем преимущество pytorch над numpy\n",
    "* Основные операции в pytorch\n",
    "* Что такое граф вычислений в pytorch и зачем он нужен"
   ]
  },
  {
   "cell_type": "markdown",
   "id": "aboriginal-constant",
   "metadata": {},
   "source": [
    "## Что такое numpy\n",
    "\n",
    "![types](./pictures/numpy.png)\n",
    "\n",
    "NumPy - это библиотека Python, используемая для работы с массивами.\n",
    "\n",
    "Он также имеет функции для работы с\n",
    "* линейной алгебры\n",
    "* преобразования Фурье\n",
    "* матрицами\n",
    "\n",
    "NumPy был создан в 2005 году Трэвисом Олифантом. Это проект с открытым исходным кодом, и вы можете свободно им пользоваться.\n",
    "\n"
   ]
  },
  {
   "cell_type": "markdown",
   "id": "lovely-smooth",
   "metadata": {},
   "source": [
    "## Зачем мы используем NumPy?\n",
    "\n",
    "В Python у нас есть list, которые служат для создания массивов, но они медленно обрабатываются.\n",
    "\n",
    "NumPy стремится предоставить объект массива, который до 50 раз быстрее, чем традиционные списки Python.\n",
    "\n",
    "Объект массива в NumPy называется ndarray, он предоставляет множество вспомогательных функций, которые упрощают работу с ndarray.\n",
    "\n",
    "Массивы очень часто используются в науке о данных, где очень важны скорость и ресурсы."
   ]
  },
  {
   "cell_type": "markdown",
   "id": "afraid-command",
   "metadata": {},
   "source": [
    "## Почему NumPy быстрее lists?\n",
    "\n",
    "Массивы NumPy хранятся в одном непрерывном месте в памяти, в отличие от списков, поэтому обращением к ним происходит наиболее эффективно.\n",
    "\n",
    "Это основная причина, по которой NumPy быстрее списков. Также он оптимизирован для работы с новейшими архитектурами CPU благодаря SIMD инструкциям.\n",
    "\n",
    "NumPy - это библиотека Python, которая частично написана на Python, но большинство частей, требующих быстрых вычислений, написаны на C или C ++.\n",
    "\n",
    "![types](./pictures/simd.png)"
   ]
  },
  {
   "cell_type": "markdown",
   "id": "athletic-springer",
   "metadata": {},
   "source": [
    "## Установка и импорт"
   ]
  },
  {
   "cell_type": "code",
   "execution_count": 1,
   "id": "southeast-billy",
   "metadata": {},
   "outputs": [
    {
     "name": "stdout",
     "output_type": "stream",
     "text": [
      "Requirement already satisfied: numpy in /usr/local/lib/python3.9/site-packages (1.20.1)\r\n"
     ]
    }
   ],
   "source": [
    "!pip install numpy"
   ]
  },
  {
   "cell_type": "code",
   "execution_count": 2,
   "id": "corresponding-headset",
   "metadata": {},
   "outputs": [],
   "source": [
    "import numpy as np"
   ]
  },
  {
   "cell_type": "markdown",
   "id": "naval-period",
   "metadata": {},
   "source": [
    "## Создание numpy массивов"
   ]
  },
  {
   "cell_type": "code",
   "execution_count": 6,
   "id": "floating-voluntary",
   "metadata": {},
   "outputs": [],
   "source": [
    "x = np.array([[1, 2, 3], [4, 5, 6]])"
   ]
  },
  {
   "cell_type": "code",
   "execution_count": 7,
   "id": "grave-gambling",
   "metadata": {},
   "outputs": [
    {
     "data": {
      "text/plain": [
       "array([[1, 2, 3],\n",
       "       [4, 5, 6]])"
      ]
     },
     "execution_count": 7,
     "metadata": {},
     "output_type": "execute_result"
    }
   ],
   "source": [
    "x"
   ]
  },
  {
   "cell_type": "code",
   "execution_count": 8,
   "id": "labeled-consultancy",
   "metadata": {},
   "outputs": [
    {
     "data": {
      "text/plain": [
       "(2, 3)"
      ]
     },
     "execution_count": 8,
     "metadata": {},
     "output_type": "execute_result"
    }
   ],
   "source": [
    "x.shape"
   ]
  },
  {
   "cell_type": "code",
   "execution_count": 12,
   "id": "meaning-target",
   "metadata": {},
   "outputs": [],
   "source": [
    "x = np.array([[[1, 2, 3], [4, 5, 6]], [[1, 2, 3], [4, 5, 6]]], dtype=np.float32)"
   ]
  },
  {
   "cell_type": "code",
   "execution_count": 10,
   "id": "mental-bernard",
   "metadata": {},
   "outputs": [
    {
     "data": {
      "text/plain": [
       "array([[[1., 2., 3.],\n",
       "        [4., 5., 6.]],\n",
       "\n",
       "       [[1., 2., 3.],\n",
       "        [4., 5., 6.]]], dtype=float32)"
      ]
     },
     "execution_count": 10,
     "metadata": {},
     "output_type": "execute_result"
    }
   ],
   "source": [
    "x"
   ]
  },
  {
   "cell_type": "code",
   "execution_count": 13,
   "id": "dirty-portable",
   "metadata": {},
   "outputs": [
    {
     "data": {
      "text/plain": [
       "(2, 2, 3)"
      ]
     },
     "execution_count": 13,
     "metadata": {},
     "output_type": "execute_result"
    }
   ],
   "source": [
    "x.shape"
   ]
  },
  {
   "cell_type": "code",
   "execution_count": 18,
   "id": "incredible-dragon",
   "metadata": {},
   "outputs": [
    {
     "data": {
      "text/plain": [
       "array([ 0.,  1.,  2.,  3.,  4.,  5.,  6.,  7.,  8.,  9., 10., 11., 12.,\n",
       "       13., 14., 15., 16., 17., 18., 19., 20., 21., 22., 23., 24., 25.,\n",
       "       26., 27., 28., 29., 30., 31., 32., 33., 34., 35., 36., 37., 38.,\n",
       "       39., 40., 41., 42., 43., 44., 45., 46., 47., 48., 49., 50., 51.,\n",
       "       52., 53., 54., 55., 56., 57., 58., 59., 60., 61., 62., 63., 64.,\n",
       "       65., 66., 67., 68., 69., 70., 71., 72., 73., 74., 75., 76., 77.,\n",
       "       78., 79., 80., 81., 82., 83., 84., 85., 86., 87., 88., 89., 90.,\n",
       "       91., 92., 93., 94., 95., 96., 97., 98., 99.], dtype=float32)"
      ]
     },
     "execution_count": 18,
     "metadata": {},
     "output_type": "execute_result"
    }
   ],
   "source": [
    "np.arange(100).astype(np.float32)"
   ]
  },
  {
   "cell_type": "code",
   "execution_count": 19,
   "id": "labeled-norwegian",
   "metadata": {},
   "outputs": [
    {
     "data": {
      "text/plain": [
       "array([0., 0., 0., 0., 0., 0., 0., 0., 0., 0.])"
      ]
     },
     "execution_count": 19,
     "metadata": {},
     "output_type": "execute_result"
    }
   ],
   "source": [
    "np.zeros(10)"
   ]
  },
  {
   "cell_type": "code",
   "execution_count": 23,
   "id": "civic-cowboy",
   "metadata": {},
   "outputs": [
    {
     "data": {
      "text/plain": [
       "array([[1., 1., 1.],\n",
       "       [1., 1., 1.],\n",
       "       [1., 1., 1.],\n",
       "       [1., 1., 1.],\n",
       "       [1., 1., 1.],\n",
       "       [1., 1., 1.],\n",
       "       [1., 1., 1.],\n",
       "       [1., 1., 1.],\n",
       "       [1., 1., 1.],\n",
       "       [1., 1., 1.]])"
      ]
     },
     "execution_count": 23,
     "metadata": {},
     "output_type": "execute_result"
    }
   ],
   "source": [
    "np.ones(shape=(10, 3))"
   ]
  },
  {
   "cell_type": "code",
   "execution_count": 24,
   "id": "distant-knock",
   "metadata": {},
   "outputs": [],
   "source": [
    "x = np.arange(100).reshape(10, 10)"
   ]
  },
  {
   "cell_type": "code",
   "execution_count": 25,
   "id": "printable-dressing",
   "metadata": {},
   "outputs": [
    {
     "data": {
      "text/plain": [
       "array([[ 0,  1,  2,  3,  4,  5,  6,  7,  8,  9],\n",
       "       [10, 11, 12, 13, 14, 15, 16, 17, 18, 19],\n",
       "       [20, 21, 22, 23, 24, 25, 26, 27, 28, 29],\n",
       "       [30, 31, 32, 33, 34, 35, 36, 37, 38, 39],\n",
       "       [40, 41, 42, 43, 44, 45, 46, 47, 48, 49],\n",
       "       [50, 51, 52, 53, 54, 55, 56, 57, 58, 59],\n",
       "       [60, 61, 62, 63, 64, 65, 66, 67, 68, 69],\n",
       "       [70, 71, 72, 73, 74, 75, 76, 77, 78, 79],\n",
       "       [80, 81, 82, 83, 84, 85, 86, 87, 88, 89],\n",
       "       [90, 91, 92, 93, 94, 95, 96, 97, 98, 99]])"
      ]
     },
     "execution_count": 25,
     "metadata": {},
     "output_type": "execute_result"
    }
   ],
   "source": [
    "x"
   ]
  },
  {
   "cell_type": "code",
   "execution_count": 51,
   "id": "abandoned-buffer",
   "metadata": {},
   "outputs": [
    {
     "data": {
      "text/plain": [
       "(10, 10)"
      ]
     },
     "execution_count": 51,
     "metadata": {},
     "output_type": "execute_result"
    }
   ],
   "source": [
    "x.shape"
   ]
  },
  {
   "cell_type": "markdown",
   "id": "familiar-delaware",
   "metadata": {},
   "source": [
    "## Базовые операции"
   ]
  },
  {
   "cell_type": "code",
   "execution_count": 26,
   "id": "unlikely-vocabulary",
   "metadata": {},
   "outputs": [],
   "source": [
    "a = np.array( [20,30,40,50] )"
   ]
  },
  {
   "cell_type": "code",
   "execution_count": 27,
   "id": "corresponding-honolulu",
   "metadata": {},
   "outputs": [
    {
     "data": {
      "text/plain": [
       "array([ 40,  60,  80, 100])"
      ]
     },
     "execution_count": 27,
     "metadata": {},
     "output_type": "execute_result"
    }
   ],
   "source": [
    "a+a"
   ]
  },
  {
   "cell_type": "code",
   "execution_count": 28,
   "id": "exposed-insurance",
   "metadata": {},
   "outputs": [
    {
     "data": {
      "text/plain": [
       "array([ 400,  900, 1600, 2500])"
      ]
     },
     "execution_count": 28,
     "metadata": {},
     "output_type": "execute_result"
    }
   ],
   "source": [
    "a**2"
   ]
  },
  {
   "cell_type": "code",
   "execution_count": 77,
   "id": "fifteen-flashing",
   "metadata": {},
   "outputs": [
    {
     "data": {
      "text/plain": [
       "array([ 9.12945251, -9.88031624,  7.4511316 , -2.62374854])"
      ]
     },
     "execution_count": 77,
     "metadata": {},
     "output_type": "execute_result"
    }
   ],
   "source": [
    "10*np.sin(a)"
   ]
  },
  {
   "cell_type": "code",
   "execution_count": 32,
   "id": "bright-genesis",
   "metadata": {},
   "outputs": [
    {
     "data": {
      "text/plain": [
       "array([ True,  True,  True,  True])"
      ]
     },
     "execution_count": 32,
     "metadata": {},
     "output_type": "execute_result"
    }
   ],
   "source": [
    "a==a"
   ]
  },
  {
   "cell_type": "code",
   "execution_count": 33,
   "id": "refined-grave",
   "metadata": {},
   "outputs": [],
   "source": [
    "A = np.array( [[1,1],\n",
    "                [0,1]] )\n",
    "B = np.array( [[2,0],\n",
    "                [3,4]] )"
   ]
  },
  {
   "cell_type": "code",
   "execution_count": 34,
   "id": "cultural-rebecca",
   "metadata": {},
   "outputs": [
    {
     "data": {
      "text/plain": [
       "array([[2, 0],\n",
       "       [0, 4]])"
      ]
     },
     "execution_count": 34,
     "metadata": {},
     "output_type": "execute_result"
    }
   ],
   "source": [
    "A * B                       # elementwise product"
   ]
  },
  {
   "cell_type": "code",
   "execution_count": 35,
   "id": "latest-laptop",
   "metadata": {},
   "outputs": [
    {
     "data": {
      "text/plain": [
       "array([[5, 4],\n",
       "       [3, 4]])"
      ]
     },
     "execution_count": 35,
     "metadata": {},
     "output_type": "execute_result"
    }
   ],
   "source": [
    "A.dot(B)                    # matrix product"
   ]
  },
  {
   "cell_type": "code",
   "execution_count": 85,
   "id": "burning-walter",
   "metadata": {},
   "outputs": [
    {
     "data": {
      "text/plain": [
       "array([0.        , 0.34906585, 0.6981317 , 1.04719755, 1.3962634 ,\n",
       "       1.74532925, 2.0943951 , 2.44346095, 2.7925268 , 3.14159265])"
      ]
     },
     "execution_count": 85,
     "metadata": {},
     "output_type": "execute_result"
    }
   ],
   "source": [
    "np.linspace(0,np.pi,10)"
   ]
  },
  {
   "cell_type": "code",
   "execution_count": 36,
   "id": "detailed-cookie",
   "metadata": {},
   "outputs": [
    {
     "name": "stdout",
     "output_type": "stream",
     "text": [
      "[[27 14 20 26]\n",
      " [19 22  1  2]\n",
      " [25 30 22 27]\n",
      " [20 26 16 30]\n",
      " [ 2 21 26 17]\n",
      " [10 26 20 30]\n",
      " [28 15  7 23]\n",
      " [31 31 27 23]\n",
      " [22  3  5 26]\n",
      " [ 9 26 16 31]\n",
      " [ 8 25 24  0]\n",
      " [ 1 29  4 12]\n",
      " [ 2 17 24  7]\n",
      " [22 31 27 24]\n",
      " [19 16  6 29]\n",
      " [ 9 20  4 31]\n",
      " [ 1 19 15 19]\n",
      " [27 26  8  8]\n",
      " [ 8  2 18  8]\n",
      " [11 31 30 20]\n",
      " [ 9 23  8 23]\n",
      " [ 5 23 14 11]\n",
      " [28 27 16  8]\n",
      " [ 3 20 15  3]\n",
      " [21 24 17 28]]\n"
     ]
    }
   ],
   "source": [
    "x = np.random.randint(0, 32, size=100).reshape(25, 4)\n",
    "print(x)"
   ]
  },
  {
   "cell_type": "code",
   "execution_count": 37,
   "id": "fitting-lender",
   "metadata": {},
   "outputs": [
    {
     "name": "stdout",
     "output_type": "stream",
     "text": [
      "1770\n",
      "0\n",
      "31\n"
     ]
    }
   ],
   "source": [
    "print(x.sum())\n",
    "print(x.min())\n",
    "print(x.max())"
   ]
  },
  {
   "cell_type": "code",
   "execution_count": 38,
   "id": "quantitative-exercise",
   "metadata": {},
   "outputs": [
    {
     "data": {
      "text/plain": [
       "array([367, 547, 390, 466])"
      ]
     },
     "execution_count": 38,
     "metadata": {},
     "output_type": "execute_result"
    }
   ],
   "source": [
    "x.sum(axis=0)"
   ]
  },
  {
   "cell_type": "code",
   "execution_count": 39,
   "id": "inside-kernel",
   "metadata": {},
   "outputs": [
    {
     "data": {
      "text/plain": [
       "array([ 87,  44, 104,  92,  66,  86,  73, 112,  56,  82,  57,  46,  50,\n",
       "       104,  70,  64,  54,  69,  36,  92,  63,  53,  79,  41,  90])"
      ]
     },
     "execution_count": 39,
     "metadata": {},
     "output_type": "execute_result"
    }
   ],
   "source": [
    "x.sum(axis=1)"
   ]
  },
  {
   "cell_type": "code",
   "execution_count": 40,
   "id": "crazy-small",
   "metadata": {},
   "outputs": [
    {
     "data": {
      "text/plain": [
       "array([14,  1, 22, 16,  2, 10,  7, 23,  3,  9,  0,  1,  2, 22,  6,  4,  1,\n",
       "        8,  2, 11,  8,  5,  8,  3, 17])"
      ]
     },
     "execution_count": 40,
     "metadata": {},
     "output_type": "execute_result"
    }
   ],
   "source": [
    "x.min(axis=1)"
   ]
  },
  {
   "cell_type": "code",
   "execution_count": 41,
   "id": "catholic-while",
   "metadata": {},
   "outputs": [
    {
     "data": {
      "text/plain": [
       "array([31, 31, 30, 31])"
      ]
     },
     "execution_count": 41,
     "metadata": {},
     "output_type": "execute_result"
    }
   ],
   "source": [
    "x.max(axis=0)"
   ]
  },
  {
   "cell_type": "code",
   "execution_count": 42,
   "id": "contemporary-bridges",
   "metadata": {},
   "outputs": [],
   "source": [
    "x = np.arange(3)"
   ]
  },
  {
   "cell_type": "code",
   "execution_count": 43,
   "id": "intellectual-representation",
   "metadata": {},
   "outputs": [
    {
     "name": "stdout",
     "output_type": "stream",
     "text": [
      "[1.         2.71828183 7.3890561 ]\n",
      "[0.         1.         1.41421356]\n",
      "[0 2 4]\n"
     ]
    }
   ],
   "source": [
    "print(np.exp(x))\n",
    "print(np.sqrt(x))\n",
    "print(x+x)"
   ]
  },
  {
   "cell_type": "markdown",
   "id": "brief-praise",
   "metadata": {},
   "source": [
    "## Индексация"
   ]
  },
  {
   "cell_type": "code",
   "execution_count": 54,
   "id": "intelligent-actor",
   "metadata": {},
   "outputs": [
    {
     "data": {
      "text/plain": [
       "array([  0,   1,   8,  27,  64, 125, 216, 343, 512, 729])"
      ]
     },
     "execution_count": 54,
     "metadata": {},
     "output_type": "execute_result"
    }
   ],
   "source": [
    "a = np.arange(10)**3\n",
    "a"
   ]
  },
  {
   "cell_type": "code",
   "execution_count": 64,
   "id": "southwest-hardwood",
   "metadata": {},
   "outputs": [],
   "source": [
    "a = np.random.randint(0, 100, size=(10000))"
   ]
  },
  {
   "cell_type": "code",
   "execution_count": 53,
   "id": "cathedral-prefix",
   "metadata": {},
   "outputs": [
    {
     "data": {
      "text/plain": [
       "51"
      ]
     },
     "execution_count": 53,
     "metadata": {},
     "output_type": "execute_result"
    }
   ],
   "source": [
    "a[0,0,0]"
   ]
  },
  {
   "cell_type": "code",
   "execution_count": 45,
   "id": "stopped-anime",
   "metadata": {},
   "outputs": [
    {
     "data": {
      "text/plain": [
       "8"
      ]
     },
     "execution_count": 45,
     "metadata": {},
     "output_type": "execute_result"
    }
   ],
   "source": [
    "a[2]"
   ]
  },
  {
   "cell_type": "code",
   "execution_count": 55,
   "id": "exotic-window",
   "metadata": {},
   "outputs": [
    {
     "data": {
      "text/plain": [
       "array([ 8, 27, 64])"
      ]
     },
     "execution_count": 55,
     "metadata": {},
     "output_type": "execute_result"
    }
   ],
   "source": [
    "a[2:5]"
   ]
  },
  {
   "cell_type": "code",
   "execution_count": 56,
   "id": "golden-medium",
   "metadata": {},
   "outputs": [
    {
     "data": {
      "text/plain": [
       "array([1000,    1, 1000,   27, 1000,  125,  216,  343,  512,  729])"
      ]
     },
     "execution_count": 56,
     "metadata": {},
     "output_type": "execute_result"
    }
   ],
   "source": [
    "a[:6:2] = 1000\n",
    "a"
   ]
  },
  {
   "cell_type": "code",
   "execution_count": 57,
   "id": "several-tribune",
   "metadata": {},
   "outputs": [
    {
     "data": {
      "text/plain": [
       "array([ 729,  512,  343,  216,  125, 1000,   27, 1000,    1, 1000])"
      ]
     },
     "execution_count": 57,
     "metadata": {},
     "output_type": "execute_result"
    }
   ],
   "source": [
    "a[ : :-1]                                 # reversed a"
   ]
  },
  {
   "cell_type": "code",
   "execution_count": 110,
   "id": "third-adrian",
   "metadata": {},
   "outputs": [
    {
     "name": "stdout",
     "output_type": "stream",
     "text": [
      "9.999999999999998\n",
      "1.0\n",
      "9.999999999999998\n",
      "3.0\n",
      "9.999999999999998\n",
      "4.999999999999999\n",
      "5.999999999999999\n",
      "6.999999999999999\n",
      "7.999999999999999\n",
      "8.999999999999998\n"
     ]
    }
   ],
   "source": [
    "for i in a:\n",
    "     print(i**(1/3.))"
   ]
  },
  {
   "cell_type": "code",
   "execution_count": null,
   "id": "pediatric-conviction",
   "metadata": {},
   "outputs": [],
   "source": [
    "%timeit f1(x, y)"
   ]
  },
  {
   "cell_type": "code",
   "execution_count": 60,
   "id": "inside-orleans",
   "metadata": {},
   "outputs": [],
   "source": [
    "x = [1,2,3,4]\n",
    "y = [5,6,7,8]"
   ]
  },
  {
   "cell_type": "code",
   "execution_count": 62,
   "id": "structured-baptist",
   "metadata": {},
   "outputs": [],
   "source": [
    "z = [a*b for a,b in zip(x,y)]"
   ]
  },
  {
   "cell_type": "code",
   "execution_count": 63,
   "id": "material-touch",
   "metadata": {},
   "outputs": [
    {
     "data": {
      "text/plain": [
       "[5, 12, 21, 32]"
      ]
     },
     "execution_count": 63,
     "metadata": {},
     "output_type": "execute_result"
    }
   ],
   "source": [
    "z"
   ]
  },
  {
   "cell_type": "markdown",
   "id": "noted-minister",
   "metadata": {},
   "source": [
    "## Почему numpy (кроме того что удобно)"
   ]
  },
  {
   "cell_type": "markdown",
   "id": "ignored-thumbnail",
   "metadata": {},
   "source": [
    "![types](./pictures/dot_product.png)"
   ]
  },
  {
   "cell_type": "code",
   "execution_count": 72,
   "id": "tough-special",
   "metadata": {},
   "outputs": [],
   "source": [
    "x = np.random.randint(0, 32, size=(10000))\n",
    "y = np.random.randint(0, 32, size=(10000))"
   ]
  },
  {
   "cell_type": "code",
   "execution_count": 73,
   "id": "empirical-titanium",
   "metadata": {},
   "outputs": [],
   "source": [
    "def f1(x, y):\n",
    "    return sum(a*b for a,b in zip(x,y))"
   ]
  },
  {
   "cell_type": "code",
   "execution_count": 74,
   "id": "current-library",
   "metadata": {},
   "outputs": [],
   "source": [
    "def f2(x, y):\n",
    "    return (x * y).sum()"
   ]
  },
  {
   "cell_type": "code",
   "execution_count": 75,
   "id": "false-valuation",
   "metadata": {},
   "outputs": [
    {
     "data": {
      "text/plain": [
       "241847385"
      ]
     },
     "execution_count": 75,
     "metadata": {},
     "output_type": "execute_result"
    }
   ],
   "source": [
    "f1(x, y)"
   ]
  },
  {
   "cell_type": "code",
   "execution_count": 76,
   "id": "great-delicious",
   "metadata": {},
   "outputs": [
    {
     "data": {
      "text/plain": [
       "2408510"
      ]
     },
     "execution_count": 76,
     "metadata": {},
     "output_type": "execute_result"
    }
   ],
   "source": [
    "f2(x, y)"
   ]
  },
  {
   "cell_type": "code",
   "execution_count": 70,
   "id": "sitting-spectacular",
   "metadata": {
    "scrolled": true
   },
   "outputs": [
    {
     "name": "stdout",
     "output_type": "stream",
     "text": [
      "5.28 ms ± 2.49 ms per loop (mean ± std. dev. of 7 runs, 100 loops each)\n"
     ]
    }
   ],
   "source": [
    "%timeit f1(x, y)"
   ]
  },
  {
   "cell_type": "code",
   "execution_count": 71,
   "id": "graduate-removal",
   "metadata": {},
   "outputs": [
    {
     "name": "stdout",
     "output_type": "stream",
     "text": [
      "27.4 µs ± 4.51 µs per loop (mean ± std. dev. of 7 runs, 10000 loops each)\n"
     ]
    }
   ],
   "source": [
    "%timeit f2(x, y)"
   ]
  },
  {
   "cell_type": "markdown",
   "id": "spanish-warrior",
   "metadata": {},
   "source": [
    "## Сравнение с pytorch"
   ]
  },
  {
   "cell_type": "code",
   "execution_count": 73,
   "id": "oriental-oxide",
   "metadata": {},
   "outputs": [
    {
     "name": "stdout",
     "output_type": "stream",
     "text": [
      "Requirement already satisfied: torch in /usr/local/lib/python3.9/site-packages (1.7.1)\n",
      "Requirement already satisfied: torchvision in /usr/local/lib/python3.9/site-packages (0.8.2)\n",
      "Requirement already satisfied: typing-extensions in /usr/local/lib/python3.9/site-packages (from torch) (3.7.4.3)\n",
      "Requirement already satisfied: numpy in /usr/local/lib/python3.9/site-packages (from torch) (1.20.1)\n",
      "Requirement already satisfied: pillow>=4.1.1 in /usr/local/lib/python3.9/site-packages (from torchvision) (8.1.1)\n"
     ]
    }
   ],
   "source": [
    "!pip install torch torchvision"
   ]
  },
  {
   "cell_type": "code",
   "execution_count": 77,
   "id": "tribal-devil",
   "metadata": {},
   "outputs": [],
   "source": [
    "import torch"
   ]
  },
  {
   "cell_type": "code",
   "execution_count": 78,
   "id": "useful-antigua",
   "metadata": {},
   "outputs": [],
   "source": [
    "data = [[1, 2],[3, 4]]\n",
    "x_data = torch.tensor(data)"
   ]
  },
  {
   "cell_type": "code",
   "execution_count": 79,
   "id": "selective-completion",
   "metadata": {},
   "outputs": [
    {
     "data": {
      "text/plain": [
       "tensor([[1, 2],\n",
       "        [3, 4]])"
      ]
     },
     "execution_count": 79,
     "metadata": {},
     "output_type": "execute_result"
    }
   ],
   "source": [
    "x_data"
   ]
  },
  {
   "cell_type": "code",
   "execution_count": 81,
   "id": "severe-pavilion",
   "metadata": {},
   "outputs": [
    {
     "data": {
      "text/plain": [
       "torch.Size([2, 2])"
      ]
     },
     "execution_count": 81,
     "metadata": {},
     "output_type": "execute_result"
    }
   ],
   "source": [
    "x_data.shape"
   ]
  },
  {
   "cell_type": "code",
   "execution_count": 82,
   "id": "communist-guidance",
   "metadata": {},
   "outputs": [],
   "source": [
    "np_array = np.array(data)\n",
    "x_np = torch.from_numpy(np_array)"
   ]
  },
  {
   "cell_type": "code",
   "execution_count": 85,
   "id": "special-subsection",
   "metadata": {},
   "outputs": [],
   "source": [
    "x_ones = torch.ones_like(x_data)\n",
    "x_rand = torch.rand_like(x_data, dtype=torch.float)"
   ]
  },
  {
   "cell_type": "code",
   "execution_count": 84,
   "id": "growing-tumor",
   "metadata": {},
   "outputs": [
    {
     "data": {
      "text/plain": [
       "tensor([[0.6232, 0.4570],\n",
       "        [0.0500, 0.3845]])"
      ]
     },
     "execution_count": 84,
     "metadata": {},
     "output_type": "execute_result"
    }
   ],
   "source": [
    "x_rand"
   ]
  },
  {
   "cell_type": "code",
   "execution_count": 86,
   "id": "surface-capability",
   "metadata": {},
   "outputs": [],
   "source": [
    "if torch.cuda.is_available():\n",
    "    x_rand = x_rand.to('cuda')"
   ]
  },
  {
   "cell_type": "code",
   "execution_count": 87,
   "id": "rolled-league",
   "metadata": {},
   "outputs": [],
   "source": [
    "x = np.random.randint(0, 32, size=(10000))\n",
    "y = np.random.randint(0, 32, size=(10000))"
   ]
  },
  {
   "cell_type": "code",
   "execution_count": 88,
   "id": "colored-incentive",
   "metadata": {},
   "outputs": [],
   "source": [
    "x_torch = torch.from_numpy(x)\n",
    "y_torch = torch.from_numpy(y)"
   ]
  },
  {
   "cell_type": "code",
   "execution_count": 89,
   "id": "figured-debut",
   "metadata": {},
   "outputs": [],
   "source": [
    "def f3(x,y):\n",
    "    return torch.sum(x_torch * y_torch)"
   ]
  },
  {
   "cell_type": "code",
   "execution_count": 90,
   "id": "hawaiian-field",
   "metadata": {},
   "outputs": [
    {
     "name": "stdout",
     "output_type": "stream",
     "text": [
      "24.2 µs ± 5.61 µs per loop (mean ± std. dev. of 7 runs, 10000 loops each)\n"
     ]
    }
   ],
   "source": [
    "%timeit f2(x, y)"
   ]
  },
  {
   "cell_type": "code",
   "execution_count": 91,
   "id": "complex-bulletin",
   "metadata": {},
   "outputs": [
    {
     "name": "stdout",
     "output_type": "stream",
     "text": [
      "24.3 µs ± 6.87 µs per loop (mean ± std. dev. of 7 runs, 10000 loops each)\n"
     ]
    }
   ],
   "source": [
    "%timeit f3(x_torch, y_torch)"
   ]
  },
  {
   "cell_type": "code",
   "execution_count": 72,
   "id": "gorgeous-indian",
   "metadata": {},
   "outputs": [],
   "source": [
    "x = torch.ones(5)  # input tensor\n",
    "y = torch.zeros(3)  # expected output\n",
    "w = torch.randn(5, 3, requires_grad=True)\n",
    "b = torch.randn(3, requires_grad=True)\n",
    "z = torch.matmul(x, w)+b"
   ]
  },
  {
   "cell_type": "markdown",
   "id": "statistical-square",
   "metadata": {},
   "source": [
    "![types](./pictures/graph.png)"
   ]
  },
  {
   "cell_type": "markdown",
   "id": "sophisticated-animal",
   "metadata": {},
   "source": [
    "## Полезные ссылки:\n",
    "* https://numpy.org/doc/stable/user/quickstart.html\n",
    "* https://numpy.org/doc/stable/numpy-user.pdf\n",
    "* https://pytorch.org/tutorials/beginner/basics/tensorqs_tutorial.html\n",
    "* https://pytorch.org/tutorials/beginner/basics/autogradqs_tutorial.html\n",
    "* https://pytorch.org/docs/stable/torch.html"
   ]
  },
  {
   "cell_type": "code",
   "execution_count": null,
   "id": "changing-apache",
   "metadata": {},
   "outputs": [],
   "source": []
  }
 ],
 "metadata": {
  "kernelspec": {
   "display_name": "Python 3",
   "language": "python",
   "name": "python3"
  },
  "language_info": {
   "codemirror_mode": {
    "name": "ipython",
    "version": 3
   },
   "file_extension": ".py",
   "mimetype": "text/x-python",
   "name": "python",
   "nbconvert_exporter": "python",
   "pygments_lexer": "ipython3",
   "version": "3.9.2"
  }
 },
 "nbformat": 4,
 "nbformat_minor": 5
}
