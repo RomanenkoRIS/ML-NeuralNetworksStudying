{
 "cells": [
  {
   "cell_type": "code",
   "execution_count": 79,
   "metadata": {},
   "outputs": [],
   "source": [
    "import torch\n",
    "import matplotlib.pyplot as plt"
   ]
  },
  {
   "cell_type": "code",
   "execution_count": 121,
   "metadata": {},
   "outputs": [],
   "source": [
    "#function that finds optimal parameters for linear model\n",
    "\n",
    "def fit_params(rand_data, y, n, m):\n",
    "    A = torch.empty(n+1, n+1)\n",
    "    B = torch.empty(1, n+1)\n",
    "\n",
    "    sum_col = torch.sum(rand_data, dim=0)\n",
    "    sqr_sum_col = torch.sum(rand_data**2, dim=0)\n",
    "\n",
    "    A[0][0] = m\n",
    "    for j in range(1, n+1):\n",
    "        A[0][j] = sum_col[j-1]\n",
    "    B[0][0] = torch.sum(y, dim=0)\n",
    "\n",
    "    for i in range(1, n+1):\n",
    "        A[i][0] = sum_col[i-1]\n",
    "        for j in range(1, n+1):\n",
    "            A[i][j] = torch.sum(rand_data[:][i-1] * rand_data[:][j-1], dim=0)\n",
    "            B[0][i] = torch.sum(rand_data[:][i-1] * y)\n",
    "\n",
    "    X, LU = torch.solve(B.t(), A)\n",
    "    return X"
   ]
  },
  {
   "cell_type": "code",
   "execution_count": 142,
   "metadata": {},
   "outputs": [
    {
     "data": {
      "text/plain": [
       "<matplotlib.lines._AxLine at 0x17ca9a89eb0>"
      ]
     },
     "execution_count": 142,
     "metadata": {},
     "output_type": "execute_result"
    },
    {
     "data": {
      "image/png": "[encoded data removed]",
      "text/plain": [
       "<Figure size 432x288 with 1 Axes>"
      ]
     },
     "metadata": {
      "needs_background": "light"
     },
     "output_type": "display_data"
    }
   ],
   "source": [
    "#Randomly generates a tensor of size mxn with the values from the range (-100, 100)\n",
    "#here we take n=1 to be able to plot the results\n",
    "\n",
    "m = 10\n",
    "n = 1\n",
    "lo = -100\n",
    "hi = 100\n",
    "\n",
    "rand_data = (hi-lo) * torch.rand((n, m)) + lo\n",
    "y = (hi-lo) * torch.rand((m, 1)) + lo\n",
    "\n",
    "X = fit_params(rand_data, y, n, m)\n",
    "\n",
    "plt.plot(rand_data, y.t(), linestyle='none', color='red', marker='.')\n",
    "plt.axline((0, X[0]), (1, X[0] + X[1]))"
   ]
  },
  {
   "cell_type": "code",
   "execution_count": 123,
   "metadata": {},
   "outputs": [
    {
     "data": {
      "text/plain": [
       "<matplotlib.lines._AxLine at 0x17ca80d8220>"
      ]
     },
     "execution_count": 123,
     "metadata": {},
     "output_type": "execute_result"
    },
    {
     "data": {
      "image/png": "[encoded data removed]",
      "text/plain": [
       "<Figure size 432x288 with 1 Axes>"
      ]
     },
     "metadata": {
      "needs_background": "light"
     },
     "output_type": "display_data"
    }
   ],
   "source": [
    "#tests given set of points to ensure that algorithm works correctly\n",
    "#here we take n=1 to be able to plot the results\n",
    "\n",
    "rand_data_1 = torch.tensor([[1.0], [2.0], [3.0], [4.0], [3.99], [5.07], [5.71], [6.4]])\n",
    "y_1 = torch.tensor([[0.9], [1.5], [2.0], [2.0], [3.54], [3.2], [3.1], [4.0]])\n",
    "n = 1\n",
    "m = 8\n",
    "X = fit_params(rand_data_1, y_1, n, m)\n",
    "\n",
    "plt.plot(rand_data_1, y_1, linestyle='none', color='red', marker='.')\n",
    "plt.axline((0, X[0]), (1, X[0] + X[1]))\n"
   ]
  },
  {
   "cell_type": "code",
   "execution_count": 150,
   "metadata": {},
   "outputs": [
    {
     "name": "stdout",
     "output_type": "stream",
     "text": [
      "1.29 s ± 25.8 ms per loop (mean ± std. dev. of 7 runs, 1 loop each)\n"
     ]
    }
   ],
   "source": [
    "#Randomly generates a tensor of size mxn with the values from the range (-1000, 1000)\n",
    "\n",
    "m = 100\n",
    "n = 100\n",
    "lo = -1000\n",
    "hi = 1000\n",
    "\n",
    "rand_data = (hi-lo) * torch.rand((n, m)) + lo\n",
    "y = (hi-lo) * torch.rand((m, 1)) + lo\n",
    "\n",
    "%timeit fit_params(rand_data, y, n, m)\n"
   ]
  },
  {
   "cell_type": "code",
   "execution_count": 152,
   "metadata": {},
   "outputs": [
    {
     "name": "stdout",
     "output_type": "stream",
     "text": [
      "26.7 s ± 438 ms per loop (mean ± std. dev. of 7 runs, 1 loop each)\n"
     ]
    }
   ],
   "source": [
    "#Randomly generates a tensor of size mxn with the values from the range (-1000, 1000)\n",
    "\n",
    "m = 1000\n",
    "n = 100\n",
    "lo = -1000\n",
    "hi = 1000\n",
    "\n",
    "rand_data = (hi-lo) * torch.rand((n, m)) + lo\n",
    "y = (hi-lo) * torch.rand((m, 1)) + lo\n",
    "\n",
    "%timeit fit_params(rand_data, y, n, m)"
   ]
  }
 ],
 "metadata": {
  "kernelspec": {
   "display_name": "Python 3",
   "language": "python",
   "name": "python3"
  },
  "language_info": {
   "codemirror_mode": {
    "name": "ipython",
    "version": 3
   },
   "file_extension": ".py",
   "mimetype": "text/x-python",
   "name": "python",
   "nbconvert_exporter": "python",
   "pygments_lexer": "ipython3",
   "version": "3.9.2"
  }
 },
 "nbformat": 4,
 "nbformat_minor": 4
}
