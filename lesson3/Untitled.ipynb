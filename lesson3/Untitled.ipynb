{
 "cells": [
  {
   "cell_type": "markdown",
   "id": "passive-government",
   "metadata": {},
   "source": [
    "## уравнение простой линейной регрессии\n",
    "* Аналитическое решение\n",
    "* Градиентный спуск\n",
    "* Стохастический градиентный спуск"
   ]
  },
  {
   "cell_type": "code",
   "execution_count": 124,
   "id": "speaking-retention",
   "metadata": {},
   "outputs": [],
   "source": [
    "import pandas as pd\n",
    "import numpy as np\n",
    "import matplotlib.pyplot as plt\n",
    "import math\n",
    "import pylab as pl\n",
    "import random\n",
    "import torch\n",
    "\n",
    "\n",
    "%matplotlib inline\n",
    "from pylab import rcParams\n",
    "rcParams['figure.figsize'] = 12, 6"
   ]
  },
  {
   "cell_type": "markdown",
   "id": "super-creature",
   "metadata": {},
   "source": [
    "#### Таблица №1 «Условия примера»"
   ]
  },
  {
   "cell_type": "code",
   "execution_count": 125,
   "id": "martial-disposal",
   "metadata": {},
   "outputs": [],
   "source": [
    "x = [1,2,3,4,5]\n",
    "y = [5.3,6.3,6.8,4.8,3.3]"
   ]
  },
  {
   "cell_type": "code",
   "execution_count": 126,
   "id": "valid-millennium",
   "metadata": {},
   "outputs": [],
   "source": [
    "# загрузим значения\n",
    "table_zero = pd.read_csv('data_example.txt', header=0, sep='\\t')"
   ]
  },
  {
   "cell_type": "code",
   "execution_count": 127,
   "id": "prompt-spectrum",
   "metadata": {},
   "outputs": [
    {
     "name": "stdout",
     "output_type": "stream",
     "text": [
      "<class 'pandas.core.frame.DataFrame'>\n",
      "RangeIndex: 5 entries, 0 to 4\n",
      "Data columns (total 2 columns):\n",
      " #   Column  Non-Null Count  Dtype  \n",
      "---  ------  --------------  -----  \n",
      " 0   x       5 non-null      int64  \n",
      " 1   y       5 non-null      float64\n",
      "dtypes: float64(1), int64(1)\n",
      "memory usage: 208.0 bytes\n",
      "None\n",
      "********************************************\n",
      "   x    y\n",
      "0  1  5.3\n",
      "1  2  6.3\n",
      "2  3  4.8\n",
      "3  4  3.8\n",
      "4  5  3.3\n",
      "********************************************\n"
     ]
    }
   ],
   "source": [
    "# посмотрим информацию о таблице и на саму таблицу\n",
    "print (table_zero.info())\n",
    "print ('********************************************')\n",
    "print (table_zero)\n",
    "print ('********************************************')"
   ]
  },
  {
   "cell_type": "code",
   "execution_count": 128,
   "id": "brown-lawsuit",
   "metadata": {},
   "outputs": [
    {
     "name": "stdout",
     "output_type": "stream",
     "text": [
      "[1.0, 2.0, 3.0, 4.0, 5.0]\n",
      "<class 'list'>\n",
      "********************************************\n"
     ]
    }
   ],
   "source": [
    "# подготовим данные без использования NumPy\n",
    "\n",
    "x_us = []\n",
    "[x_us.append(float(i)) for i in table_zero['x']]\n",
    "print (x_us)\n",
    "print (type(x_us))\n",
    "print ('********************************************')"
   ]
  },
  {
   "cell_type": "code",
   "execution_count": 129,
   "id": "loose-utilization",
   "metadata": {},
   "outputs": [
    {
     "name": "stdout",
     "output_type": "stream",
     "text": [
      "[5.3, 6.3, 4.8, 3.8, 3.3]\n",
      "<class 'list'>\n",
      "********************************************\n"
     ]
    }
   ],
   "source": [
    "y_us = []\n",
    "[y_us.append(float(i)) for i in table_zero['y']]\n",
    "print (y_us)\n",
    "print (type(y_us))\n",
    "print ('********************************************')"
   ]
  },
  {
   "cell_type": "code",
   "execution_count": 130,
   "id": "introductory-prospect",
   "metadata": {},
   "outputs": [
    {
     "name": "stdout",
     "output_type": "stream",
     "text": [
      "[[1]\n",
      " [2]\n",
      " [3]\n",
      " [4]\n",
      " [5]]\n",
      "<class 'numpy.ndarray'>\n",
      "(5, 1)\n",
      "********************************************\n",
      "[[5.3]\n",
      " [6.3]\n",
      " [4.8]\n",
      " [3.8]\n",
      " [3.3]]\n",
      "<class 'numpy.ndarray'>\n",
      "(5, 1)\n",
      "********************************************\n"
     ]
    }
   ],
   "source": [
    "# подготовим данные с использованием NumPy\n",
    "\n",
    "x_np = table_zero[['x']].values\n",
    "print (x_np)\n",
    "print (type(x_np))\n",
    "print (x_np.shape)\n",
    "print ('********************************************')\n",
    "\n",
    "y_np = table_zero[['y']].values\n",
    "print (y_np)\n",
    "print (type(y_np))\n",
    "print (y_np.shape)\n",
    "print ('********************************************')\n"
   ]
  },
  {
   "cell_type": "code",
   "execution_count": 131,
   "id": "divine-sacrifice",
   "metadata": {},
   "outputs": [
    {
     "name": "stdout",
     "output_type": "stream",
     "text": [
      "График №1 \"Зависимость выручки от месяца года\"\n"
     ]
    },
    {
     "data": {
      "image/png": "[encoded data removed]",
      "text/plain": [
       "<Figure size 864x432 with 1 Axes>"
      ]
     },
     "metadata": {
      "needs_background": "light"
     },
     "output_type": "display_data"
    }
   ],
   "source": [
    "print ('График №1 \"Зависимость выручки от месяца года\"')\n",
    "\n",
    "plt.plot(x_us,y_us,'o',color='green',markersize=16)\n",
    "plt.xlabel('$Months$', size=16)\n",
    "plt.ylabel('$Sales$', size=16)\n",
    "plt.show()"
   ]
  },
  {
   "cell_type": "markdown",
   "id": "existing-replica",
   "metadata": {},
   "source": [
    "## Аналитическое решение"
   ]
  },
  {
   "cell_type": "code",
   "execution_count": 132,
   "id": "defined-geography",
   "metadata": {},
   "outputs": [],
   "source": [
    "# определим функцию для расчета коэффициентов a и b по правилу Крамера\n",
    "\n",
    "def Kramer_method (x, y):\n",
    "    \n",
    "    # сумма значений (все месяца)\n",
    "    sx = sum(x)\n",
    "    \n",
    "    # сумма истинных ответов (выручка за весь период)\n",
    "    sy = sum(y)\n",
    "    \n",
    "    # сумма произведения значений на истинные ответы\n",
    "    list_xy = []\n",
    "    [list_xy.append(x[i]*y[i]) for i in range(len(x))]\n",
    "    sxy = sum(list_xy)\n",
    "    \n",
    "    # сумма квадратов значений\n",
    "    list_x_sq = []\n",
    "    [list_x_sq.append(x[i]**2) for i in range(len(x))]\n",
    "    sx_sq = sum(list_x_sq)\n",
    "    \n",
    "    # количество значений\n",
    "    n = len(x)\n",
    "    \n",
    "    # общий определитель\n",
    "    det = sx_sq*n - sx*sx\n",
    "    \n",
    "    # определитель по a\n",
    "    det_a = sx_sq*sy - sx*sxy\n",
    "    \n",
    "    # искомый параметр a\n",
    "    a = (det_a/det)\n",
    "    \n",
    "    # определитель по b\n",
    "    det_b = sxy*n - sy*sx\n",
    "    \n",
    "    # искомый параметр b\n",
    "    b = (det_b/det)\n",
    "    \n",
    "    # контрольные значения (прооверка)\n",
    "    check1 = (n*b + a*sx - sy)\n",
    "    check2 = (b*sx + a*sx_sq - sxy)\n",
    "    \n",
    "    return [round(a,4), round(b,4)]\n",
    "     "
   ]
  },
  {
   "cell_type": "code",
   "execution_count": 133,
   "id": "described-republican",
   "metadata": {},
   "outputs": [
    {
     "name": "stdout",
     "output_type": "stream",
     "text": [
      "\u001b[1m\u001b[4mОптимальные значения коэффициентов a и b:\u001b[0m\n",
      "a = 6.65\n",
      "b = -0.65\n"
     ]
    }
   ],
   "source": [
    "# запустим функцию и запишем правильные ответы\n",
    "ab_us = Kramer_method(x_us, y_us)\n",
    "a_us = ab_us[0]\n",
    "b_us = ab_us[1]\n",
    "\n",
    "\n",
    "print ('\\033[1m' + '\\033[4m' + \"Оптимальные значения коэффициентов a и b:\"  + '\\033[0m') \n",
    "print ('a =', a_us)\n",
    "print ('b =', b_us)\n"
   ]
  },
  {
   "cell_type": "code",
   "execution_count": 134,
   "id": "pretty-register",
   "metadata": {},
   "outputs": [],
   "source": [
    "# определим функцию для подсчета суммы квадратов ошибок\n",
    "   \n",
    "def errors_sq_Kramer_method(answers,x,y):\n",
    "    list_errors_sq = []\n",
    "    for i in range(len(x)):\n",
    "        err = ((answers[0] + answers[1]*x[i] - y[i])**2)\n",
    "        list_errors_sq.append(err)\n",
    "    return round(sum(list_errors_sq),4)"
   ]
  },
  {
   "cell_type": "code",
   "execution_count": 135,
   "id": "least-judges",
   "metadata": {},
   "outputs": [
    {
     "name": "stdout",
     "output_type": "stream",
     "text": [
      "\u001b[1m\u001b[4mСумма квадратов отклонений\u001b[0m\n",
      "1.475\n"
     ]
    }
   ],
   "source": [
    "# запустим функцию и запишем значение ошибки\n",
    "error_sq = errors_sq_Kramer_method(ab_us,x_us,y_us)\n",
    "print ('\\033[1m' + '\\033[4m' + \"Сумма квадратов отклонений\" + '\\033[0m')\n",
    "print (error_sq)\n"
   ]
  },
  {
   "cell_type": "code",
   "execution_count": 136,
   "id": "excited-wholesale",
   "metadata": {},
   "outputs": [],
   "source": [
    "# определим функцию для формирования массива рассчетных значений выручки\n",
    "def sales_count(ab, x, y):\n",
    "    line_answers = []\n",
    "    [line_answers.append(ab[0]+ab[1]*x[i]) for i in range(len(x))]\n",
    "    return line_answers"
   ]
  },
  {
   "cell_type": "code",
   "execution_count": 137,
   "id": "sapphire-virgin",
   "metadata": {},
   "outputs": [
    {
     "name": "stdout",
     "output_type": "stream",
     "text": [
      "Грфик№2 \"Правильные и расчетные ответы\"\n"
     ]
    },
    {
     "data": {
      "image/png": "[encoded data removed]",
      "text/plain": [
       "<Figure size 864x432 with 1 Axes>"
      ]
     },
     "metadata": {
      "needs_background": "light"
     },
     "output_type": "display_data"
    }
   ],
   "source": [
    "# построим графики\n",
    "print ('Грфик№2 \"Правильные и расчетные ответы\"')\n",
    "plt.plot(x_us,y_us,'o',color='green',markersize=16, label = '$True$ $answers$')\n",
    "plt.plot(x_us, sales_count(ab_us,x_us,y_us), color='red',lw=4,\n",
    "         label='$Function: a + bx,$ $where$ $a='+str(round(ab_us[0],2))+',$ $b='+str(round(ab_us[1],2))+'$')\n",
    "plt.xlabel('$Months$', size=16)\n",
    "plt.ylabel('$Sales$', size=16)\n",
    "plt.legend(loc=1, prop={'size': 16})\n",
    "plt.show()"
   ]
  },
  {
   "cell_type": "code",
   "execution_count": 138,
   "id": "adolescent-steel",
   "metadata": {},
   "outputs": [
    {
     "name": "stdout",
     "output_type": "stream",
     "text": [
      "График№3 \"Отклонения по-месячно, %\"\n"
     ]
    },
    {
     "data": {
      "image/png": "[encoded data removed]",
      "text/plain": [
       "<Figure size 864x432 with 1 Axes>"
      ]
     },
     "metadata": {
      "needs_background": "light"
     },
     "output_type": "display_data"
    }
   ],
   "source": [
    "# определим функцию для формирования массива отклонений в процентах\n",
    "def error_per_month(ab,x,y):\n",
    "    sales_c = sales_count(ab,x,y)\n",
    "    errors_percent = []\n",
    "    for i in range(len(x)):\n",
    "        errors_percent.append(100*(sales_c[i]-y[i])/y[i])\n",
    "    return errors_percent\n",
    "\n",
    "# построим график\n",
    "print ('График№3 \"Отклонения по-месячно, %\"')\n",
    "plt.gca().bar(x_us, error_per_month(ab_us,x_us,y_us), color='brown')\n",
    "plt.xlabel('Months', size=16)\n",
    "plt.ylabel('Calculation error, %', size=16)\n",
    "plt.show()"
   ]
  },
  {
   "cell_type": "code",
   "execution_count": 139,
   "id": "transparent-bonus",
   "metadata": {},
   "outputs": [
    {
     "name": "stdout",
     "output_type": "stream",
     "text": [
      "[[1.]\n",
      " [1.]\n",
      " [1.]]\n",
      "[[1. 1.]\n",
      " [1. 2.]\n",
      " [1. 3.]]\n",
      "***************************************\n"
     ]
    }
   ],
   "source": [
    "# для начала добавим столбец с не изменяющимся значением в 1. \n",
    "# Данный столбец нужен для того, чтобы не обрабатывать отдельно коэффицент a\n",
    "vector_1 = np.ones((x_np.shape[0],1))\n",
    "x_np = table_zero[['x']].values # на всякий случай приведем в первичный формат вектор x_np\n",
    "x_np = np.hstack((vector_1,x_np))\n",
    "\n",
    "# проверим то, что все сделали правильно\n",
    "print (vector_1[0:3])\n",
    "print (x_np[0:3])\n",
    "print ('***************************************')\n"
   ]
  },
  {
   "cell_type": "code",
   "execution_count": 140,
   "id": "clean-credits",
   "metadata": {},
   "outputs": [
    {
     "name": "stdout",
     "output_type": "stream",
     "text": [
      "[[ 6.65]\n",
      " [-0.65]]\n",
      "***************************************\n"
     ]
    }
   ],
   "source": [
    "# напишем функцию, которая определяет значения коэффициентов a и b с использованием псевдообратной матрицы\n",
    "\n",
    "def pseudoinverse_matrix(X, y):\n",
    "    # задаем явный формат матрицы признаков\n",
    "    X = np.matrix(X)\n",
    "    \n",
    "    # определяем транспонированную матрицу\n",
    "    XT = X.T\n",
    "    \n",
    "    # определяем квадратную матрицу\n",
    "    XTX = XT*X\n",
    "    \n",
    "    # определяем псевдообратную матрицу\n",
    "    inv = np.linalg.pinv(XTX)\n",
    "    \n",
    "    # задаем явный формат матрицы ответов\n",
    "    y = np.matrix(y)\n",
    "    \n",
    "    # находим вектор весов\n",
    "    return (inv*XT)*y\n",
    "    \n",
    "    \n",
    "# запустим функцию\n",
    "ab_np = pseudoinverse_matrix(x_np, y_np)\n",
    "print (ab_np)\n",
    "print ('***************************************')   \n",
    "    "
   ]
  },
  {
   "cell_type": "code",
   "execution_count": 204,
   "id": "indian-croatia",
   "metadata": {},
   "outputs": [
    {
     "name": "stdout",
     "output_type": "stream",
     "text": [
      "[[ 6.65]\n",
      " [-0.65]]\n"
     ]
    }
   ],
   "source": [
    "# напишем функцию, которая использует для решения матричное уравнение\n",
    "\n",
    "def matrix_equation(X,y):\n",
    "    a = X.T @ X\n",
    "    b = X.T @ y\n",
    "    return np.linalg.solve(a,b)\n",
    "\n",
    "# запустим функцию\n",
    "ab_np = matrix_equation(x_np,y_np)\n",
    "print (ab_np)"
   ]
  },
  {
   "cell_type": "code",
   "execution_count": 205,
   "id": "continued-pricing",
   "metadata": {},
   "outputs": [
    {
     "name": "stdout",
     "output_type": "stream",
     "text": [
      "tensor([[ 6.6500],\n",
      "        [-0.6500]], dtype=torch.float64)\n"
     ]
    }
   ],
   "source": [
    "# напишем функцию, которая использует для решения матричное уравнение pytourch\n",
    "\n",
    "def matrix_torch (X, y):\n",
    "    \n",
    "    a = torch.tensor(X).T @ torch.tensor(X)\n",
    "    b = torch.tensor(X).T @ torch.tensor(y)\n",
    "    \n",
    "    return  torch.matmul(torch.linalg.inv(a), b)\n",
    "        \n",
    "# запустим функцию\n",
    "ab_np = matrix_torch(x_np,y_np)\n",
    "print (ab_np)\n",
    "        "
   ]
  },
  {
   "cell_type": "code",
   "execution_count": 144,
   "id": "entire-eleven",
   "metadata": {},
   "outputs": [
    {
     "data": {
      "text/plain": [
       "tensor([[1., 1.],\n",
       "        [1., 2.],\n",
       "        [1., 3.],\n",
       "        [1., 4.],\n",
       "        [1., 5.]], dtype=torch.float64)"
      ]
     },
     "execution_count": 144,
     "metadata": {},
     "output_type": "execute_result"
    }
   ],
   "source": [
    "torch.tensor(x_np)"
   ]
  },
  {
   "cell_type": "code",
   "execution_count": 223,
   "id": "convinced-broad",
   "metadata": {},
   "outputs": [
    {
     "data": {
      "text/plain": [
       "(torch.Size([2, 5]), torch.Size([3, 5]))"
      ]
     },
     "execution_count": 223,
     "metadata": {},
     "output_type": "execute_result"
    }
   ],
   "source": [
    "x = torch.tensor(((1.,1.,1.,1.,1.,),(1.,2.,3.,4.,5.),))\n",
    "y = torch.tensor(((5.3,6.3,4.8,3.8,3.3),(5.3,6.3,4.8,3.8,3.3),(5.3,2.3,4.8,3.8,3.3)))\n",
    "#z = torch.tensor((5.3,6.3,6.8,4.8,3.3)))\n",
    "x.size(), y.size()"
   ]
  },
  {
   "cell_type": "code",
   "execution_count": 224,
   "id": "hearing-flexibility",
   "metadata": {},
   "outputs": [],
   "source": [
    "a = x @ x.T\n",
    "b =  y @ x.T"
   ]
  },
  {
   "cell_type": "code",
   "execution_count": 225,
   "id": "discrete-chemistry",
   "metadata": {},
   "outputs": [
    {
     "data": {
      "text/plain": [
       "tensor([[ 6.6500, -0.6500],\n",
       "        [ 6.6500, -0.6500],\n",
       "        [ 4.6500, -0.2500]])"
      ]
     },
     "execution_count": 225,
     "metadata": {},
     "output_type": "execute_result"
    }
   ],
   "source": [
    "b @ torch.linalg.inv(a)"
   ]
  },
  {
   "cell_type": "code",
   "execution_count": 226,
   "id": "polyphonic-correspondence",
   "metadata": {},
   "outputs": [],
   "source": [
    "x_in = torch.linspace(1,10,5)\n",
    "y_in = x_in * 2 + 10"
   ]
  },
  {
   "cell_type": "code",
   "execution_count": 227,
   "id": "stupid-indie",
   "metadata": {},
   "outputs": [
    {
     "data": {
      "text/plain": [
       "tensor([ 1.0000,  3.2500,  5.5000,  7.7500, 10.0000])"
      ]
     },
     "execution_count": 227,
     "metadata": {},
     "output_type": "execute_result"
    }
   ],
   "source": [
    "x_in"
   ]
  },
  {
   "cell_type": "code",
   "execution_count": 228,
   "id": "infinite-bathroom",
   "metadata": {},
   "outputs": [
    {
     "data": {
      "text/plain": [
       "tensor([12.0000, 16.5000, 21.0000, 25.5000, 30.0000])"
      ]
     },
     "execution_count": 228,
     "metadata": {},
     "output_type": "execute_result"
    }
   ],
   "source": [
    "y_in"
   ]
  },
  {
   "cell_type": "code",
   "execution_count": 241,
   "id": "pretty-member",
   "metadata": {},
   "outputs": [],
   "source": [
    "k = [i for i in torch.rand(5)]"
   ]
  },
  {
   "cell_type": "code",
   "execution_count": 247,
   "id": "indie-genre",
   "metadata": {},
   "outputs": [
    {
     "data": {
      "text/plain": [
       "tensor([[0.2545, 0.9658, 0.6380, 0.2189, 0.6183, 0.6682, 0.7769, 0.0787, 0.5475,\n",
       "         0.9513],\n",
       "        [0.4349, 0.0141, 0.8956, 0.2792, 0.7400, 0.1270, 0.3484, 0.6238, 0.9735,\n",
       "         0.0037]])"
      ]
     },
     "execution_count": 247,
     "metadata": {},
     "output_type": "execute_result"
    }
   ],
   "source": [
    "torch.rand(2,10)"
   ]
  },
  {
   "cell_type": "code",
   "execution_count": null,
   "id": "alternate-lighting",
   "metadata": {},
   "outputs": [],
   "source": []
  }
 ],
 "metadata": {
  "kernelspec": {
   "display_name": "Python 3",
   "language": "python",
   "name": "python3"
  },
  "language_info": {
   "codemirror_mode": {
    "name": "ipython",
    "version": 3
   },
   "file_extension": ".py",
   "mimetype": "text/x-python",
   "name": "python",
   "nbconvert_exporter": "python",
   "pygments_lexer": "ipython3",
   "version": "3.9.2"
  }
 },
 "nbformat": 4,
 "nbformat_minor": 5
}
