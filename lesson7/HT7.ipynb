{
 "cells": [
  {
   "cell_type": "code",
   "execution_count": 1,
   "id": "following-review",
   "metadata": {},
   "outputs": [],
   "source": [
    "import torch\n",
    "import os\n",
    "import torchvision.transforms as tfs\n",
    "import torch.nn as nn\n",
    "import matplotlib.pyplot as plt\n",
    "import torch.nn.functional as F\n",
    "import pandas as pd\n",
    "\n",
    "from torchvision.datasets import MNIST\n",
    "from torch.utils.data import DataLoader\n",
    "from torchsummary import summary\n",
    "\n",
    "from pytorch_lightning.metrics.functional import precision_recall\n",
    "from pytorch_lightning.metrics.functional import accuracy\n",
    "\n",
    "import time\n",
    "\n",
    "from tqdm import trange\n",
    "from colorama import Fore\n",
    "import tqdm\n",
    "\n",
    "%matplotlib inline\n",
    "from pylab import rcParams\n",
    "rcParams['figure.figsize'] = 16, 6\n",
    "\n",
    "import time\n",
    "from tqdm import tqdm"
   ]
  },
  {
   "cell_type": "code",
   "execution_count": 2,
   "id": "demonstrated-rabbit",
   "metadata": {},
   "outputs": [
    {
     "name": "stdout",
     "output_type": "stream",
     "text": [
      "Defaulting to user installation because normal site-packages is not writeable"
     ]
    },
    {
     "name": "stderr",
     "output_type": "stream",
     "text": [
      "WARNING: You are using pip version 21.1.1; however, version 21.1.2 is available.\n",
      "You should consider upgrading via the 'c:\\program files\\python39\\python.exe -m pip install --upgrade pip' command.\n"
     ]
    },
    {
     "name": "stdout",
     "output_type": "stream",
     "text": [
      "\n",
      "Requirement already satisfied: tqdm in c:\\users\\2011-3\\appdata\\roaming\\python\\python39\\site-packages (4.60.0)\n"
     ]
    }
   ],
   "source": [
    "!pip install tqdm"
   ]
  },
  {
   "cell_type": "code",
   "execution_count": 3,
   "id": "inappropriate-layout",
   "metadata": {},
   "outputs": [],
   "source": [
    "def fit(epochs, model, loss_func, opt, train_dl, valid_dl):\n",
    "    \n",
    "    train_losses = []\n",
    "    val_losses = []\n",
    "    valid_accuracies = []\n",
    "          \n",
    "    #train part\n",
    "    for epoch in range(epochs):\n",
    "        model.train()\n",
    "        loss_sum_tr = 0        \n",
    "        \n",
    "        for data, target in tqdm((train_dl),\n",
    "                                 bar_format=\"{l_bar}%s{bar}%s{r_bar}\" % (Fore.GREEN, Fore.RESET)):\n",
    "            \n",
    "            data, target = data.view(data.shape[0],-1).to(device), target.to(device)\n",
    "            \n",
    "            loss = loss_func(model(data), target)\n",
    "            loss_sum_tr += loss.item()\n",
    "            loss.backward()\n",
    "            torch.nn.utils.clip_grad_norm_(model.parameters(), 3)\n",
    "            opt.step()\n",
    "            opt.zero_grad()\n",
    "            \n",
    "        train_losses.append(loss_sum_tr / len(train_dl))            \n",
    "        \n",
    "       \n",
    "\n",
    "        #test part\n",
    "        \n",
    "        model.t()\n",
    "        loss_sum_val = 0\n",
    "        correct = 0\n",
    "        num = 0\n",
    "        \n",
    "        with torch.no_grad():\n",
    "            for data_ts, target_ts in valid_dl:\n",
    "                data_ts, target_ts = data_ts.view(data_ts.shape[0],-1).to(device), target_ts.to(device)\n",
    "                probs = model(data_ts)\n",
    "                loss_sum_val += loss_func(model(data_ts), target_ts).item()\n",
    "                \n",
    "                \n",
    "                _, preds = torch.max(probs, axis =-1)\n",
    "                correct += (preds == target_ts).sum().item()\n",
    "                num += len(data_ts)\n",
    "        \n",
    "        val_losses.append(loss_sum_val / len(valid_dl))\n",
    "        valid_accuracies.append(correct / num)\n",
    "                \n",
    "        print(f'epoch:{int(epoch+1)}\\\n",
    "        \\t train loss:{round(loss_sum_tr / len(train_dl),4)}\\\n",
    "        \\t valid loss:{round(loss_sum_val/len(valid_dl),4)}\\\n",
    "        \\t valid accuracies:({correct} / {num}) {round((correct / num)*100,2)}')\n",
    "        \n",
    "    return train_losses, val_losses, valid_accuracies\n",
    "\n",
    "\n",
    "batch_size = 1000#64\n",
    "features = 784\n",
    "classes = 10\n",
    "\n",
    "device = torch.device(\"cpu\")"
   ]
  },
  {
   "cell_type": "code",
   "execution_count": 4,
   "id": "formal-thanks",
   "metadata": {},
   "outputs": [],
   "source": [
    "def plot_trainig(train_losses, valid_losses, valid_accuracies):\n",
    "    \n",
    "    plt.xlabel('epoch')\n",
    "    plt.plot(train_losses, label='train_loss')\n",
    "    plt.plot(valid_losses, label='valid_loss')\n",
    "    plt.legend()\n",
    "    plt.show()\n",
    "    \n",
    "    plt.xlabel('epoch')\n",
    "    plt.plot(valid_accuracies, label='valid accuracy')\n",
    "    plt.legend()\n",
    "    plt.show()"
   ]
  },
  {
   "cell_type": "code",
   "execution_count": 5,
   "id": "graduate-spain",
   "metadata": {},
   "outputs": [],
   "source": [
    "data_tfs_norm = tfs.Compose([\n",
    "    tfs.ToTensor(),\n",
    "    tfs.Normalize((0.1377), (0.3125))])"
   ]
  },
  {
   "cell_type": "code",
   "execution_count": 6,
   "id": "common-nevada",
   "metadata": {},
   "outputs": [
    {
     "name": "stdout",
     "output_type": "stream",
     "text": [
      "mean: -0.0 std:1.0\n"
     ]
    }
   ],
   "source": [
    "train_norm = MNIST('./', train=True, transform=data_tfs_norm, download=True,)\n",
    "test_norm = MNIST('./', train=False, transform=data_tfs_norm, download=True)\n",
    "\n",
    "train_loader_norm = DataLoader(train_norm, batch_size=batch_size,shuffle=True, drop_last=True)\n",
    "test_loader_norm = DataLoader(test_norm, batch_size=batch_size,shuffle=True, drop_last=True)\n",
    "\n",
    "data_norm = next(iter(train_norm))\n",
    "print(f'mean: {data_norm[0].mean().round().item()} std:{data_norm[0].std().round().item()}')\n"
   ]
  },
  {
   "cell_type": "code",
   "execution_count": 7,
   "id": "twelve-thought",
   "metadata": {},
   "outputs": [
    {
     "name": "stdout",
     "output_type": "stream",
     "text": [
      "----------------------------------------------------------------\n",
      "        Layer (type)               Output Shape         Param #\n",
      "================================================================\n",
      "            Linear-1                 [1000, 64]          50,240\n",
      "              ReLU-2                 [1000, 64]               0\n",
      "       BatchNorm1d-3                 [1000, 64]             128\n",
      "            Linear-4                 [1000, 32]           2,080\n",
      "              ReLU-5                 [1000, 32]               0\n",
      "       BatchNorm1d-6                 [1000, 32]              64\n",
      "            Linear-7                 [1000, 10]             330\n",
      "================================================================\n",
      "Total params: 52,842\n",
      "Trainable params: 52,842\n",
      "Non-trainable params: 0\n",
      "----------------------------------------------------------------\n",
      "Input size (MB): 2.99\n",
      "Forward/backward pass size (MB): 2.27\n",
      "Params size (MB): 0.20\n",
      "Estimated Total Size (MB): 5.47\n",
      "----------------------------------------------------------------\n"
     ]
    }
   ],
   "source": [
    "class ModelBatchNorm(nn.Module):\n",
    "    def __init__(self):\n",
    "        super().__init__()\n",
    "    \n",
    "        self.hidden1 = nn.Linear(features, 64)\n",
    "        self.hidden2 = nn.Linear(64, 32)\n",
    "        self.bn1 = nn.BatchNorm1d(64)\n",
    "        self.bn2 = nn.BatchNorm1d(32)\n",
    "        self.output = nn.Linear(32, classes)\n",
    "        self.activation = nn.ReLU()\n",
    "\n",
    "    def forward(self, x):\n",
    "        \n",
    "        x = self.hidden1(x)\n",
    "        x = self.activation(x)\n",
    "        x = self.bn1(x)\n",
    "        x = self.hidden2(x)\n",
    "        x = self.activation(x)\n",
    "        x = self.bn2(x)\n",
    "        output = self.output(x)\n",
    "        return output        \n",
    "    \n",
    "summary(ModelBatchNorm(), (features,), batch_size=batch_size, device='CPU')"
   ]
  },
  {
   "cell_type": "code",
   "execution_count": 8,
   "id": "racial-aircraft",
   "metadata": {},
   "outputs": [
    {
     "name": "stderr",
     "output_type": "stream",
     "text": [
      "100%|\u001b[32m██████████████████████████████████████████████████████████████████████████████████\u001b[39m| 60/60 [00:11<00:00,  5.19it/s]\u001b[0m\n",
      "  2%|\u001b[32m█▍                                                                                 \u001b[39m| 1/60 [00:00<00:11,  5.29it/s]\u001b[0m"
     ]
    },
    {
     "name": "stdout",
     "output_type": "stream",
     "text": [
      "epoch:1        \t train loss:30.185        \t valid loss:68.0257        \t valid accuracies:(7839 / 10000) 78.39\n"
     ]
    },
    {
     "name": "stderr",
     "output_type": "stream",
     "text": [
      "100%|\u001b[32m██████████████████████████████████████████████████████████████████████████████████\u001b[39m| 60/60 [00:11<00:00,  5.32it/s]\u001b[0m\n",
      "  2%|\u001b[32m█▍                                                                                 \u001b[39m| 1/60 [00:00<00:11,  5.06it/s]\u001b[0m"
     ]
    },
    {
     "name": "stdout",
     "output_type": "stream",
     "text": [
      "epoch:2        \t train loss:27.7325        \t valid loss:17.7444        \t valid accuracies:(9099 / 10000) 90.99\n"
     ]
    },
    {
     "name": "stderr",
     "output_type": "stream",
     "text": [
      "100%|\u001b[32m██████████████████████████████████████████████████████████████████████████████████\u001b[39m| 60/60 [00:11<00:00,  5.34it/s]\u001b[0m\n",
      "  0%|\u001b[32m                                                                                           \u001b[39m| 0/60 [00:00<?, ?it/s]\u001b[0m"
     ]
    },
    {
     "name": "stdout",
     "output_type": "stream",
     "text": [
      "epoch:3        \t train loss:15.2759        \t valid loss:13.4284        \t valid accuracies:(9309 / 10000) 93.09\n"
     ]
    },
    {
     "name": "stderr",
     "output_type": "stream",
     "text": [
      "100%|\u001b[32m██████████████████████████████████████████████████████████████████████████████████\u001b[39m| 60/60 [00:11<00:00,  5.27it/s]\u001b[0m\n",
      "  2%|\u001b[32m█▍                                                                                 \u001b[39m| 1/60 [00:00<00:10,  5.49it/s]\u001b[0m"
     ]
    },
    {
     "name": "stdout",
     "output_type": "stream",
     "text": [
      "epoch:4        \t train loss:16.0455        \t valid loss:18.1796        \t valid accuracies:(9047 / 10000) 90.47\n"
     ]
    },
    {
     "name": "stderr",
     "output_type": "stream",
     "text": [
      "100%|\u001b[32m██████████████████████████████████████████████████████████████████████████████████\u001b[39m| 60/60 [00:11<00:00,  5.24it/s]\u001b[0m\n",
      "  2%|\u001b[32m█▍                                                                                 \u001b[39m| 1/60 [00:00<00:11,  5.24it/s]\u001b[0m"
     ]
    },
    {
     "name": "stdout",
     "output_type": "stream",
     "text": [
      "epoch:5        \t train loss:18.08        \t valid loss:13.8258        \t valid accuracies:(9367 / 10000) 93.67\n"
     ]
    },
    {
     "name": "stderr",
     "output_type": "stream",
     "text": [
      "100%|\u001b[32m██████████████████████████████████████████████████████████████████████████████████\u001b[39m| 60/60 [00:11<00:00,  5.35it/s]\u001b[0m\n",
      "  2%|\u001b[32m█▍                                                                                 \u001b[39m| 1/60 [00:00<00:10,  5.49it/s]\u001b[0m"
     ]
    },
    {
     "name": "stdout",
     "output_type": "stream",
     "text": [
      "epoch:6        \t train loss:14.9854        \t valid loss:16.3767        \t valid accuracies:(9292 / 10000) 92.92\n"
     ]
    },
    {
     "name": "stderr",
     "output_type": "stream",
     "text": [
      "100%|\u001b[32m██████████████████████████████████████████████████████████████████████████████████\u001b[39m| 60/60 [00:10<00:00,  5.46it/s]\u001b[0m\n",
      "  2%|\u001b[32m█▍                                                                                 \u001b[39m| 1/60 [00:00<00:10,  5.49it/s]\u001b[0m"
     ]
    },
    {
     "name": "stdout",
     "output_type": "stream",
     "text": [
      "epoch:7        \t train loss:8.2697        \t valid loss:3.4716        \t valid accuracies:(9238 / 10000) 92.38\n"
     ]
    },
    {
     "name": "stderr",
     "output_type": "stream",
     "text": [
      "100%|\u001b[32m██████████████████████████████████████████████████████████████████████████████████\u001b[39m| 60/60 [00:11<00:00,  5.41it/s]\u001b[0m\n",
      "  2%|\u001b[32m█▍                                                                                 \u001b[39m| 1/60 [00:00<00:11,  5.13it/s]\u001b[0m"
     ]
    },
    {
     "name": "stdout",
     "output_type": "stream",
     "text": [
      "epoch:8        \t train loss:2.9191        \t valid loss:1.9904        \t valid accuracies:(9580 / 10000) 95.8\n"
     ]
    },
    {
     "name": "stderr",
     "output_type": "stream",
     "text": [
      "100%|\u001b[32m██████████████████████████████████████████████████████████████████████████████████\u001b[39m| 60/60 [00:11<00:00,  5.36it/s]\u001b[0m\n",
      "  2%|\u001b[32m█▍                                                                                 \u001b[39m| 1/60 [00:00<00:11,  5.33it/s]\u001b[0m"
     ]
    },
    {
     "name": "stdout",
     "output_type": "stream",
     "text": [
      "epoch:9        \t train loss:1.0509        \t valid loss:2.8302        \t valid accuracies:(9543 / 10000) 95.43\n"
     ]
    },
    {
     "name": "stderr",
     "output_type": "stream",
     "text": [
      "100%|\u001b[32m██████████████████████████████████████████████████████████████████████████████████\u001b[39m| 60/60 [00:11<00:00,  5.40it/s]\u001b[0m\n"
     ]
    },
    {
     "name": "stdout",
     "output_type": "stream",
     "text": [
      "epoch:10        \t train loss:1.638        \t valid loss:1.2798        \t valid accuracies:(9602 / 10000) 96.02\n"
     ]
    },
    {
     "data": {
      "image/png": "[encoded data removed]",
      "text/plain": [
       "<Figure size 1152x432 with 1 Axes>"
      ]
     },
     "metadata": {
      "needs_background": "light"
     },
     "output_type": "display_data"
    },
    {
     "data": {
      "image/png": "[encoded data removed]",
      "text/plain": [
       "<Figure size 1152x432 with 1 Axes>"
      ]
     },
     "metadata": {
      "needs_background": "light"
     },
     "output_type": "display_data"
    }
   ],
   "source": [
    "# Run model\n",
    "model = ModelBatchNorm().to(device)\n",
    "criterion = nn.CrossEntropyLoss()\n",
    "optimizer = torch.optim.SGD(model.parameters(), lr=5, momentum = 0.9)\n",
    "info = fit(10, model, criterion, optimizer, train_loader_norm, test_loader_norm)\n",
    "plot_trainig(*info)"
   ]
  },
  {
   "cell_type": "code",
   "execution_count": 11,
   "id": "sound-textbook",
   "metadata": {},
   "outputs": [
    {
     "data": {
      "text/plain": [
       "tensor([[[-4.4064e-01, -4.4064e-01, -4.4064e-01, -4.4064e-01, -4.4064e-01,\n",
       "          -4.4064e-01, -4.4064e-01, -4.4064e-01, -4.4064e-01, -4.4064e-01,\n",
       "          -4.4064e-01, -4.4064e-01, -4.4064e-01, -4.4064e-01, -4.4064e-01,\n",
       "          -4.4064e-01, -4.4064e-01, -4.4064e-01, -4.4064e-01, -4.4064e-01,\n",
       "          -4.4064e-01, -4.4064e-01, -4.4064e-01, -4.4064e-01, -4.4064e-01,\n",
       "          -4.4064e-01, -4.4064e-01, -4.4064e-01],\n",
       "         [-4.4064e-01, -4.4064e-01, -4.4064e-01, -4.4064e-01, -4.4064e-01,\n",
       "          -4.4064e-01, -4.4064e-01, -4.4064e-01, -4.4064e-01, -4.4064e-01,\n",
       "          -4.4064e-01, -4.4064e-01, -4.4064e-01, -4.4064e-01, -4.4064e-01,\n",
       "          -4.4064e-01, -4.4064e-01, -4.4064e-01, -4.4064e-01, -4.4064e-01,\n",
       "          -4.4064e-01, -4.4064e-01, -4.4064e-01, -4.4064e-01, -4.4064e-01,\n",
       "          -4.4064e-01, -4.4064e-01, -4.4064e-01],\n",
       "         [-4.4064e-01, -4.4064e-01, -4.4064e-01, -4.4064e-01, -4.4064e-01,\n",
       "          -4.4064e-01, -4.4064e-01, -4.4064e-01, -4.4064e-01, -4.4064e-01,\n",
       "          -4.4064e-01, -4.4064e-01, -4.4064e-01, -4.4064e-01, -4.4064e-01,\n",
       "          -4.4064e-01, -4.4064e-01, -4.4064e-01, -4.4064e-01, -4.4064e-01,\n",
       "          -4.4064e-01, -4.4064e-01, -4.4064e-01, -4.4064e-01, -4.4064e-01,\n",
       "          -4.4064e-01, -4.4064e-01, -4.4064e-01],\n",
       "         [-4.4064e-01, -4.4064e-01, -4.4064e-01, -4.4064e-01, -4.4064e-01,\n",
       "          -4.4064e-01, -4.4064e-01, -4.4064e-01, -4.4064e-01, -4.4064e-01,\n",
       "          -4.4064e-01, -4.4064e-01, -4.4064e-01, -4.4064e-01, -4.4064e-01,\n",
       "          -4.4064e-01, -4.4064e-01, -4.4064e-01, -4.4064e-01, -4.4064e-01,\n",
       "          -4.4064e-01, -4.4064e-01, -4.4064e-01, -4.4064e-01, -4.4064e-01,\n",
       "          -4.4064e-01, -4.4064e-01, -4.4064e-01],\n",
       "         [-4.4064e-01, -4.4064e-01, -4.4064e-01, -4.4064e-01, -4.4064e-01,\n",
       "          -4.4064e-01, -4.4064e-01, -4.4064e-01, -4.4064e-01, -4.4064e-01,\n",
       "          -4.4064e-01, -4.4064e-01, -4.4064e-01, -4.4064e-01, -4.4064e-01,\n",
       "          -4.4064e-01, -4.4064e-01, -4.4064e-01, -4.4064e-01, -4.4064e-01,\n",
       "          -4.4064e-01, -4.4064e-01, -4.4064e-01, -4.4064e-01, -4.4064e-01,\n",
       "          -4.4064e-01, -4.4064e-01, -4.4064e-01],\n",
       "         [-4.4064e-01, -4.4064e-01, -4.4064e-01, -4.4064e-01, -4.4064e-01,\n",
       "          -4.4064e-01, -4.4064e-01, -4.4064e-01, -4.4064e-01, -4.4064e-01,\n",
       "          -4.4064e-01, -4.4064e-01, -4.0299e-01, -2.1476e-01, -2.1476e-01,\n",
       "          -2.1476e-01,  1.1405e+00,  1.2660e+00,  1.7554e+00, -1.1437e-01,\n",
       "           1.6425e+00,  2.7594e+00,  2.6590e+00,  1.1531e+00, -4.4064e-01,\n",
       "          -4.4064e-01, -4.4064e-01, -4.4064e-01],\n",
       "         [-4.4064e-01, -4.4064e-01, -4.4064e-01, -4.4064e-01, -4.4064e-01,\n",
       "          -4.4064e-01, -4.4064e-01, -4.4064e-01, -6.4169e-02,  1.1125e-02,\n",
       "           7.3897e-01,  1.4919e+00,  1.6927e+00,  2.7343e+00,  2.7343e+00,\n",
       "           2.7343e+00,  2.7343e+00,  2.7343e+00,  2.3829e+00,  1.7178e+00,\n",
       "           2.7343e+00,  2.5962e+00,  2.0064e+00,  3.6250e-01, -4.4064e-01,\n",
       "          -4.4064e-01, -4.4064e-01, -4.4064e-01],\n",
       "         [-4.4064e-01, -4.4064e-01, -4.4064e-01, -4.4064e-01, -4.4064e-01,\n",
       "          -4.4064e-01, -4.4064e-01,  1.7426e-01,  2.5460e+00,  2.7343e+00,\n",
       "           2.7343e+00,  2.7343e+00,  2.7343e+00,  2.7343e+00,  2.7343e+00,\n",
       "           2.7343e+00,  2.7343e+00,  2.7092e+00,  7.2642e-01,  5.8838e-01,\n",
       "           5.8838e-01,  2.6211e-01,  4.8772e-02, -4.4064e-01, -4.4064e-01,\n",
       "          -4.4064e-01, -4.4064e-01, -4.4064e-01],\n",
       "         [-4.4064e-01, -4.4064e-01, -4.4064e-01, -4.4064e-01, -4.4064e-01,\n",
       "          -4.4064e-01, -4.4064e-01, -2.1476e-01,  2.3076e+00,  2.7343e+00,\n",
       "           2.7343e+00,  2.7343e+00,  2.7343e+00,  2.7343e+00,  2.0441e+00,\n",
       "           1.8433e+00,  2.6590e+00,  2.5837e+00, -4.4064e-01, -4.4064e-01,\n",
       "          -4.4064e-01, -4.4064e-01, -4.4064e-01, -4.4064e-01, -4.4064e-01,\n",
       "          -4.4064e-01, -4.4064e-01, -4.4064e-01],\n",
       "         [-4.4064e-01, -4.4064e-01, -4.4064e-01, -4.4064e-01, -4.4064e-01,\n",
       "          -4.4064e-01, -4.4064e-01, -4.4064e-01,  5.6328e-01,  1.5170e+00,\n",
       "           9.0211e-01,  2.7343e+00,  2.7343e+00,  2.1319e+00, -3.0260e-01,\n",
       "          -4.4064e-01,  9.8968e-02,  1.4919e+00, -4.4064e-01, -4.4064e-01,\n",
       "          -4.4064e-01, -4.4064e-01, -4.4064e-01, -4.4064e-01, -4.4064e-01,\n",
       "          -4.4064e-01, -4.4064e-01, -4.4064e-01],\n",
       "         [-4.4064e-01, -4.4064e-01, -4.4064e-01, -4.4064e-01, -4.4064e-01,\n",
       "          -4.4064e-01, -4.4064e-01, -4.4064e-01, -4.4064e-01, -2.6495e-01,\n",
       "          -4.2809e-01,  1.4919e+00,  2.7343e+00,  6.8877e-01, -4.4064e-01,\n",
       "          -4.4064e-01, -4.4064e-01, -4.4064e-01, -4.4064e-01, -4.4064e-01,\n",
       "          -4.4064e-01, -4.4064e-01, -4.4064e-01, -4.4064e-01, -4.4064e-01,\n",
       "          -4.4064e-01, -4.4064e-01, -4.4064e-01],\n",
       "         [-4.4064e-01, -4.4064e-01, -4.4064e-01, -4.4064e-01, -4.4064e-01,\n",
       "          -4.4064e-01, -4.4064e-01, -4.4064e-01, -4.4064e-01, -4.4064e-01,\n",
       "          -4.4064e-01,  1.3037e+00,  2.7343e+00,  1.9437e+00, -4.1554e-01,\n",
       "          -4.4064e-01, -4.4064e-01, -4.4064e-01, -4.4064e-01, -4.4064e-01,\n",
       "          -4.4064e-01, -4.4064e-01, -4.4064e-01, -4.4064e-01, -4.4064e-01,\n",
       "          -4.4064e-01, -4.4064e-01, -4.4064e-01],\n",
       "         [-4.4064e-01, -4.4064e-01, -4.4064e-01, -4.4064e-01, -4.4064e-01,\n",
       "          -4.4064e-01, -4.4064e-01, -4.4064e-01, -4.4064e-01, -4.4064e-01,\n",
       "          -4.4064e-01, -3.0260e-01,  1.9437e+00,  2.7343e+00,  4.3779e-01,\n",
       "          -4.4064e-01, -4.4064e-01, -4.4064e-01, -4.4064e-01, -4.4064e-01,\n",
       "          -4.4064e-01, -4.4064e-01, -4.4064e-01, -4.4064e-01, -4.4064e-01,\n",
       "          -4.4064e-01, -4.4064e-01, -4.4064e-01],\n",
       "         [-4.4064e-01, -4.4064e-01, -4.4064e-01, -4.4064e-01, -4.4064e-01,\n",
       "          -4.4064e-01, -4.4064e-01, -4.4064e-01, -4.4064e-01, -4.4064e-01,\n",
       "          -4.4064e-01, -4.4064e-01, -1.4243e-03,  2.5837e+00,  2.3829e+00,\n",
       "           1.5672e+00,  9.1465e-01, -4.2809e-01, -4.4064e-01, -4.4064e-01,\n",
       "          -4.4064e-01, -4.4064e-01, -4.4064e-01, -4.4064e-01, -4.4064e-01,\n",
       "          -4.4064e-01, -4.4064e-01, -4.4064e-01],\n",
       "         [-4.4064e-01, -4.4064e-01, -4.4064e-01, -4.4064e-01, -4.4064e-01,\n",
       "          -4.4064e-01, -4.4064e-01, -4.4064e-01, -4.4064e-01, -4.4064e-01,\n",
       "          -4.4064e-01, -4.4064e-01, -4.4064e-01,  5.7583e-01,  2.5711e+00,\n",
       "           2.7343e+00,  2.7343e+00,  1.0527e+00, -1.2691e-01, -4.4064e-01,\n",
       "          -4.4064e-01, -4.4064e-01, -4.4064e-01, -4.4064e-01, -4.4064e-01,\n",
       "          -4.4064e-01, -4.4064e-01, -4.4064e-01],\n",
       "         [-4.4064e-01, -4.4064e-01, -4.4064e-01, -4.4064e-01, -4.4064e-01,\n",
       "          -4.4064e-01, -4.4064e-01, -4.4064e-01, -4.4064e-01, -4.4064e-01,\n",
       "          -4.4064e-01, -4.4064e-01, -4.4064e-01, -4.4064e-01,  1.2407e-01,\n",
       "           1.8935e+00,  2.7343e+00,  2.7343e+00,  1.4417e+00, -1.0182e-01,\n",
       "          -4.4064e-01, -4.4064e-01, -4.4064e-01, -4.4064e-01, -4.4064e-01,\n",
       "          -4.4064e-01, -4.4064e-01, -4.4064e-01],\n",
       "         [-4.4064e-01, -4.4064e-01, -4.4064e-01, -4.4064e-01, -4.4064e-01,\n",
       "          -4.4064e-01, -4.4064e-01, -4.4064e-01, -4.4064e-01, -4.4064e-01,\n",
       "          -4.4064e-01, -4.4064e-01, -4.4064e-01, -4.4064e-01, -4.4064e-01,\n",
       "          -2.3986e-01,  7.2642e-01,  2.7217e+00,  2.7343e+00,  1.9060e+00,\n",
       "          -4.4064e-01, -4.4064e-01, -4.4064e-01, -4.4064e-01, -4.4064e-01,\n",
       "          -4.4064e-01, -4.4064e-01, -4.4064e-01],\n",
       "         [-4.4064e-01, -4.4064e-01, -4.4064e-01, -4.4064e-01, -4.4064e-01,\n",
       "          -4.4064e-01, -4.4064e-01, -4.4064e-01, -4.4064e-01, -4.4064e-01,\n",
       "          -4.4064e-01, -4.4064e-01, -4.4064e-01, -4.4064e-01, -4.4064e-01,\n",
       "          -4.4064e-01, -4.4064e-01,  2.6841e+00,  2.7343e+00,  2.6841e+00,\n",
       "           3.6250e-01, -4.4064e-01, -4.4064e-01, -4.4064e-01, -4.4064e-01,\n",
       "          -4.4064e-01, -4.4064e-01, -4.4064e-01],\n",
       "         [-4.4064e-01, -4.4064e-01, -4.4064e-01, -4.4064e-01, -4.4064e-01,\n",
       "          -4.4064e-01, -4.4064e-01, -4.4064e-01, -4.4064e-01, -4.4064e-01,\n",
       "          -4.4064e-01, -4.4064e-01, -4.4064e-01, -4.4064e-01,  1.3661e-01,\n",
       "           1.1907e+00,  1.8558e+00,  2.7343e+00,  2.7343e+00,  2.1570e+00,\n",
       "          -4.1554e-01, -4.4064e-01, -4.4064e-01, -4.4064e-01, -4.4064e-01,\n",
       "          -4.4064e-01, -4.4064e-01, -4.4064e-01],\n",
       "         [-4.4064e-01, -4.4064e-01, -4.4064e-01, -4.4064e-01, -4.4064e-01,\n",
       "          -4.4064e-01, -4.4064e-01, -4.4064e-01, -4.4064e-01, -4.4064e-01,\n",
       "          -4.4064e-01, -4.4064e-01,  4.8772e-02,  1.4166e+00,  2.4331e+00,\n",
       "           2.7343e+00,  2.7343e+00,  2.7343e+00,  2.6966e+00,  1.8433e+00,\n",
       "          -4.4064e-01, -4.4064e-01, -4.4064e-01, -4.4064e-01, -4.4064e-01,\n",
       "          -4.4064e-01, -4.4064e-01, -4.4064e-01],\n",
       "         [-4.4064e-01, -4.4064e-01, -4.4064e-01, -4.4064e-01, -4.4064e-01,\n",
       "          -4.4064e-01, -4.4064e-01, -4.4064e-01, -4.4064e-01, -4.4064e-01,\n",
       "          -1.3946e-01,  9.8995e-01,  2.3327e+00,  2.7343e+00,  2.7343e+00,\n",
       "           2.7343e+00,  2.7343e+00,  2.0817e+00,  5.3818e-01, -4.4064e-01,\n",
       "          -4.4064e-01, -4.4064e-01, -4.4064e-01, -4.4064e-01, -4.4064e-01,\n",
       "          -4.4064e-01, -4.4064e-01, -4.4064e-01],\n",
       "         [-4.4064e-01, -4.4064e-01, -4.4064e-01, -4.4064e-01, -4.4064e-01,\n",
       "          -4.4064e-01, -4.4064e-01, -4.4064e-01, -1.5201e-01,  3.8760e-01,\n",
       "           2.2323e+00,  2.7343e+00,  2.7343e+00,  2.7343e+00,  2.7343e+00,\n",
       "           2.0441e+00,  5.7583e-01, -4.1554e-01, -4.4064e-01, -4.4064e-01,\n",
       "          -4.4064e-01, -4.4064e-01, -4.4064e-01, -4.4064e-01, -4.4064e-01,\n",
       "          -4.4064e-01, -4.4064e-01, -4.4064e-01],\n",
       "         [-4.4064e-01, -4.4064e-01, -4.4064e-01, -4.4064e-01, -4.4064e-01,\n",
       "          -4.4064e-01, -2.1476e-01,  1.7052e+00,  2.3076e+00,  2.7343e+00,\n",
       "           2.7343e+00,  2.7343e+00,  2.7343e+00,  2.0064e+00,  5.6328e-01,\n",
       "          -3.2770e-01, -4.4064e-01, -4.4064e-01, -4.4064e-01, -4.4064e-01,\n",
       "          -4.4064e-01, -4.4064e-01, -4.4064e-01, -4.4064e-01, -4.4064e-01,\n",
       "          -4.4064e-01, -4.4064e-01, -4.4064e-01],\n",
       "         [-4.4064e-01, -4.4064e-01, -4.4064e-01, -4.4064e-01,  2.4956e-01,\n",
       "           1.7178e+00,  2.3954e+00,  2.7343e+00,  2.7343e+00,  2.7343e+00,\n",
       "           2.7343e+00,  2.6213e+00,  1.2284e+00, -3.0260e-01, -4.4064e-01,\n",
       "          -4.4064e-01, -4.4064e-01, -4.4064e-01, -4.4064e-01, -4.4064e-01,\n",
       "          -4.4064e-01, -4.4064e-01, -4.4064e-01, -4.4064e-01, -4.4064e-01,\n",
       "          -4.4064e-01, -4.4064e-01, -4.4064e-01],\n",
       "         [-4.4064e-01, -4.4064e-01, -4.4064e-01, -4.4064e-01,  1.2660e+00,\n",
       "           2.7343e+00,  2.7343e+00,  2.7343e+00,  2.2198e+00,  1.2535e+00,\n",
       "           1.2158e+00, -2.3986e-01, -4.4064e-01, -4.4064e-01, -4.4064e-01,\n",
       "          -4.4064e-01, -4.4064e-01, -4.4064e-01, -4.4064e-01, -4.4064e-01,\n",
       "          -4.4064e-01, -4.4064e-01, -4.4064e-01, -4.4064e-01, -4.4064e-01,\n",
       "          -4.4064e-01, -4.4064e-01, -4.4064e-01],\n",
       "         [-4.4064e-01, -4.4064e-01, -4.4064e-01, -4.4064e-01, -4.4064e-01,\n",
       "          -4.4064e-01, -4.4064e-01, -4.4064e-01, -4.4064e-01, -4.4064e-01,\n",
       "          -4.4064e-01, -4.4064e-01, -4.4064e-01, -4.4064e-01, -4.4064e-01,\n",
       "          -4.4064e-01, -4.4064e-01, -4.4064e-01, -4.4064e-01, -4.4064e-01,\n",
       "          -4.4064e-01, -4.4064e-01, -4.4064e-01, -4.4064e-01, -4.4064e-01,\n",
       "          -4.4064e-01, -4.4064e-01, -4.4064e-01],\n",
       "         [-4.4064e-01, -4.4064e-01, -4.4064e-01, -4.4064e-01, -4.4064e-01,\n",
       "          -4.4064e-01, -4.4064e-01, -4.4064e-01, -4.4064e-01, -4.4064e-01,\n",
       "          -4.4064e-01, -4.4064e-01, -4.4064e-01, -4.4064e-01, -4.4064e-01,\n",
       "          -4.4064e-01, -4.4064e-01, -4.4064e-01, -4.4064e-01, -4.4064e-01,\n",
       "          -4.4064e-01, -4.4064e-01, -4.4064e-01, -4.4064e-01, -4.4064e-01,\n",
       "          -4.4064e-01, -4.4064e-01, -4.4064e-01],\n",
       "         [-4.4064e-01, -4.4064e-01, -4.4064e-01, -4.4064e-01, -4.4064e-01,\n",
       "          -4.4064e-01, -4.4064e-01, -4.4064e-01, -4.4064e-01, -4.4064e-01,\n",
       "          -4.4064e-01, -4.4064e-01, -4.4064e-01, -4.4064e-01, -4.4064e-01,\n",
       "          -4.4064e-01, -4.4064e-01, -4.4064e-01, -4.4064e-01, -4.4064e-01,\n",
       "          -4.4064e-01, -4.4064e-01, -4.4064e-01, -4.4064e-01, -4.4064e-01,\n",
       "          -4.4064e-01, -4.4064e-01, -4.4064e-01]]])"
      ]
     },
     "execution_count": 11,
     "metadata": {},
     "output_type": "execute_result"
    }
   ],
   "source": [
    "data_norm[0]"
   ]
  },
  {
   "cell_type": "code",
   "execution_count": null,
   "id": "wrong-family",
   "metadata": {},
   "outputs": [],
   "source": [
    "test_image_eighty, test_target_eighty = [79]"
   ]
  }
 ],
 "metadata": {
  "kernelspec": {
   "display_name": "Python 3",
   "language": "python",
   "name": "python3"
  },
  "language_info": {
   "codemirror_mode": {
    "name": "ipython",
    "version": 3
   },
   "file_extension": ".py",
   "mimetype": "text/x-python",
   "name": "python",
   "nbconvert_exporter": "python",
   "pygments_lexer": "ipython3",
   "version": "3.9.2"
  }
 },
 "nbformat": 4,
 "nbformat_minor": 5
}
