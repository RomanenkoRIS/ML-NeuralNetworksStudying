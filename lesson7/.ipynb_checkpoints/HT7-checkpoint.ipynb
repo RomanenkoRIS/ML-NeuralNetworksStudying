{
 "cells": [
  {
   "cell_type": "code",
   "execution_count": 1,
   "id": "following-review",
   "metadata": {},
   "outputs": [],
   "source": [
    "import torch\n",
    "import os\n",
    "import torchvision.transforms as tfs\n",
    "import torch.nn as nn\n",
    "import matplotlib.pyplot as plt\n",
    "import torch.nn.functional as F\n",
    "import pandas as pd\n",
    "\n",
    "from torchvision.datasets import MNIST\n",
    "from torch.utils.data import DataLoader\n",
    "from torchsummary import summary\n",
    "\n",
    "from pytorch_lightning.metrics.functional import precision_recall\n",
    "from pytorch_lightning.metrics.functional import accuracy\n",
    "\n",
    "import time\n",
    "\n",
    "from tqdm import trange\n",
    "from colorama import Fore\n",
    "import tqdm\n",
    "\n",
    "%matplotlib inline\n",
    "from pylab import rcParams\n",
    "rcParams['figure.figsize'] = 16, 6\n",
    "\n",
    "import time\n",
    "from tqdm import tqdm"
   ]
  },
  {
   "cell_type": "code",
   "execution_count": 2,
   "id": "demonstrated-rabbit",
   "metadata": {},
   "outputs": [
    {
     "name": "stdout",
     "output_type": "stream",
     "text": [
      "Defaulting to user installation because normal site-packages is not writeable\n",
      "Requirement already satisfied: tqdm in c:\\users\\2011-3\\appdata\\roaming\\python\\python39\\site-packages (4.60.0)\n"
     ]
    }
   ],
   "source": [
    "!pip install tqdm"
   ]
  },
  {
   "cell_type": "code",
   "execution_count": 76,
   "id": "inappropriate-layout",
   "metadata": {},
   "outputs": [],
   "source": [
    "def fit(epochs, model, loss_func, opt, train_dl, valid_dl):\n",
    "    \n",
    "    train_losses = []\n",
    "    val_losses = []\n",
    "    valid_accuracies = []\n",
    "          \n",
    "    #train part\n",
    "    for epoch in range(epochs):\n",
    "        model.train()\n",
    "        loss_sum_tr = 0        \n",
    "        \n",
    "        for data, target in tqdm((train_dl),\n",
    "                                 bar_format=\"{l_bar}%s{bar}%s{r_bar}\" % (Fore.GREEN, Fore.RESET)):\n",
    "            \n",
    "            data, target = data.view(data.shape[0],-1).to(device), target.to(device)\n",
    "            \n",
    "            loss = loss_func(model(data), target)\n",
    "            loss_sum_tr += loss.item()\n",
    "            loss.backward()\n",
    "            torch.nn.utils.clip_grad_norm_(model.parameters(), 3)\n",
    "            opt.step()\n",
    "            opt.zero_grad()\n",
    "            \n",
    "        train_losses.append(loss_sum_tr / len(train_dl))            \n",
    "        \n",
    "       \n",
    "\n",
    "        #test part\n",
    "        \n",
    "        model.eval()\n",
    "        loss_sum_val = 0\n",
    "        correct = 0\n",
    "        num = 0\n",
    "        \n",
    "        with torch.no_grad():\n",
    "            for data_ts, target_ts in valid_dl:\n",
    "                data_ts, target_ts = data_ts.view(data_ts.shape[0],-1).to(device), target_ts.to(device)\n",
    "                probs = model(data_ts)\n",
    "                loss_sum_val += loss_func(model(data_ts), target_ts).item()\n",
    "                \n",
    "                \n",
    "                _, preds = torch.max(probs, axis =-1)\n",
    "                correct += (preds == target_ts).sum().item()\n",
    "                num += len(data_ts)\n",
    "        \n",
    "        val_losses.append(loss_sum_val / len(valid_dl))\n",
    "        valid_accuracies.append(correct / num)\n",
    "                \n",
    "        print(f'epoch:{int(epoch+1)}\\\n",
    "        \\t train loss:{round(loss_sum_tr / len(train_dl),4)}\\\n",
    "        \\t valid loss:{round(loss_sum_val/len(valid_dl),4)}\\\n",
    "        \\t valid accuracies:({correct} / {num}) {round((correct / num)*100,2)}')\n",
    "        \n",
    "    return train_losses, val_losses, valid_accuracies\n",
    "\n",
    "\n",
    "batch_size = 1000#64\n",
    "features = 784\n",
    "classes = 10\n",
    "\n",
    "device = torch.device(\"cpu\")"
   ]
  },
  {
   "cell_type": "code",
   "execution_count": 77,
   "id": "formal-thanks",
   "metadata": {},
   "outputs": [],
   "source": [
    "def plot_trainig(train_losses, valid_losses, valid_accuracies):\n",
    "    \n",
    "    plt.xlabel('epoch')\n",
    "    plt.plot(train_losses, label='train_loss')\n",
    "    plt.plot(valid_losses, label='valid_loss')\n",
    "    plt.legend()\n",
    "    plt.show()\n",
    "    \n",
    "    plt.xlabel('epoch')\n",
    "    plt.plot(valid_accuracies, label='valid accuracy')\n",
    "    plt.legend()\n",
    "    plt.show()"
   ]
  },
  {
   "cell_type": "code",
   "execution_count": 78,
   "id": "graduate-spain",
   "metadata": {},
   "outputs": [],
   "source": [
    "data_tfs_norm = tfs.Compose([\n",
    "    tfs.ToTensor(),\n",
    "    tfs.Normalize((0.1377), (0.3125))])"
   ]
  },
  {
   "cell_type": "code",
   "execution_count": 79,
   "id": "common-nevada",
   "metadata": {},
   "outputs": [
    {
     "name": "stdout",
     "output_type": "stream",
     "text": [
      "mean: -0.0 std:1.0\n"
     ]
    }
   ],
   "source": [
    "train_norm = MNIST('./', train=True, transform=data_tfs_norm, download=True,)\n",
    "test_norm = MNIST('./', train=False, transform=data_tfs_norm, download=True)\n",
    "\n",
    "train_loader_norm = DataLoader(train_norm, batch_size=batch_size,shuffle=True, drop_last=True)\n",
    "test_loader_norm = DataLoader(test_norm, batch_size=batch_size,shuffle=True, drop_last=True)\n",
    "\n",
    "data_norm = next(iter(train_norm))\n",
    "print(f'mean: {data_norm[0].mean().round().item()} std:{data_norm[0].std().round().item()}')\n"
   ]
  },
  {
   "cell_type": "code",
   "execution_count": 80,
   "id": "twelve-thought",
   "metadata": {},
   "outputs": [
    {
     "name": "stdout",
     "output_type": "stream",
     "text": [
      "----------------------------------------------------------------\n",
      "        Layer (type)               Output Shape         Param #\n",
      "================================================================\n",
      "            Linear-1                 [1000, 64]          50,240\n",
      "              ReLU-2                 [1000, 64]               0\n",
      "       BatchNorm1d-3                 [1000, 64]             128\n",
      "            Linear-4                 [1000, 32]           2,080\n",
      "              ReLU-5                 [1000, 32]               0\n",
      "       BatchNorm1d-6                 [1000, 32]              64\n",
      "            Linear-7                 [1000, 10]             330\n",
      "================================================================\n",
      "Total params: 52,842\n",
      "Trainable params: 52,842\n",
      "Non-trainable params: 0\n",
      "----------------------------------------------------------------\n",
      "Input size (MB): 2.99\n",
      "Forward/backward pass size (MB): 2.27\n",
      "Params size (MB): 0.20\n",
      "Estimated Total Size (MB): 5.47\n",
      "----------------------------------------------------------------\n"
     ]
    }
   ],
   "source": [
    "class ModelBatchNorm(nn.Module):\n",
    "    def __init__(self):\n",
    "        super().__init__()\n",
    "    \n",
    "        self.hidden1 = nn.Linear(features, 64)\n",
    "        self.hidden2 = nn.Linear(64, 32)\n",
    "        self.bn1 = nn.BatchNorm1d(64)\n",
    "        self.bn2 = nn.BatchNorm1d(32)\n",
    "        self.output = nn.Linear(32, classes)\n",
    "        self.activation = nn.ReLU()\n",
    "\n",
    "    def forward(self, x):\n",
    "        \n",
    "        x = self.hidden1(x)\n",
    "        x = self.activation(x)\n",
    "        x = self.bn1(x)\n",
    "        x = self.hidden2(x)\n",
    "        x = self.activation(x)\n",
    "        x = self.bn2(x)\n",
    "        output = self.output(x)\n",
    "        return output        \n",
    "    \n",
    "summary(ModelBatchNorm(), (features,), batch_size=batch_size, device='CPU')"
   ]
  },
  {
   "cell_type": "code",
   "execution_count": 81,
   "id": "racial-aircraft",
   "metadata": {},
   "outputs": [
    {
     "name": "stderr",
     "output_type": "stream",
     "text": [
      "100%|\u001b[32m██████████████████████████████████████████████████████████████████████████████████\u001b[39m| 60/60 [00:10<00:00,  5.50it/s]\u001b[0m\n",
      "  2%|\u001b[32m█▍                                                                                 \u001b[39m| 1/60 [00:00<00:11,  5.15it/s]\u001b[0m"
     ]
    },
    {
     "name": "stdout",
     "output_type": "stream",
     "text": [
      "epoch:1        \t train loss:0.4424        \t valid loss:0.2356        \t valid accuracies:(9308 / 10000) 93.08\n"
     ]
    },
    {
     "name": "stderr",
     "output_type": "stream",
     "text": [
      "100%|\u001b[32m██████████████████████████████████████████████████████████████████████████████████\u001b[39m| 60/60 [00:11<00:00,  5.41it/s]\u001b[0m\n",
      "  2%|\u001b[32m█▍                                                                                 \u001b[39m| 1/60 [00:00<00:10,  5.49it/s]\u001b[0m"
     ]
    },
    {
     "name": "stdout",
     "output_type": "stream",
     "text": [
      "epoch:2        \t train loss:0.2071        \t valid loss:0.174        \t valid accuracies:(9435 / 10000) 94.35\n"
     ]
    },
    {
     "name": "stderr",
     "output_type": "stream",
     "text": [
      "100%|\u001b[32m██████████████████████████████████████████████████████████████████████████████████\u001b[39m| 60/60 [00:10<00:00,  5.52it/s]\u001b[0m\n",
      "  2%|\u001b[32m█▍                                                                                 \u001b[39m| 1/60 [00:00<00:11,  5.35it/s]\u001b[0m"
     ]
    },
    {
     "name": "stdout",
     "output_type": "stream",
     "text": [
      "epoch:3        \t train loss:0.1581        \t valid loss:0.1614        \t valid accuracies:(9497 / 10000) 94.97\n"
     ]
    },
    {
     "name": "stderr",
     "output_type": "stream",
     "text": [
      "100%|\u001b[32m██████████████████████████████████████████████████████████████████████████████████\u001b[39m| 60/60 [00:11<00:00,  5.40it/s]\u001b[0m\n",
      "  2%|\u001b[32m█▍                                                                                 \u001b[39m| 1/60 [00:00<00:10,  5.59it/s]\u001b[0m"
     ]
    },
    {
     "name": "stdout",
     "output_type": "stream",
     "text": [
      "epoch:4        \t train loss:0.1312        \t valid loss:0.1417        \t valid accuracies:(9565 / 10000) 95.65\n"
     ]
    },
    {
     "name": "stderr",
     "output_type": "stream",
     "text": [
      "100%|\u001b[32m██████████████████████████████████████████████████████████████████████████████████\u001b[39m| 60/60 [00:10<00:00,  5.48it/s]\u001b[0m\n",
      "  2%|\u001b[32m█▍                                                                                 \u001b[39m| 1/60 [00:00<00:10,  5.49it/s]\u001b[0m"
     ]
    },
    {
     "name": "stdout",
     "output_type": "stream",
     "text": [
      "epoch:5        \t train loss:0.1149        \t valid loss:0.1225        \t valid accuracies:(9634 / 10000) 96.34\n"
     ]
    },
    {
     "name": "stderr",
     "output_type": "stream",
     "text": [
      "100%|\u001b[32m██████████████████████████████████████████████████████████████████████████████████\u001b[39m| 60/60 [00:11<00:00,  5.19it/s]\u001b[0m\n",
      "  2%|\u001b[32m█▍                                                                                 \u001b[39m| 1/60 [00:00<00:10,  5.65it/s]\u001b[0m"
     ]
    },
    {
     "name": "stdout",
     "output_type": "stream",
     "text": [
      "epoch:6        \t train loss:0.0981        \t valid loss:0.1234        \t valid accuracies:(9628 / 10000) 96.28\n"
     ]
    },
    {
     "name": "stderr",
     "output_type": "stream",
     "text": [
      "100%|\u001b[32m██████████████████████████████████████████████████████████████████████████████████\u001b[39m| 60/60 [00:11<00:00,  5.25it/s]\u001b[0m\n",
      "  2%|\u001b[32m█▍                                                                                 \u001b[39m| 1/60 [00:00<00:10,  5.62it/s]\u001b[0m"
     ]
    },
    {
     "name": "stdout",
     "output_type": "stream",
     "text": [
      "epoch:7        \t train loss:0.0882        \t valid loss:0.1093        \t valid accuracies:(9666 / 10000) 96.66\n"
     ]
    },
    {
     "name": "stderr",
     "output_type": "stream",
     "text": [
      "100%|\u001b[32m██████████████████████████████████████████████████████████████████████████████████\u001b[39m| 60/60 [00:11<00:00,  5.34it/s]\u001b[0m\n",
      "  2%|\u001b[32m█▍                                                                                 \u001b[39m| 1/60 [00:00<00:10,  5.43it/s]\u001b[0m"
     ]
    },
    {
     "name": "stdout",
     "output_type": "stream",
     "text": [
      "epoch:8        \t train loss:0.0788        \t valid loss:0.1113        \t valid accuracies:(9665 / 10000) 96.65\n"
     ]
    },
    {
     "name": "stderr",
     "output_type": "stream",
     "text": [
      "100%|\u001b[32m██████████████████████████████████████████████████████████████████████████████████\u001b[39m| 60/60 [00:11<00:00,  5.30it/s]\u001b[0m\n",
      "  0%|\u001b[32m                                                                                           \u001b[39m| 0/60 [00:00<?, ?it/s]\u001b[0m"
     ]
    },
    {
     "name": "stdout",
     "output_type": "stream",
     "text": [
      "epoch:9        \t train loss:0.0738        \t valid loss:0.116        \t valid accuracies:(9669 / 10000) 96.69\n"
     ]
    },
    {
     "name": "stderr",
     "output_type": "stream",
     "text": [
      "100%|\u001b[32m██████████████████████████████████████████████████████████████████████████████████\u001b[39m| 60/60 [00:11<00:00,  5.34it/s]\u001b[0m\n"
     ]
    },
    {
     "name": "stdout",
     "output_type": "stream",
     "text": [
      "epoch:10        \t train loss:0.0724        \t valid loss:0.1182        \t valid accuracies:(9654 / 10000) 96.54\n"
     ]
    },
    {
     "data": {
      "image/png": "[encoded data removed]",
      "text/plain": [
       "<Figure size 1152x432 with 1 Axes>"
      ]
     },
     "metadata": {
      "needs_background": "light"
     },
     "output_type": "display_data"
    },
    {
     "data": {
      "image/png": "[encoded data removed]",
      "text/plain": [
       "<Figure size 1152x432 with 1 Axes>"
      ]
     },
     "metadata": {
      "needs_background": "light"
     },
     "output_type": "display_data"
    }
   ],
   "source": [
    "# Run model\n",
    "model = ModelBatchNorm().to(device)\n",
    "criterion = nn.CrossEntropyLoss()\n",
    "optimizer = torch.optim.SGD(model.parameters(), lr=2, momentum = 0.9)\n",
    "info = fit(10, model, criterion, optimizer, train_loader_norm, test_loader_norm)\n",
    "plot_trainig(*info)"
   ]
  },
  {
   "cell_type": "code",
   "execution_count": null,
   "id": "sound-textbook",
   "metadata": {},
   "outputs": [],
   "source": []
  },
  {
   "cell_type": "code",
   "execution_count": null,
   "id": "wrong-family",
   "metadata": {},
   "outputs": [],
   "source": []
  }
 ],
 "metadata": {
  "kernelspec": {
   "display_name": "Python 3",
   "language": "python",
   "name": "python3"
  },
  "language_info": {
   "codemirror_mode": {
    "name": "ipython",
    "version": 3
   },
   "file_extension": ".py",
   "mimetype": "text/x-python",
   "name": "python",
   "nbconvert_exporter": "python",
   "pygments_lexer": "ipython3",
   "version": "3.9.2"
  }
 },
 "nbformat": 4,
 "nbformat_minor": 5
}
