{
  "nbformat": 4,
  "nbformat_minor": 5,
  "metadata": {
    "accelerator": "GPU",
    "colab": {
      "name": "HT10.ipynb",
      "provenance": [],
      "collapsed_sections": [],
      "toc_visible": true,
      "include_colab_link": true
    },
    "kernelspec": {
      "display_name": "Python 3",
      "language": "python",
      "name": "python3"
    },
    "language_info": {
      "codemirror_mode": {
        "name": "ipython",
        "version": 3
      },
      "file_extension": ".py",
      "mimetype": "text/x-python",
      "name": "python",
      "nbconvert_exporter": "python",
      "pygments_lexer": "ipython3",
      "version": "3.9.2"
    }
  },
  "cells": [
    {
      "cell_type": "markdown",
      "metadata": {
        "id": "view-in-github",
        "colab_type": "text"
      },
      "source": [
        "<a href=\"https://colab.research.google.com/github/RomanenkoRIS/ML-NeuralNetworksStudying/blob/main/HT10.ipynb\" target=\"_parent\"><img src=\"https://colab.research.google.com/assets/colab-badge.svg\" alt=\"Open In Colab\"/></a>"
      ]
    },
    {
      "cell_type": "code",
      "metadata": {
        "id": "kPuGIsg5k5z6"
      },
      "source": [
        "# !pip install tqdm==4.38"
      ],
      "id": "kPuGIsg5k5z6",
      "execution_count": null,
      "outputs": []
    },
    {
      "cell_type": "code",
      "metadata": {
        "id": "UTjVuoq93a2L"
      },
      "source": [
        "!pip install --force https://github.com/chengs/tqdm/archive/colab.zip"
      ],
      "id": "UTjVuoq93a2L",
      "execution_count": null,
      "outputs": []
    },
    {
      "cell_type": "code",
      "metadata": {
        "id": "relative-commissioner"
      },
      "source": [
        "import torch\n",
        "import time\n",
        "import torchvision\n",
        "import os\n",
        "import matplotlib.pyplot as plt\n",
        "import numpy as np\n",
        "import pandas as pd\n",
        "import torch.utils.data as data_utils\n",
        "from torchvision import datasets, transforms\n",
        "from torch.utils.data import DataLoader\n",
        "from torch import nn\n",
        "from torch.nn import functional as torch_F\n",
        " \n",
        " \n",
        " \n",
        "from time import sleep\n",
        "from tqdm import tqdm_notebook as tqdm"
      ],
      "id": "relative-commissioner",
      "execution_count": null,
      "outputs": []
    },
    {
      "cell_type": "code",
      "metadata": {
        "id": "FB8ZGKlFhOQy",
        "colab": {
          "base_uri": "https://localhost:8080/"
        },
        "outputId": "6cdd6704-3132-4467-adb3-7b1eb7173c61"
      },
      "source": [
        "from google.colab import drive\n",
        "drive.mount('/content/drive')"
      ],
      "id": "FB8ZGKlFhOQy",
      "execution_count": null,
      "outputs": [
        {
          "output_type": "stream",
          "text": [
            "Mounted at /content/drive\n"
          ],
          "name": "stdout"
        }
      ]
    },
    {
      "cell_type": "code",
      "metadata": {
        "colab": {
          "base_uri": "https://localhost:8080/"
        },
        "id": "-6cQpeVF3Hyj",
        "outputId": "82842d8d-3142-48aa-c008-73ecea0857ac"
      },
      "source": [
        "if torch.cuda.is_available():\n",
        "  device = torch.device(\"cuda:0\")\n",
        "  print('GPU')\n",
        "else:\n",
        "  device = torch.device(\"cpu\")\n",
        "  print(\"CPU\")"
      ],
      "id": "-6cQpeVF3Hyj",
      "execution_count": null,
      "outputs": [
        {
          "output_type": "stream",
          "text": [
            "GPU\n"
          ],
          "name": "stdout"
        }
      ]
    },
    {
      "cell_type": "code",
      "metadata": {
        "id": "FnpyLEHKF8N2"
      },
      "source": [
        "ValPath = 'drive/MyDrive/ColabNotebooks/test'\n",
        "TrainPath = 'drive/MyDrive/ColabNotebooks/train'\n",
        " \n",
        " \n",
        "transform = transforms.Compose([transforms.RandomCrop(224),\n",
        "                                transforms.RandomHorizontalFlip(p=0.5),\n",
        "                                transforms.ToTensor(),\n",
        "                                transforms.Normalize(mean=[0.485, 0.456, 0.406],\n",
        "                                                     std=[0.229, 0.224, 0.225])])\n",
        " \n",
        "dataset = datasets.ImageFolder(root=TrainPath, transform=transform,) \n",
        " \n",
        "train_data, val_data = torch.utils.data.random_split(dataset, [int(0.9* len(dataset)),int(0.1* len(dataset))])\n",
        " \n",
        " \n",
        "loader_train = DataLoader(train_data,\n",
        "                    shuffle=True,\n",
        "                    batch_size=128, \n",
        "                    num_workers=2)\n",
        " \n",
        "loader_val = DataLoader(val_data, num_workers = 2)"
      ],
      "id": "FnpyLEHKF8N2",
      "execution_count": null,
      "outputs": []
    },
    {
      "cell_type": "code",
      "metadata": {
        "colab": {
          "base_uri": "https://localhost:8080/"
        },
        "id": "6xr--e45CaT5",
        "outputId": "8ec18828-80b0-4ef0-908c-fba8f9728078"
      },
      "source": [
        "dataset.class_to_idx"
      ],
      "id": "6xr--e45CaT5",
      "execution_count": null,
      "outputs": [
        {
          "output_type": "execute_result",
          "data": {
            "text/plain": [
              "{'AiPhone-6': 0,\n",
              " 'HTC-1-M7': 1,\n",
              " 'LG-Nexus-5x': 2,\n",
              " 'Motorola-Droid-Maxx': 3,\n",
              " 'Motorola-Nexus-6': 4,\n",
              " 'Motorola-X': 5,\n",
              " 'Samsung-Galaxy-Note3': 6,\n",
              " 'Samsung-Galaxy-S4': 7,\n",
              " 'Sony-NEX-7': 8,\n",
              " 'iPhone-4s': 9}"
            ]
          },
          "metadata": {
            "tags": []
          },
          "execution_count": 7
        }
      ]
    },
    {
      "cell_type": "code",
      "metadata": {
        "colab": {
          "base_uri": "https://localhost:8080/"
        },
        "id": "1GCLnXLuduDS",
        "outputId": "7c4c6dba-c10e-4883-9585-fe68346aee3b"
      },
      "source": [
        "for i in range(0,1):\n",
        "    examples = enumerate(loader_val)\n",
        "    batch_idx, (example_data, example_targets2) = next(examples) \n",
        "    # plt.figure()\n",
        "    # im = torchvision.utils.make_grid(example_data)\n",
        "    # plt.imshow(np.transpose(im.numpy(), (1, 2, 0)))\n",
        "    print(example_targets2)"
      ],
      "id": "1GCLnXLuduDS",
      "execution_count": null,
      "outputs": [
        {
          "output_type": "stream",
          "text": [
            "tensor([2])\n"
          ],
          "name": "stdout"
        }
      ]
    },
    {
      "cell_type": "code",
      "metadata": {
        "id": "pfnEsCEahW6s",
        "colab": {
          "base_uri": "https://localhost:8080/"
        },
        "outputId": "88639af0-62a4-43d4-f6e4-51edfd3fbaed"
      },
      "source": [
        "MobilenetV2 = torch.hub.load('pytorch/vision', 'mobilenet_v2', pretrained=True)\n",
        "MobilenetV2.classifier = nn.Linear(MobilenetV2.last_channel, 10, bias=True)\n",
        "# MobilenetV2"
      ],
      "id": "pfnEsCEahW6s",
      "execution_count": null,
      "outputs": [
        {
          "output_type": "stream",
          "text": [
            "Using cache found in /root/.cache/torch/hub/pytorch_vision_master\n"
          ],
          "name": "stderr"
        }
      ]
    },
    {
      "cell_type": "code",
      "metadata": {
        "colab": {
          "base_uri": "https://localhost:8080/",
          "height": 1000
        },
        "id": "hRAmBBSY1f9A",
        "outputId": "1dc9e174-355a-44a1-8729-a99bbc4059b3"
      },
      "source": [
        "v2 = MobilenetV2.to(device)\n",
        "criterion = nn.CrossEntropyLoss()\n",
        "optimizer = torch.optim.Adam([\n",
        "                              {\"params\":v2.classifier.parameters()},\n",
        "                              {\"params\":v2.features.parameters(), \"lr\":1e-3}\n",
        "                              ], \n",
        "                             lr=1e-2)\n",
        " \n",
        "# exp_lr_scheduler = torch.optim.lr_scheduler.StepLR(optimizer, step_size=5, gamma=0.1,verbose=True)\n",
        "\n",
        "scheduler = torch.optim.lr_scheduler.ExponentialLR(optimizer=optimizer, gamma=0.5)\n",
        " \n",
        "train_losses = []\n",
        "val_losses = []\n",
        "valid_accuracies = []\n",
        " \n",
        "for epoch in range(30):\n",
        " \n",
        "    v2.train()\n",
        "    print(epoch+1)\n",
        "    loss_sum_tr = 0\n",
        "    for data, target in tqdm(loader_train,desc='train'):\n",
        "        sleep(0.1)\n",
        "        data = data.to(device)\n",
        "        target = target.to(device)\n",
        "        \n",
        "        output = v2(data)\n",
        "        loss = criterion(output, target)\n",
        "        loss_sum_tr += loss.item()\n",
        "        loss.backward()\n",
        "        optimizer.step()\n",
        "        optimizer.zero_grad()\n",
        "    \n",
        "    train_losses.append(loss_sum_tr / len(loader_train))\n",
        "\n",
        "    scheduler.step() \n",
        " \n",
        "    \n",
        "    loss_sum_val = 0\n",
        "    correct = 0\n",
        "    num = 0\n",
        " \n",
        "    v2.eval()\n",
        "    with torch.no_grad():\n",
        "        for data_ts, target_ts in tqdm(loader_val,desc='valid'):\n",
        "            sleep(0.2)\n",
        "            data_ts = data_ts.to(device)\n",
        "            target_ts = target_ts.to(device)\n",
        "            probs = v2(data_ts)\n",
        "            loss_sum_val += criterion(probs, target_ts).item()\n",
        " \n",
        " \n",
        "            _, preds_val = torch.max(probs , axis =-1)\n",
        "            correct += (preds_val == target_ts).sum().item()\n",
        "            num += len(data_ts)\n",
        " \n",
        "        val_losses.append(loss_sum_val / len(loader_val))\n",
        "        valid_accuracies.append(correct / num)\n",
        " \n",
        "        \n",
        "      \n",
        "    print(f'epoch:{int(epoch+1)}\\\n",
        "    \\t train loss:{round(loss_sum_tr / len(loader_train),4)}\\\n",
        "    \\t valid loss:{round(loss_sum_val/len(loader_val),4)}\\\n",
        "    \\t valid accuracies:({correct} / {num}) {round((correct / num)*100,2)}')"
      ],
      "id": "hRAmBBSY1f9A",
      "execution_count": null,
      "outputs": [
        {
          "output_type": "stream",
          "text": [
            "1\n"
          ],
          "name": "stdout"
        },
        {
          "output_type": "display_data",
          "data": {
            "text/html": [
              "<div style=\"display:flex;flex-direction:row;\"><span>train</span><progress style='margin:2px 4px;description_width:initial;' max='20' value='20'></progress>100% 20/20 [06:17&lt;00:00, 13.47s/it]</div>"
            ],
            "text/plain": [
              "<tqdm._fake_ipywidgets.HBox object>"
            ]
          },
          "metadata": {
            "tags": []
          }
        },
        {
          "output_type": "display_data",
          "data": {
            "text/html": [
              "<div style=\"display:flex;flex-direction:row;\"><span>valid</span><progress style='margin:2px 4px;description_width:initial;' max='275' value='275'></progress>100% 275/275 [01:00&lt;00:00,  4.60it/s]</div>"
            ],
            "text/plain": [
              "<tqdm._fake_ipywidgets.HBox object>"
            ]
          },
          "metadata": {
            "tags": []
          }
        },
        {
          "output_type": "stream",
          "text": [
            "epoch:1    \t train loss:0.8646    \t valid loss:0.6621    \t valid accuracies:(208 / 275) 75.64\n",
            "2\n"
          ],
          "name": "stdout"
        },
        {
          "output_type": "display_data",
          "data": {
            "text/html": [
              "<div style=\"display:flex;flex-direction:row;\"><span>train</span><progress style='margin:2px 4px;description_width:initial;' max='20' value='20'></progress>100% 20/20 [06:20&lt;00:00, 14.00s/it]</div>"
            ],
            "text/plain": [
              "<tqdm._fake_ipywidgets.HBox object>"
            ]
          },
          "metadata": {
            "tags": []
          }
        },
        {
          "output_type": "display_data",
          "data": {
            "text/html": [
              "<div style=\"display:flex;flex-direction:row;\"><span>valid</span><progress style='margin:2px 4px;description_width:initial;' max='275' value='275'></progress>100% 275/275 [01:01&lt;00:00,  4.60it/s]</div>"
            ],
            "text/plain": [
              "<tqdm._fake_ipywidgets.HBox object>"
            ]
          },
          "metadata": {
            "tags": []
          }
        },
        {
          "output_type": "stream",
          "text": [
            "epoch:2    \t train loss:0.5267    \t valid loss:0.4907    \t valid accuracies:(231 / 275) 84.0\n",
            "3\n"
          ],
          "name": "stdout"
        },
        {
          "output_type": "display_data",
          "data": {
            "text/html": [
              "<div style=\"display:flex;flex-direction:row;\"><span>train</span><progress style='margin:2px 4px;description_width:initial;' max='20' value='20'></progress>100% 20/20 [06:20&lt;00:00, 13.61s/it]</div>"
            ],
            "text/plain": [
              "<tqdm._fake_ipywidgets.HBox object>"
            ]
          },
          "metadata": {
            "tags": []
          }
        },
        {
          "output_type": "display_data",
          "data": {
            "text/html": [
              "<div style=\"display:flex;flex-direction:row;\"><span>valid</span><progress style='margin:2px 4px;description_width:initial;' max='275' value='275'></progress>100% 275/275 [01:00&lt;00:00,  4.63it/s]</div>"
            ],
            "text/plain": [
              "<tqdm._fake_ipywidgets.HBox object>"
            ]
          },
          "metadata": {
            "tags": []
          }
        },
        {
          "output_type": "stream",
          "text": [
            "epoch:3    \t train loss:0.3788    \t valid loss:0.3139    \t valid accuracies:(247 / 275) 89.82\n",
            "4\n"
          ],
          "name": "stdout"
        },
        {
          "output_type": "display_data",
          "data": {
            "text/html": [
              "<div style=\"display:flex;flex-direction:row;\"><span>train</span><progress style='margin:2px 4px;description_width:initial;' max='20' value='20'></progress>100% 20/20 [06:32&lt;00:00, 13.01s/it]</div>"
            ],
            "text/plain": [
              "<tqdm._fake_ipywidgets.HBox object>"
            ]
          },
          "metadata": {
            "tags": []
          }
        },
        {
          "output_type": "display_data",
          "data": {
            "text/html": [
              "<div style=\"display:flex;flex-direction:row;\"><span>valid</span><progress style='margin:2px 4px;description_width:initial;' max='275' value='275'></progress>100% 275/275 [01:01&lt;00:00,  4.52it/s]</div>"
            ],
            "text/plain": [
              "<tqdm._fake_ipywidgets.HBox object>"
            ]
          },
          "metadata": {
            "tags": []
          }
        },
        {
          "output_type": "stream",
          "text": [
            "epoch:4    \t train loss:0.2935    \t valid loss:0.3113    \t valid accuracies:(246 / 275) 89.45\n",
            "5\n"
          ],
          "name": "stdout"
        },
        {
          "output_type": "display_data",
          "data": {
            "text/html": [
              "<div style=\"display:flex;flex-direction:row;\"><span>train</span><progress style='margin:2px 4px;description_width:initial;' max='20' value='20'></progress>100% 20/20 [06:46&lt;00:00, 14.93s/it]</div>"
            ],
            "text/plain": [
              "<tqdm._fake_ipywidgets.HBox object>"
            ]
          },
          "metadata": {
            "tags": []
          }
        },
        {
          "output_type": "display_data",
          "data": {
            "text/html": [
              "<div style=\"display:flex;flex-direction:row;\"><span>valid</span><progress style='margin:2px 4px;description_width:initial;' max='275' value='275'></progress>100% 275/275 [01:01&lt;00:00,  4.56it/s]</div>"
            ],
            "text/plain": [
              "<tqdm._fake_ipywidgets.HBox object>"
            ]
          },
          "metadata": {
            "tags": []
          }
        },
        {
          "output_type": "stream",
          "text": [
            "epoch:5    \t train loss:0.2508    \t valid loss:0.2056    \t valid accuracies:(255 / 275) 92.73\n",
            "6\n"
          ],
          "name": "stdout"
        },
        {
          "output_type": "display_data",
          "data": {
            "text/html": [
              "<div style=\"display:flex;flex-direction:row;\"><span>train</span><progress style='margin:2px 4px;description_width:initial;' max='20' value='20'></progress>100% 20/20 [06:48&lt;00:00, 14.69s/it]</div>"
            ],
            "text/plain": [
              "<tqdm._fake_ipywidgets.HBox object>"
            ]
          },
          "metadata": {
            "tags": []
          }
        },
        {
          "output_type": "display_data",
          "data": {
            "text/html": [
              "<div style=\"display:flex;flex-direction:row;\"><span>valid</span><progress style='margin:2px 4px;description_width:initial;' max='275' value='275'></progress>100% 275/275 [01:01&lt;00:00,  4.56it/s]</div>"
            ],
            "text/plain": [
              "<tqdm._fake_ipywidgets.HBox object>"
            ]
          },
          "metadata": {
            "tags": []
          }
        },
        {
          "output_type": "stream",
          "text": [
            "epoch:6    \t train loss:0.23    \t valid loss:0.2014    \t valid accuracies:(259 / 275) 94.18\n",
            "7\n"
          ],
          "name": "stdout"
        },
        {
          "output_type": "display_data",
          "data": {
            "text/html": [
              "<div style=\"display:flex;flex-direction:row;\"><span>train</span><progress style='margin:2px 4px;description_width:initial;' max='20' value='20'></progress>100% 20/20 [06:39&lt;00:00, 15.00s/it]</div>"
            ],
            "text/plain": [
              "<tqdm._fake_ipywidgets.HBox object>"
            ]
          },
          "metadata": {
            "tags": []
          }
        },
        {
          "output_type": "display_data",
          "data": {
            "text/html": [
              "<div style=\"display:flex;flex-direction:row;\"><span>valid</span><progress style='margin:2px 4px;description_width:initial;' max='275' value='275'></progress>100% 275/275 [01:01&lt;00:00,  4.54it/s]</div>"
            ],
            "text/plain": [
              "<tqdm._fake_ipywidgets.HBox object>"
            ]
          },
          "metadata": {
            "tags": []
          }
        },
        {
          "output_type": "stream",
          "text": [
            "epoch:7    \t train loss:0.2102    \t valid loss:0.2294    \t valid accuracies:(257 / 275) 93.45\n",
            "8\n"
          ],
          "name": "stdout"
        },
        {
          "output_type": "display_data",
          "data": {
            "text/html": [
              "<div style=\"display:flex;flex-direction:row;\"><span>train</span><progress style='margin:2px 4px;description_width:initial;' max='20' value='20'></progress>100% 20/20 [06:41&lt;00:00, 14.24s/it]</div>"
            ],
            "text/plain": [
              "<tqdm._fake_ipywidgets.HBox object>"
            ]
          },
          "metadata": {
            "tags": []
          }
        },
        {
          "output_type": "display_data",
          "data": {
            "text/html": [
              "<div style=\"display:flex;flex-direction:row;\"><span>valid</span><progress style='margin:2px 4px;description_width:initial;' max='275' value='275'></progress>100% 275/275 [01:01&lt;00:00,  4.60it/s]</div>"
            ],
            "text/plain": [
              "<tqdm._fake_ipywidgets.HBox object>"
            ]
          },
          "metadata": {
            "tags": []
          }
        },
        {
          "output_type": "stream",
          "text": [
            "epoch:8    \t train loss:0.2262    \t valid loss:0.2058    \t valid accuracies:(255 / 275) 92.73\n",
            "9\n"
          ],
          "name": "stdout"
        },
        {
          "output_type": "display_data",
          "data": {
            "text/html": [
              "<div style=\"display:flex;flex-direction:row;\"><span>train</span><progress style='margin:2px 4px;description_width:initial;' max='20' value='20'></progress>100% 20/20 [06:54&lt;00:00, 15.46s/it]</div>"
            ],
            "text/plain": [
              "<tqdm._fake_ipywidgets.HBox object>"
            ]
          },
          "metadata": {
            "tags": []
          }
        },
        {
          "output_type": "display_data",
          "data": {
            "text/html": [
              "<div style=\"display:flex;flex-direction:row;\"><span>valid</span><progress style='margin:2px 4px;description_width:initial;' max='275' value='275'></progress>100% 275/275 [01:01&lt;00:00,  4.54it/s]</div>"
            ],
            "text/plain": [
              "<tqdm._fake_ipywidgets.HBox object>"
            ]
          },
          "metadata": {
            "tags": []
          }
        },
        {
          "output_type": "stream",
          "text": [
            "epoch:9    \t train loss:0.2267    \t valid loss:0.2174    \t valid accuracies:(253 / 275) 92.0\n",
            "10\n"
          ],
          "name": "stdout"
        },
        {
          "output_type": "display_data",
          "data": {
            "text/html": [
              "<div style=\"display:flex;flex-direction:row;\"><span>train</span><progress style='margin:2px 4px;description_width:initial;' max='20' value='20'></progress>100% 20/20 [06:29&lt;00:00, 13.76s/it]</div>"
            ],
            "text/plain": [
              "<tqdm._fake_ipywidgets.HBox object>"
            ]
          },
          "metadata": {
            "tags": []
          }
        },
        {
          "output_type": "display_data",
          "data": {
            "text/html": [
              "<div style=\"display:flex;flex-direction:row;\"><span>valid</span><progress style='margin:2px 4px;description_width:initial;' max='275' value='275'></progress>100% 275/275 [01:01&lt;00:00,  4.61it/s]</div>"
            ],
            "text/plain": [
              "<tqdm._fake_ipywidgets.HBox object>"
            ]
          },
          "metadata": {
            "tags": []
          }
        },
        {
          "output_type": "stream",
          "text": [
            "epoch:10    \t train loss:0.2144    \t valid loss:0.2092    \t valid accuracies:(253 / 275) 92.0\n",
            "11\n"
          ],
          "name": "stdout"
        },
        {
          "output_type": "display_data",
          "data": {
            "text/html": [
              "<div style=\"display:flex;flex-direction:row;\"><span>train</span><progress style='margin:2px 4px;description_width:initial;' max='20' value='20'></progress>100% 20/20 [06:34&lt;00:00, 14.19s/it]</div>"
            ],
            "text/plain": [
              "<tqdm._fake_ipywidgets.HBox object>"
            ]
          },
          "metadata": {
            "tags": []
          }
        },
        {
          "output_type": "display_data",
          "data": {
            "text/html": [
              "<div style=\"display:flex;flex-direction:row;\"><span>valid</span><progress style='margin:2px 4px;description_width:initial;' max='275' value='275'></progress>100% 275/275 [01:01&lt;00:00,  4.57it/s]</div>"
            ],
            "text/plain": [
              "<tqdm._fake_ipywidgets.HBox object>"
            ]
          },
          "metadata": {
            "tags": []
          }
        },
        {
          "output_type": "stream",
          "text": [
            "epoch:11    \t train loss:0.2061    \t valid loss:0.2632    \t valid accuracies:(252 / 275) 91.64\n",
            "12\n"
          ],
          "name": "stdout"
        },
        {
          "output_type": "display_data",
          "data": {
            "text/html": [
              "<div style=\"display:flex;flex-direction:row;\"><span>train</span><progress style='margin:2px 4px;description_width:initial;' max='20' value='20'></progress>100% 20/20 [06:29&lt;00:00, 14.78s/it]</div>"
            ],
            "text/plain": [
              "<tqdm._fake_ipywidgets.HBox object>"
            ]
          },
          "metadata": {
            "tags": []
          }
        },
        {
          "output_type": "display_data",
          "data": {
            "text/html": [
              "<div style=\"display:flex;flex-direction:row;\"><span>valid</span><progress style='margin:2px 4px;description_width:initial;' max='275' value='275'></progress>100% 275/275 [01:01&lt;00:00,  4.63it/s]</div>"
            ],
            "text/plain": [
              "<tqdm._fake_ipywidgets.HBox object>"
            ]
          },
          "metadata": {
            "tags": []
          }
        },
        {
          "output_type": "stream",
          "text": [
            "epoch:12    \t train loss:0.1982    \t valid loss:0.2272    \t valid accuracies:(255 / 275) 92.73\n",
            "13\n"
          ],
          "name": "stdout"
        },
        {
          "output_type": "display_data",
          "data": {
            "text/html": [
              "<div style=\"display:flex;flex-direction:row;\"><span>train</span><progress style='margin:2px 4px;description_width:initial;' max='20' value='20'></progress>100% 20/20 [06:31&lt;00:00, 14.28s/it]</div>"
            ],
            "text/plain": [
              "<tqdm._fake_ipywidgets.HBox object>"
            ]
          },
          "metadata": {
            "tags": []
          }
        },
        {
          "output_type": "display_data",
          "data": {
            "text/html": [
              "<div style=\"display:flex;flex-direction:row;\"><span>valid</span><progress style='margin:2px 4px;description_width:initial;' max='275' value='275'></progress>100% 275/275 [01:01&lt;00:00,  4.58it/s]</div>"
            ],
            "text/plain": [
              "<tqdm._fake_ipywidgets.HBox object>"
            ]
          },
          "metadata": {
            "tags": []
          }
        },
        {
          "output_type": "stream",
          "text": [
            "epoch:13    \t train loss:0.1858    \t valid loss:0.2677    \t valid accuracies:(252 / 275) 91.64\n",
            "14\n"
          ],
          "name": "stdout"
        },
        {
          "output_type": "display_data",
          "data": {
            "text/html": [
              "<div style=\"display:flex;flex-direction:row;\"><span>train</span><progress style='margin:2px 4px;description_width:initial;' max='20' value='20'></progress>100% 20/20 [06:22&lt;00:00, 13.74s/it]</div>"
            ],
            "text/plain": [
              "<tqdm._fake_ipywidgets.HBox object>"
            ]
          },
          "metadata": {
            "tags": []
          }
        },
        {
          "output_type": "display_data",
          "data": {
            "text/html": [
              "<div style=\"display:flex;flex-direction:row;\"><span>valid</span><progress style='margin:2px 4px;description_width:initial;' max='275' value='275'></progress>100% 275/275 [01:01&lt;00:00,  4.59it/s]</div>"
            ],
            "text/plain": [
              "<tqdm._fake_ipywidgets.HBox object>"
            ]
          },
          "metadata": {
            "tags": []
          }
        },
        {
          "output_type": "stream",
          "text": [
            "epoch:14    \t train loss:0.2028    \t valid loss:0.2427    \t valid accuracies:(251 / 275) 91.27\n",
            "15\n"
          ],
          "name": "stdout"
        },
        {
          "output_type": "display_data",
          "data": {
            "text/html": [
              "<div style=\"display:flex;flex-direction:row;\"><span>train</span><progress style='margin:2px 4px;description_width:initial;' max='20' value='20'></progress>100% 20/20 [06:20&lt;00:00, 14.23s/it]</div>"
            ],
            "text/plain": [
              "<tqdm._fake_ipywidgets.HBox object>"
            ]
          },
          "metadata": {
            "tags": []
          }
        },
        {
          "output_type": "display_data",
          "data": {
            "text/html": [
              "<div style=\"display:flex;flex-direction:row;\"><span>valid</span><progress style='margin:2px 4px;description_width:initial;' max='275' value='275'></progress>100% 275/275 [01:01&lt;00:00,  4.63it/s]</div>"
            ],
            "text/plain": [
              "<tqdm._fake_ipywidgets.HBox object>"
            ]
          },
          "metadata": {
            "tags": []
          }
        },
        {
          "output_type": "stream",
          "text": [
            "epoch:15    \t train loss:0.2128    \t valid loss:0.2465    \t valid accuracies:(250 / 275) 90.91\n",
            "16\n"
          ],
          "name": "stdout"
        },
        {
          "output_type": "display_data",
          "data": {
            "text/html": [
              "<div style=\"display:flex;flex-direction:row;\"><span>train</span><progress style='margin:2px 4px;description_width:initial;' max='20' value='20'></progress>100% 20/20 [06:20&lt;00:00, 13.88s/it]</div>"
            ],
            "text/plain": [
              "<tqdm._fake_ipywidgets.HBox object>"
            ]
          },
          "metadata": {
            "tags": []
          }
        },
        {
          "output_type": "display_data",
          "data": {
            "text/html": [
              "<div style=\"display:flex;flex-direction:row;\"><span>valid</span><progress style='margin:2px 4px;description_width:initial;' max='275' value='275'></progress>100% 275/275 [01:01&lt;00:00,  4.60it/s]</div>"
            ],
            "text/plain": [
              "<tqdm._fake_ipywidgets.HBox object>"
            ]
          },
          "metadata": {
            "tags": []
          }
        },
        {
          "output_type": "stream",
          "text": [
            "epoch:16    \t train loss:0.1849    \t valid loss:0.1558    \t valid accuracies:(259 / 275) 94.18\n",
            "17\n"
          ],
          "name": "stdout"
        },
        {
          "output_type": "display_data",
          "data": {
            "text/html": [
              "<div style=\"display:flex;flex-direction:row;\"><span>train</span><progress style='margin:2px 4px;description_width:initial;' max='20' value='20'></progress>100% 20/20 [06:17&lt;00:00, 14.01s/it]</div>"
            ],
            "text/plain": [
              "<tqdm._fake_ipywidgets.HBox object>"
            ]
          },
          "metadata": {
            "tags": []
          }
        },
        {
          "output_type": "display_data",
          "data": {
            "text/html": [
              "<div style=\"display:flex;flex-direction:row;\"><span>valid</span><progress style='margin:2px 4px;description_width:initial;' max='275' value='275'></progress>100% 275/275 [01:01&lt;00:00,  4.64it/s]</div>"
            ],
            "text/plain": [
              "<tqdm._fake_ipywidgets.HBox object>"
            ]
          },
          "metadata": {
            "tags": []
          }
        },
        {
          "output_type": "stream",
          "text": [
            "epoch:17    \t train loss:0.2077    \t valid loss:0.1555    \t valid accuracies:(259 / 275) 94.18\n",
            "18\n"
          ],
          "name": "stdout"
        },
        {
          "output_type": "display_data",
          "data": {
            "text/html": [
              "<div style=\"display:flex;flex-direction:row;\"><span>train</span><progress style='margin:2px 4px;description_width:initial;' max='20' value='20'></progress>100% 20/20 [06:16&lt;00:00, 13.62s/it]</div>"
            ],
            "text/plain": [
              "<tqdm._fake_ipywidgets.HBox object>"
            ]
          },
          "metadata": {
            "tags": []
          }
        },
        {
          "output_type": "display_data",
          "data": {
            "text/html": [
              "<div style=\"display:flex;flex-direction:row;\"><span>valid</span><progress style='margin:2px 4px;description_width:initial;' max='275' value='275'></progress>100% 275/275 [01:01&lt;00:00,  4.65it/s]</div>"
            ],
            "text/plain": [
              "<tqdm._fake_ipywidgets.HBox object>"
            ]
          },
          "metadata": {
            "tags": []
          }
        },
        {
          "output_type": "stream",
          "text": [
            "epoch:18    \t train loss:0.2033    \t valid loss:0.2381    \t valid accuracies:(250 / 275) 90.91\n",
            "19\n"
          ],
          "name": "stdout"
        },
        {
          "output_type": "display_data",
          "data": {
            "text/html": [
              "<div style=\"display:flex;flex-direction:row;\"><span>train</span><progress style='margin:2px 4px;description_width:initial;' max='20' value='20'></progress>100% 20/20 [06:16&lt;00:00, 13.64s/it]</div>"
            ],
            "text/plain": [
              "<tqdm._fake_ipywidgets.HBox object>"
            ]
          },
          "metadata": {
            "tags": []
          }
        },
        {
          "output_type": "display_data",
          "data": {
            "text/html": [
              "<div style=\"display:flex;flex-direction:row;\"><span>valid</span><progress style='margin:2px 4px;description_width:initial;' max='275' value='275'></progress>100% 275/275 [01:01&lt;00:00,  4.62it/s]</div>"
            ],
            "text/plain": [
              "<tqdm._fake_ipywidgets.HBox object>"
            ]
          },
          "metadata": {
            "tags": []
          }
        },
        {
          "output_type": "stream",
          "text": [
            "epoch:19    \t train loss:0.195    \t valid loss:0.206    \t valid accuracies:(249 / 275) 90.55\n",
            "20\n"
          ],
          "name": "stdout"
        },
        {
          "output_type": "display_data",
          "data": {
            "text/html": [
              "<div style=\"display:flex;flex-direction:row;\"><span>train</span><progress style='margin:2px 4px;description_width:initial;' max='20' value='20'></progress>100% 20/20 [06:17&lt;00:00, 13.58s/it]</div>"
            ],
            "text/plain": [
              "<tqdm._fake_ipywidgets.HBox object>"
            ]
          },
          "metadata": {
            "tags": []
          }
        },
        {
          "output_type": "display_data",
          "data": {
            "text/html": [
              "<div style=\"display:flex;flex-direction:row;\"><span>valid</span><progress style='margin:2px 4px;description_width:initial;' max='275' value='275'></progress>100% 275/275 [01:01&lt;00:00,  4.59it/s]</div>"
            ],
            "text/plain": [
              "<tqdm._fake_ipywidgets.HBox object>"
            ]
          },
          "metadata": {
            "tags": []
          }
        },
        {
          "output_type": "stream",
          "text": [
            "epoch:20    \t train loss:0.196    \t valid loss:0.1962    \t valid accuracies:(258 / 275) 93.82\n",
            "21\n"
          ],
          "name": "stdout"
        },
        {
          "output_type": "display_data",
          "data": {
            "text/html": [
              "<div style=\"display:flex;flex-direction:row;\"><span>train</span><progress style='margin:2px 4px;description_width:initial;' max='20' value='20'></progress>100% 20/20 [06:30&lt;00:00, 13.46s/it]</div>"
            ],
            "text/plain": [
              "<tqdm._fake_ipywidgets.HBox object>"
            ]
          },
          "metadata": {
            "tags": []
          }
        },
        {
          "output_type": "display_data",
          "data": {
            "text/html": [
              "<div style=\"display:flex;flex-direction:row;\"><span>valid</span><progress style='margin:2px 4px;description_width:initial;' max='275' value='275'></progress>100% 275/275 [01:01&lt;00:00,  4.58it/s]</div>"
            ],
            "text/plain": [
              "<tqdm._fake_ipywidgets.HBox object>"
            ]
          },
          "metadata": {
            "tags": []
          }
        },
        {
          "output_type": "stream",
          "text": [
            "epoch:21    \t train loss:0.204    \t valid loss:0.2444    \t valid accuracies:(253 / 275) 92.0\n",
            "22\n"
          ],
          "name": "stdout"
        },
        {
          "output_type": "display_data",
          "data": {
            "text/html": [
              "<div style=\"display:flex;flex-direction:row;\"><span>train</span><progress style='margin:2px 4px;description_width:initial;' max='20' value='20'></progress>100% 20/20 [06:22&lt;00:00, 14.00s/it]</div>"
            ],
            "text/plain": [
              "<tqdm._fake_ipywidgets.HBox object>"
            ]
          },
          "metadata": {
            "tags": []
          }
        },
        {
          "output_type": "display_data",
          "data": {
            "text/html": [
              "<div style=\"display:flex;flex-direction:row;\"><span>valid</span><progress style='margin:2px 4px;description_width:initial;' max='275' value='275'></progress>100% 275/275 [01:01&lt;00:00,  4.63it/s]</div>"
            ],
            "text/plain": [
              "<tqdm._fake_ipywidgets.HBox object>"
            ]
          },
          "metadata": {
            "tags": []
          }
        },
        {
          "output_type": "stream",
          "text": [
            "epoch:22    \t train loss:0.2086    \t valid loss:0.2083    \t valid accuracies:(258 / 275) 93.82\n",
            "23\n"
          ],
          "name": "stdout"
        },
        {
          "output_type": "display_data",
          "data": {
            "text/html": [
              "<div style=\"display:flex;flex-direction:row;\"><span>train</span><progress style='margin:2px 4px;description_width:initial;' max='20' value='20'></progress>100% 20/20 [06:16&lt;00:00, 13.60s/it]</div>"
            ],
            "text/plain": [
              "<tqdm._fake_ipywidgets.HBox object>"
            ]
          },
          "metadata": {
            "tags": []
          }
        },
        {
          "output_type": "display_data",
          "data": {
            "text/html": [
              "<div style=\"display:flex;flex-direction:row;\"><span>valid</span><progress style='margin:2px 4px;description_width:initial;' max='275' value='275'></progress>100% 275/275 [01:01&lt;00:00,  4.59it/s]</div>"
            ],
            "text/plain": [
              "<tqdm._fake_ipywidgets.HBox object>"
            ]
          },
          "metadata": {
            "tags": []
          }
        },
        {
          "output_type": "stream",
          "text": [
            "epoch:23    \t train loss:0.204    \t valid loss:0.1837    \t valid accuracies:(258 / 275) 93.82\n",
            "24\n"
          ],
          "name": "stdout"
        },
        {
          "output_type": "display_data",
          "data": {
            "text/html": [
              "<div style=\"display:flex;flex-direction:row;\"><span>train</span><progress style='margin:2px 4px;description_width:initial;' max='20' value='20'></progress>100% 20/20 [06:13&lt;00:00, 13.51s/it]</div>"
            ],
            "text/plain": [
              "<tqdm._fake_ipywidgets.HBox object>"
            ]
          },
          "metadata": {
            "tags": []
          }
        },
        {
          "output_type": "display_data",
          "data": {
            "text/html": [
              "<div style=\"display:flex;flex-direction:row;\"><span>valid</span><progress style='margin:2px 4px;description_width:initial;' max='275' value='275'></progress>100% 275/275 [01:00&lt;00:00,  4.58it/s]</div>"
            ],
            "text/plain": [
              "<tqdm._fake_ipywidgets.HBox object>"
            ]
          },
          "metadata": {
            "tags": []
          }
        },
        {
          "output_type": "stream",
          "text": [
            "epoch:24    \t train loss:0.1976    \t valid loss:0.2086    \t valid accuracies:(251 / 275) 91.27\n",
            "25\n"
          ],
          "name": "stdout"
        },
        {
          "output_type": "display_data",
          "data": {
            "text/html": [
              "<div style=\"display:flex;flex-direction:row;\"><span>train</span><progress style='margin:2px 4px;description_width:initial;' max='20' value='20'></progress>100% 20/20 [06:14&lt;00:00, 13.77s/it]</div>"
            ],
            "text/plain": [
              "<tqdm._fake_ipywidgets.HBox object>"
            ]
          },
          "metadata": {
            "tags": []
          }
        },
        {
          "output_type": "stream",
          "text": [
            "Exception ignored in: <function _MultiProcessingDataLoaderIter.__del__ at 0x7f5167d2f320>\n",
            "Traceback (most recent call last):\n",
            "  File \"/usr/local/lib/python3.7/dist-packages/torch/utils/data/dataloader.py\", line 1324, in __del__\n",
            "    self._shutdown_workers()\n",
            "  File \"/usr/local/lib/python3.7/dist-packages/torch/utils/data/dataloader.py\", line 1316, in _shutdown_workers\n",
            "    if w.is_alive():\n",
            "  File \"/usr/lib/python3.7/multiprocessing/process.py\", line 151, in is_alive\n",
            "    assert self._parent_pid == os.getpid(), 'can only test a child process'\n",
            "AssertionError: can only test a child process\n",
            "Exception ignored in: <function _MultiProcessingDataLoaderIter.__del__ at 0x7f5167d2f320>\n",
            "Traceback (most recent call last):\n",
            "  File \"/usr/local/lib/python3.7/dist-packages/torch/utils/data/dataloader.py\", line 1324, in __del__\n",
            "    self._shutdown_workers()\n",
            "  File \"/usr/local/lib/python3.7/dist-packages/torch/utils/data/dataloader.py\", line 1316, in _shutdown_workers\n",
            "    if w.is_alive():\n",
            "  File \"/usr/lib/python3.7/multiprocessing/process.py\", line 151, in is_alive\n",
            "    assert self._parent_pid == os.getpid(), 'can only test a child process'\n",
            "AssertionError: can only test a child process\n"
          ],
          "name": "stderr"
        },
        {
          "output_type": "display_data",
          "data": {
            "text/html": [
              "<div style=\"display:flex;flex-direction:row;\"><span>valid</span><progress style='margin:2px 4px;description_width:initial;' max='275' value='275'></progress>100% 275/275 [01:01&lt;00:00,  4.62it/s]</div>"
            ],
            "text/plain": [
              "<tqdm._fake_ipywidgets.HBox object>"
            ]
          },
          "metadata": {
            "tags": []
          }
        },
        {
          "output_type": "stream",
          "text": [
            "epoch:25    \t train loss:0.2226    \t valid loss:0.1929    \t valid accuracies:(255 / 275) 92.73\n",
            "26\n"
          ],
          "name": "stdout"
        },
        {
          "output_type": "display_data",
          "data": {
            "text/html": [
              "<div style=\"display:flex;flex-direction:row;\"><span>train</span><progress style='margin:2px 4px;description_width:initial;' max='20' value='20'></progress>100% 20/20 [06:14&lt;00:00, 13.60s/it]</div>"
            ],
            "text/plain": [
              "<tqdm._fake_ipywidgets.HBox object>"
            ]
          },
          "metadata": {
            "tags": []
          }
        },
        {
          "output_type": "stream",
          "text": [
            "Exception ignored in: <function _MultiProcessingDataLoaderIter.__del__ at 0x7f5167d2f320>\n",
            "Traceback (most recent call last):\n",
            "  File \"/usr/local/lib/python3.7/dist-packages/torch/utils/data/dataloader.py\", line 1324, in __del__\n",
            "    self._shutdown_workers()\n",
            "  File \"/usr/local/lib/python3.7/dist-packages/torch/utils/data/dataloader.py\", line 1316, in _shutdown_workers\n",
            "    if w.is_alive():\n",
            "  File \"/usr/lib/python3.7/multiprocessing/process.py\", line 151, in is_alive\n",
            "    assert self._parent_pid == os.getpid(), 'can only test a child process'\n",
            "AssertionError: can only test a child process\n",
            "Exception ignored in: <function _MultiProcessingDataLoaderIter.__del__ at 0x7f5167d2f320>\n",
            "Traceback (most recent call last):\n",
            "  File \"/usr/local/lib/python3.7/dist-packages/torch/utils/data/dataloader.py\", line 1324, in __del__\n",
            "    self._shutdown_workers()\n",
            "  File \"/usr/local/lib/python3.7/dist-packages/torch/utils/data/dataloader.py\", line 1316, in _shutdown_workers\n",
            "    if w.is_alive():\n",
            "  File \"/usr/lib/python3.7/multiprocessing/process.py\", line 151, in is_alive\n",
            "    assert self._parent_pid == os.getpid(), 'can only test a child process'\n",
            "AssertionError: can only test a child process\n"
          ],
          "name": "stderr"
        },
        {
          "output_type": "display_data",
          "data": {
            "text/html": [
              "<div style=\"display:flex;flex-direction:row;\"><span>valid</span><progress style='margin:2px 4px;description_width:initial;' max='275' value='275'></progress>100% 275/275 [01:01&lt;00:00,  4.57it/s]</div>"
            ],
            "text/plain": [
              "<tqdm._fake_ipywidgets.HBox object>"
            ]
          },
          "metadata": {
            "tags": []
          }
        },
        {
          "output_type": "stream",
          "text": [
            "epoch:26    \t train loss:0.4368    \t valid loss:0.2221    \t valid accuracies:(253 / 275) 92.0\n",
            "27\n"
          ],
          "name": "stdout"
        },
        {
          "output_type": "display_data",
          "data": {
            "text/html": [
              "<div style=\"display:flex;flex-direction:row;\"><span>train</span><progress style='margin:2px 4px;description_width:initial;' max='20' value='20'></progress>100% 20/20 [06:16&lt;00:00, 13.73s/it]</div>"
            ],
            "text/plain": [
              "<tqdm._fake_ipywidgets.HBox object>"
            ]
          },
          "metadata": {
            "tags": []
          }
        },
        {
          "output_type": "stream",
          "text": [
            "Exception ignored in: <function _MultiProcessingDataLoaderIter.__del__ at 0x7f5167d2f320>\n",
            "Traceback (most recent call last):\n",
            "  File \"/usr/local/lib/python3.7/dist-packages/torch/utils/data/dataloader.py\", line 1324, in __del__\n",
            "    self._shutdown_workers()\n",
            "  File \"/usr/local/lib/python3.7/dist-packages/torch/utils/data/dataloader.py\", line 1316, in _shutdown_workers\n",
            "    if w.is_alive():\n",
            "  File \"/usr/lib/python3.7/multiprocessing/process.py\", line 151, in is_alive\n",
            "    assert self._parent_pid == os.getpid(), 'can only test a child process'\n",
            "AssertionError: can only test a child process\n"
          ],
          "name": "stderr"
        },
        {
          "output_type": "display_data",
          "data": {
            "text/html": [
              "<div style=\"display:flex;flex-direction:row;\"><span>valid</span><progress style='margin:2px 4px;description_width:initial;' max='275' value='275'></progress>100% 275/275 [01:01&lt;00:00,  4.65it/s]</div>"
            ],
            "text/plain": [
              "<tqdm._fake_ipywidgets.HBox object>"
            ]
          },
          "metadata": {
            "tags": []
          }
        },
        {
          "output_type": "stream",
          "text": [
            "epoch:27    \t train loss:0.2359    \t valid loss:0.2135    \t valid accuracies:(254 / 275) 92.36\n",
            "28\n"
          ],
          "name": "stdout"
        },
        {
          "output_type": "display_data",
          "data": {
            "text/html": [
              "<div style=\"display:flex;flex-direction:row;\"><span>train</span><progress style='margin:2px 4px;description_width:initial;' max='20' value='20'></progress>100% 20/20 [06:16&lt;00:00, 13.66s/it]</div>"
            ],
            "text/plain": [
              "<tqdm._fake_ipywidgets.HBox object>"
            ]
          },
          "metadata": {
            "tags": []
          }
        },
        {
          "output_type": "stream",
          "text": [
            "Exception ignored in: <function _MultiProcessingDataLoaderIter.__del__ at 0x7f5167d2f320>\n",
            "Traceback (most recent call last):\n",
            "  File \"/usr/local/lib/python3.7/dist-packages/torch/utils/data/dataloader.py\", line 1324, in __del__\n",
            "    self._shutdown_workers()\n",
            "  File \"/usr/local/lib/python3.7/dist-packages/torch/utils/data/dataloader.py\", line 1316, in _shutdown_workers\n",
            "    if w.is_alive():\n",
            "  File \"/usr/lib/python3.7/multiprocessing/process.py\", line 151, in is_alive\n",
            "    assert self._parent_pid == os.getpid(), 'can only test a child process'\n",
            "AssertionError: can only test a child process\n",
            "Exception ignored in: <function _MultiProcessingDataLoaderIter.__del__ at 0x7f5167d2f320>\n",
            "Traceback (most recent call last):\n",
            "  File \"/usr/local/lib/python3.7/dist-packages/torch/utils/data/dataloader.py\", line 1324, in __del__\n",
            "    self._shutdown_workers()\n",
            "  File \"/usr/local/lib/python3.7/dist-packages/torch/utils/data/dataloader.py\", line 1316, in _shutdown_workers\n",
            "    if w.is_alive():\n",
            "  File \"/usr/lib/python3.7/multiprocessing/process.py\", line 151, in is_alive\n",
            "    assert self._parent_pid == os.getpid(), 'can only test a child process'\n",
            "AssertionError: can only test a child process\n"
          ],
          "name": "stderr"
        },
        {
          "output_type": "display_data",
          "data": {
            "text/html": [
              "<div style=\"display:flex;flex-direction:row;\"><span>valid</span><progress style='margin:2px 4px;description_width:initial;' max='275' value='275'></progress>100% 275/275 [01:01&lt;00:00,  4.59it/s]</div>"
            ],
            "text/plain": [
              "<tqdm._fake_ipywidgets.HBox object>"
            ]
          },
          "metadata": {
            "tags": []
          }
        },
        {
          "output_type": "stream",
          "text": [
            "epoch:28    \t train loss:0.1986    \t valid loss:0.1928    \t valid accuracies:(257 / 275) 93.45\n",
            "29\n"
          ],
          "name": "stdout"
        },
        {
          "output_type": "display_data",
          "data": {
            "text/html": [
              "<div style=\"display:flex;flex-direction:row;\"><span>train</span><progress style='margin:2px 4px;description_width:initial;' max='20' value='20'></progress>100% 20/20 [06:18&lt;00:00, 13.54s/it]</div>"
            ],
            "text/plain": [
              "<tqdm._fake_ipywidgets.HBox object>"
            ]
          },
          "metadata": {
            "tags": []
          }
        },
        {
          "output_type": "stream",
          "text": [
            "Exception ignored in: <function _MultiProcessingDataLoaderIter.__del__ at 0x7f5167d2f320>\n",
            "Traceback (most recent call last):\n",
            "  File \"/usr/local/lib/python3.7/dist-packages/torch/utils/data/dataloader.py\", line 1324, in __del__\n",
            "    self._shutdown_workers()\n",
            "  File \"/usr/local/lib/python3.7/dist-packages/torch/utils/data/dataloader.py\", line 1316, in _shutdown_workers\n",
            "    if w.is_alive():\n",
            "  File \"/usr/lib/python3.7/multiprocessing/process.py\", line 151, in is_alive\n",
            "    assert self._parent_pid == os.getpid(), 'can only test a child process'\n",
            "AssertionError: can only test a child process\n",
            "Exception ignored in: <function _MultiProcessingDataLoaderIter.__del__ at 0x7f5167d2f320>\n",
            "Traceback (most recent call last):\n",
            "  File \"/usr/local/lib/python3.7/dist-packages/torch/utils/data/dataloader.py\", line 1324, in __del__\n",
            "    self._shutdown_workers()\n",
            "  File \"/usr/local/lib/python3.7/dist-packages/torch/utils/data/dataloader.py\", line 1316, in _shutdown_workers\n",
            "    if w.is_alive():\n",
            "  File \"/usr/lib/python3.7/multiprocessing/process.py\", line 151, in is_alive\n",
            "    assert self._parent_pid == os.getpid(), 'can only test a child process'\n",
            "AssertionError: can only test a child process\n"
          ],
          "name": "stderr"
        },
        {
          "output_type": "display_data",
          "data": {
            "text/html": [
              "<div style=\"display:flex;flex-direction:row;\"><span>valid</span><progress style='margin:2px 4px;description_width:initial;' max='275' value='275'></progress>100% 275/275 [01:01&lt;00:00,  4.66it/s]</div>"
            ],
            "text/plain": [
              "<tqdm._fake_ipywidgets.HBox object>"
            ]
          },
          "metadata": {
            "tags": []
          }
        },
        {
          "output_type": "stream",
          "text": [
            "epoch:29    \t train loss:0.2342    \t valid loss:0.2459    \t valid accuracies:(250 / 275) 90.91\n",
            "30\n"
          ],
          "name": "stdout"
        },
        {
          "output_type": "display_data",
          "data": {
            "text/html": [
              "<div style=\"display:flex;flex-direction:row;\"><span>train</span><progress style='margin:2px 4px;description_width:initial;' max='20' value='20'></progress>100% 20/20 [06:18&lt;00:00, 13.32s/it]</div>"
            ],
            "text/plain": [
              "<tqdm._fake_ipywidgets.HBox object>"
            ]
          },
          "metadata": {
            "tags": []
          }
        },
        {
          "output_type": "stream",
          "text": [
            "Exception ignored in: <function _MultiProcessingDataLoaderIter.__del__ at 0x7f5167d2f320>\n",
            "Traceback (most recent call last):\n",
            "  File \"/usr/local/lib/python3.7/dist-packages/torch/utils/data/dataloader.py\", line 1324, in __del__\n",
            "    self._shutdown_workers()\n",
            "  File \"/usr/local/lib/python3.7/dist-packages/torch/utils/data/dataloader.py\", line 1316, in _shutdown_workers\n",
            "    if w.is_alive():\n",
            "  File \"/usr/lib/python3.7/multiprocessing/process.py\", line 151, in is_alive\n",
            "    assert self._parent_pid == os.getpid(), 'can only test a child process'\n",
            "AssertionError: can only test a child process\n",
            "Exception ignored in: <function _MultiProcessingDataLoaderIter.__del__ at 0x7f5167d2f320>\n",
            "Traceback (most recent call last):\n",
            "  File \"/usr/local/lib/python3.7/dist-packages/torch/utils/data/dataloader.py\", line 1324, in __del__\n",
            "    self._shutdown_workers()\n",
            "  File \"/usr/local/lib/python3.7/dist-packages/torch/utils/data/dataloader.py\", line 1316, in _shutdown_workers\n",
            "    if w.is_alive():\n",
            "  File \"/usr/lib/python3.7/multiprocessing/process.py\", line 151, in is_alive\n",
            "    assert self._parent_pid == os.getpid(), 'can only test a child process'\n",
            "AssertionError: can only test a child process\n"
          ],
          "name": "stderr"
        },
        {
          "output_type": "display_data",
          "data": {
            "text/html": [
              "<div style=\"display:flex;flex-direction:row;\"><span>valid</span><progress style='margin:2px 4px;description_width:initial;' max='275' value='275'></progress>100% 275/275 [01:01&lt;00:00,  4.61it/s]</div>"
            ],
            "text/plain": [
              "<tqdm._fake_ipywidgets.HBox object>"
            ]
          },
          "metadata": {
            "tags": []
          }
        },
        {
          "output_type": "stream",
          "text": [
            "epoch:30    \t train loss:0.2012    \t valid loss:0.267    \t valid accuracies:(251 / 275) 91.27\n"
          ],
          "name": "stdout"
        }
      ]
    },
    {
      "cell_type": "code",
      "metadata": {
        "colab": {
          "base_uri": "https://localhost:8080/",
          "height": 950
        },
        "id": "XCvo-QyaY4fS",
        "outputId": "ed1ab82a-3224-41f3-d759-2ab7b7c83707"
      },
      "source": [
        "plt.figure(figsize=[12,8])\n",
        "plt.plot(train_losses)\n",
        "plt.plot(val_losses)\n",
        "plt.show()\n",
        "\n",
        "plt.figure(figsize=[12,8])\n",
        "plt.plot(valid_accuracies)\n",
        "plt.show()"
      ],
      "id": "XCvo-QyaY4fS",
      "execution_count": null,
      "outputs": [
        {
          "output_type": "display_data",
          "data": {
            "image/png": "[encoded data removed]",
            "text/plain": [
              "<Figure size 864x576 with 1 Axes>"
            ]
          },
          "metadata": {
            "tags": [],
            "needs_background": "light"
          }
        },
        {
          "output_type": "display_data",
          "data": {
            "image/png": "[encoded data removed]",
            "text/plain": [
              "<Figure size 864x576 with 1 Axes>"
            ]
          },
          "metadata": {
            "tags": [],
            "needs_background": "light"
          }
        }
      ]
    },
    {
      "cell_type": "code",
      "metadata": {
        "colab": {
          "base_uri": "https://localhost:8080/"
        },
        "id": "lR9joqKHdzNf",
        "outputId": "a660b2ab-d22d-44c3-98c2-1e43f61c59f2"
      },
      "source": [
        " _, preds = torch.max(torch.nn.functional.softmax(output, dim=0), axis =-1)\n",
        " \n",
        " preds"
      ],
      "id": "lR9joqKHdzNf",
      "execution_count": null,
      "outputs": [
        {
          "output_type": "execute_result",
          "data": {
            "text/plain": [
              "tensor([0, 0, 2, 6, 8, 0, 3, 5, 6, 6, 2, 4, 5, 5, 8, 4, 2, 0, 0, 5, 0, 8, 6, 2,\n",
              "        0, 7, 7, 9, 0, 2, 2, 5, 7, 5, 0, 7, 0, 6, 2, 1, 0, 7, 2],\n",
              "       device='cuda:0')"
            ]
          },
          "metadata": {
            "tags": []
          },
          "execution_count": 17
        }
      ]
    },
    {
      "cell_type": "code",
      "metadata": {
        "colab": {
          "base_uri": "https://localhost:8080/"
        },
        "id": "1G58olB7d-Nr",
        "outputId": "d058dcfd-d865-4f43-8430-9b697c16d5de"
      },
      "source": [
        "target"
      ],
      "id": "1G58olB7d-Nr",
      "execution_count": null,
      "outputs": [
        {
          "output_type": "execute_result",
          "data": {
            "text/plain": [
              "tensor([4, 9, 5, 6, 8, 9, 3, 5, 6, 6, 3, 4, 5, 5, 8, 4, 2, 9, 9, 5, 0, 8, 6, 2,\n",
              "        7, 7, 7, 9, 9, 6, 1, 5, 7, 5, 0, 7, 4, 4, 2, 1, 4, 7, 2],\n",
              "       device='cuda:0')"
            ]
          },
          "metadata": {
            "tags": []
          },
          "execution_count": 18
        }
      ]
    },
    {
      "cell_type": "code",
      "metadata": {
        "colab": {
          "base_uri": "https://localhost:8080/",
          "height": 1000
        },
        "id": "Fx0Re93ABD78",
        "outputId": "be9e66b2-750e-40bf-c74f-1fc1e949ba41"
      },
      "source": [
        "loss_sum_val = 0\n",
        "correct = 0\n",
        "num = 0\n",
        "\n",
        "v2.eval()\n",
        "with torch.no_grad():\n",
        "    for data_ts, target_ts in tqdm(loader_val,desc='valid'):\n",
        "        sleep(0.2)\n",
        "        data_ts = data_ts.to(device)\n",
        "        target_ts = target_ts.to(device)\n",
        "        probs = v2(data_ts)\n",
        "        _, preds_val = torch.max(torch.nn.functional.sigmoid(probs ), axis =-1)\n",
        "        cor = (preds_val == target_ts).sum().item()\n",
        "        correct += cor\n",
        "        # print(torch.nn.functional.sigmoid(v2(data_ts)))\n",
        "        print(preds_val.item(),'/',target_ts.item(),'/',(cor/len(target_ts))) #'/',(cor/len(target_ts))"
      ],
      "id": "Fx0Re93ABD78",
      "execution_count": null,
      "outputs": [
        {
          "output_type": "display_data",
          "data": {
            "text/html": [
              "<div style=\"display:flex;flex-direction:row;\"><span>valid</span><progress style='margin:2px 4px;description_width:initial;' max='275' value='275'></progress>100% 275/275 [01:02&lt;00:00,  4.53it/s]</div>"
            ],
            "text/plain": [
              "<tqdm._fake_ipywidgets.HBox object>"
            ]
          },
          "metadata": {
            "tags": []
          }
        },
        {
          "output_type": "stream",
          "text": [
            "4 / 4 / 1.0\n"
          ],
          "name": "stdout"
        },
        {
          "output_type": "stream",
          "text": [
            "/usr/local/lib/python3.7/dist-packages/torch/nn/functional.py:1709: UserWarning: nn.functional.sigmoid is deprecated. Use torch.sigmoid instead.\n",
            "  warnings.warn(\"nn.functional.sigmoid is deprecated. Use torch.sigmoid instead.\")\n"
          ],
          "name": "stderr"
        },
        {
          "output_type": "stream",
          "text": [
            "6 / 6 / 1.0\n",
            "9 / 9 / 1.0\n",
            "0 / 0 / 1.0\n",
            "5 / 5 / 1.0\n",
            "5 / 5 / 1.0\n",
            "5 / 5 / 1.0\n",
            "4 / 4 / 1.0\n",
            "6 / 6 / 1.0\n",
            "9 / 9 / 1.0\n",
            "0 / 0 / 1.0\n",
            "3 / 3 / 1.0\n",
            "9 / 9 / 1.0\n",
            "1 / 1 / 1.0\n",
            "6 / 6 / 1.0\n",
            "5 / 2 / 0.0\n",
            "4 / 4 / 1.0\n",
            "3 / 3 / 1.0\n",
            "9 / 9 / 1.0\n",
            "2 / 2 / 1.0\n",
            "7 / 7 / 1.0\n",
            "6 / 6 / 1.0\n",
            "4 / 3 / 0.0\n",
            "8 / 8 / 1.0\n",
            "2 / 2 / 1.0\n",
            "3 / 3 / 1.0\n",
            "8 / 8 / 1.0\n",
            "5 / 6 / 0.0\n",
            "4 / 4 / 1.0\n",
            "8 / 8 / 1.0\n",
            "5 / 5 / 1.0\n",
            "0 / 0 / 1.0\n",
            "2 / 2 / 1.0\n",
            "3 / 3 / 1.0\n",
            "0 / 0 / 1.0\n",
            "8 / 8 / 1.0\n",
            "9 / 9 / 1.0\n",
            "6 / 6 / 1.0\n",
            "5 / 5 / 1.0\n",
            "7 / 7 / 1.0\n",
            "1 / 1 / 1.0\n",
            "9 / 9 / 1.0\n",
            "1 / 1 / 1.0\n",
            "2 / 2 / 1.0\n",
            "2 / 2 / 1.0\n",
            "6 / 6 / 1.0\n",
            "8 / 8 / 1.0\n",
            "9 / 9 / 1.0\n",
            "6 / 6 / 1.0\n",
            "4 / 4 / 1.0\n",
            "2 / 2 / 1.0\n",
            "3 / 3 / 1.0\n",
            "0 / 0 / 1.0\n",
            "2 / 2 / 1.0\n",
            "0 / 0 / 1.0\n",
            "3 / 3 / 1.0\n",
            "8 / 8 / 1.0\n",
            "0 / 0 / 1.0\n",
            "2 / 2 / 1.0\n",
            "3 / 3 / 1.0\n",
            "9 / 9 / 1.0\n",
            "7 / 7 / 1.0\n",
            "2 / 2 / 1.0\n",
            "7 / 7 / 1.0\n",
            "2 / 2 / 1.0\n",
            "4 / 4 / 1.0\n",
            "1 / 1 / 1.0\n",
            "8 / 8 / 1.0\n",
            "1 / 1 / 1.0\n",
            "3 / 3 / 1.0\n",
            "9 / 9 / 1.0\n",
            "9 / 9 / 1.0\n",
            "4 / 4 / 1.0\n",
            "7 / 7 / 1.0\n",
            "5 / 5 / 1.0\n",
            "0 / 0 / 1.0\n",
            "8 / 8 / 1.0\n",
            "2 / 2 / 1.0\n",
            "4 / 4 / 1.0\n",
            "3 / 3 / 1.0\n",
            "9 / 9 / 1.0\n",
            "6 / 6 / 1.0\n",
            "9 / 9 / 1.0\n",
            "0 / 0 / 1.0\n",
            "3 / 3 / 1.0\n",
            "3 / 3 / 1.0\n",
            "1 / 1 / 1.0\n",
            "2 / 2 / 1.0\n",
            "6 / 6 / 1.0\n",
            "5 / 5 / 1.0\n",
            "6 / 6 / 1.0\n",
            "3 / 3 / 1.0\n",
            "2 / 2 / 1.0\n",
            "0 / 0 / 1.0\n",
            "6 / 6 / 1.0\n",
            "0 / 0 / 1.0\n",
            "8 / 8 / 1.0\n",
            "9 / 9 / 1.0\n",
            "2 / 2 / 1.0\n",
            "8 / 8 / 1.0\n",
            "7 / 7 / 1.0\n",
            "5 / 5 / 1.0\n",
            "4 / 4 / 1.0\n",
            "6 / 6 / 1.0\n",
            "7 / 7 / 1.0\n",
            "7 / 7 / 1.0\n",
            "5 / 5 / 1.0\n",
            "2 / 2 / 1.0\n",
            "2 / 2 / 1.0\n",
            "0 / 0 / 1.0\n",
            "7 / 7 / 1.0\n",
            "1 / 1 / 1.0\n",
            "4 / 4 / 1.0\n",
            "2 / 2 / 1.0\n",
            "3 / 3 / 1.0\n",
            "4 / 4 / 1.0\n",
            "1 / 1 / 1.0\n",
            "2 / 2 / 1.0\n",
            "5 / 5 / 1.0\n",
            "1 / 5 / 0.0\n",
            "9 / 9 / 1.0\n",
            "2 / 2 / 1.0\n",
            "7 / 7 / 1.0\n",
            "4 / 4 / 1.0\n",
            "3 / 3 / 1.0\n",
            "7 / 7 / 1.0\n",
            "0 / 0 / 1.0\n",
            "0 / 0 / 1.0\n",
            "7 / 7 / 1.0\n",
            "5 / 5 / 1.0\n",
            "9 / 9 / 1.0\n",
            "6 / 6 / 1.0\n",
            "2 / 2 / 1.0\n",
            "5 / 5 / 1.0\n",
            "4 / 4 / 1.0\n",
            "6 / 6 / 1.0\n",
            "0 / 0 / 1.0\n",
            "8 / 8 / 1.0\n",
            "6 / 6 / 1.0\n",
            "2 / 2 / 1.0\n",
            "0 / 0 / 1.0\n",
            "4 / 4 / 1.0\n",
            "7 / 7 / 1.0\n",
            "5 / 5 / 1.0\n",
            "7 / 7 / 1.0\n",
            "6 / 6 / 1.0\n",
            "8 / 8 / 1.0\n",
            "6 / 6 / 1.0\n",
            "0 / 0 / 1.0\n",
            "3 / 3 / 1.0\n",
            "6 / 6 / 1.0\n",
            "8 / 8 / 1.0\n",
            "2 / 2 / 1.0\n",
            "8 / 8 / 1.0\n",
            "5 / 5 / 1.0\n",
            "5 / 5 / 1.0\n",
            "4 / 4 / 1.0\n",
            "0 / 0 / 1.0\n",
            "6 / 6 / 1.0\n",
            "8 / 8 / 1.0\n",
            "9 / 9 / 1.0\n",
            "6 / 6 / 1.0\n",
            "9 / 9 / 1.0\n",
            "6 / 6 / 1.0\n",
            "4 / 4 / 1.0\n",
            "0 / 0 / 1.0\n",
            "6 / 6 / 1.0\n",
            "5 / 5 / 1.0\n",
            "2 / 2 / 1.0\n",
            "7 / 7 / 1.0\n",
            "3 / 3 / 1.0\n",
            "5 / 5 / 1.0\n",
            "9 / 9 / 1.0\n",
            "4 / 4 / 1.0\n",
            "3 / 6 / 0.0\n",
            "4 / 4 / 1.0\n",
            "3 / 3 / 1.0\n",
            "4 / 4 / 1.0\n",
            "4 / 4 / 1.0\n",
            "5 / 5 / 1.0\n",
            "5 / 5 / 1.0\n",
            "7 / 7 / 1.0\n",
            "4 / 4 / 1.0\n",
            "7 / 7 / 1.0\n",
            "7 / 7 / 1.0\n",
            "3 / 3 / 1.0\n",
            "4 / 4 / 1.0\n",
            "7 / 7 / 1.0\n",
            "4 / 4 / 1.0\n",
            "3 / 3 / 1.0\n",
            "5 / 5 / 1.0\n",
            "4 / 4 / 1.0\n",
            "4 / 4 / 1.0\n",
            "6 / 6 / 1.0\n",
            "6 / 6 / 1.0\n",
            "3 / 3 / 1.0\n",
            "9 / 9 / 1.0\n",
            "1 / 1 / 1.0\n",
            "1 / 1 / 1.0\n",
            "6 / 6 / 1.0\n",
            "8 / 8 / 1.0\n",
            "2 / 2 / 1.0\n",
            "8 / 8 / 1.0\n",
            "9 / 9 / 1.0\n",
            "3 / 3 / 1.0\n",
            "1 / 1 / 1.0\n",
            "2 / 2 / 1.0\n",
            "5 / 5 / 1.0\n",
            "9 / 9 / 1.0\n",
            "8 / 8 / 1.0\n",
            "4 / 4 / 1.0\n",
            "8 / 8 / 1.0\n",
            "1 / 1 / 1.0\n",
            "2 / 2 / 1.0\n",
            "7 / 7 / 1.0\n",
            "5 / 5 / 1.0\n",
            "1 / 1 / 1.0\n",
            "3 / 3 / 1.0\n",
            "7 / 7 / 1.0\n",
            "6 / 6 / 1.0\n",
            "1 / 1 / 1.0\n",
            "3 / 0 / 0.0\n",
            "7 / 7 / 1.0\n",
            "5 / 5 / 1.0\n",
            "2 / 2 / 1.0\n",
            "3 / 3 / 1.0\n",
            "0 / 0 / 1.0\n",
            "4 / 4 / 1.0\n",
            "6 / 6 / 1.0\n",
            "5 / 5 / 1.0\n",
            "1 / 1 / 1.0\n",
            "7 / 7 / 1.0\n",
            "9 / 9 / 1.0\n",
            "5 / 5 / 1.0\n",
            "1 / 1 / 1.0\n",
            "8 / 8 / 1.0\n",
            "5 / 5 / 1.0\n",
            "4 / 4 / 1.0\n",
            "0 / 0 / 1.0\n",
            "0 / 0 / 1.0\n",
            "7 / 7 / 1.0\n",
            "5 / 5 / 1.0\n",
            "2 / 2 / 1.0\n",
            "9 / 9 / 1.0\n",
            "6 / 6 / 1.0\n",
            "3 / 3 / 1.0\n",
            "7 / 7 / 1.0\n",
            "6 / 6 / 1.0\n",
            "6 / 6 / 1.0\n",
            "0 / 0 / 1.0\n",
            "3 / 3 / 1.0\n",
            "7 / 7 / 1.0\n",
            "3 / 3 / 1.0\n",
            "3 / 3 / 1.0\n",
            "1 / 1 / 1.0\n",
            "4 / 4 / 1.0\n",
            "0 / 0 / 1.0\n",
            "7 / 7 / 1.0\n",
            "4 / 4 / 1.0\n",
            "0 / 0 / 1.0\n",
            "1 / 1 / 1.0\n",
            "0 / 0 / 1.0\n",
            "7 / 0 / 0.0\n",
            "6 / 6 / 1.0\n",
            "3 / 3 / 1.0\n",
            "4 / 4 / 1.0\n",
            "9 / 9 / 1.0\n",
            "8 / 8 / 1.0\n",
            "8 / 8 / 1.0\n",
            "8 / 8 / 1.0\n",
            "7 / 7 / 1.0\n",
            "0 / 0 / 1.0\n",
            "5 / 5 / 1.0\n",
            "2 / 2 / 1.0\n",
            "0 / 0 / 1.0\n"
          ],
          "name": "stdout"
        }
      ]
    },
    {
      "cell_type": "code",
      "metadata": {
        "colab": {
          "base_uri": "https://localhost:8080/"
        },
        "id": "eXzp4_y1faKm",
        "outputId": "4e76e821-ab42-4401-dc6d-cc8feeea8324"
      },
      "source": [
        "correct/275"
      ],
      "id": "eXzp4_y1faKm",
      "execution_count": null,
      "outputs": [
        {
          "output_type": "execute_result",
          "data": {
            "text/plain": [
              "0.9745454545454545"
            ]
          },
          "metadata": {
            "tags": []
          },
          "execution_count": 49
        }
      ]
    },
    {
      "cell_type": "code",
      "metadata": {
        "id": "C3e3_ipC7Wy6"
      },
      "source": [
        ""
      ],
      "id": "C3e3_ipC7Wy6",
      "execution_count": null,
      "outputs": []
    }
  ]
}